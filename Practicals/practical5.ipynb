{
 "cells": [
  {
   "cell_type": "markdown",
   "id": "d93980c6",
   "metadata": {},
   "source": [
    "Consider two excel files having attendance of a workshop’s participants for two days. Each file has three\n",
    "fields ‘Name’, ‘Time of joining’, duration (in minutes) where names are unique within a file. Note that duration\n",
    "may take one of three values (30, 40, 50) only. Import the data into two dataframes and do the following:\n",
    "a. Perform merging of the two dataframes to find the names of students who had attended the\n",
    "workshop on both days.\n",
    "b. Find names of all students who have attended workshop on either of the days.\n",
    "c. Merge two data frames row-wise and find the total number of records in the data frame.\n",
    "d. Merge two data frames and use two columns names and duration as multi-row indexes. Generate\n",
    "descriptive statistics for this multi-index."
   ]
  },
  {
   "cell_type": "code",
   "execution_count": null,
   "id": "5bb8263e",
   "metadata": {},
   "outputs": [
    {
     "name": "stdout",
     "output_type": "stream",
     "text": [
      "Students who attended the workshop on both days:\n",
      "['Arun' 'Harshit' 'Gagan']\n",
      "Names of all students who attended the workshop on either of the days:\n",
      "{'Manas', 'Tanuj', 'Harshit', 'Gagan', 'Arun'}\n",
      "Total number of records in the merged dataframe:\n",
      "8\n",
      "        Name Time of joining _x   Duration Time of joining _y\n",
      "count      5                  4   5.000000                  4\n",
      "unique     5                  4        NaN                  4\n",
      "top     Arun           10:20:00        NaN           10:20:00\n",
      "freq       1                  1        NaN                  1\n",
      "mean     NaN                NaN  41.000000                NaN\n",
      "std      NaN                NaN   6.519202                NaN\n",
      "min      NaN                NaN  35.000000                NaN\n",
      "25%      NaN                NaN  35.000000                NaN\n",
      "50%      NaN                NaN  40.000000                NaN\n",
      "75%      NaN                NaN  45.000000                NaN\n",
      "max      NaN                NaN  50.000000                NaN\n"
     ]
    }
   ],
   "source": [
    "import pandas as pd\n",
    "\n",
    "# Import the first Excel file\n",
    "df1 = pd.read_excel('file1.xlsx')\n",
    "\n",
    "# Import the second Excel file\n",
    "df2 = pd.read_excel('file2.xlsx')\n",
    "\n",
    "# Merge the two dataframes on the 'Name' column\n",
    "merged_df = df1.merge(df2, on='Name')\n",
    "\n",
    "# Get the names of students who attended the workshop on both days\n",
    "students_attended_both_days = merged_df['Name'].unique()\n",
    "\n",
    "print('Students who attended the workshop on both days:')\n",
    "print(students_attended_both_days)\n",
    "\n",
    "# Create a set of all the students who attended the workshop on either of the days\n",
    "all_students = set(df1['Name'].unique()).union(set(df2['Name'].unique()))\n",
    "\n",
    "# Print the names of all students who attended the workshop on either of the days\n",
    "print('Names of all students who attended the workshop on either of the days:')\n",
    "print(all_students)\n",
    "\n",
    "# Merge the two dataframes row-wise\n",
    "merged_df = pd.concat([df1, df2], ignore_index=True)\n",
    "\n",
    "# Get the total number of records in the merged dataframe\n",
    "total_records = merged_df.shape[0]\n",
    "\n",
    "print('Total number of records in the merged dataframe:')\n",
    "print(total_records)\n",
    "\n",
    "# Merge the two dataframes on the 'Name' and 'Duration' columns\n",
    "merged_df = df1.merge(df2, how='outer', on=['Name', 'Duration'])\n",
    "\n",
    "# Set the multi-index\n",
    "merged_df.index = merged_df[['Name', 'Duration']]\n",
    "\n",
    "# Generate descriptive statistics for the multi-index\n",
    "print(merged_df.describe(include='all'))\n"
   ]
  }
 ],
 "metadata": {
  "kernelspec": {
   "display_name": "Python 3 (ipykernel)",
   "language": "python",
   "name": "python3"
  },
  "language_info": {
   "codemirror_mode": {
    "name": "ipython",
    "version": 3
   },
   "file_extension": ".py",
   "mimetype": "text/x-python",
   "name": "python",
   "nbconvert_exporter": "python",
   "pygments_lexer": "ipython3",
   "version": "3.11.6"
  }
 },
 "nbformat": 4,
 "nbformat_minor": 5
}
