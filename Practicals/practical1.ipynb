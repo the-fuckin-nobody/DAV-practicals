{
 "cells": [
  {
   "cell_type": "markdown",
   "metadata": {},
   "source": [
    "Write programs in Python using NumPy library to do the following:\n",
    "a. Compute the mean, standard deviation, and variance of a two dimensional random integer array\n",
    "along the second axis.\n",
    "b. Get the indices of the sorted elements of a given array.\n",
    "a. B = [56, 48, 22, 41, 78, 91, 24, 46, 8, 33]\n",
    "c. Create a 2-dimensional array of size m x n integer elements, also print the shape, type and data\n",
    "type of the array and then reshape it into nx m array, n and m are user inputs given at the run time.\n",
    "d. Test whether the elements of a given array are zero, non-zero and NaN. Record the indices of\n",
    "these elements in three separate arrays."
   ]
  },
  {
   "cell_type": "code",
   "execution_count": null,
   "metadata": {},
   "outputs": [
    {
     "name": "stdout",
     "output_type": "stream",
     "text": [
      "Mean of Row 1 is 2.0\n",
      "Mean of Row 2 is 5.0\n",
      "Mean of Row 3 is 8.0\n",
      "\n",
      "Standard Deviation of Row 1 is 0.816496580927726\n",
      "Standard Deviation of Row 2 is 0.816496580927726\n",
      "Standard Deviation of Row 3 is 0.816496580927726\n",
      "\n",
      "Variance of Row 1 is 0.816496580927726\n",
      "Variance of Row 2 is 0.816496580927726\n",
      "Variance of Row 3 is 0.816496580927726\n"
     ]
    }
   ],
   "source": [
    "import numpy as np\n",
    "\n",
    "arr = np.array([[1, 2, 3], [4, 5, 6], [7, 8, 9]])\n",
    "\n",
    "row_mean = np.mean(arr, axis=1)\n",
    "  \n",
    "row1_mean = row_mean[0]\n",
    "print(\"Mean of Row 1 is\", row1_mean)\n",
    "row2_mean = row_mean[1]\n",
    "print(\"Mean of Row 2 is\", row2_mean)\n",
    "row3_mean = row_mean[2]\n",
    "print(\"Mean of Row 3 is\", row3_mean)\n",
    "\n",
    "print()\n",
    "\n",
    "row_std = np.std(arr, axis=1)\n",
    "\n",
    "row1_std = row_std[0]\n",
    "print(\"Standard Deviation of Row 1 is\", row1_std)\n",
    "row2_std = row_std[1]\n",
    "print(\"Standard Deviation of Row 2 is\", row2_std)\n",
    "row3_std = row_std[2]\n",
    "print(\"Standard Deviation of Row 3 is\", row3_std)\n",
    "\n",
    "print()\n",
    "\n",
    "row_var = np.std(arr, axis=1)\n",
    "\n",
    "row1_var = row_var[0]\n",
    "print(\"Variance of Row 1 is\", row1_var)\n",
    "row2_var = row_var[1]\n",
    "print(\"Variance of Row 2 is\", row2_var)\n",
    "row3_var = row_var[2]\n",
    "print(\"Variance of Row 3 is\", row3_var)"
   ]
  },
  {
   "cell_type": "code",
   "execution_count": 2,
   "metadata": {},
   "outputs": [
    {
     "name": "stdout",
     "output_type": "stream",
     "text": [
      "[8 2 6 9 3 7 1 0 4 5]\n"
     ]
    }
   ],
   "source": [
    "import numpy as np\n",
    "arr = np.array([56,48,22,41,78,91,24,46,8,33])\n",
    "print(np.argsort(arr))"
   ]
  },
  {
   "cell_type": "code",
   "execution_count": 4,
   "metadata": {},
   "outputs": [
    {
     "name": "stdout",
     "output_type": "stream",
     "text": [
      "[[2 4]\n",
      " [3 3]\n",
      " [1 1]\n",
      " [1 4]\n",
      " [3 1]]\n",
      "Shape = (5, 2)\n",
      "Type = <class 'numpy.ndarray'>\n",
      "Data Type = int32\n",
      "The matrix is: \n",
      "[[2 4 3 3 1]\n",
      " [1 1 4 3 1]]\n"
     ]
    }
   ],
   "source": [
    "import numpy as np\n",
    "n = int(input(\"Enter number of rows: \"))\n",
    "m = int(input(\"Enter number of columns: \"))\n",
    "arr = np.random.randint(5, size=(n,m))\n",
    "print(arr)\n",
    "shape = np.shape(arr)\n",
    "print(\"Shape =\", shape)\n",
    "ty = type(arr)\n",
    "print(\"Type =\", ty)\n",
    "data_type = arr.dtype\n",
    "print(\"Data Type =\", data_type)\n",
    "\n",
    "l2 = arr.reshape(m,n)  \n",
    "print(\"The matrix is: \")\n",
    "print(l2)"
   ]
  },
  {
   "cell_type": "code",
   "execution_count": 12,
   "metadata": {},
   "outputs": [
    {
     "name": "stdout",
     "output_type": "stream",
     "text": [
      "Array with zero elements = [2]\n",
      "Array with non-zero elements = []\n",
      "Array with nan elements = [0 1 3 4]\n"
     ]
    }
   ],
   "source": [
    "arr = np.array([1, 5, 0, 3 ,np.nan])\n",
    "\n",
    "print(\"Array with zero elements =\", np.where(arr == 0)[0])\n",
    "print(\"Array with non-zero elements =\", np.where(arr == np.isnan)[0])\n",
    "print(\"Array with nan elements =\", np.where(arr != 0)[0])"
   ]
  },
  {
   "cell_type": "code",
   "execution_count": null,
   "metadata": {},
   "outputs": [],
   "source": []
  }
 ],
 "metadata": {
  "kernelspec": {
   "display_name": "Python 3",
   "language": "python",
   "name": "python3"
  },
  "language_info": {
   "codemirror_mode": {
    "name": "ipython",
    "version": 3
   },
   "file_extension": ".py",
   "mimetype": "text/x-python",
   "name": "python",
   "nbconvert_exporter": "python",
   "pygments_lexer": "ipython3",
   "version": "3.10.6"
  },
  "orig_nbformat": 4
 },
 "nbformat": 4,
 "nbformat_minor": 2
}
