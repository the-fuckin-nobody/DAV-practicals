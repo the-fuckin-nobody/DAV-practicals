{
 "cells": [
  {
   "cell_type": "code",
   "execution_count": 3,
   "metadata": {},
   "outputs": [
    {
     "name": "stdout",
     "output_type": "stream",
     "text": [
      "{'a': ['apple', 'anorexia'], 'g': ['grapes'], 'b': ['bottle', 'battle', 'bronze'], 'c': ['cat', 'catostrophe'], 'k': ['kid'], 'f': ['fund']}\n"
     ]
    }
   ],
   "source": [
    "def by_letters(l1: list) -> dict:\n",
    "    d1 = {}\n",
    "    for i in l1:\n",
    "        if i[0] not in d1:\n",
    "            d1[i[0]] = []\n",
    "        d1[i[0]].append(i)\n",
    "    return d1\n",
    "def main() -> None:\n",
    "    l1 = [\"apple\", \"grapes\", \"bottle\", \"anorexia\", \"battle\", \"bronze\", \"cat\", \"catostrophe\", \"kid\", \"fund\"]\n",
    "    d1 = by_letters(l1)\n",
    "    print(d1)\n",
    "\n",
    "if __name__ == \"__main__\":\n",
    "    main()"
   ]
  },
  {
   "cell_type": "code",
   "execution_count": 4,
   "metadata": {},
   "outputs": [
    {
     "name": "stdout",
     "output_type": "stream",
     "text": [
      "{'a': ['apple', 'anorexia'], 'g': ['grapes'], 'b': ['bottle', 'battle', 'bronze'], 'c': ['cat', 'catostrophe'], 'k': ['kid'], 'f': ['fund']}\n"
     ]
    }
   ],
   "source": [
    "def by_letters(l1: list) -> dict:\n",
    "    d1 = {}\n",
    "    for word in l1:\n",
    "        letter = word[0]\n",
    "        d1.setdefault(letter, []).append(word)\n",
    "    return d1\n",
    "\n",
    "def main() -> None:\n",
    "    l1 = [\"apple\", \"grapes\", \"bottle\", \"anorexia\", \"battle\", \"bronze\", \"cat\", \"catostrophe\", \"kid\", \"fund\"]\n",
    "    d1 = by_letters(l1)\n",
    "    print(d1)\n",
    "\n",
    "if __name__ == \"__main__\":\n",
    "    main()"
   ]
  },
  {
   "cell_type": "code",
   "execution_count": 7,
   "metadata": {},
   "outputs": [
    {
     "name": "stdout",
     "output_type": "stream",
     "text": [
      "defaultdict(<class 'list'>, {})\n",
      "defaultdict(<class 'list'>, {'a': ['apple', 'anorexia'], 'g': ['grapes'], 'b': ['bottle', 'battle', 'bronze'], 'c': ['cat', 'catostrophe'], 'k': ['kid'], 'f': ['fund']})\n"
     ]
    }
   ],
   "source": [
    "from collections import defaultdict\n",
    "def by_letters(l1: list) -> dict:\n",
    "    d1 = defaultdict(list)\n",
    "    print(d1)\n",
    "    for word in l1:\n",
    "        d1[word[0]].append(word)\n",
    "    return d1\n",
    "\n",
    "def main() -> None:\n",
    "    l1 = [\"apple\", \"grapes\", \"bottle\", \"anorexia\", \"battle\", \"bronze\", \"cat\", \"catostrophe\", \"kid\", \"fund\"]\n",
    "    d1 = by_letters(l1)\n",
    "    print(d1)\n",
    "\n",
    "if __name__ == \"__main__\":\n",
    "    main()"
   ]
  },
  {
   "cell_type": "code",
   "execution_count": 9,
   "metadata": {},
   "outputs": [
    {
     "name": "stdout",
     "output_type": "stream",
     "text": [
      "{1, 2, 3, 4, 5, 7}\n"
     ]
    }
   ],
   "source": [
    "set1 = set([2, 4, 5, 7, 4, 3, 2, 1])\n",
    "print(set1)"
   ]
  },
  {
   "cell_type": "code",
   "execution_count": 14,
   "metadata": {},
   "outputs": [
    {
     "name": "stdout",
     "output_type": "stream",
     "text": [
      "set1 UNION set2: {0, 1, 2, 3, 4, 5, 6, 7, 8, 9}\n",
      "set1 INTERSECTION set2: {5, 7}\n",
      "set1 - set2: {1, 2, 3, 4}\n",
      "set1 ^ set2: {0, 1, 2, 3, 4, 6, 8, 9}\n"
     ]
    }
   ],
   "source": [
    "set1 = {1, 2, 3, 3, 2, 3, 4, 5, 5, 7}\n",
    "set2 = {8, 6, 5, 7, 9 , 0}\n",
    "print(f\"set1 UNION set2: {set1 | set2}\")\n",
    "\n",
    "print(f\"set1 INTERSECTION set2: {set1 & set2}\")\n",
    "\n",
    "print(f\"set1 - set2: {set1 - set2}\")\n",
    "\n",
    "print(f\"set1 ^ set2: {set1 ^ set2}\") # symmetric difference"
   ]
  }
 ],
 "metadata": {
  "kernelspec": {
   "display_name": "Python 3",
   "language": "python",
   "name": "python3"
  },
  "language_info": {
   "codemirror_mode": {
    "name": "ipython",
    "version": 3
   },
   "file_extension": ".py",
   "mimetype": "text/x-python",
   "name": "python",
   "nbconvert_exporter": "python",
   "pygments_lexer": "ipython3",
   "version": "3.11.5"
  },
  "orig_nbformat": 4
 },
 "nbformat": 4,
 "nbformat_minor": 2
}
