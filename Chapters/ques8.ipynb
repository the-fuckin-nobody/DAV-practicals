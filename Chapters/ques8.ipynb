{
 "cells": [
  {
   "cell_type": "code",
   "execution_count": 3,
   "metadata": {},
   "outputs": [
    {
     "data": {
      "text/html": [
       "<div>\n",
       "<style scoped>\n",
       "    .dataframe tbody tr th:only-of-type {\n",
       "        vertical-align: middle;\n",
       "    }\n",
       "\n",
       "    .dataframe tbody tr th {\n",
       "        vertical-align: top;\n",
       "    }\n",
       "\n",
       "    .dataframe thead th {\n",
       "        text-align: right;\n",
       "    }\n",
       "</style>\n",
       "<table border=\"1\" class=\"dataframe\">\n",
       "  <thead>\n",
       "    <tr style=\"text-align: right;\">\n",
       "      <th></th>\n",
       "      <th>Name</th>\n",
       "      <th>Gender</th>\n",
       "      <th>MonthlyIncome (Rs.)</th>\n",
       "    </tr>\n",
       "  </thead>\n",
       "  <tbody>\n",
       "    <tr>\n",
       "      <th>0</th>\n",
       "      <td>Shah</td>\n",
       "      <td>Male</td>\n",
       "      <td>114000.0</td>\n",
       "    </tr>\n",
       "    <tr>\n",
       "      <th>1</th>\n",
       "      <td>Vats</td>\n",
       "      <td>Male</td>\n",
       "      <td>65000.0</td>\n",
       "    </tr>\n",
       "    <tr>\n",
       "      <th>2</th>\n",
       "      <td>Vats</td>\n",
       "      <td>Female</td>\n",
       "      <td>43150.0</td>\n",
       "    </tr>\n",
       "    <tr>\n",
       "      <th>3</th>\n",
       "      <td>Kumar</td>\n",
       "      <td>Female</td>\n",
       "      <td>69500.0</td>\n",
       "    </tr>\n",
       "    <tr>\n",
       "      <th>4</th>\n",
       "      <td>Vats</td>\n",
       "      <td>Female</td>\n",
       "      <td>155000.0</td>\n",
       "    </tr>\n",
       "    <tr>\n",
       "      <th>5</th>\n",
       "      <td>Kumar</td>\n",
       "      <td>Male</td>\n",
       "      <td>103000.0</td>\n",
       "    </tr>\n",
       "    <tr>\n",
       "      <th>6</th>\n",
       "      <td>Shah</td>\n",
       "      <td>Male</td>\n",
       "      <td>55000.0</td>\n",
       "    </tr>\n",
       "    <tr>\n",
       "      <th>7</th>\n",
       "      <td>Shah</td>\n",
       "      <td>Female</td>\n",
       "      <td>112400.0</td>\n",
       "    </tr>\n",
       "    <tr>\n",
       "      <th>8</th>\n",
       "      <td>Kumar</td>\n",
       "      <td>Female</td>\n",
       "      <td>81030.0</td>\n",
       "    </tr>\n",
       "    <tr>\n",
       "      <th>9</th>\n",
       "      <td>Vats</td>\n",
       "      <td>Male</td>\n",
       "      <td>71900.0</td>\n",
       "    </tr>\n",
       "  </tbody>\n",
       "</table>\n",
       "</div>"
      ],
      "text/plain": [
       "    Name  Gender  MonthlyIncome (Rs.)\n",
       "0   Shah    Male             114000.0\n",
       "1   Vats    Male              65000.0\n",
       "2   Vats  Female              43150.0\n",
       "3  Kumar  Female              69500.0\n",
       "4   Vats  Female             155000.0\n",
       "5  Kumar    Male             103000.0\n",
       "6   Shah    Male              55000.0\n",
       "7   Shah  Female             112400.0\n",
       "8  Kumar  Female              81030.0\n",
       "9   Vats    Male              71900.0"
      ]
     },
     "execution_count": 3,
     "metadata": {},
     "output_type": "execute_result"
    }
   ],
   "source": [
    "import pandas as pd\n",
    "\n",
    "data = {\n",
    "    'Name': ['Shah', 'Vats', 'Vats', 'Kumar', 'Vats', 'Kumar', 'Shah', 'Shah', 'Kumar', 'Vats'],\n",
    "    'Gender': ['Male', 'Male', 'Female', 'Female', 'Female', 'Male', 'Male', 'Female', 'Female', 'Male'],\n",
    "    'MonthlyIncome (Rs.)': [114000.00, 65000.00, 43150.00, 69500.00, 155000.00, 103000.00, 55000.00, 112400.00, 81030.00, 71900.00]\n",
    "}\n",
    "\n",
    "df = pd.DataFrame(data)\n",
    "\n",
    "df"
   ]
  },
  {
   "cell_type": "code",
   "execution_count": 5,
   "metadata": {},
   "outputs": [
    {
     "name": "stdout",
     "output_type": "stream",
     "text": [
      "Familywise Gross Monthly Income:\n",
      "Name\n",
      "Kumar    253530.0\n",
      "Shah     281400.0\n",
      "Vats     335050.0\n",
      "Name: MonthlyIncome (Rs.), dtype: float64\n"
     ]
    }
   ],
   "source": [
    "# a. Calculate and display familywise gross monthly income\n",
    "family_gross_income = df.groupby('Name')['MonthlyIncome (Rs.)'].sum()\n",
    "print(\"Familywise Gross Monthly Income:\")\n",
    "print(family_gross_income)"
   ]
  },
  {
   "cell_type": "code",
   "execution_count": 7,
   "metadata": {},
   "outputs": [
    {
     "name": "stdout",
     "output_type": "stream",
     "text": [
      "\n",
      "Member with the Highest Monthly Income in Each Family:\n",
      "    Name  Gender  MonthlyIncome (Rs.)\n",
      "5  Kumar    Male             103000.0\n",
      "0   Shah    Male             114000.0\n",
      "4   Vats  Female             155000.0\n"
     ]
    }
   ],
   "source": [
    "# b. Calculate and display the member with the highest monthly income in a family\n",
    "member_highest_income = df.loc[df.groupby('Name')['MonthlyIncome (Rs.)'].idxmax()]\n",
    "print(\"\\nMember with the Highest Monthly Income in Each Family:\")\n",
    "print(member_highest_income)"
   ]
  },
  {
   "cell_type": "code",
   "execution_count": 9,
   "metadata": {},
   "outputs": [
    {
     "name": "stdout",
     "output_type": "stream",
     "text": [
      "\n",
      "Monthly Income of Members with Income > Rs. 60000.00:\n",
      "    Name  Gender  MonthlyIncome (Rs.)\n",
      "0   Shah    Male             114000.0\n",
      "1   Vats    Male              65000.0\n",
      "3  Kumar  Female              69500.0\n",
      "4   Vats  Female             155000.0\n",
      "5  Kumar    Male             103000.0\n",
      "7   Shah  Female             112400.0\n",
      "8  Kumar  Female              81030.0\n",
      "9   Vats    Male              71900.0\n"
     ]
    }
   ],
   "source": [
    "income_above_60000 = df[df['MonthlyIncome (Rs.)'] > 60000.00]\n",
    "print(\"\\nMonthly Income of Members with Income > Rs. 60000.00:\")\n",
    "print(income_above_60000)"
   ]
  },
  {
   "cell_type": "code",
   "execution_count": 10,
   "metadata": {},
   "outputs": [
    {
     "name": "stdout",
     "output_type": "stream",
     "text": [
      "\n",
      "Average Monthly Income of Female Members in Shah Family:\n",
      "112400.0\n"
     ]
    }
   ],
   "source": [
    "# d. Calculate and display the average monthly income of the female members in the Shah family\n",
    "shah_female_avg_income = df[(df['Name'] == 'Shah') & (df['Gender'] == 'Female')]['MonthlyIncome (Rs.)'].mean()\n",
    "print(\"\\nAverage Monthly Income of Female Members in Shah Family:\")\n",
    "print(shah_female_avg_income)"
   ]
  }
 ],
 "metadata": {
  "kernelspec": {
   "display_name": "DAV-Project",
   "language": "python",
   "name": "python3"
  },
  "language_info": {
   "codemirror_mode": {
    "name": "ipython",
    "version": 3
   },
   "file_extension": ".py",
   "mimetype": "text/x-python",
   "name": "python",
   "nbconvert_exporter": "python",
   "pygments_lexer": "ipython3",
   "version": "3.11.6"
  }
 },
 "nbformat": 4,
 "nbformat_minor": 2
}
