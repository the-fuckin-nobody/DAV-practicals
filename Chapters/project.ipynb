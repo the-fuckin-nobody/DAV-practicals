{
 "cells": [
  {
   "cell_type": "code",
   "execution_count": 1,
   "metadata": {},
   "outputs": [
    {
     "name": "stdout",
     "output_type": "stream",
     "text": [
      "/home/dex/.python-venv/DAV-Project/breaches.csv\n"
     ]
    }
   ],
   "source": [
    "import pandas as pd\n",
    "import plotly.express as px\n",
    "\n",
    "# declare file path variables\n",
    "dirname = \"/home/dex/.python-venv/DAV-Project/\"\n",
    "filename = \"breaches.csv\"\n",
    "\n",
    "csv_file_path = dirname + filename\n",
    "\n",
    "print(csv_file_path)\n"
   ]
  },
  {
   "cell_type": "code",
   "execution_count": 2,
   "metadata": {},
   "outputs": [],
   "source": [
    "df = pd.read_csv(csv_file_path) # read csv file"
   ]
  },
  {
   "cell_type": "code",
   "execution_count": 3,
   "metadata": {},
   "outputs": [
    {
     "data": {
      "text/html": [
       "<div>\n",
       "<style scoped>\n",
       "    .dataframe tbody tr th:only-of-type {\n",
       "        vertical-align: middle;\n",
       "    }\n",
       "\n",
       "    .dataframe tbody tr th {\n",
       "        vertical-align: top;\n",
       "    }\n",
       "\n",
       "    .dataframe thead th {\n",
       "        text-align: right;\n",
       "    }\n",
       "</style>\n",
       "<table border=\"1\" class=\"dataframe\">\n",
       "  <thead>\n",
       "    <tr style=\"text-align: right;\">\n",
       "      <th></th>\n",
       "      <th>Entity</th>\n",
       "      <th>Year</th>\n",
       "      <th>Records</th>\n",
       "      <th>Organization type</th>\n",
       "      <th>Method</th>\n",
       "    </tr>\n",
       "  </thead>\n",
       "  <tbody>\n",
       "    <tr>\n",
       "      <th>0</th>\n",
       "      <td>21st Century Oncology</td>\n",
       "      <td>2016</td>\n",
       "      <td>2200000.0</td>\n",
       "      <td>healthcare</td>\n",
       "      <td>hacked</td>\n",
       "    </tr>\n",
       "    <tr>\n",
       "      <th>1</th>\n",
       "      <td>500px</td>\n",
       "      <td>2020</td>\n",
       "      <td>14870304.0</td>\n",
       "      <td>social networking</td>\n",
       "      <td>hacked</td>\n",
       "    </tr>\n",
       "    <tr>\n",
       "      <th>2</th>\n",
       "      <td>Accendo Insurance Co.</td>\n",
       "      <td>2020</td>\n",
       "      <td>175350.0</td>\n",
       "      <td>healthcare</td>\n",
       "      <td>poor security</td>\n",
       "    </tr>\n",
       "    <tr>\n",
       "      <th>3</th>\n",
       "      <td>Adobe Systems Incorporated</td>\n",
       "      <td>2013</td>\n",
       "      <td>152000000.0</td>\n",
       "      <td>tech</td>\n",
       "      <td>hacked</td>\n",
       "    </tr>\n",
       "    <tr>\n",
       "      <th>4</th>\n",
       "      <td>Adobe Inc.</td>\n",
       "      <td>2019</td>\n",
       "      <td>7500000.0</td>\n",
       "      <td>tech</td>\n",
       "      <td>poor security</td>\n",
       "    </tr>\n",
       "    <tr>\n",
       "      <th>...</th>\n",
       "      <td>...</td>\n",
       "      <td>...</td>\n",
       "      <td>...</td>\n",
       "      <td>...</td>\n",
       "      <td>...</td>\n",
       "    </tr>\n",
       "    <tr>\n",
       "      <th>359</th>\n",
       "      <td>50 companies and government institutions</td>\n",
       "      <td>2022</td>\n",
       "      <td>6400000.0</td>\n",
       "      <td>various</td>\n",
       "      <td>poor security</td>\n",
       "    </tr>\n",
       "    <tr>\n",
       "      <th>360</th>\n",
       "      <td>IKEA</td>\n",
       "      <td>2022</td>\n",
       "      <td>95000.0</td>\n",
       "      <td>retail</td>\n",
       "      <td>accidentally published</td>\n",
       "    </tr>\n",
       "    <tr>\n",
       "      <th>361</th>\n",
       "      <td>Consumer Financial Protection Bureau</td>\n",
       "      <td>2023</td>\n",
       "      <td>256000.0</td>\n",
       "      <td>bureau</td>\n",
       "      <td>poor security</td>\n",
       "    </tr>\n",
       "    <tr>\n",
       "      <th>362</th>\n",
       "      <td>Directorate General of Immigration of Indonesia</td>\n",
       "      <td>2023</td>\n",
       "      <td>34900867.0</td>\n",
       "      <td>government</td>\n",
       "      <td>hacked and published</td>\n",
       "    </tr>\n",
       "    <tr>\n",
       "      <th>363</th>\n",
       "      <td>Directorate General of Population and Civil Re...</td>\n",
       "      <td>2023</td>\n",
       "      <td>337225463.0</td>\n",
       "      <td>government</td>\n",
       "      <td>leaked and published</td>\n",
       "    </tr>\n",
       "  </tbody>\n",
       "</table>\n",
       "<p>364 rows × 5 columns</p>\n",
       "</div>"
      ],
      "text/plain": [
       "                                                Entity  Year      Records  \\\n",
       "0                                21st Century Oncology  2016    2200000.0   \n",
       "1                                                500px  2020   14870304.0   \n",
       "2                                Accendo Insurance Co.  2020     175350.0   \n",
       "3                           Adobe Systems Incorporated  2013  152000000.0   \n",
       "4                                           Adobe Inc.  2019    7500000.0   \n",
       "..                                                 ...   ...          ...   \n",
       "359           50 companies and government institutions  2022    6400000.0   \n",
       "360                                               IKEA  2022      95000.0   \n",
       "361               Consumer Financial Protection Bureau  2023     256000.0   \n",
       "362    Directorate General of Immigration of Indonesia  2023   34900867.0   \n",
       "363  Directorate General of Population and Civil Re...  2023  337225463.0   \n",
       "\n",
       "     Organization type                  Method  \n",
       "0           healthcare                  hacked  \n",
       "1    social networking                  hacked  \n",
       "2           healthcare           poor security  \n",
       "3                 tech                  hacked  \n",
       "4                 tech           poor security  \n",
       "..                 ...                     ...  \n",
       "359            various           poor security  \n",
       "360             retail  accidentally published  \n",
       "361             bureau           poor security  \n",
       "362         government    hacked and published  \n",
       "363         government    leaked and published  \n",
       "\n",
       "[364 rows x 5 columns]"
      ]
     },
     "execution_count": 3,
     "metadata": {},
     "output_type": "execute_result"
    }
   ],
   "source": [
    "df # print dataset"
   ]
  },
  {
   "cell_type": "code",
   "execution_count": 4,
   "metadata": {},
   "outputs": [
    {
     "data": {
      "text/html": [
       "<div>\n",
       "<style scoped>\n",
       "    .dataframe tbody tr th:only-of-type {\n",
       "        vertical-align: middle;\n",
       "    }\n",
       "\n",
       "    .dataframe tbody tr th {\n",
       "        vertical-align: top;\n",
       "    }\n",
       "\n",
       "    .dataframe thead th {\n",
       "        text-align: right;\n",
       "    }\n",
       "</style>\n",
       "<table border=\"1\" class=\"dataframe\">\n",
       "  <thead>\n",
       "    <tr style=\"text-align: right;\">\n",
       "      <th></th>\n",
       "      <th>Entity</th>\n",
       "      <th>Year</th>\n",
       "      <th>Records</th>\n",
       "      <th>Organization type</th>\n",
       "      <th>Method</th>\n",
       "    </tr>\n",
       "  </thead>\n",
       "  <tbody>\n",
       "    <tr>\n",
       "      <th>0</th>\n",
       "      <td>Yahoo</td>\n",
       "      <td>2013</td>\n",
       "      <td>3.000000e+09</td>\n",
       "      <td>web</td>\n",
       "      <td>hacked</td>\n",
       "    </tr>\n",
       "    <tr>\n",
       "      <th>1</th>\n",
       "      <td>Verifications.io (total leaks)</td>\n",
       "      <td>2019</td>\n",
       "      <td>2.000000e+09</td>\n",
       "      <td>online marketing</td>\n",
       "      <td>poor security</td>\n",
       "    </tr>\n",
       "    <tr>\n",
       "      <th>2</th>\n",
       "      <td>First American Corporation</td>\n",
       "      <td>2019</td>\n",
       "      <td>8.850000e+08</td>\n",
       "      <td>financial service company</td>\n",
       "      <td>poor security</td>\n",
       "    </tr>\n",
       "    <tr>\n",
       "      <th>3</th>\n",
       "      <td>India Government Aadhar data breach</td>\n",
       "      <td>2023</td>\n",
       "      <td>8.100000e+08</td>\n",
       "      <td>government</td>\n",
       "      <td>poor security</td>\n",
       "    </tr>\n",
       "    <tr>\n",
       "      <th>4</th>\n",
       "      <td>Verifications.io (first leak)</td>\n",
       "      <td>2019</td>\n",
       "      <td>8.090000e+08</td>\n",
       "      <td>online marketing</td>\n",
       "      <td>poor security</td>\n",
       "    </tr>\n",
       "    <tr>\n",
       "      <th>...</th>\n",
       "      <td>...</td>\n",
       "      <td>...</td>\n",
       "      <td>...</td>\n",
       "      <td>...</td>\n",
       "      <td>...</td>\n",
       "    </tr>\n",
       "    <tr>\n",
       "      <th>359</th>\n",
       "      <td>United Nations</td>\n",
       "      <td>2021</td>\n",
       "      <td>NaN</td>\n",
       "      <td>international</td>\n",
       "      <td>hacked</td>\n",
       "    </tr>\n",
       "    <tr>\n",
       "      <th>360</th>\n",
       "      <td>U.S. federal government (2020 United States fe...</td>\n",
       "      <td>2020</td>\n",
       "      <td>NaN</td>\n",
       "      <td>government, military</td>\n",
       "      <td>hacked</td>\n",
       "    </tr>\n",
       "    <tr>\n",
       "      <th>361</th>\n",
       "      <td>Wendy's</td>\n",
       "      <td>2015</td>\n",
       "      <td>NaN</td>\n",
       "      <td>restaurant</td>\n",
       "      <td>hacked</td>\n",
       "    </tr>\n",
       "    <tr>\n",
       "      <th>362</th>\n",
       "      <td>Woodruff Arts Center</td>\n",
       "      <td>2019</td>\n",
       "      <td>NaN</td>\n",
       "      <td>arts group</td>\n",
       "      <td>poor security</td>\n",
       "    </tr>\n",
       "    <tr>\n",
       "      <th>363</th>\n",
       "      <td>WordPress</td>\n",
       "      <td>2018</td>\n",
       "      <td>NaN</td>\n",
       "      <td>web service</td>\n",
       "      <td>hacked</td>\n",
       "    </tr>\n",
       "  </tbody>\n",
       "</table>\n",
       "<p>364 rows × 5 columns</p>\n",
       "</div>"
      ],
      "text/plain": [
       "                                                Entity  Year       Records  \\\n",
       "0                                                Yahoo  2013  3.000000e+09   \n",
       "1                       Verifications.io (total leaks)  2019  2.000000e+09   \n",
       "2                           First American Corporation  2019  8.850000e+08   \n",
       "3                  India Government Aadhar data breach  2023  8.100000e+08   \n",
       "4                        Verifications.io (first leak)  2019  8.090000e+08   \n",
       "..                                                 ...   ...           ...   \n",
       "359                                     United Nations  2021           NaN   \n",
       "360  U.S. federal government (2020 United States fe...  2020           NaN   \n",
       "361                                            Wendy's  2015           NaN   \n",
       "362                               Woodruff Arts Center  2019           NaN   \n",
       "363                                          WordPress  2018           NaN   \n",
       "\n",
       "             Organization type         Method  \n",
       "0                          web         hacked  \n",
       "1             online marketing  poor security  \n",
       "2    financial service company  poor security  \n",
       "3                   government  poor security  \n",
       "4             online marketing  poor security  \n",
       "..                         ...            ...  \n",
       "359              international         hacked  \n",
       "360       government, military         hacked  \n",
       "361                 restaurant         hacked  \n",
       "362                 arts group  poor security  \n",
       "363                web service         hacked  \n",
       "\n",
       "[364 rows x 5 columns]"
      ]
     },
     "execution_count": 4,
     "metadata": {},
     "output_type": "execute_result"
    }
   ],
   "source": [
    "dataset = df.sort_values(by=['Records'], ascending = False) # sort dataset by year\n",
    "dataset.reset_index(drop=True, inplace=True) # reset index\n",
    "dataset"
   ]
  },
  {
   "cell_type": "code",
   "execution_count": 5,
   "metadata": {},
   "outputs": [
    {
     "data": {
      "text/plain": [
       "Entity                0\n",
       "Year                  0\n",
       "Records              29\n",
       "Organization type     0\n",
       "Method                0\n",
       "dtype: int64"
      ]
     },
     "execution_count": 5,
     "metadata": {},
     "output_type": "execute_result"
    }
   ],
   "source": [
    "dataset.isna().sum() #Finding the number of missing values in each column"
   ]
  },
  {
   "cell_type": "code",
   "execution_count": 6,
   "metadata": {},
   "outputs": [
    {
     "data": {
      "text/html": [
       "<div>\n",
       "<style scoped>\n",
       "    .dataframe tbody tr th:only-of-type {\n",
       "        vertical-align: middle;\n",
       "    }\n",
       "\n",
       "    .dataframe tbody tr th {\n",
       "        vertical-align: top;\n",
       "    }\n",
       "\n",
       "    .dataframe thead th {\n",
       "        text-align: right;\n",
       "    }\n",
       "</style>\n",
       "<table border=\"1\" class=\"dataframe\">\n",
       "  <thead>\n",
       "    <tr style=\"text-align: right;\">\n",
       "      <th></th>\n",
       "      <th>Entity</th>\n",
       "      <th>Year</th>\n",
       "      <th>Records</th>\n",
       "      <th>Organization type</th>\n",
       "      <th>Method</th>\n",
       "    </tr>\n",
       "  </thead>\n",
       "  <tbody>\n",
       "    <tr>\n",
       "      <th>335</th>\n",
       "      <td>Amazon Japan G.K.</td>\n",
       "      <td>2019</td>\n",
       "      <td>NaN</td>\n",
       "      <td>web</td>\n",
       "      <td>accidentally published</td>\n",
       "    </tr>\n",
       "    <tr>\n",
       "      <th>336</th>\n",
       "      <td>Atraf</td>\n",
       "      <td>2021</td>\n",
       "      <td>NaN</td>\n",
       "      <td>dating</td>\n",
       "      <td>hacked</td>\n",
       "    </tr>\n",
       "    <tr>\n",
       "      <th>337</th>\n",
       "      <td>Bethesda Game Studios</td>\n",
       "      <td>2018</td>\n",
       "      <td>NaN</td>\n",
       "      <td>gaming</td>\n",
       "      <td>accidentally published</td>\n",
       "    </tr>\n",
       "    <tr>\n",
       "      <th>338</th>\n",
       "      <td>Betsson Group</td>\n",
       "      <td>2020</td>\n",
       "      <td>NaN</td>\n",
       "      <td>gambling</td>\n",
       "      <td>unknown</td>\n",
       "    </tr>\n",
       "    <tr>\n",
       "      <th>339</th>\n",
       "      <td>European Central Bank</td>\n",
       "      <td>2014</td>\n",
       "      <td>NaN</td>\n",
       "      <td>financial</td>\n",
       "      <td>hacked</td>\n",
       "    </tr>\n",
       "    <tr>\n",
       "      <th>340</th>\n",
       "      <td>EyeWire</td>\n",
       "      <td>2016</td>\n",
       "      <td>NaN</td>\n",
       "      <td>tech</td>\n",
       "      <td>lost / stolen computer</td>\n",
       "    </tr>\n",
       "    <tr>\n",
       "      <th>341</th>\n",
       "      <td>FireEye</td>\n",
       "      <td>2020</td>\n",
       "      <td>NaN</td>\n",
       "      <td>Information Security</td>\n",
       "      <td>hacked</td>\n",
       "    </tr>\n",
       "    <tr>\n",
       "      <th>342</th>\n",
       "      <td>Gyft</td>\n",
       "      <td>2016</td>\n",
       "      <td>NaN</td>\n",
       "      <td>web</td>\n",
       "      <td>hacked</td>\n",
       "    </tr>\n",
       "    <tr>\n",
       "      <th>343</th>\n",
       "      <td>Health Service Executive</td>\n",
       "      <td>2021</td>\n",
       "      <td>NaN</td>\n",
       "      <td>healthcare</td>\n",
       "      <td>unknown</td>\n",
       "    </tr>\n",
       "    <tr>\n",
       "      <th>344</th>\n",
       "      <td>Koodo Mobile</td>\n",
       "      <td>2020</td>\n",
       "      <td>NaN</td>\n",
       "      <td>mobile carrier</td>\n",
       "      <td>hacked</td>\n",
       "    </tr>\n",
       "    <tr>\n",
       "      <th>345</th>\n",
       "      <td>Microsoft Exchange servers</td>\n",
       "      <td>2021</td>\n",
       "      <td>NaN</td>\n",
       "      <td>software</td>\n",
       "      <td>zero-day vulnerabilities</td>\n",
       "    </tr>\n",
       "    <tr>\n",
       "      <th>346</th>\n",
       "      <td>NASDAQ</td>\n",
       "      <td>2014</td>\n",
       "      <td>NaN</td>\n",
       "      <td>financial</td>\n",
       "      <td>hacked</td>\n",
       "    </tr>\n",
       "    <tr>\n",
       "      <th>347</th>\n",
       "      <td>Ofcom</td>\n",
       "      <td>2016</td>\n",
       "      <td>NaN</td>\n",
       "      <td>telecom</td>\n",
       "      <td>inside job</td>\n",
       "    </tr>\n",
       "    <tr>\n",
       "      <th>348</th>\n",
       "      <td>Oregon Department of Transportation</td>\n",
       "      <td>2011</td>\n",
       "      <td>NaN</td>\n",
       "      <td>government</td>\n",
       "      <td>poor security</td>\n",
       "    </tr>\n",
       "    <tr>\n",
       "      <th>349</th>\n",
       "      <td>OVH</td>\n",
       "      <td>2013</td>\n",
       "      <td>NaN</td>\n",
       "      <td>web</td>\n",
       "      <td>hacked</td>\n",
       "    </tr>\n",
       "    <tr>\n",
       "      <th>350</th>\n",
       "      <td>Reddit</td>\n",
       "      <td>2021</td>\n",
       "      <td>NaN</td>\n",
       "      <td>web</td>\n",
       "      <td>hacked</td>\n",
       "    </tr>\n",
       "    <tr>\n",
       "      <th>351</th>\n",
       "      <td>Rosen Hotels</td>\n",
       "      <td>2016</td>\n",
       "      <td>NaN</td>\n",
       "      <td>hotel</td>\n",
       "      <td>hacked</td>\n",
       "    </tr>\n",
       "    <tr>\n",
       "      <th>352</th>\n",
       "      <td>ShopBack</td>\n",
       "      <td>2020</td>\n",
       "      <td>NaN</td>\n",
       "      <td>tech</td>\n",
       "      <td>hacked</td>\n",
       "    </tr>\n",
       "    <tr>\n",
       "      <th>353</th>\n",
       "      <td>Tic Hosting Solutions (known as Torchbyte)</td>\n",
       "      <td>2023</td>\n",
       "      <td>NaN</td>\n",
       "      <td>hosting provider</td>\n",
       "      <td>hacked</td>\n",
       "    </tr>\n",
       "    <tr>\n",
       "      <th>354</th>\n",
       "      <td>Twitch</td>\n",
       "      <td>2015</td>\n",
       "      <td>NaN</td>\n",
       "      <td>tech</td>\n",
       "      <td>hacked</td>\n",
       "    </tr>\n",
       "    <tr>\n",
       "      <th>355</th>\n",
       "      <td>Twitch</td>\n",
       "      <td>2021</td>\n",
       "      <td>NaN</td>\n",
       "      <td>tech</td>\n",
       "      <td>hacked/misconfiguration</td>\n",
       "    </tr>\n",
       "    <tr>\n",
       "      <th>356</th>\n",
       "      <td>Typeform</td>\n",
       "      <td>2018</td>\n",
       "      <td>NaN</td>\n",
       "      <td>tech</td>\n",
       "      <td>poor security</td>\n",
       "    </tr>\n",
       "    <tr>\n",
       "      <th>357</th>\n",
       "      <td>Ubisoft</td>\n",
       "      <td>2013</td>\n",
       "      <td>NaN</td>\n",
       "      <td>gaming</td>\n",
       "      <td>hacked</td>\n",
       "    </tr>\n",
       "    <tr>\n",
       "      <th>358</th>\n",
       "      <td>United Nations</td>\n",
       "      <td>2019</td>\n",
       "      <td>NaN</td>\n",
       "      <td>international</td>\n",
       "      <td>hacked</td>\n",
       "    </tr>\n",
       "    <tr>\n",
       "      <th>359</th>\n",
       "      <td>United Nations</td>\n",
       "      <td>2021</td>\n",
       "      <td>NaN</td>\n",
       "      <td>international</td>\n",
       "      <td>hacked</td>\n",
       "    </tr>\n",
       "    <tr>\n",
       "      <th>360</th>\n",
       "      <td>U.S. federal government (2020 United States fe...</td>\n",
       "      <td>2020</td>\n",
       "      <td>NaN</td>\n",
       "      <td>government, military</td>\n",
       "      <td>hacked</td>\n",
       "    </tr>\n",
       "    <tr>\n",
       "      <th>361</th>\n",
       "      <td>Wendy's</td>\n",
       "      <td>2015</td>\n",
       "      <td>NaN</td>\n",
       "      <td>restaurant</td>\n",
       "      <td>hacked</td>\n",
       "    </tr>\n",
       "    <tr>\n",
       "      <th>362</th>\n",
       "      <td>Woodruff Arts Center</td>\n",
       "      <td>2019</td>\n",
       "      <td>NaN</td>\n",
       "      <td>arts group</td>\n",
       "      <td>poor security</td>\n",
       "    </tr>\n",
       "    <tr>\n",
       "      <th>363</th>\n",
       "      <td>WordPress</td>\n",
       "      <td>2018</td>\n",
       "      <td>NaN</td>\n",
       "      <td>web service</td>\n",
       "      <td>hacked</td>\n",
       "    </tr>\n",
       "  </tbody>\n",
       "</table>\n",
       "</div>"
      ],
      "text/plain": [
       "                                                Entity  Year  Records  \\\n",
       "335                                  Amazon Japan G.K.  2019      NaN   \n",
       "336                                              Atraf  2021      NaN   \n",
       "337                              Bethesda Game Studios  2018      NaN   \n",
       "338                                      Betsson Group  2020      NaN   \n",
       "339                              European Central Bank  2014      NaN   \n",
       "340                                            EyeWire  2016      NaN   \n",
       "341                                            FireEye  2020      NaN   \n",
       "342                                               Gyft  2016      NaN   \n",
       "343                           Health Service Executive  2021      NaN   \n",
       "344                                       Koodo Mobile  2020      NaN   \n",
       "345                         Microsoft Exchange servers  2021      NaN   \n",
       "346                                             NASDAQ  2014      NaN   \n",
       "347                                              Ofcom  2016      NaN   \n",
       "348                Oregon Department of Transportation  2011      NaN   \n",
       "349                                                OVH  2013      NaN   \n",
       "350                                             Reddit  2021      NaN   \n",
       "351                                       Rosen Hotels  2016      NaN   \n",
       "352                                           ShopBack  2020      NaN   \n",
       "353         Tic Hosting Solutions (known as Torchbyte)  2023      NaN   \n",
       "354                                             Twitch  2015      NaN   \n",
       "355                                             Twitch  2021      NaN   \n",
       "356                                           Typeform  2018      NaN   \n",
       "357                                            Ubisoft  2013      NaN   \n",
       "358                                     United Nations  2019      NaN   \n",
       "359                                     United Nations  2021      NaN   \n",
       "360  U.S. federal government (2020 United States fe...  2020      NaN   \n",
       "361                                            Wendy's  2015      NaN   \n",
       "362                               Woodruff Arts Center  2019      NaN   \n",
       "363                                          WordPress  2018      NaN   \n",
       "\n",
       "        Organization type                    Method  \n",
       "335                   web    accidentally published  \n",
       "336                dating                    hacked  \n",
       "337                gaming    accidentally published  \n",
       "338              gambling                   unknown  \n",
       "339             financial                    hacked  \n",
       "340                  tech    lost / stolen computer  \n",
       "341  Information Security                    hacked  \n",
       "342                   web                    hacked  \n",
       "343            healthcare                   unknown  \n",
       "344        mobile carrier                    hacked  \n",
       "345              software  zero-day vulnerabilities  \n",
       "346             financial                    hacked  \n",
       "347               telecom                inside job  \n",
       "348            government             poor security  \n",
       "349                   web                    hacked  \n",
       "350                   web                    hacked  \n",
       "351                 hotel                    hacked  \n",
       "352                  tech                    hacked  \n",
       "353      hosting provider                    hacked  \n",
       "354                  tech                    hacked  \n",
       "355                  tech   hacked/misconfiguration  \n",
       "356                  tech             poor security  \n",
       "357                gaming                    hacked  \n",
       "358         international                    hacked  \n",
       "359         international                    hacked  \n",
       "360  government, military                    hacked  \n",
       "361            restaurant                    hacked  \n",
       "362            arts group             poor security  \n",
       "363           web service                    hacked  "
      ]
     },
     "execution_count": 6,
     "metadata": {},
     "output_type": "execute_result"
    }
   ],
   "source": [
    "dataset[dataset.isna().any(axis = 1)] #Finding the rows with missing values"
   ]
  },
  {
   "cell_type": "code",
   "execution_count": 7,
   "metadata": {},
   "outputs": [],
   "source": [
    "dataset.dropna(inplace=True) # drop rows with missing values"
   ]
  },
  {
   "cell_type": "code",
   "execution_count": 8,
   "metadata": {},
   "outputs": [
    {
     "data": {
      "text/html": [
       "<div>\n",
       "<style scoped>\n",
       "    .dataframe tbody tr th:only-of-type {\n",
       "        vertical-align: middle;\n",
       "    }\n",
       "\n",
       "    .dataframe tbody tr th {\n",
       "        vertical-align: top;\n",
       "    }\n",
       "\n",
       "    .dataframe thead th {\n",
       "        text-align: right;\n",
       "    }\n",
       "</style>\n",
       "<table border=\"1\" class=\"dataframe\">\n",
       "  <thead>\n",
       "    <tr style=\"text-align: right;\">\n",
       "      <th></th>\n",
       "      <th>Entity</th>\n",
       "      <th>Year</th>\n",
       "      <th>Records</th>\n",
       "      <th>Organization type</th>\n",
       "      <th>Method</th>\n",
       "    </tr>\n",
       "  </thead>\n",
       "  <tbody>\n",
       "    <tr>\n",
       "      <th>0</th>\n",
       "      <td>Yahoo</td>\n",
       "      <td>2013</td>\n",
       "      <td>3.000000e+09</td>\n",
       "      <td>web</td>\n",
       "      <td>hacked</td>\n",
       "    </tr>\n",
       "    <tr>\n",
       "      <th>1</th>\n",
       "      <td>Verifications.io (total leaks)</td>\n",
       "      <td>2019</td>\n",
       "      <td>2.000000e+09</td>\n",
       "      <td>online marketing</td>\n",
       "      <td>poor security</td>\n",
       "    </tr>\n",
       "    <tr>\n",
       "      <th>2</th>\n",
       "      <td>First American Corporation</td>\n",
       "      <td>2019</td>\n",
       "      <td>8.850000e+08</td>\n",
       "      <td>financial service company</td>\n",
       "      <td>poor security</td>\n",
       "    </tr>\n",
       "    <tr>\n",
       "      <th>3</th>\n",
       "      <td>India Government Aadhar data breach</td>\n",
       "      <td>2023</td>\n",
       "      <td>8.100000e+08</td>\n",
       "      <td>government</td>\n",
       "      <td>poor security</td>\n",
       "    </tr>\n",
       "    <tr>\n",
       "      <th>4</th>\n",
       "      <td>Verifications.io (first leak)</td>\n",
       "      <td>2019</td>\n",
       "      <td>8.090000e+08</td>\n",
       "      <td>online marketing</td>\n",
       "      <td>poor security</td>\n",
       "    </tr>\n",
       "    <tr>\n",
       "      <th>...</th>\n",
       "      <td>...</td>\n",
       "      <td>...</td>\n",
       "      <td>...</td>\n",
       "      <td>...</td>\n",
       "      <td>...</td>\n",
       "    </tr>\n",
       "    <tr>\n",
       "      <th>330</th>\n",
       "      <td>TaxSlayer.com</td>\n",
       "      <td>2016</td>\n",
       "      <td>8.800000e+03</td>\n",
       "      <td>web</td>\n",
       "      <td>hacked</td>\n",
       "    </tr>\n",
       "    <tr>\n",
       "      <th>331</th>\n",
       "      <td>Inuvik hospital</td>\n",
       "      <td>2016</td>\n",
       "      <td>6.700000e+03</td>\n",
       "      <td>healthcare</td>\n",
       "      <td>inside job</td>\n",
       "    </tr>\n",
       "    <tr>\n",
       "      <th>332</th>\n",
       "      <td>Evide data breach</td>\n",
       "      <td>2023</td>\n",
       "      <td>1.000000e+03</td>\n",
       "      <td>computer services for charities</td>\n",
       "      <td>ransomware hacked</td>\n",
       "    </tr>\n",
       "    <tr>\n",
       "      <th>333</th>\n",
       "      <td>Deloitte</td>\n",
       "      <td>2017</td>\n",
       "      <td>3.500000e+02</td>\n",
       "      <td>consulting, accounting</td>\n",
       "      <td>poor security</td>\n",
       "    </tr>\n",
       "    <tr>\n",
       "      <th>334</th>\n",
       "      <td>Central Intelligence Agency</td>\n",
       "      <td>2017</td>\n",
       "      <td>9.100000e+01</td>\n",
       "      <td>malware tools</td>\n",
       "      <td>inside job</td>\n",
       "    </tr>\n",
       "  </tbody>\n",
       "</table>\n",
       "<p>335 rows × 5 columns</p>\n",
       "</div>"
      ],
      "text/plain": [
       "                                  Entity  Year       Records  \\\n",
       "0                                  Yahoo  2013  3.000000e+09   \n",
       "1         Verifications.io (total leaks)  2019  2.000000e+09   \n",
       "2             First American Corporation  2019  8.850000e+08   \n",
       "3    India Government Aadhar data breach  2023  8.100000e+08   \n",
       "4          Verifications.io (first leak)  2019  8.090000e+08   \n",
       "..                                   ...   ...           ...   \n",
       "330                        TaxSlayer.com  2016  8.800000e+03   \n",
       "331                      Inuvik hospital  2016  6.700000e+03   \n",
       "332                    Evide data breach  2023  1.000000e+03   \n",
       "333                             Deloitte  2017  3.500000e+02   \n",
       "334          Central Intelligence Agency  2017  9.100000e+01   \n",
       "\n",
       "                   Organization type             Method  \n",
       "0                                web             hacked  \n",
       "1                   online marketing      poor security  \n",
       "2          financial service company      poor security  \n",
       "3                         government      poor security  \n",
       "4                   online marketing      poor security  \n",
       "..                               ...                ...  \n",
       "330                              web             hacked  \n",
       "331                       healthcare         inside job  \n",
       "332  computer services for charities  ransomware hacked  \n",
       "333           consulting, accounting      poor security  \n",
       "334                    malware tools         inside job  \n",
       "\n",
       "[335 rows x 5 columns]"
      ]
     },
     "execution_count": 8,
     "metadata": {},
     "output_type": "execute_result"
    }
   ],
   "source": [
    "dataset"
   ]
  },
  {
   "cell_type": "code",
   "execution_count": 9,
   "metadata": {},
   "outputs": [
    {
     "data": {
      "text/html": [
       "<div>\n",
       "<style scoped>\n",
       "    .dataframe tbody tr th:only-of-type {\n",
       "        vertical-align: middle;\n",
       "    }\n",
       "\n",
       "    .dataframe tbody tr th {\n",
       "        vertical-align: top;\n",
       "    }\n",
       "\n",
       "    .dataframe thead th {\n",
       "        text-align: right;\n",
       "    }\n",
       "</style>\n",
       "<table border=\"1\" class=\"dataframe\">\n",
       "  <thead>\n",
       "    <tr style=\"text-align: right;\">\n",
       "      <th></th>\n",
       "      <th>Records</th>\n",
       "    </tr>\n",
       "  </thead>\n",
       "  <tbody>\n",
       "    <tr>\n",
       "      <th>count</th>\n",
       "      <td>3.350000e+02</td>\n",
       "    </tr>\n",
       "    <tr>\n",
       "      <th>mean</th>\n",
       "      <td>5.533665e+07</td>\n",
       "    </tr>\n",
       "    <tr>\n",
       "      <th>std</th>\n",
       "      <td>2.251218e+08</td>\n",
       "    </tr>\n",
       "    <tr>\n",
       "      <th>min</th>\n",
       "      <td>9.100000e+01</td>\n",
       "    </tr>\n",
       "    <tr>\n",
       "      <th>25%</th>\n",
       "      <td>3.075000e+05</td>\n",
       "    </tr>\n",
       "    <tr>\n",
       "      <th>50%</th>\n",
       "      <td>2.100000e+06</td>\n",
       "    </tr>\n",
       "    <tr>\n",
       "      <th>75%</th>\n",
       "      <td>2.078801e+07</td>\n",
       "    </tr>\n",
       "    <tr>\n",
       "      <th>max</th>\n",
       "      <td>3.000000e+09</td>\n",
       "    </tr>\n",
       "  </tbody>\n",
       "</table>\n",
       "</div>"
      ],
      "text/plain": [
       "            Records\n",
       "count  3.350000e+02\n",
       "mean   5.533665e+07\n",
       "std    2.251218e+08\n",
       "min    9.100000e+01\n",
       "25%    3.075000e+05\n",
       "50%    2.100000e+06\n",
       "75%    2.078801e+07\n",
       "max    3.000000e+09"
      ]
     },
     "execution_count": 9,
     "metadata": {},
     "output_type": "execute_result"
    }
   ],
   "source": [
    "dataset.describe() # print dataset description"
   ]
  },
  {
   "cell_type": "code",
   "execution_count": 10,
   "metadata": {},
   "outputs": [
    {
     "data": {
      "text/plain": [
       "25"
      ]
     },
     "execution_count": 10,
     "metadata": {},
     "output_type": "execute_result"
    }
   ],
   "source": [
    "dataset['Method'].nunique() # print number of methods that were used in the breaches"
   ]
  },
  {
   "cell_type": "code",
   "execution_count": 11,
   "metadata": {},
   "outputs": [
    {
     "data": {
      "text/plain": [
       "316"
      ]
     },
     "execution_count": 11,
     "metadata": {},
     "output_type": "execute_result"
    }
   ],
   "source": [
    "dataset['Entity'].nunique()"
   ]
  },
  {
   "cell_type": "code",
   "execution_count": 12,
   "metadata": {},
   "outputs": [
    {
     "data": {
      "application/vnd.plotly.v1+json": {
       "config": {
        "plotlyServerURL": "https://plot.ly"
       },
       "data": [
        {
         "alignmentgroup": "True",
         "bingroup": "x",
         "histfunc": "count",
         "hovertemplate": "Method=hacked<br>Year=%{x}<br>count=%{y}<extra></extra>",
         "legendgroup": "hacked",
         "marker": {
          "color": "#636efa",
          "pattern": {
           "shape": ""
          }
         },
         "name": "hacked",
         "offsetgroup": "hacked",
         "orientation": "v",
         "showlegend": true,
         "type": "histogram",
         "x": [
          "2013",
          "2018",
          "2014",
          "2020",
          "2019",
          "2018",
          "2012",
          "2013",
          "2018",
          "2014",
          "2019",
          "2009",
          "2013",
          "2018",
          "2012",
          "2007",
          "2020",
          "2015",
          "2021",
          "2011",
          "2014",
          "2012",
          "2013",
          "2017",
          "2014",
          "2016",
          "2013",
          "2013",
          "2020",
          "2021",
          "2016",
          "2005",
          "2023",
          "2023",
          "2014",
          "2011",
          "2015",
          "2009",
          "2020",
          "2017",
          "2018",
          "2011",
          "2018",
          "2011",
          "2012",
          "2013",
          "2015",
          "2016",
          "2008",
          "2019",
          "2015",
          "2020",
          "2012",
          "2011",
          "2023",
          "2015",
          "2023",
          "2011",
          "2015",
          "2022",
          "2022",
          "2018",
          "2019-2020",
          "2023",
          "2012",
          "2012",
          "2009",
          "2008",
          "2012",
          "2018",
          "2012",
          "2019",
          "2007",
          "2011",
          "2023",
          "2009",
          "2019",
          "2015",
          "2014",
          "2019",
          "2013",
          "2015",
          "2015",
          "2014",
          "2007",
          "2006",
          "2015",
          "2014",
          "2012",
          "2023",
          "2016",
          "2012",
          "2014",
          "2010",
          "2015",
          "2016",
          "2013",
          "2018-2019",
          "2021",
          "2007",
          "2018",
          "2016",
          "2016",
          "2008",
          "2010",
          "2016",
          "2005",
          "2015",
          "2011",
          "2011",
          "2015",
          "2019",
          "2021",
          "2014",
          "2015",
          "2013",
          "2013",
          "2011",
          "2013",
          "2014",
          "2018",
          "2014",
          "2012",
          "2010",
          "2015",
          "2014",
          "2009",
          "2009",
          "2010",
          "2018",
          "2013",
          "2019",
          "2012",
          "2016",
          "2010",
          "2014 and 2015",
          "2011",
          "2020",
          "2021",
          "2014",
          "2011",
          "2021",
          "2012",
          "2013",
          "2015",
          "2013",
          "2010",
          "2019",
          "2011",
          "2011",
          "2011",
          "2013",
          "2020",
          "2009",
          "2021",
          "2020",
          "2013",
          "2018",
          "2010",
          "2013",
          "2020",
          "2018",
          "2019",
          "2016",
          "2018",
          "2018",
          "2011",
          "2016",
          "2011",
          "2016",
          "2016",
          "2017",
          "2018",
          "2016",
          "2013",
          "2016"
         ],
         "xaxis": "x",
         "y": [
          3000000000,
          500000000,
          500000000,
          270000000,
          173000000,
          162000000,
          160000000,
          152000000,
          150000000,
          145000000,
          140000000,
          130000000,
          110000000,
          100000000,
          98167935,
          94000000,
          91000000,
          80000000,
          77093812,
          77000000,
          76000000,
          68648009,
          65469298,
          57000000,
          56000000,
          55000000,
          50000000,
          50000000,
          46000000,
          45000000,
          43430316,
          40000000,
          40000000,
          37000000,
          35040000,
          35000000,
          32000000,
          32000000,
          30000000,
          28722877,
          28517244,
          28000000,
          26151608,
          24600000,
          24000000,
          22000000,
          21500000,
          20000000,
          18000000,
          15000000,
          15000000,
          14870304,
          14000000,
          13200000,
          11270000,
          11000000,
          10600000,
          10000000,
          10000000,
          9800000,
          9700000,
          9400000,
          9002208,
          9000000,
          9000000,
          8700000,
          8257378,
          8000000,
          8000000,
          7633234,
          7000000,
          6800000,
          6300000,
          6000000,
          5960000,
          5000000,
          5000000,
          5000000,
          5000000,
          4900000,
          4700000,
          4600000,
          4500000,
          4500000,
          4200000,
          4000000,
          3900000,
          3000000,
          3000000,
          2676696,
          2500000,
          2434899,
          2400000,
          2300000,
          2300000,
          2200000,
          2000000,
          2000000,
          1600000,
          1600000,
          1500000,
          1500000,
          1500000,
          1500000,
          1500000,
          1500000,
          1400000,
          1300000,
          1290755,
          1270000,
          1250000,
          1164540,
          1107034,
          1100000,
          1100000,
          1000000,
          1000000,
          1000000,
          1000000,
          1000000,
          880000,
          860000,
          780000,
          760000,
          720000,
          600000,
          573000,
          531400,
          515000,
          500000,
          500000,
          461091,
          450000,
          430000,
          400000,
          363000,
          360083,
          350000,
          300000,
          300000,
          300000,
          275000,
          260000,
          250000,
          250000,
          240000,
          231400,
          200000,
          200000,
          200000,
          180000,
          160000,
          160000,
          160000,
          156000,
          130000,
          125000,
          123857,
          114000,
          110000,
          104000,
          100000,
          98000,
          80000,
          75000,
          75000,
          73000,
          63000,
          62000,
          60000,
          40000,
          25000,
          20000,
          19252,
          16000,
          8800
         ],
         "yaxis": "y"
        },
        {
         "alignmentgroup": "True",
         "bingroup": "x",
         "histfunc": "count",
         "hovertemplate": "Method=poor security<br>Year=%{x}<br>count=%{y}<extra></extra>",
         "legendgroup": "poor security",
         "marker": {
          "color": "#EF553B",
          "pattern": {
           "shape": ""
          }
         },
         "name": "poor security",
         "offsetgroup": "poor security",
         "orientation": "v",
         "showlegend": true,
         "type": "histogram",
         "x": [
          "2019",
          "2019",
          "2023",
          "2019",
          "2019",
          "2018",
          "2019",
          "2019",
          "2019",
          "2019",
          "2020",
          "2020",
          "2017",
          "2020",
          "2019",
          "2018",
          "2018",
          "2023",
          "2018",
          "2020",
          "2019",
          "2019",
          "2022",
          "2020",
          "2017",
          "2022",
          "2023",
          "2019",
          "2021",
          "2018",
          "2015",
          "2020",
          "2020",
          "2012",
          "2021",
          "2011",
          "2023",
          "2011",
          "2020",
          "2013",
          "2005",
          "2021",
          "2018",
          "2014",
          "2014",
          "2014",
          "2016",
          "2017"
         ],
         "xaxis": "x",
         "y": [
          2000000000,
          885000000,
          810000000,
          809000000,
          540000000,
          340000000,
          320000000,
          275000000,
          267000000,
          202000000,
          201000000,
          200000000,
          163119000,
          120000000,
          108000000,
          60000000,
          50000000,
          50000000,
          45000000,
          42000000,
          11900000,
          7500000,
          6400000,
          4000000,
          1900000,
          1300000,
          1279437,
          808000,
          500000,
          500000,
          500000,
          391250,
          377428,
          315000,
          300000,
          283000,
          256000,
          210000,
          175350,
          150000,
          125000,
          91000,
          90000,
          76000,
          52000,
          50000,
          30000,
          350
         ],
         "yaxis": "y"
        },
        {
         "alignmentgroup": "True",
         "bingroup": "x",
         "histfunc": "count",
         "hovertemplate": "Method=compilation of multiple data breaches<br>Year=%{x}<br>count=%{y}<extra></extra>",
         "legendgroup": "compilation of multiple data breaches",
         "marker": {
          "color": "#00cc96",
          "pattern": {
           "shape": ""
          }
         },
         "name": "compilation of multiple data breaches",
         "offsetgroup": "compilation of multiple data breaches",
         "orientation": "v",
         "showlegend": true,
         "type": "histogram",
         "x": [
          "2019"
         ],
         "xaxis": "x",
         "y": [
          773000000
         ],
         "yaxis": "y"
        },
        {
         "alignmentgroup": "True",
         "bingroup": "x",
         "histfunc": "count",
         "hovertemplate": "Method=poor security / hacked<br>Year=%{x}<br>count=%{y}<extra></extra>",
         "legendgroup": "poor security / hacked",
         "marker": {
          "color": "#ab63fa",
          "pattern": {
           "shape": ""
          }
         },
         "name": "poor security / hacked",
         "offsetgroup": "poor security / hacked",
         "orientation": "v",
         "showlegend": true,
         "type": "histogram",
         "x": [
          "2016"
         ],
         "xaxis": "x",
         "y": [
          412214295
         ],
         "yaxis": "y"
        },
        {
         "alignmentgroup": "True",
         "bingroup": "x",
         "histfunc": "count",
         "hovertemplate": "Method=leaked and published<br>Year=%{x}<br>count=%{y}<extra></extra>",
         "legendgroup": "leaked and published",
         "marker": {
          "color": "#FFA15A",
          "pattern": {
           "shape": ""
          }
         },
         "name": "leaked and published",
         "offsetgroup": "leaked and published",
         "orientation": "v",
         "showlegend": true,
         "type": "histogram",
         "x": [
          "2023"
         ],
         "xaxis": "x",
         "y": [
          337225463
         ],
         "yaxis": "y"
        },
        {
         "alignmentgroup": "True",
         "bingroup": "x",
         "histfunc": "count",
         "hovertemplate": "Method=unknown<br>Year=%{x}<br>count=%{y}<extra></extra>",
         "legendgroup": "unknown",
         "marker": {
          "color": "#19d3f3",
          "pattern": {
           "shape": ""
          }
         },
         "name": "unknown",
         "offsetgroup": "unknown",
         "orientation": "v",
         "showlegend": true,
         "type": "histogram",
         "x": [
          "2019",
          "2018",
          "2020",
          "2022",
          "2020"
         ],
         "xaxis": "x",
         "y": [
          299055000,
          92283889,
          56000000,
          515000,
          380000
         ],
         "yaxis": "y"
        },
        {
         "alignmentgroup": "True",
         "bingroup": "x",
         "histfunc": "count",
         "hovertemplate": "Method=data exposed by misconfiguration<br>Year=%{x}<br>count=%{y}<extra></extra>",
         "legendgroup": "data exposed by misconfiguration",
         "marker": {
          "color": "#FF6692",
          "pattern": {
           "shape": ""
          }
         },
         "name": "data exposed by misconfiguration",
         "offsetgroup": "data exposed by misconfiguration",
         "orientation": "v",
         "showlegend": true,
         "type": "histogram",
         "x": [
          "2019"
         ],
         "xaxis": "x",
         "y": [
          250000000
         ],
         "yaxis": "y"
        },
        {
         "alignmentgroup": "True",
         "bingroup": "x",
         "histfunc": "count",
         "hovertemplate": "Method=accidentally published<br>Year=%{x}<br>count=%{y}<extra></extra>",
         "legendgroup": "accidentally published",
         "marker": {
          "color": "#B6E880",
          "pattern": {
           "shape": ""
          }
         },
         "name": "accidentally published",
         "offsetgroup": "accidentally published",
         "orientation": "v",
         "showlegend": true,
         "type": "histogram",
         "x": [
          "2020",
          "2006",
          "2021",
          "2012",
          "2012",
          "2013",
          "2008",
          "2008",
          "2011",
          "2008",
          "2011",
          "2012",
          "2013",
          "2012",
          "2011",
          "2022",
          "2011",
          "2010"
         ],
         "xaxis": "x",
         "y": [
          200000000,
          20000000,
          12367232,
          8000000,
          6500000,
          6000000,
          6000000,
          3950000,
          3500000,
          1600000,
          935000,
          420000,
          170000,
          163792,
          123461,
          95000,
          50000,
          43000
         ],
         "yaxis": "y"
        },
        {
         "alignmentgroup": "True",
         "bingroup": "x",
         "histfunc": "count",
         "hovertemplate": "Method=unsecured S3 bucket<br>Year=%{x}<br>count=%{y}<extra></extra>",
         "legendgroup": "unsecured S3 bucket",
         "marker": {
          "color": "#FF97FF",
          "pattern": {
           "shape": ""
          }
         },
         "name": "unsecured S3 bucket",
         "offsetgroup": "unsecured S3 bucket",
         "orientation": "v",
         "showlegend": true,
         "type": "histogram",
         "x": [
          "2019"
         ],
         "xaxis": "x",
         "y": [
          106000000
         ],
         "yaxis": "y"
        },
        {
         "alignmentgroup": "True",
         "bingroup": "x",
         "histfunc": "count",
         "hovertemplate": "Method=unprotected api<br>Year=%{x}<br>count=%{y}<extra></extra>",
         "legendgroup": "unprotected api",
         "marker": {
          "color": "#FECB52",
          "pattern": {
           "shape": ""
          }
         },
         "name": "unprotected api",
         "offsetgroup": "unprotected api",
         "orientation": "v",
         "showlegend": true,
         "type": "histogram",
         "x": [
          "2019"
         ],
         "xaxis": "x",
         "y": [
          100000000
         ],
         "yaxis": "y"
        },
        {
         "alignmentgroup": "True",
         "bingroup": "x",
         "histfunc": "count",
         "hovertemplate": "Method=misconfiguration/poor security<br>Year=%{x}<br>count=%{y}<extra></extra>",
         "legendgroup": "misconfiguration/poor security",
         "marker": {
          "color": "#636efa",
          "pattern": {
           "shape": ""
          }
         },
         "name": "misconfiguration/poor security",
         "offsetgroup": "misconfiguration/poor security",
         "orientation": "v",
         "showlegend": true,
         "type": "histogram",
         "x": [
          "2019"
         ],
         "xaxis": "x",
         "y": [
          100000000
         ],
         "yaxis": "y"
        },
        {
         "alignmentgroup": "True",
         "bingroup": "x",
         "histfunc": "count",
         "hovertemplate": "Method=inside job, hacked<br>Year=%{x}<br>count=%{y}<extra></extra>",
         "legendgroup": "inside job, hacked",
         "marker": {
          "color": "#EF553B",
          "pattern": {
           "shape": ""
          }
         },
         "name": "inside job, hacked",
         "offsetgroup": "inside job, hacked",
         "orientation": "v",
         "showlegend": true,
         "type": "histogram",
         "x": [
          "2004"
         ],
         "xaxis": "x",
         "y": [
          92000000
         ],
         "yaxis": "y"
        },
        {
         "alignmentgroup": "True",
         "bingroup": "x",
         "histfunc": "count",
         "hovertemplate": "Method=lost / stolen media<br>Year=%{x}<br>count=%{y}<extra></extra>",
         "legendgroup": "lost / stolen media",
         "marker": {
          "color": "#00cc96",
          "pattern": {
           "shape": ""
          }
         },
         "name": "lost / stolen media",
         "offsetgroup": "lost / stolen media",
         "orientation": "v",
         "showlegend": true,
         "type": "histogram",
         "x": [
          "2009",
          "2007",
          "2006",
          "2008",
          "2011",
          "2017",
          "2005",
          "2010",
          "2007",
          "2010",
          "2008",
          "2011",
          "2010",
          "2008",
          "2005",
          "2011",
          "2009",
          "2010",
          "2012",
          "2009",
          "2010",
          "2013",
          "2006",
          "2005",
          "2010",
          "2007",
          "2010",
          "2011",
          "2008",
          "2009",
          "2008",
          "2011"
         ],
         "xaxis": "x",
         "y": [
          76000000,
          25000000,
          17000000,
          12500000,
          8300000,
          4000000,
          3900000,
          3300000,
          3000000,
          2600000,
          2200000,
          1900000,
          1700000,
          1700000,
          1200000,
          1055489,
          1023209,
          800000,
          800000,
          500000,
          398000,
          344579,
          200000,
          200000,
          180111,
          160000,
          130495,
          102153,
          84000,
          72000,
          50500,
          34000
         ],
         "yaxis": "y"
        },
        {
         "alignmentgroup": "True",
         "bingroup": "x",
         "histfunc": "count",
         "hovertemplate": "Method=publicly accessible Amazon Web Services (AWS) server<br>Year=%{x}<br>count=%{y}<extra></extra>",
         "legendgroup": "publicly accessible Amazon Web Services (AWS) server",
         "marker": {
          "color": "#ab63fa",
          "pattern": {
           "shape": ""
          }
         },
         "name": "publicly accessible Amazon Web Services (AWS) server",
         "offsetgroup": "publicly accessible Amazon Web Services (AWS) server",
         "orientation": "v",
         "showlegend": true,
         "type": "histogram",
         "x": [
          "2020"
         ],
         "xaxis": "x",
         "y": [
          38000000
         ],
         "yaxis": "y"
        },
        {
         "alignmentgroup": "True",
         "bingroup": "x",
         "histfunc": "count",
         "hovertemplate": "Method=hacked and published<br>Year=%{x}<br>count=%{y}<extra></extra>",
         "legendgroup": "hacked and published",
         "marker": {
          "color": "#FFA15A",
          "pattern": {
           "shape": ""
          }
         },
         "name": "hacked and published",
         "offsetgroup": "hacked and published",
         "orientation": "v",
         "showlegend": true,
         "type": "histogram",
         "x": [
          "2023"
         ],
         "xaxis": "x",
         "y": [
          34900867
         ],
         "yaxis": "y"
        },
        {
         "alignmentgroup": "True",
         "bingroup": "x",
         "histfunc": "count",
         "hovertemplate": "Method=lost / stolen computer<br>Year=%{x}<br>count=%{y}<extra></extra>",
         "legendgroup": "lost / stolen computer",
         "marker": {
          "color": "#19d3f3",
          "pattern": {
           "shape": ""
          }
         },
         "name": "lost / stolen computer",
         "offsetgroup": "lost / stolen computer",
         "orientation": "v",
         "showlegend": true,
         "type": "histogram",
         "x": [
          "2006",
          "2011",
          "2011",
          "2008",
          "2009",
          "2007",
          "2011",
          "2011",
          "2009",
          "2008",
          "2010",
          "2013",
          "2013",
          "2008",
          "2008"
         ],
         "xaxis": "x",
         "y": [
          26500000,
          4901432,
          4243434,
          2100000,
          1220000,
          800000,
          514330,
          400000,
          131000,
          113000,
          105470,
          100000,
          100000,
          97000,
          72000
         ],
         "yaxis": "y"
        },
        {
         "alignmentgroup": "True",
         "bingroup": "x",
         "histfunc": "count",
         "hovertemplate": "Method=improper setting, hacked<br>Year=%{x}<br>count=%{y}<extra></extra>",
         "legendgroup": "improper setting, hacked",
         "marker": {
          "color": "#FF6692",
          "pattern": {
           "shape": ""
          }
         },
         "name": "improper setting, hacked",
         "offsetgroup": "improper setting, hacked",
         "orientation": "v",
         "showlegend": true,
         "type": "histogram",
         "x": [
          "2020",
          "2020"
         ],
         "xaxis": "x",
         "y": [
          20076016,
          1381735
         ],
         "yaxis": "y"
        },
        {
         "alignmentgroup": "True",
         "bingroup": "x",
         "histfunc": "count",
         "hovertemplate": "Method=inside job<br>Year=%{x}<br>count=%{y}<extra></extra>",
         "legendgroup": "inside job",
         "marker": {
          "color": "#B6E880",
          "pattern": {
           "shape": ""
          }
         },
         "name": "inside job",
         "offsetgroup": "inside job",
         "orientation": "v",
         "showlegend": true,
         "type": "histogram",
         "x": [
          "2014",
          "2008",
          "2019",
          "2007",
          "2007",
          "2012",
          "2006",
          "2011",
          "2013",
          "2012",
          "2007",
          "2015",
          "2004",
          "2010",
          "2010",
          "2010",
          "2007",
          "2023",
          "2016",
          "2017"
         ],
         "xaxis": "x",
         "y": [
          20000000,
          11100000,
          9700000,
          8637405,
          8500000,
          6400000,
          2600000,
          2500000,
          2000000,
          1800000,
          1000000,
          680000,
          510000,
          392000,
          260000,
          251000,
          89000,
          75000,
          6700,
          91
         ],
         "yaxis": "y"
        },
        {
         "alignmentgroup": "True",
         "bingroup": "x",
         "histfunc": "count",
         "hovertemplate": "Method=social engineering<br>Year=%{x}<br>count=%{y}<extra></extra>",
         "legendgroup": "social engineering",
         "marker": {
          "color": "#FF97FF",
          "pattern": {
           "shape": ""
          }
         },
         "name": "social engineering",
         "offsetgroup": "social engineering",
         "orientation": "v",
         "showlegend": true,
         "type": "histogram",
         "x": [
          "2015"
         ],
         "xaxis": "x",
         "y": [
          6054459
         ],
         "yaxis": "y"
        },
        {
         "alignmentgroup": "True",
         "bingroup": "x",
         "histfunc": "count",
         "hovertemplate": "Method=poor security/inside job<br>Year=%{x}<br>count=%{y}<extra></extra>",
         "legendgroup": "poor security/inside job",
         "marker": {
          "color": "#FECB52",
          "pattern": {
           "shape": ""
          }
         },
         "name": "poor security/inside job",
         "offsetgroup": "poor security/inside job",
         "orientation": "v",
         "showlegend": true,
         "type": "histogram",
         "x": [
          "2020",
          "2019"
         ],
         "xaxis": "x",
         "y": [
          5200000,
          14200
         ],
         "yaxis": "y"
        },
        {
         "alignmentgroup": "True",
         "bingroup": "x",
         "histfunc": "count",
         "hovertemplate": "Method=ransomware hacked<br>Year=%{x}<br>count=%{y}<extra></extra>",
         "legendgroup": "ransomware hacked",
         "marker": {
          "color": "#636efa",
          "pattern": {
           "shape": ""
          }
         },
         "name": "ransomware hacked",
         "offsetgroup": "ransomware hacked",
         "orientation": "v",
         "showlegend": true,
         "type": "histogram",
         "x": [
          "2022",
          "2023"
         ],
         "xaxis": "x",
         "y": [
          1648922,
          1000
         ],
         "yaxis": "y"
        },
        {
         "alignmentgroup": "True",
         "bingroup": "x",
         "histfunc": "count",
         "hovertemplate": "Method=accidentally uploaded<br>Year=%{x}<br>count=%{y}<extra></extra>",
         "legendgroup": "accidentally uploaded",
         "marker": {
          "color": "#EF553B",
          "pattern": {
           "shape": ""
          }
         },
         "name": "accidentally uploaded",
         "offsetgroup": "accidentally uploaded",
         "orientation": "v",
         "showlegend": true,
         "type": "histogram",
         "x": [
          "2019"
         ],
         "xaxis": "x",
         "y": [
          1500000
         ],
         "yaxis": "y"
        },
        {
         "alignmentgroup": "True",
         "bingroup": "x",
         "histfunc": "count",
         "hovertemplate": "Method=intentionally lost<br>Year=%{x}<br>count=%{y}<extra></extra>",
         "legendgroup": "intentionally lost",
         "marker": {
          "color": "#00cc96",
          "pattern": {
           "shape": ""
          }
         },
         "name": "intentionally lost",
         "offsetgroup": "intentionally lost",
         "orientation": "v",
         "showlegend": true,
         "type": "histogram",
         "x": [
          "2006"
         ],
         "xaxis": "x",
         "y": [
          960000
         ],
         "yaxis": "y"
        },
        {
         "alignmentgroup": "True",
         "bingroup": "x",
         "histfunc": "count",
         "hovertemplate": "Method=accidentally exposed<br>Year=%{x}<br>count=%{y}<extra></extra>",
         "legendgroup": "accidentally exposed",
         "marker": {
          "color": "#ab63fa",
          "pattern": {
           "shape": ""
          }
         },
         "name": "accidentally exposed",
         "offsetgroup": "accidentally exposed",
         "orientation": "v",
         "showlegend": true,
         "type": "histogram",
         "x": [
          "2020"
         ],
         "xaxis": "x",
         "y": [
          900000
         ],
         "yaxis": "y"
        },
        {
         "alignmentgroup": "True",
         "bingroup": "x",
         "histfunc": "count",
         "hovertemplate": "Method=rogue contractor<br>Year=%{x}<br>count=%{y}<extra></extra>",
         "legendgroup": "rogue contractor",
         "marker": {
          "color": "#FFA15A",
          "pattern": {
           "shape": ""
          }
         },
         "name": "rogue contractor",
         "offsetgroup": "rogue contractor",
         "orientation": "v",
         "showlegend": true,
         "type": "histogram",
         "x": [
          "2020"
         ],
         "xaxis": "x",
         "y": [
          30000
         ],
         "yaxis": "y"
        }
       ],
       "layout": {
        "barmode": "relative",
        "legend": {
         "title": {
          "text": "Method"
         },
         "tracegroupgap": 0
        },
        "margin": {
         "t": 60
        },
        "template": {
         "data": {
          "bar": [
           {
            "error_x": {
             "color": "#2a3f5f"
            },
            "error_y": {
             "color": "#2a3f5f"
            },
            "marker": {
             "line": {
              "color": "#E5ECF6",
              "width": 0.5
             },
             "pattern": {
              "fillmode": "overlay",
              "size": 10,
              "solidity": 0.2
             }
            },
            "type": "bar"
           }
          ],
          "barpolar": [
           {
            "marker": {
             "line": {
              "color": "#E5ECF6",
              "width": 0.5
             },
             "pattern": {
              "fillmode": "overlay",
              "size": 10,
              "solidity": 0.2
             }
            },
            "type": "barpolar"
           }
          ],
          "carpet": [
           {
            "aaxis": {
             "endlinecolor": "#2a3f5f",
             "gridcolor": "white",
             "linecolor": "white",
             "minorgridcolor": "white",
             "startlinecolor": "#2a3f5f"
            },
            "baxis": {
             "endlinecolor": "#2a3f5f",
             "gridcolor": "white",
             "linecolor": "white",
             "minorgridcolor": "white",
             "startlinecolor": "#2a3f5f"
            },
            "type": "carpet"
           }
          ],
          "choropleth": [
           {
            "colorbar": {
             "outlinewidth": 0,
             "ticks": ""
            },
            "type": "choropleth"
           }
          ],
          "contour": [
           {
            "colorbar": {
             "outlinewidth": 0,
             "ticks": ""
            },
            "colorscale": [
             [
              0,
              "#0d0887"
             ],
             [
              0.1111111111111111,
              "#46039f"
             ],
             [
              0.2222222222222222,
              "#7201a8"
             ],
             [
              0.3333333333333333,
              "#9c179e"
             ],
             [
              0.4444444444444444,
              "#bd3786"
             ],
             [
              0.5555555555555556,
              "#d8576b"
             ],
             [
              0.6666666666666666,
              "#ed7953"
             ],
             [
              0.7777777777777778,
              "#fb9f3a"
             ],
             [
              0.8888888888888888,
              "#fdca26"
             ],
             [
              1,
              "#f0f921"
             ]
            ],
            "type": "contour"
           }
          ],
          "contourcarpet": [
           {
            "colorbar": {
             "outlinewidth": 0,
             "ticks": ""
            },
            "type": "contourcarpet"
           }
          ],
          "heatmap": [
           {
            "colorbar": {
             "outlinewidth": 0,
             "ticks": ""
            },
            "colorscale": [
             [
              0,
              "#0d0887"
             ],
             [
              0.1111111111111111,
              "#46039f"
             ],
             [
              0.2222222222222222,
              "#7201a8"
             ],
             [
              0.3333333333333333,
              "#9c179e"
             ],
             [
              0.4444444444444444,
              "#bd3786"
             ],
             [
              0.5555555555555556,
              "#d8576b"
             ],
             [
              0.6666666666666666,
              "#ed7953"
             ],
             [
              0.7777777777777778,
              "#fb9f3a"
             ],
             [
              0.8888888888888888,
              "#fdca26"
             ],
             [
              1,
              "#f0f921"
             ]
            ],
            "type": "heatmap"
           }
          ],
          "heatmapgl": [
           {
            "colorbar": {
             "outlinewidth": 0,
             "ticks": ""
            },
            "colorscale": [
             [
              0,
              "#0d0887"
             ],
             [
              0.1111111111111111,
              "#46039f"
             ],
             [
              0.2222222222222222,
              "#7201a8"
             ],
             [
              0.3333333333333333,
              "#9c179e"
             ],
             [
              0.4444444444444444,
              "#bd3786"
             ],
             [
              0.5555555555555556,
              "#d8576b"
             ],
             [
              0.6666666666666666,
              "#ed7953"
             ],
             [
              0.7777777777777778,
              "#fb9f3a"
             ],
             [
              0.8888888888888888,
              "#fdca26"
             ],
             [
              1,
              "#f0f921"
             ]
            ],
            "type": "heatmapgl"
           }
          ],
          "histogram": [
           {
            "marker": {
             "pattern": {
              "fillmode": "overlay",
              "size": 10,
              "solidity": 0.2
             }
            },
            "type": "histogram"
           }
          ],
          "histogram2d": [
           {
            "colorbar": {
             "outlinewidth": 0,
             "ticks": ""
            },
            "colorscale": [
             [
              0,
              "#0d0887"
             ],
             [
              0.1111111111111111,
              "#46039f"
             ],
             [
              0.2222222222222222,
              "#7201a8"
             ],
             [
              0.3333333333333333,
              "#9c179e"
             ],
             [
              0.4444444444444444,
              "#bd3786"
             ],
             [
              0.5555555555555556,
              "#d8576b"
             ],
             [
              0.6666666666666666,
              "#ed7953"
             ],
             [
              0.7777777777777778,
              "#fb9f3a"
             ],
             [
              0.8888888888888888,
              "#fdca26"
             ],
             [
              1,
              "#f0f921"
             ]
            ],
            "type": "histogram2d"
           }
          ],
          "histogram2dcontour": [
           {
            "colorbar": {
             "outlinewidth": 0,
             "ticks": ""
            },
            "colorscale": [
             [
              0,
              "#0d0887"
             ],
             [
              0.1111111111111111,
              "#46039f"
             ],
             [
              0.2222222222222222,
              "#7201a8"
             ],
             [
              0.3333333333333333,
              "#9c179e"
             ],
             [
              0.4444444444444444,
              "#bd3786"
             ],
             [
              0.5555555555555556,
              "#d8576b"
             ],
             [
              0.6666666666666666,
              "#ed7953"
             ],
             [
              0.7777777777777778,
              "#fb9f3a"
             ],
             [
              0.8888888888888888,
              "#fdca26"
             ],
             [
              1,
              "#f0f921"
             ]
            ],
            "type": "histogram2dcontour"
           }
          ],
          "mesh3d": [
           {
            "colorbar": {
             "outlinewidth": 0,
             "ticks": ""
            },
            "type": "mesh3d"
           }
          ],
          "parcoords": [
           {
            "line": {
             "colorbar": {
              "outlinewidth": 0,
              "ticks": ""
             }
            },
            "type": "parcoords"
           }
          ],
          "pie": [
           {
            "automargin": true,
            "type": "pie"
           }
          ],
          "scatter": [
           {
            "fillpattern": {
             "fillmode": "overlay",
             "size": 10,
             "solidity": 0.2
            },
            "type": "scatter"
           }
          ],
          "scatter3d": [
           {
            "line": {
             "colorbar": {
              "outlinewidth": 0,
              "ticks": ""
             }
            },
            "marker": {
             "colorbar": {
              "outlinewidth": 0,
              "ticks": ""
             }
            },
            "type": "scatter3d"
           }
          ],
          "scattercarpet": [
           {
            "marker": {
             "colorbar": {
              "outlinewidth": 0,
              "ticks": ""
             }
            },
            "type": "scattercarpet"
           }
          ],
          "scattergeo": [
           {
            "marker": {
             "colorbar": {
              "outlinewidth": 0,
              "ticks": ""
             }
            },
            "type": "scattergeo"
           }
          ],
          "scattergl": [
           {
            "marker": {
             "colorbar": {
              "outlinewidth": 0,
              "ticks": ""
             }
            },
            "type": "scattergl"
           }
          ],
          "scattermapbox": [
           {
            "marker": {
             "colorbar": {
              "outlinewidth": 0,
              "ticks": ""
             }
            },
            "type": "scattermapbox"
           }
          ],
          "scatterpolar": [
           {
            "marker": {
             "colorbar": {
              "outlinewidth": 0,
              "ticks": ""
             }
            },
            "type": "scatterpolar"
           }
          ],
          "scatterpolargl": [
           {
            "marker": {
             "colorbar": {
              "outlinewidth": 0,
              "ticks": ""
             }
            },
            "type": "scatterpolargl"
           }
          ],
          "scatterternary": [
           {
            "marker": {
             "colorbar": {
              "outlinewidth": 0,
              "ticks": ""
             }
            },
            "type": "scatterternary"
           }
          ],
          "surface": [
           {
            "colorbar": {
             "outlinewidth": 0,
             "ticks": ""
            },
            "colorscale": [
             [
              0,
              "#0d0887"
             ],
             [
              0.1111111111111111,
              "#46039f"
             ],
             [
              0.2222222222222222,
              "#7201a8"
             ],
             [
              0.3333333333333333,
              "#9c179e"
             ],
             [
              0.4444444444444444,
              "#bd3786"
             ],
             [
              0.5555555555555556,
              "#d8576b"
             ],
             [
              0.6666666666666666,
              "#ed7953"
             ],
             [
              0.7777777777777778,
              "#fb9f3a"
             ],
             [
              0.8888888888888888,
              "#fdca26"
             ],
             [
              1,
              "#f0f921"
             ]
            ],
            "type": "surface"
           }
          ],
          "table": [
           {
            "cells": {
             "fill": {
              "color": "#EBF0F8"
             },
             "line": {
              "color": "white"
             }
            },
            "header": {
             "fill": {
              "color": "#C8D4E3"
             },
             "line": {
              "color": "white"
             }
            },
            "type": "table"
           }
          ]
         },
         "layout": {
          "annotationdefaults": {
           "arrowcolor": "#2a3f5f",
           "arrowhead": 0,
           "arrowwidth": 1
          },
          "autotypenumbers": "strict",
          "coloraxis": {
           "colorbar": {
            "outlinewidth": 0,
            "ticks": ""
           }
          },
          "colorscale": {
           "diverging": [
            [
             0,
             "#8e0152"
            ],
            [
             0.1,
             "#c51b7d"
            ],
            [
             0.2,
             "#de77ae"
            ],
            [
             0.3,
             "#f1b6da"
            ],
            [
             0.4,
             "#fde0ef"
            ],
            [
             0.5,
             "#f7f7f7"
            ],
            [
             0.6,
             "#e6f5d0"
            ],
            [
             0.7,
             "#b8e186"
            ],
            [
             0.8,
             "#7fbc41"
            ],
            [
             0.9,
             "#4d9221"
            ],
            [
             1,
             "#276419"
            ]
           ],
           "sequential": [
            [
             0,
             "#0d0887"
            ],
            [
             0.1111111111111111,
             "#46039f"
            ],
            [
             0.2222222222222222,
             "#7201a8"
            ],
            [
             0.3333333333333333,
             "#9c179e"
            ],
            [
             0.4444444444444444,
             "#bd3786"
            ],
            [
             0.5555555555555556,
             "#d8576b"
            ],
            [
             0.6666666666666666,
             "#ed7953"
            ],
            [
             0.7777777777777778,
             "#fb9f3a"
            ],
            [
             0.8888888888888888,
             "#fdca26"
            ],
            [
             1,
             "#f0f921"
            ]
           ],
           "sequentialminus": [
            [
             0,
             "#0d0887"
            ],
            [
             0.1111111111111111,
             "#46039f"
            ],
            [
             0.2222222222222222,
             "#7201a8"
            ],
            [
             0.3333333333333333,
             "#9c179e"
            ],
            [
             0.4444444444444444,
             "#bd3786"
            ],
            [
             0.5555555555555556,
             "#d8576b"
            ],
            [
             0.6666666666666666,
             "#ed7953"
            ],
            [
             0.7777777777777778,
             "#fb9f3a"
            ],
            [
             0.8888888888888888,
             "#fdca26"
            ],
            [
             1,
             "#f0f921"
            ]
           ]
          },
          "colorway": [
           "#636efa",
           "#EF553B",
           "#00cc96",
           "#ab63fa",
           "#FFA15A",
           "#19d3f3",
           "#FF6692",
           "#B6E880",
           "#FF97FF",
           "#FECB52"
          ],
          "font": {
           "color": "#2a3f5f"
          },
          "geo": {
           "bgcolor": "white",
           "lakecolor": "white",
           "landcolor": "#E5ECF6",
           "showlakes": true,
           "showland": true,
           "subunitcolor": "white"
          },
          "hoverlabel": {
           "align": "left"
          },
          "hovermode": "closest",
          "mapbox": {
           "style": "light"
          },
          "paper_bgcolor": "white",
          "plot_bgcolor": "#E5ECF6",
          "polar": {
           "angularaxis": {
            "gridcolor": "white",
            "linecolor": "white",
            "ticks": ""
           },
           "bgcolor": "#E5ECF6",
           "radialaxis": {
            "gridcolor": "white",
            "linecolor": "white",
            "ticks": ""
           }
          },
          "scene": {
           "xaxis": {
            "backgroundcolor": "#E5ECF6",
            "gridcolor": "white",
            "gridwidth": 2,
            "linecolor": "white",
            "showbackground": true,
            "ticks": "",
            "zerolinecolor": "white"
           },
           "yaxis": {
            "backgroundcolor": "#E5ECF6",
            "gridcolor": "white",
            "gridwidth": 2,
            "linecolor": "white",
            "showbackground": true,
            "ticks": "",
            "zerolinecolor": "white"
           },
           "zaxis": {
            "backgroundcolor": "#E5ECF6",
            "gridcolor": "white",
            "gridwidth": 2,
            "linecolor": "white",
            "showbackground": true,
            "ticks": "",
            "zerolinecolor": "white"
           }
          },
          "shapedefaults": {
           "line": {
            "color": "#2a3f5f"
           }
          },
          "ternary": {
           "aaxis": {
            "gridcolor": "white",
            "linecolor": "white",
            "ticks": ""
           },
           "baxis": {
            "gridcolor": "white",
            "linecolor": "white",
            "ticks": ""
           },
           "bgcolor": "#E5ECF6",
           "caxis": {
            "gridcolor": "white",
            "linecolor": "white",
            "ticks": ""
           }
          },
          "title": {
           "x": 0.05
          },
          "xaxis": {
           "automargin": true,
           "gridcolor": "white",
           "linecolor": "white",
           "ticks": "",
           "title": {
            "standoff": 15
           },
           "zerolinecolor": "white",
           "zerolinewidth": 2
          },
          "yaxis": {
           "automargin": true,
           "gridcolor": "white",
           "linecolor": "white",
           "ticks": "",
           "title": {
            "standoff": 15
           },
           "zerolinecolor": "white",
           "zerolinewidth": 2
          }
         }
        },
        "xaxis": {
         "anchor": "y",
         "categoryorder": "total descending",
         "domain": [
          0,
          1
         ],
         "title": {
          "text": "Year"
         }
        },
        "yaxis": {
         "anchor": "x",
         "domain": [
          0,
          1
         ],
         "title": {
          "text": "count"
         }
        }
       }
      }
     },
     "metadata": {},
     "output_type": "display_data"
    }
   ],
   "source": [
    "fig = px.histogram(dataset, x=\"Year\", y=\"Records\", histfunc=\"count\", color=\"Method\", labels={'x':'Year', 'y':'Records'}).update_xaxes(categoryorder='total descending')\n",
    "fig.show()"
   ]
  },
  {
   "cell_type": "code",
   "execution_count": 13,
   "metadata": {},
   "outputs": [
    {
     "data": {
      "text/plain": [
       "Year\n",
       "2011             33\n",
       "2019             31\n",
       "2013             26\n",
       "2020             26\n",
       "2018             23\n",
       "2012             22\n",
       "2015             19\n",
       "2010             19\n",
       "2014             18\n",
       "2016             18\n",
       "2008             16\n",
       "2023             15\n",
       "2009             13\n",
       "2007             12\n",
       "2021             11\n",
       "2017              8\n",
       "2006              7\n",
       "2022              7\n",
       "2005              6\n",
       "2004              2\n",
       "2019-2020         1\n",
       "2018-2019         1\n",
       "2014 and 2015     1\n",
       "Name: count, dtype: int64"
      ]
     },
     "execution_count": 13,
     "metadata": {},
     "output_type": "execute_result"
    }
   ],
   "source": [
    "dataset['Year'].value_counts()"
   ]
  },
  {
   "cell_type": "code",
   "execution_count": 14,
   "metadata": {},
   "outputs": [
    {
     "data": {
      "application/vnd.plotly.v1+json": {
       "config": {
        "plotlyServerURL": "https://plot.ly"
       },
       "data": [
        {
         "alignmentgroup": "True",
         "bingroup": "x",
         "histfunc": "count",
         "hovertemplate": "Method=hacked<br>Organization type=%{x}<br>count=%{y}<extra></extra>",
         "legendgroup": "hacked",
         "marker": {
          "color": "#636efa",
          "pattern": {
           "shape": ""
          }
         },
         "name": "hacked",
         "offsetgroup": "hacked",
         "orientation": "v",
         "showlegend": true,
         "type": "histogram",
         "x": [
          "web",
          "hotel",
          "web",
          "web",
          "social network",
          "messaging app",
          "financial",
          "tech",
          "Consumer Goods",
          "web",
          "web",
          "financial",
          "retail",
          "Question & Answer",
          "web",
          "retail",
          "online shopping",
          "healthcare",
          "healthcare, retail",
          "gaming",
          "financial",
          "web",
          "web",
          "transport",
          "retail",
          "government",
          "web",
          "web",
          "gaming",
          "telecom",
          "web",
          "financial",
          "financial",
          "telecom",
          "educational services",
          "web",
          "web",
          "web, gaming",
          "retail",
          "web",
          "retail",
          "web",
          "ticket distribution",
          "gaming",
          "web",
          "tech, web",
          "government",
          "retail",
          "web",
          "healthcare",
          "telecoms",
          "social networking",
          "gaming",
          "web",
          "healthcare",
          "healthcare",
          "hotel/casino",
          "web",
          "healthcare",
          "telecommunications",
          "healthcare",
          "transport",
          "transport",
          "telecoms",
          "government",
          "telecoms",
          "government, healthcare",
          "financial",
          "web",
          "gaming",
          "financial",
          "retail",
          "financial",
          "web",
          "telecoms",
          "financial",
          "government",
          "retail",
          "web",
          "web",
          "web, tech",
          "financial",
          "healthcare",
          "healthcare",
          "retail",
          "telecoms",
          "healthcare",
          "retail",
          "financial",
          "educational services",
          "web",
          "government",
          "web",
          "web",
          "web",
          "healthcare",
          "tech",
          "restaurant",
          "healthcare",
          "web",
          "government, database",
          "web",
          "telecoms",
          "financial",
          "web",
          "gaming",
          "retail",
          "retail",
          "gaming",
          "media",
          "special public corporation",
          "academic",
          "hosting provider",
          "retail",
          "healthcare",
          "tech",
          "tech",
          "web",
          "web",
          "tech",
          "web",
          "web",
          "government, healthcare",
          "academic",
          "financial",
          "web",
          "tech",
          "healthcare",
          "healthcare",
          "transport",
          "web",
          "retail",
          "web",
          "media",
          "financial",
          "hotel",
          "financial",
          "game",
          "web",
          "academic",
          "healthcare",
          "tech",
          "financial",
          "web",
          "retail",
          "gaming",
          "healthcare",
          "academic",
          "gaming",
          "retail",
          "government",
          "government",
          "gaming",
          "academic",
          "healthcare",
          "healthcare",
          "academic",
          "fashion",
          "telecoms",
          "energy",
          "government",
          "telecoms",
          "financial",
          "academic",
          "healthcare",
          "advertising",
          "academic",
          "academic",
          "web",
          "financial",
          "telecoms",
          "healthcare",
          "transport",
          "political",
          "government",
          "web"
         ],
         "xaxis": "x",
         "y": [
          "web",
          "hotel",
          "web",
          "web",
          "social network",
          "messaging app",
          "financial",
          "tech",
          "Consumer Goods",
          "web",
          "web",
          "financial",
          "retail",
          "Question & Answer",
          "web",
          "retail",
          "online shopping",
          "healthcare",
          "healthcare, retail",
          "gaming",
          "financial",
          "web",
          "web",
          "transport",
          "retail",
          "government",
          "web",
          "web",
          "gaming",
          "telecom",
          "web",
          "financial",
          "financial",
          "telecom",
          "educational services",
          "web",
          "web",
          "web, gaming",
          "retail",
          "web",
          "retail",
          "web",
          "ticket distribution",
          "gaming",
          "web",
          "tech, web",
          "government",
          "retail",
          "web",
          "healthcare",
          "telecoms",
          "social networking",
          "gaming",
          "web",
          "healthcare",
          "healthcare",
          "hotel/casino",
          "web",
          "healthcare",
          "telecommunications",
          "healthcare",
          "transport",
          "transport",
          "telecoms",
          "government",
          "telecoms",
          "government, healthcare",
          "financial",
          "web",
          "gaming",
          "financial",
          "retail",
          "financial",
          "web",
          "telecoms",
          "financial",
          "government",
          "retail",
          "web",
          "web",
          "web, tech",
          "financial",
          "healthcare",
          "healthcare",
          "retail",
          "telecoms",
          "healthcare",
          "retail",
          "financial",
          "educational services",
          "web",
          "government",
          "web",
          "web",
          "web",
          "healthcare",
          "tech",
          "restaurant",
          "healthcare",
          "web",
          "government, database",
          "web",
          "telecoms",
          "financial",
          "web",
          "gaming",
          "retail",
          "retail",
          "gaming",
          "media",
          "special public corporation",
          "academic",
          "hosting provider",
          "retail",
          "healthcare",
          "tech",
          "tech",
          "web",
          "web",
          "tech",
          "web",
          "web",
          "government, healthcare",
          "academic",
          "financial",
          "web",
          "tech",
          "healthcare",
          "healthcare",
          "transport",
          "web",
          "retail",
          "web",
          "media",
          "financial",
          "hotel",
          "financial",
          "game",
          "web",
          "academic",
          "healthcare",
          "tech",
          "financial",
          "web",
          "retail",
          "gaming",
          "healthcare",
          "academic",
          "gaming",
          "retail",
          "government",
          "government",
          "gaming",
          "academic",
          "healthcare",
          "healthcare",
          "academic",
          "fashion",
          "telecoms",
          "energy",
          "government",
          "telecoms",
          "financial",
          "academic",
          "healthcare",
          "advertising",
          "academic",
          "academic",
          "web",
          "financial",
          "telecoms",
          "healthcare",
          "transport",
          "political",
          "government",
          "web"
         ],
         "yaxis": "y"
        },
        {
         "alignmentgroup": "True",
         "bingroup": "x",
         "histfunc": "count",
         "hovertemplate": "Method=poor security<br>Organization type=%{x}<br>count=%{y}<extra></extra>",
         "legendgroup": "poor security",
         "marker": {
          "color": "#EF553B",
          "pattern": {
           "shape": ""
          }
         },
         "name": "poor security",
         "offsetgroup": "poor security",
         "orientation": "v",
         "showlegend": true,
         "type": "histogram",
         "x": [
          "online marketing",
          "financial service company",
          "government",
          "online marketing",
          "social network",
          "data broker",
          "telecommunications",
          "tech",
          "social network",
          "tech",
          "personal and demographic data about residents and their properties of US",
          "social network",
          "financial, credit reporting",
          "market analysis",
          "tech",
          "government",
          "social network",
          "government",
          "government",
          "social media",
          "Clinical Laboratory",
          "tech",
          "various",
          "social media",
          "telecoms",
          "energy",
          "government",
          "healthcare",
          "health",
          "social network",
          "tech",
          "healthcare",
          "phone accessories",
          "healthcare",
          "web",
          "retail",
          "bureau",
          "government",
          "healthcare",
          "financial",
          "financial",
          "healthcare",
          "banking",
          "web",
          "transport",
          "tech",
          "government",
          "consulting, accounting"
         ],
         "xaxis": "x",
         "y": [
          "online marketing",
          "financial service company",
          "government",
          "online marketing",
          "social network",
          "data broker",
          "telecommunications",
          "tech",
          "social network",
          "tech",
          "personal and demographic data about residents and their properties of US",
          "social network",
          "financial, credit reporting",
          "market analysis",
          "tech",
          "government",
          "social network",
          "government",
          "government",
          "social media",
          "Clinical Laboratory",
          "tech",
          "various",
          "social media",
          "telecoms",
          "energy",
          "government",
          "healthcare",
          "health",
          "social network",
          "tech",
          "healthcare",
          "phone accessories",
          "healthcare",
          "web",
          "retail",
          "bureau",
          "government",
          "healthcare",
          "financial",
          "financial",
          "healthcare",
          "banking",
          "web",
          "transport",
          "tech",
          "government",
          "consulting, accounting"
         ],
         "yaxis": "y"
        },
        {
         "alignmentgroup": "True",
         "bingroup": "x",
         "histfunc": "count",
         "hovertemplate": "Method=compilation of multiple data breaches<br>Organization type=%{x}<br>count=%{y}<extra></extra>",
         "legendgroup": "compilation of multiple data breaches",
         "marker": {
          "color": "#00cc96",
          "pattern": {
           "shape": ""
          }
         },
         "name": "compilation of multiple data breaches",
         "offsetgroup": "compilation of multiple data breaches",
         "orientation": "v",
         "showlegend": true,
         "type": "histogram",
         "x": [
          "various"
         ],
         "xaxis": "x",
         "y": [
          "various"
         ],
         "yaxis": "y"
        },
        {
         "alignmentgroup": "True",
         "bingroup": "x",
         "histfunc": "count",
         "hovertemplate": "Method=poor security / hacked<br>Organization type=%{x}<br>count=%{y}<extra></extra>",
         "legendgroup": "poor security / hacked",
         "marker": {
          "color": "#ab63fa",
          "pattern": {
           "shape": ""
          }
         },
         "name": "poor security / hacked",
         "offsetgroup": "poor security / hacked",
         "orientation": "v",
         "showlegend": true,
         "type": "histogram",
         "x": [
          "web"
         ],
         "xaxis": "x",
         "y": [
          "web"
         ],
         "yaxis": "y"
        },
        {
         "alignmentgroup": "True",
         "bingroup": "x",
         "histfunc": "count",
         "hovertemplate": "Method=leaked and published<br>Organization type=%{x}<br>count=%{y}<extra></extra>",
         "legendgroup": "leaked and published",
         "marker": {
          "color": "#FFA15A",
          "pattern": {
           "shape": ""
          }
         },
         "name": "leaked and published",
         "offsetgroup": "leaked and published",
         "orientation": "v",
         "showlegend": true,
         "type": "histogram",
         "x": [
          "government"
         ],
         "xaxis": "x",
         "y": [
          "government"
         ],
         "yaxis": "y"
        },
        {
         "alignmentgroup": "True",
         "bingroup": "x",
         "histfunc": "count",
         "hovertemplate": "Method=unknown<br>Organization type=%{x}<br>count=%{y}<extra></extra>",
         "legendgroup": "unknown",
         "marker": {
          "color": "#19d3f3",
          "pattern": {
           "shape": ""
          }
         },
         "name": "unknown",
         "offsetgroup": "unknown",
         "orientation": "v",
         "showlegend": true,
         "type": "histogram",
         "x": [
          "Telephone directory",
          "genealogy",
          "background check",
          "humanitarian",
          "publisher (magazine)"
         ],
         "xaxis": "x",
         "y": [
          "Telephone directory",
          "genealogy",
          "background check",
          "humanitarian",
          "publisher (magazine)"
         ],
         "yaxis": "y"
        },
        {
         "alignmentgroup": "True",
         "bingroup": "x",
         "histfunc": "count",
         "hovertemplate": "Method=data exposed by misconfiguration<br>Organization type=%{x}<br>count=%{y}<extra></extra>",
         "legendgroup": "data exposed by misconfiguration",
         "marker": {
          "color": "#FF6692",
          "pattern": {
           "shape": ""
          }
         },
         "name": "data exposed by misconfiguration",
         "offsetgroup": "data exposed by misconfiguration",
         "orientation": "v",
         "showlegend": true,
         "type": "histogram",
         "x": [
          "tech"
         ],
         "xaxis": "x",
         "y": [
          "tech"
         ],
         "yaxis": "y"
        },
        {
         "alignmentgroup": "True",
         "bingroup": "x",
         "histfunc": "count",
         "hovertemplate": "Method=accidentally published<br>Organization type=%{x}<br>count=%{y}<extra></extra>",
         "legendgroup": "accidentally published",
         "marker": {
          "color": "#B6E880",
          "pattern": {
           "shape": ""
          }
         },
         "name": "accidentally published",
         "offsetgroup": "accidentally published",
         "orientation": "v",
         "showlegend": true,
         "type": "histogram",
         "x": [
          "financial",
          "web",
          "tech, retail",
          "web",
          "government",
          "social network",
          "government",
          "government",
          "government",
          "government",
          "military",
          "web",
          "telecoms",
          "web, military",
          "government",
          "retail",
          "military",
          "academic"
         ],
         "xaxis": "x",
         "y": [
          "financial",
          "web",
          "tech, retail",
          "web",
          "government",
          "social network",
          "government",
          "government",
          "government",
          "government",
          "military",
          "web",
          "telecoms",
          "web, military",
          "government",
          "retail",
          "military",
          "academic"
         ],
         "yaxis": "y"
        },
        {
         "alignmentgroup": "True",
         "bingroup": "x",
         "histfunc": "count",
         "hovertemplate": "Method=unsecured S3 bucket<br>Organization type=%{x}<br>count=%{y}<extra></extra>",
         "legendgroup": "unsecured S3 bucket",
         "marker": {
          "color": "#FF97FF",
          "pattern": {
           "shape": ""
          }
         },
         "name": "unsecured S3 bucket",
         "offsetgroup": "unsecured S3 bucket",
         "orientation": "v",
         "showlegend": true,
         "type": "histogram",
         "x": [
          "financial"
         ],
         "xaxis": "x",
         "y": [
          "financial"
         ],
         "yaxis": "y"
        },
        {
         "alignmentgroup": "True",
         "bingroup": "x",
         "histfunc": "count",
         "hovertemplate": "Method=unprotected api<br>Organization type=%{x}<br>count=%{y}<extra></extra>",
         "legendgroup": "unprotected api",
         "marker": {
          "color": "#FECB52",
          "pattern": {
           "shape": ""
          }
         },
         "name": "unprotected api",
         "offsetgroup": "unprotected api",
         "orientation": "v",
         "showlegend": true,
         "type": "histogram",
         "x": [
          "local search"
         ],
         "xaxis": "x",
         "y": [
          "local search"
         ],
         "yaxis": "y"
        },
        {
         "alignmentgroup": "True",
         "bingroup": "x",
         "histfunc": "count",
         "hovertemplate": "Method=misconfiguration/poor security<br>Organization type=%{x}<br>count=%{y}<extra></extra>",
         "legendgroup": "misconfiguration/poor security",
         "marker": {
          "color": "#636efa",
          "pattern": {
           "shape": ""
          }
         },
         "name": "misconfiguration/poor security",
         "offsetgroup": "misconfiguration/poor security",
         "orientation": "v",
         "showlegend": true,
         "type": "histogram",
         "x": [
          "telecommunications"
         ],
         "xaxis": "x",
         "y": [
          "telecommunications"
         ],
         "yaxis": "y"
        },
        {
         "alignmentgroup": "True",
         "bingroup": "x",
         "histfunc": "count",
         "hovertemplate": "Method=inside job, hacked<br>Organization type=%{x}<br>count=%{y}<extra></extra>",
         "legendgroup": "inside job, hacked",
         "marker": {
          "color": "#EF553B",
          "pattern": {
           "shape": ""
          }
         },
         "name": "inside job, hacked",
         "offsetgroup": "inside job, hacked",
         "orientation": "v",
         "showlegend": true,
         "type": "histogram",
         "x": [
          "web"
         ],
         "xaxis": "x",
         "y": [
          "web"
         ],
         "yaxis": "y"
        },
        {
         "alignmentgroup": "True",
         "bingroup": "x",
         "histfunc": "count",
         "hovertemplate": "Method=lost / stolen media<br>Organization type=%{x}<br>count=%{y}<extra></extra>",
         "legendgroup": "lost / stolen media",
         "marker": {
          "color": "#00cc96",
          "pattern": {
           "shape": ""
          }
         },
         "name": "lost / stolen media",
         "offsetgroup": "lost / stolen media",
         "orientation": "v",
         "showlegend": true,
         "type": "histogram",
         "x": [
          "military",
          "government",
          "telecoms",
          "financial",
          "healthcare",
          "healthcare",
          "financial",
          "financial",
          "government",
          "financial",
          "academic",
          "healthcare",
          "healthcare",
          "government",
          "financial",
          "healthcare",
          "healthcare",
          "healthcare",
          "government",
          "healthcare",
          "healthcare",
          "healthcare",
          "tech, retail",
          "financial",
          "healthcare",
          "healthcare",
          "healthcare",
          "healthcare",
          "government",
          "military",
          "government",
          "financial"
         ],
         "xaxis": "x",
         "y": [
          "military",
          "government",
          "telecoms",
          "financial",
          "healthcare",
          "healthcare",
          "financial",
          "financial",
          "government",
          "financial",
          "academic",
          "healthcare",
          "healthcare",
          "government",
          "financial",
          "healthcare",
          "healthcare",
          "healthcare",
          "government",
          "healthcare",
          "healthcare",
          "healthcare",
          "tech, retail",
          "financial",
          "healthcare",
          "healthcare",
          "healthcare",
          "healthcare",
          "government",
          "military",
          "government",
          "financial"
         ],
         "yaxis": "y"
        },
        {
         "alignmentgroup": "True",
         "bingroup": "x",
         "histfunc": "count",
         "hovertemplate": "Method=publicly accessible Amazon Web Services (AWS) server<br>Organization type=%{x}<br>count=%{y}<extra></extra>",
         "legendgroup": "publicly accessible Amazon Web Services (AWS) server",
         "marker": {
          "color": "#ab63fa",
          "pattern": {
           "shape": ""
          }
         },
         "name": "publicly accessible Amazon Web Services (AWS) server",
         "offsetgroup": "publicly accessible Amazon Web Services (AWS) server",
         "orientation": "v",
         "showlegend": true,
         "type": "histogram",
         "x": [
          "online marketing"
         ],
         "xaxis": "x",
         "y": [
          "online marketing"
         ],
         "yaxis": "y"
        },
        {
         "alignmentgroup": "True",
         "bingroup": "x",
         "histfunc": "count",
         "hovertemplate": "Method=hacked and published<br>Organization type=%{x}<br>count=%{y}<extra></extra>",
         "legendgroup": "hacked and published",
         "marker": {
          "color": "#FFA15A",
          "pattern": {
           "shape": ""
          }
         },
         "name": "hacked and published",
         "offsetgroup": "hacked and published",
         "orientation": "v",
         "showlegend": true,
         "type": "histogram",
         "x": [
          "government"
         ],
         "xaxis": "x",
         "y": [
          "government"
         ],
         "yaxis": "y"
        },
        {
         "alignmentgroup": "True",
         "bingroup": "x",
         "histfunc": "count",
         "hovertemplate": "Method=lost / stolen computer<br>Organization type=%{x}<br>count=%{y}<extra></extra>",
         "legendgroup": "lost / stolen computer",
         "marker": {
          "color": "#19d3f3",
          "pattern": {
           "shape": ""
          }
         },
         "name": "lost / stolen computer",
         "offsetgroup": "lost / stolen computer",
         "orientation": "v",
         "showlegend": true,
         "type": "histogram",
         "x": [
          "government, military",
          "military, healthcare",
          "healthcare",
          "academic",
          "healthcare",
          "retail",
          "healthcare",
          "healthcare",
          "military",
          "telecoms",
          "healthcare",
          "government",
          "healthcare",
          "retail",
          "academic"
         ],
         "xaxis": "x",
         "y": [
          "government, military",
          "military, healthcare",
          "healthcare",
          "academic",
          "healthcare",
          "retail",
          "healthcare",
          "healthcare",
          "military",
          "telecoms",
          "healthcare",
          "government",
          "healthcare",
          "retail",
          "academic"
         ],
         "yaxis": "y"
        },
        {
         "alignmentgroup": "True",
         "bingroup": "x",
         "histfunc": "count",
         "hovertemplate": "Method=improper setting, hacked<br>Organization type=%{x}<br>count=%{y}<extra></extra>",
         "legendgroup": "improper setting, hacked",
         "marker": {
          "color": "#FF6692",
          "pattern": {
           "shape": ""
          }
         },
         "name": "improper setting, hacked",
         "offsetgroup": "improper setting, hacked",
         "orientation": "v",
         "showlegend": true,
         "type": "histogram",
         "x": [
          "QR code payment",
          "web"
         ],
         "xaxis": "x",
         "y": [
          "QR code payment",
          "web"
         ],
         "yaxis": "y"
        },
        {
         "alignmentgroup": "True",
         "bingroup": "x",
         "histfunc": "count",
         "hovertemplate": "Method=inside job<br>Organization type=%{x}<br>count=%{y}<extra></extra>",
         "legendgroup": "inside job",
         "marker": {
          "color": "#B6E880",
          "pattern": {
           "shape": ""
          }
         },
         "name": "inside job",
         "offsetgroup": "inside job",
         "orientation": "v",
         "showlegend": true,
         "type": "histogram",
         "x": [
          "financial",
          "energy",
          "financial",
          "retail",
          "financial",
          "healthcare",
          "financial",
          "financial",
          "telecoms",
          "energy",
          "financial",
          "government",
          "shopping",
          "government",
          "military",
          "government",
          "government",
          "transport",
          "healthcare",
          "malware tools"
         ],
         "xaxis": "x",
         "y": [
          "financial",
          "energy",
          "financial",
          "retail",
          "financial",
          "healthcare",
          "financial",
          "financial",
          "telecoms",
          "energy",
          "financial",
          "government",
          "shopping",
          "government",
          "military",
          "government",
          "government",
          "transport",
          "healthcare",
          "malware tools"
         ],
         "yaxis": "y"
        },
        {
         "alignmentgroup": "True",
         "bingroup": "x",
         "histfunc": "count",
         "hovertemplate": "Method=social engineering<br>Organization type=%{x}<br>count=%{y}<extra></extra>",
         "legendgroup": "social engineering",
         "marker": {
          "color": "#FF97FF",
          "pattern": {
           "shape": ""
          }
         },
         "name": "social engineering",
         "offsetgroup": "social engineering",
         "orientation": "v",
         "showlegend": true,
         "type": "histogram",
         "x": [
          "web"
         ],
         "xaxis": "x",
         "y": [
          "web"
         ],
         "yaxis": "y"
        },
        {
         "alignmentgroup": "True",
         "bingroup": "x",
         "histfunc": "count",
         "hovertemplate": "Method=poor security/inside job<br>Organization type=%{x}<br>count=%{y}<extra></extra>",
         "legendgroup": "poor security/inside job",
         "marker": {
          "color": "#FECB52",
          "pattern": {
           "shape": ""
          }
         },
         "name": "poor security/inside job",
         "offsetgroup": "poor security/inside job",
         "orientation": "v",
         "showlegend": true,
         "type": "histogram",
         "x": [
          "hotel",
          "healthcare"
         ],
         "xaxis": "x",
         "y": [
          "hotel",
          "healthcare"
         ],
         "yaxis": "y"
        },
        {
         "alignmentgroup": "True",
         "bingroup": "x",
         "histfunc": "count",
         "hovertemplate": "Method=ransomware hacked<br>Organization type=%{x}<br>count=%{y}<extra></extra>",
         "legendgroup": "ransomware hacked",
         "marker": {
          "color": "#636efa",
          "pattern": {
           "shape": ""
          }
         },
         "name": "ransomware hacked",
         "offsetgroup": "ransomware hacked",
         "orientation": "v",
         "showlegend": true,
         "type": "histogram",
         "x": [
          "online shopping",
          "computer services for charities"
         ],
         "xaxis": "x",
         "y": [
          "online shopping",
          "computer services for charities"
         ],
         "yaxis": "y"
        },
        {
         "alignmentgroup": "True",
         "bingroup": "x",
         "histfunc": "count",
         "hovertemplate": "Method=accidentally uploaded<br>Organization type=%{x}<br>count=%{y}<extra></extra>",
         "legendgroup": "accidentally uploaded",
         "marker": {
          "color": "#EF553B",
          "pattern": {
           "shape": ""
          }
         },
         "name": "accidentally uploaded",
         "offsetgroup": "accidentally uploaded",
         "orientation": "v",
         "showlegend": true,
         "type": "histogram",
         "x": [
          "social network"
         ],
         "xaxis": "x",
         "y": [
          "social network"
         ],
         "yaxis": "y"
        },
        {
         "alignmentgroup": "True",
         "bingroup": "x",
         "histfunc": "count",
         "hovertemplate": "Method=intentionally lost<br>Organization type=%{x}<br>count=%{y}<extra></extra>",
         "legendgroup": "intentionally lost",
         "marker": {
          "color": "#00cc96",
          "pattern": {
           "shape": ""
          }
         },
         "name": "intentionally lost",
         "offsetgroup": "intentionally lost",
         "orientation": "v",
         "showlegend": true,
         "type": "histogram",
         "x": [
          "financial"
         ],
         "xaxis": "x",
         "y": [
          "financial"
         ],
         "yaxis": "y"
        },
        {
         "alignmentgroup": "True",
         "bingroup": "x",
         "histfunc": "count",
         "hovertemplate": "Method=accidentally exposed<br>Organization type=%{x}<br>count=%{y}<extra></extra>",
         "legendgroup": "accidentally exposed",
         "marker": {
          "color": "#ab63fa",
          "pattern": {
           "shape": ""
          }
         },
         "name": "accidentally exposed",
         "offsetgroup": "accidentally exposed",
         "orientation": "v",
         "showlegend": true,
         "type": "histogram",
         "x": [
          "mobile carrier"
         ],
         "xaxis": "x",
         "y": [
          "mobile carrier"
         ],
         "yaxis": "y"
        },
        {
         "alignmentgroup": "True",
         "bingroup": "x",
         "histfunc": "count",
         "hovertemplate": "Method=rogue contractor<br>Organization type=%{x}<br>count=%{y}<extra></extra>",
         "legendgroup": "rogue contractor",
         "marker": {
          "color": "#FFA15A",
          "pattern": {
           "shape": ""
          }
         },
         "name": "rogue contractor",
         "offsetgroup": "rogue contractor",
         "orientation": "v",
         "showlegend": true,
         "type": "histogram",
         "x": [
          "financial"
         ],
         "xaxis": "x",
         "y": [
          "financial"
         ],
         "yaxis": "y"
        }
       ],
       "layout": {
        "barmode": "relative",
        "legend": {
         "title": {
          "text": "Method"
         },
         "tracegroupgap": 0
        },
        "template": {
         "data": {
          "bar": [
           {
            "error_x": {
             "color": "#2a3f5f"
            },
            "error_y": {
             "color": "#2a3f5f"
            },
            "marker": {
             "line": {
              "color": "#E5ECF6",
              "width": 0.5
             },
             "pattern": {
              "fillmode": "overlay",
              "size": 10,
              "solidity": 0.2
             }
            },
            "type": "bar"
           }
          ],
          "barpolar": [
           {
            "marker": {
             "line": {
              "color": "#E5ECF6",
              "width": 0.5
             },
             "pattern": {
              "fillmode": "overlay",
              "size": 10,
              "solidity": 0.2
             }
            },
            "type": "barpolar"
           }
          ],
          "carpet": [
           {
            "aaxis": {
             "endlinecolor": "#2a3f5f",
             "gridcolor": "white",
             "linecolor": "white",
             "minorgridcolor": "white",
             "startlinecolor": "#2a3f5f"
            },
            "baxis": {
             "endlinecolor": "#2a3f5f",
             "gridcolor": "white",
             "linecolor": "white",
             "minorgridcolor": "white",
             "startlinecolor": "#2a3f5f"
            },
            "type": "carpet"
           }
          ],
          "choropleth": [
           {
            "colorbar": {
             "outlinewidth": 0,
             "ticks": ""
            },
            "type": "choropleth"
           }
          ],
          "contour": [
           {
            "colorbar": {
             "outlinewidth": 0,
             "ticks": ""
            },
            "colorscale": [
             [
              0,
              "#0d0887"
             ],
             [
              0.1111111111111111,
              "#46039f"
             ],
             [
              0.2222222222222222,
              "#7201a8"
             ],
             [
              0.3333333333333333,
              "#9c179e"
             ],
             [
              0.4444444444444444,
              "#bd3786"
             ],
             [
              0.5555555555555556,
              "#d8576b"
             ],
             [
              0.6666666666666666,
              "#ed7953"
             ],
             [
              0.7777777777777778,
              "#fb9f3a"
             ],
             [
              0.8888888888888888,
              "#fdca26"
             ],
             [
              1,
              "#f0f921"
             ]
            ],
            "type": "contour"
           }
          ],
          "contourcarpet": [
           {
            "colorbar": {
             "outlinewidth": 0,
             "ticks": ""
            },
            "type": "contourcarpet"
           }
          ],
          "heatmap": [
           {
            "colorbar": {
             "outlinewidth": 0,
             "ticks": ""
            },
            "colorscale": [
             [
              0,
              "#0d0887"
             ],
             [
              0.1111111111111111,
              "#46039f"
             ],
             [
              0.2222222222222222,
              "#7201a8"
             ],
             [
              0.3333333333333333,
              "#9c179e"
             ],
             [
              0.4444444444444444,
              "#bd3786"
             ],
             [
              0.5555555555555556,
              "#d8576b"
             ],
             [
              0.6666666666666666,
              "#ed7953"
             ],
             [
              0.7777777777777778,
              "#fb9f3a"
             ],
             [
              0.8888888888888888,
              "#fdca26"
             ],
             [
              1,
              "#f0f921"
             ]
            ],
            "type": "heatmap"
           }
          ],
          "heatmapgl": [
           {
            "colorbar": {
             "outlinewidth": 0,
             "ticks": ""
            },
            "colorscale": [
             [
              0,
              "#0d0887"
             ],
             [
              0.1111111111111111,
              "#46039f"
             ],
             [
              0.2222222222222222,
              "#7201a8"
             ],
             [
              0.3333333333333333,
              "#9c179e"
             ],
             [
              0.4444444444444444,
              "#bd3786"
             ],
             [
              0.5555555555555556,
              "#d8576b"
             ],
             [
              0.6666666666666666,
              "#ed7953"
             ],
             [
              0.7777777777777778,
              "#fb9f3a"
             ],
             [
              0.8888888888888888,
              "#fdca26"
             ],
             [
              1,
              "#f0f921"
             ]
            ],
            "type": "heatmapgl"
           }
          ],
          "histogram": [
           {
            "marker": {
             "pattern": {
              "fillmode": "overlay",
              "size": 10,
              "solidity": 0.2
             }
            },
            "type": "histogram"
           }
          ],
          "histogram2d": [
           {
            "colorbar": {
             "outlinewidth": 0,
             "ticks": ""
            },
            "colorscale": [
             [
              0,
              "#0d0887"
             ],
             [
              0.1111111111111111,
              "#46039f"
             ],
             [
              0.2222222222222222,
              "#7201a8"
             ],
             [
              0.3333333333333333,
              "#9c179e"
             ],
             [
              0.4444444444444444,
              "#bd3786"
             ],
             [
              0.5555555555555556,
              "#d8576b"
             ],
             [
              0.6666666666666666,
              "#ed7953"
             ],
             [
              0.7777777777777778,
              "#fb9f3a"
             ],
             [
              0.8888888888888888,
              "#fdca26"
             ],
             [
              1,
              "#f0f921"
             ]
            ],
            "type": "histogram2d"
           }
          ],
          "histogram2dcontour": [
           {
            "colorbar": {
             "outlinewidth": 0,
             "ticks": ""
            },
            "colorscale": [
             [
              0,
              "#0d0887"
             ],
             [
              0.1111111111111111,
              "#46039f"
             ],
             [
              0.2222222222222222,
              "#7201a8"
             ],
             [
              0.3333333333333333,
              "#9c179e"
             ],
             [
              0.4444444444444444,
              "#bd3786"
             ],
             [
              0.5555555555555556,
              "#d8576b"
             ],
             [
              0.6666666666666666,
              "#ed7953"
             ],
             [
              0.7777777777777778,
              "#fb9f3a"
             ],
             [
              0.8888888888888888,
              "#fdca26"
             ],
             [
              1,
              "#f0f921"
             ]
            ],
            "type": "histogram2dcontour"
           }
          ],
          "mesh3d": [
           {
            "colorbar": {
             "outlinewidth": 0,
             "ticks": ""
            },
            "type": "mesh3d"
           }
          ],
          "parcoords": [
           {
            "line": {
             "colorbar": {
              "outlinewidth": 0,
              "ticks": ""
             }
            },
            "type": "parcoords"
           }
          ],
          "pie": [
           {
            "automargin": true,
            "type": "pie"
           }
          ],
          "scatter": [
           {
            "fillpattern": {
             "fillmode": "overlay",
             "size": 10,
             "solidity": 0.2
            },
            "type": "scatter"
           }
          ],
          "scatter3d": [
           {
            "line": {
             "colorbar": {
              "outlinewidth": 0,
              "ticks": ""
             }
            },
            "marker": {
             "colorbar": {
              "outlinewidth": 0,
              "ticks": ""
             }
            },
            "type": "scatter3d"
           }
          ],
          "scattercarpet": [
           {
            "marker": {
             "colorbar": {
              "outlinewidth": 0,
              "ticks": ""
             }
            },
            "type": "scattercarpet"
           }
          ],
          "scattergeo": [
           {
            "marker": {
             "colorbar": {
              "outlinewidth": 0,
              "ticks": ""
             }
            },
            "type": "scattergeo"
           }
          ],
          "scattergl": [
           {
            "marker": {
             "colorbar": {
              "outlinewidth": 0,
              "ticks": ""
             }
            },
            "type": "scattergl"
           }
          ],
          "scattermapbox": [
           {
            "marker": {
             "colorbar": {
              "outlinewidth": 0,
              "ticks": ""
             }
            },
            "type": "scattermapbox"
           }
          ],
          "scatterpolar": [
           {
            "marker": {
             "colorbar": {
              "outlinewidth": 0,
              "ticks": ""
             }
            },
            "type": "scatterpolar"
           }
          ],
          "scatterpolargl": [
           {
            "marker": {
             "colorbar": {
              "outlinewidth": 0,
              "ticks": ""
             }
            },
            "type": "scatterpolargl"
           }
          ],
          "scatterternary": [
           {
            "marker": {
             "colorbar": {
              "outlinewidth": 0,
              "ticks": ""
             }
            },
            "type": "scatterternary"
           }
          ],
          "surface": [
           {
            "colorbar": {
             "outlinewidth": 0,
             "ticks": ""
            },
            "colorscale": [
             [
              0,
              "#0d0887"
             ],
             [
              0.1111111111111111,
              "#46039f"
             ],
             [
              0.2222222222222222,
              "#7201a8"
             ],
             [
              0.3333333333333333,
              "#9c179e"
             ],
             [
              0.4444444444444444,
              "#bd3786"
             ],
             [
              0.5555555555555556,
              "#d8576b"
             ],
             [
              0.6666666666666666,
              "#ed7953"
             ],
             [
              0.7777777777777778,
              "#fb9f3a"
             ],
             [
              0.8888888888888888,
              "#fdca26"
             ],
             [
              1,
              "#f0f921"
             ]
            ],
            "type": "surface"
           }
          ],
          "table": [
           {
            "cells": {
             "fill": {
              "color": "#EBF0F8"
             },
             "line": {
              "color": "white"
             }
            },
            "header": {
             "fill": {
              "color": "#C8D4E3"
             },
             "line": {
              "color": "white"
             }
            },
            "type": "table"
           }
          ]
         },
         "layout": {
          "annotationdefaults": {
           "arrowcolor": "#2a3f5f",
           "arrowhead": 0,
           "arrowwidth": 1
          },
          "autotypenumbers": "strict",
          "coloraxis": {
           "colorbar": {
            "outlinewidth": 0,
            "ticks": ""
           }
          },
          "colorscale": {
           "diverging": [
            [
             0,
             "#8e0152"
            ],
            [
             0.1,
             "#c51b7d"
            ],
            [
             0.2,
             "#de77ae"
            ],
            [
             0.3,
             "#f1b6da"
            ],
            [
             0.4,
             "#fde0ef"
            ],
            [
             0.5,
             "#f7f7f7"
            ],
            [
             0.6,
             "#e6f5d0"
            ],
            [
             0.7,
             "#b8e186"
            ],
            [
             0.8,
             "#7fbc41"
            ],
            [
             0.9,
             "#4d9221"
            ],
            [
             1,
             "#276419"
            ]
           ],
           "sequential": [
            [
             0,
             "#0d0887"
            ],
            [
             0.1111111111111111,
             "#46039f"
            ],
            [
             0.2222222222222222,
             "#7201a8"
            ],
            [
             0.3333333333333333,
             "#9c179e"
            ],
            [
             0.4444444444444444,
             "#bd3786"
            ],
            [
             0.5555555555555556,
             "#d8576b"
            ],
            [
             0.6666666666666666,
             "#ed7953"
            ],
            [
             0.7777777777777778,
             "#fb9f3a"
            ],
            [
             0.8888888888888888,
             "#fdca26"
            ],
            [
             1,
             "#f0f921"
            ]
           ],
           "sequentialminus": [
            [
             0,
             "#0d0887"
            ],
            [
             0.1111111111111111,
             "#46039f"
            ],
            [
             0.2222222222222222,
             "#7201a8"
            ],
            [
             0.3333333333333333,
             "#9c179e"
            ],
            [
             0.4444444444444444,
             "#bd3786"
            ],
            [
             0.5555555555555556,
             "#d8576b"
            ],
            [
             0.6666666666666666,
             "#ed7953"
            ],
            [
             0.7777777777777778,
             "#fb9f3a"
            ],
            [
             0.8888888888888888,
             "#fdca26"
            ],
            [
             1,
             "#f0f921"
            ]
           ]
          },
          "colorway": [
           "#636efa",
           "#EF553B",
           "#00cc96",
           "#ab63fa",
           "#FFA15A",
           "#19d3f3",
           "#FF6692",
           "#B6E880",
           "#FF97FF",
           "#FECB52"
          ],
          "font": {
           "color": "#2a3f5f"
          },
          "geo": {
           "bgcolor": "white",
           "lakecolor": "white",
           "landcolor": "#E5ECF6",
           "showlakes": true,
           "showland": true,
           "subunitcolor": "white"
          },
          "hoverlabel": {
           "align": "left"
          },
          "hovermode": "closest",
          "mapbox": {
           "style": "light"
          },
          "paper_bgcolor": "white",
          "plot_bgcolor": "#E5ECF6",
          "polar": {
           "angularaxis": {
            "gridcolor": "white",
            "linecolor": "white",
            "ticks": ""
           },
           "bgcolor": "#E5ECF6",
           "radialaxis": {
            "gridcolor": "white",
            "linecolor": "white",
            "ticks": ""
           }
          },
          "scene": {
           "xaxis": {
            "backgroundcolor": "#E5ECF6",
            "gridcolor": "white",
            "gridwidth": 2,
            "linecolor": "white",
            "showbackground": true,
            "ticks": "",
            "zerolinecolor": "white"
           },
           "yaxis": {
            "backgroundcolor": "#E5ECF6",
            "gridcolor": "white",
            "gridwidth": 2,
            "linecolor": "white",
            "showbackground": true,
            "ticks": "",
            "zerolinecolor": "white"
           },
           "zaxis": {
            "backgroundcolor": "#E5ECF6",
            "gridcolor": "white",
            "gridwidth": 2,
            "linecolor": "white",
            "showbackground": true,
            "ticks": "",
            "zerolinecolor": "white"
           }
          },
          "shapedefaults": {
           "line": {
            "color": "#2a3f5f"
           }
          },
          "ternary": {
           "aaxis": {
            "gridcolor": "white",
            "linecolor": "white",
            "ticks": ""
           },
           "baxis": {
            "gridcolor": "white",
            "linecolor": "white",
            "ticks": ""
           },
           "bgcolor": "#E5ECF6",
           "caxis": {
            "gridcolor": "white",
            "linecolor": "white",
            "ticks": ""
           }
          },
          "title": {
           "x": 0.05
          },
          "xaxis": {
           "automargin": true,
           "gridcolor": "white",
           "linecolor": "white",
           "ticks": "",
           "title": {
            "standoff": 15
           },
           "zerolinecolor": "white",
           "zerolinewidth": 2
          },
          "yaxis": {
           "automargin": true,
           "gridcolor": "white",
           "linecolor": "white",
           "ticks": "",
           "title": {
            "standoff": 15
           },
           "zerolinecolor": "white",
           "zerolinewidth": 2
          }
         }
        },
        "title": {
         "text": "Type of organisations that suffered the most number of data breaches?"
        },
        "xaxis": {
         "anchor": "y",
         "categoryorder": "total descending",
         "domain": [
          0,
          1
         ],
         "title": {
          "text": "Organization type"
         }
        },
        "yaxis": {
         "anchor": "x",
         "domain": [
          0,
          1
         ],
         "title": {
          "text": "count"
         }
        }
       }
      }
     },
     "metadata": {},
     "output_type": "display_data"
    }
   ],
   "source": [
    "fig = px.histogram(dataset, x=\"Organization type\", y=\"Organization type\", histfunc=\"count\", color=\"Method\", labels={'x':'Year', 'y':'Records'}, title='Type of organisations that suffered the most number of data breaches?').update_xaxes(categoryorder='total descending')\n",
    "fig.show()"
   ]
  },
  {
   "cell_type": "code",
   "execution_count": 15,
   "metadata": {},
   "outputs": [
    {
     "data": {
      "text/plain": [
       "Organization type\n",
       "web                    50\n",
       "healthcare             48\n",
       "financial              37\n",
       "government             35\n",
       "retail                 21\n",
       "                       ..\n",
       "tech, web               1\n",
       "QR code payment         1\n",
       "social networking       1\n",
       "Clinical Laboratory     1\n",
       "malware tools           1\n",
       "Name: count, Length: 67, dtype: int64"
      ]
     },
     "execution_count": 15,
     "metadata": {},
     "output_type": "execute_result"
    }
   ],
   "source": [
    "dataset['Organization type'].value_counts()"
   ]
  },
  {
   "cell_type": "code",
   "execution_count": 16,
   "metadata": {},
   "outputs": [
    {
     "data": {
      "application/vnd.plotly.v1+json": {
       "config": {
        "plotlyServerURL": "https://plot.ly"
       },
       "data": [
        {
         "alignmentgroup": "True",
         "bingroup": "x",
         "histfunc": "sum",
         "hovertemplate": "Method=hacked<br>Organization type=%{x}<br>sum of Records=%{y}<extra></extra>",
         "legendgroup": "hacked",
         "marker": {
          "color": "#636efa",
          "pattern": {
           "shape": ""
          }
         },
         "name": "hacked",
         "offsetgroup": "hacked",
         "orientation": "v",
         "showlegend": true,
         "type": "histogram",
         "x": [
          "web",
          "hotel",
          "web",
          "web",
          "social network",
          "messaging app",
          "financial",
          "tech",
          "Consumer Goods",
          "web",
          "web",
          "financial",
          "retail",
          "Question & Answer",
          "web",
          "retail",
          "online shopping",
          "healthcare",
          "healthcare, retail",
          "gaming",
          "financial",
          "web",
          "web",
          "transport",
          "retail",
          "government",
          "web",
          "web",
          "gaming",
          "telecom",
          "web",
          "financial",
          "financial",
          "telecom",
          "educational services",
          "web",
          "web",
          "web, gaming",
          "retail",
          "web",
          "retail",
          "web",
          "ticket distribution",
          "gaming",
          "web",
          "tech, web",
          "government",
          "retail",
          "web",
          "healthcare",
          "telecoms",
          "social networking",
          "gaming",
          "web",
          "healthcare",
          "healthcare",
          "hotel/casino",
          "web",
          "healthcare",
          "telecommunications",
          "healthcare",
          "transport",
          "transport",
          "telecoms",
          "government",
          "telecoms",
          "government, healthcare",
          "financial",
          "web",
          "gaming",
          "financial",
          "retail",
          "financial",
          "web",
          "telecoms",
          "financial",
          "government",
          "retail",
          "web",
          "web",
          "web, tech",
          "financial",
          "healthcare",
          "healthcare",
          "retail",
          "telecoms",
          "healthcare",
          "retail",
          "financial",
          "educational services",
          "web",
          "government",
          "web",
          "web",
          "web",
          "healthcare",
          "tech",
          "restaurant",
          "healthcare",
          "web",
          "government, database",
          "web",
          "telecoms",
          "financial",
          "web",
          "gaming",
          "retail",
          "retail",
          "gaming",
          "media",
          "special public corporation",
          "academic",
          "hosting provider",
          "retail",
          "healthcare",
          "tech",
          "tech",
          "web",
          "web",
          "tech",
          "web",
          "web",
          "government, healthcare",
          "academic",
          "financial",
          "web",
          "tech",
          "healthcare",
          "healthcare",
          "transport",
          "web",
          "retail",
          "web",
          "media",
          "financial",
          "hotel",
          "financial",
          "game",
          "web",
          "academic",
          "healthcare",
          "tech",
          "financial",
          "web",
          "retail",
          "gaming",
          "healthcare",
          "academic",
          "gaming",
          "retail",
          "government",
          "government",
          "gaming",
          "academic",
          "healthcare",
          "healthcare",
          "academic",
          "fashion",
          "telecoms",
          "energy",
          "government",
          "telecoms",
          "financial",
          "academic",
          "healthcare",
          "advertising",
          "academic",
          "academic",
          "web",
          "financial",
          "telecoms",
          "healthcare",
          "transport",
          "political",
          "government",
          "web"
         ],
         "xaxis": "x",
         "y": [
          3000000000,
          500000000,
          500000000,
          270000000,
          173000000,
          162000000,
          160000000,
          152000000,
          150000000,
          145000000,
          140000000,
          130000000,
          110000000,
          100000000,
          98167935,
          94000000,
          91000000,
          80000000,
          77093812,
          77000000,
          76000000,
          68648009,
          65469298,
          57000000,
          56000000,
          55000000,
          50000000,
          50000000,
          46000000,
          45000000,
          43430316,
          40000000,
          40000000,
          37000000,
          35040000,
          35000000,
          32000000,
          32000000,
          30000000,
          28722877,
          28517244,
          28000000,
          26151608,
          24600000,
          24000000,
          22000000,
          21500000,
          20000000,
          18000000,
          15000000,
          15000000,
          14870304,
          14000000,
          13200000,
          11270000,
          11000000,
          10600000,
          10000000,
          10000000,
          9800000,
          9700000,
          9400000,
          9002208,
          9000000,
          9000000,
          8700000,
          8257378,
          8000000,
          8000000,
          7633234,
          7000000,
          6800000,
          6300000,
          6000000,
          5960000,
          5000000,
          5000000,
          5000000,
          5000000,
          4900000,
          4700000,
          4600000,
          4500000,
          4500000,
          4200000,
          4000000,
          3900000,
          3000000,
          3000000,
          2676696,
          2500000,
          2434899,
          2400000,
          2300000,
          2300000,
          2200000,
          2000000,
          2000000,
          1600000,
          1600000,
          1500000,
          1500000,
          1500000,
          1500000,
          1500000,
          1500000,
          1400000,
          1300000,
          1290755,
          1270000,
          1250000,
          1164540,
          1107034,
          1100000,
          1100000,
          1000000,
          1000000,
          1000000,
          1000000,
          1000000,
          880000,
          860000,
          780000,
          760000,
          720000,
          600000,
          573000,
          531400,
          515000,
          500000,
          500000,
          461091,
          450000,
          430000,
          400000,
          363000,
          360083,
          350000,
          300000,
          300000,
          300000,
          275000,
          260000,
          250000,
          250000,
          240000,
          231400,
          200000,
          200000,
          200000,
          180000,
          160000,
          160000,
          160000,
          156000,
          130000,
          125000,
          123857,
          114000,
          110000,
          104000,
          100000,
          98000,
          80000,
          75000,
          75000,
          73000,
          63000,
          62000,
          60000,
          40000,
          25000,
          20000,
          19252,
          16000,
          8800
         ],
         "yaxis": "y"
        },
        {
         "alignmentgroup": "True",
         "bingroup": "x",
         "histfunc": "sum",
         "hovertemplate": "Method=poor security<br>Organization type=%{x}<br>sum of Records=%{y}<extra></extra>",
         "legendgroup": "poor security",
         "marker": {
          "color": "#EF553B",
          "pattern": {
           "shape": ""
          }
         },
         "name": "poor security",
         "offsetgroup": "poor security",
         "orientation": "v",
         "showlegend": true,
         "type": "histogram",
         "x": [
          "online marketing",
          "financial service company",
          "government",
          "online marketing",
          "social network",
          "data broker",
          "telecommunications",
          "tech",
          "social network",
          "tech",
          "personal and demographic data about residents and their properties of US",
          "social network",
          "financial, credit reporting",
          "market analysis",
          "tech",
          "government",
          "social network",
          "government",
          "government",
          "social media",
          "Clinical Laboratory",
          "tech",
          "various",
          "social media",
          "telecoms",
          "energy",
          "government",
          "healthcare",
          "health",
          "social network",
          "tech",
          "healthcare",
          "phone accessories",
          "healthcare",
          "web",
          "retail",
          "bureau",
          "government",
          "healthcare",
          "financial",
          "financial",
          "healthcare",
          "banking",
          "web",
          "transport",
          "tech",
          "government",
          "consulting, accounting"
         ],
         "xaxis": "x",
         "y": [
          2000000000,
          885000000,
          810000000,
          809000000,
          540000000,
          340000000,
          320000000,
          275000000,
          267000000,
          202000000,
          201000000,
          200000000,
          163119000,
          120000000,
          108000000,
          60000000,
          50000000,
          50000000,
          45000000,
          42000000,
          11900000,
          7500000,
          6400000,
          4000000,
          1900000,
          1300000,
          1279437,
          808000,
          500000,
          500000,
          500000,
          391250,
          377428,
          315000,
          300000,
          283000,
          256000,
          210000,
          175350,
          150000,
          125000,
          91000,
          90000,
          76000,
          52000,
          50000,
          30000,
          350
         ],
         "yaxis": "y"
        },
        {
         "alignmentgroup": "True",
         "bingroup": "x",
         "histfunc": "sum",
         "hovertemplate": "Method=compilation of multiple data breaches<br>Organization type=%{x}<br>sum of Records=%{y}<extra></extra>",
         "legendgroup": "compilation of multiple data breaches",
         "marker": {
          "color": "#00cc96",
          "pattern": {
           "shape": ""
          }
         },
         "name": "compilation of multiple data breaches",
         "offsetgroup": "compilation of multiple data breaches",
         "orientation": "v",
         "showlegend": true,
         "type": "histogram",
         "x": [
          "various"
         ],
         "xaxis": "x",
         "y": [
          773000000
         ],
         "yaxis": "y"
        },
        {
         "alignmentgroup": "True",
         "bingroup": "x",
         "histfunc": "sum",
         "hovertemplate": "Method=poor security / hacked<br>Organization type=%{x}<br>sum of Records=%{y}<extra></extra>",
         "legendgroup": "poor security / hacked",
         "marker": {
          "color": "#ab63fa",
          "pattern": {
           "shape": ""
          }
         },
         "name": "poor security / hacked",
         "offsetgroup": "poor security / hacked",
         "orientation": "v",
         "showlegend": true,
         "type": "histogram",
         "x": [
          "web"
         ],
         "xaxis": "x",
         "y": [
          412214295
         ],
         "yaxis": "y"
        },
        {
         "alignmentgroup": "True",
         "bingroup": "x",
         "histfunc": "sum",
         "hovertemplate": "Method=leaked and published<br>Organization type=%{x}<br>sum of Records=%{y}<extra></extra>",
         "legendgroup": "leaked and published",
         "marker": {
          "color": "#FFA15A",
          "pattern": {
           "shape": ""
          }
         },
         "name": "leaked and published",
         "offsetgroup": "leaked and published",
         "orientation": "v",
         "showlegend": true,
         "type": "histogram",
         "x": [
          "government"
         ],
         "xaxis": "x",
         "y": [
          337225463
         ],
         "yaxis": "y"
        },
        {
         "alignmentgroup": "True",
         "bingroup": "x",
         "histfunc": "sum",
         "hovertemplate": "Method=unknown<br>Organization type=%{x}<br>sum of Records=%{y}<extra></extra>",
         "legendgroup": "unknown",
         "marker": {
          "color": "#19d3f3",
          "pattern": {
           "shape": ""
          }
         },
         "name": "unknown",
         "offsetgroup": "unknown",
         "orientation": "v",
         "showlegend": true,
         "type": "histogram",
         "x": [
          "Telephone directory",
          "genealogy",
          "background check",
          "humanitarian",
          "publisher (magazine)"
         ],
         "xaxis": "x",
         "y": [
          299055000,
          92283889,
          56000000,
          515000,
          380000
         ],
         "yaxis": "y"
        },
        {
         "alignmentgroup": "True",
         "bingroup": "x",
         "histfunc": "sum",
         "hovertemplate": "Method=data exposed by misconfiguration<br>Organization type=%{x}<br>sum of Records=%{y}<extra></extra>",
         "legendgroup": "data exposed by misconfiguration",
         "marker": {
          "color": "#FF6692",
          "pattern": {
           "shape": ""
          }
         },
         "name": "data exposed by misconfiguration",
         "offsetgroup": "data exposed by misconfiguration",
         "orientation": "v",
         "showlegend": true,
         "type": "histogram",
         "x": [
          "tech"
         ],
         "xaxis": "x",
         "y": [
          250000000
         ],
         "yaxis": "y"
        },
        {
         "alignmentgroup": "True",
         "bingroup": "x",
         "histfunc": "sum",
         "hovertemplate": "Method=accidentally published<br>Organization type=%{x}<br>sum of Records=%{y}<extra></extra>",
         "legendgroup": "accidentally published",
         "marker": {
          "color": "#B6E880",
          "pattern": {
           "shape": ""
          }
         },
         "name": "accidentally published",
         "offsetgroup": "accidentally published",
         "orientation": "v",
         "showlegend": true,
         "type": "histogram",
         "x": [
          "financial",
          "web",
          "tech, retail",
          "web",
          "government",
          "social network",
          "government",
          "government",
          "government",
          "government",
          "military",
          "web",
          "telecoms",
          "web, military",
          "government",
          "retail",
          "military",
          "academic"
         ],
         "xaxis": "x",
         "y": [
          200000000,
          20000000,
          12367232,
          8000000,
          6500000,
          6000000,
          6000000,
          3950000,
          3500000,
          1600000,
          935000,
          420000,
          170000,
          163792,
          123461,
          95000,
          50000,
          43000
         ],
         "yaxis": "y"
        },
        {
         "alignmentgroup": "True",
         "bingroup": "x",
         "histfunc": "sum",
         "hovertemplate": "Method=unsecured S3 bucket<br>Organization type=%{x}<br>sum of Records=%{y}<extra></extra>",
         "legendgroup": "unsecured S3 bucket",
         "marker": {
          "color": "#FF97FF",
          "pattern": {
           "shape": ""
          }
         },
         "name": "unsecured S3 bucket",
         "offsetgroup": "unsecured S3 bucket",
         "orientation": "v",
         "showlegend": true,
         "type": "histogram",
         "x": [
          "financial"
         ],
         "xaxis": "x",
         "y": [
          106000000
         ],
         "yaxis": "y"
        },
        {
         "alignmentgroup": "True",
         "bingroup": "x",
         "histfunc": "sum",
         "hovertemplate": "Method=unprotected api<br>Organization type=%{x}<br>sum of Records=%{y}<extra></extra>",
         "legendgroup": "unprotected api",
         "marker": {
          "color": "#FECB52",
          "pattern": {
           "shape": ""
          }
         },
         "name": "unprotected api",
         "offsetgroup": "unprotected api",
         "orientation": "v",
         "showlegend": true,
         "type": "histogram",
         "x": [
          "local search"
         ],
         "xaxis": "x",
         "y": [
          100000000
         ],
         "yaxis": "y"
        },
        {
         "alignmentgroup": "True",
         "bingroup": "x",
         "histfunc": "sum",
         "hovertemplate": "Method=misconfiguration/poor security<br>Organization type=%{x}<br>sum of Records=%{y}<extra></extra>",
         "legendgroup": "misconfiguration/poor security",
         "marker": {
          "color": "#636efa",
          "pattern": {
           "shape": ""
          }
         },
         "name": "misconfiguration/poor security",
         "offsetgroup": "misconfiguration/poor security",
         "orientation": "v",
         "showlegend": true,
         "type": "histogram",
         "x": [
          "telecommunications"
         ],
         "xaxis": "x",
         "y": [
          100000000
         ],
         "yaxis": "y"
        },
        {
         "alignmentgroup": "True",
         "bingroup": "x",
         "histfunc": "sum",
         "hovertemplate": "Method=inside job, hacked<br>Organization type=%{x}<br>sum of Records=%{y}<extra></extra>",
         "legendgroup": "inside job, hacked",
         "marker": {
          "color": "#EF553B",
          "pattern": {
           "shape": ""
          }
         },
         "name": "inside job, hacked",
         "offsetgroup": "inside job, hacked",
         "orientation": "v",
         "showlegend": true,
         "type": "histogram",
         "x": [
          "web"
         ],
         "xaxis": "x",
         "y": [
          92000000
         ],
         "yaxis": "y"
        },
        {
         "alignmentgroup": "True",
         "bingroup": "x",
         "histfunc": "sum",
         "hovertemplate": "Method=lost / stolen media<br>Organization type=%{x}<br>sum of Records=%{y}<extra></extra>",
         "legendgroup": "lost / stolen media",
         "marker": {
          "color": "#00cc96",
          "pattern": {
           "shape": ""
          }
         },
         "name": "lost / stolen media",
         "offsetgroup": "lost / stolen media",
         "orientation": "v",
         "showlegend": true,
         "type": "histogram",
         "x": [
          "military",
          "government",
          "telecoms",
          "financial",
          "healthcare",
          "healthcare",
          "financial",
          "financial",
          "government",
          "financial",
          "academic",
          "healthcare",
          "healthcare",
          "government",
          "financial",
          "healthcare",
          "healthcare",
          "healthcare",
          "government",
          "healthcare",
          "healthcare",
          "healthcare",
          "tech, retail",
          "financial",
          "healthcare",
          "healthcare",
          "healthcare",
          "healthcare",
          "government",
          "military",
          "government",
          "financial"
         ],
         "xaxis": "x",
         "y": [
          76000000,
          25000000,
          17000000,
          12500000,
          8300000,
          4000000,
          3900000,
          3300000,
          3000000,
          2600000,
          2200000,
          1900000,
          1700000,
          1700000,
          1200000,
          1055489,
          1023209,
          800000,
          800000,
          500000,
          398000,
          344579,
          200000,
          200000,
          180111,
          160000,
          130495,
          102153,
          84000,
          72000,
          50500,
          34000
         ],
         "yaxis": "y"
        },
        {
         "alignmentgroup": "True",
         "bingroup": "x",
         "histfunc": "sum",
         "hovertemplate": "Method=publicly accessible Amazon Web Services (AWS) server<br>Organization type=%{x}<br>sum of Records=%{y}<extra></extra>",
         "legendgroup": "publicly accessible Amazon Web Services (AWS) server",
         "marker": {
          "color": "#ab63fa",
          "pattern": {
           "shape": ""
          }
         },
         "name": "publicly accessible Amazon Web Services (AWS) server",
         "offsetgroup": "publicly accessible Amazon Web Services (AWS) server",
         "orientation": "v",
         "showlegend": true,
         "type": "histogram",
         "x": [
          "online marketing"
         ],
         "xaxis": "x",
         "y": [
          38000000
         ],
         "yaxis": "y"
        },
        {
         "alignmentgroup": "True",
         "bingroup": "x",
         "histfunc": "sum",
         "hovertemplate": "Method=hacked and published<br>Organization type=%{x}<br>sum of Records=%{y}<extra></extra>",
         "legendgroup": "hacked and published",
         "marker": {
          "color": "#FFA15A",
          "pattern": {
           "shape": ""
          }
         },
         "name": "hacked and published",
         "offsetgroup": "hacked and published",
         "orientation": "v",
         "showlegend": true,
         "type": "histogram",
         "x": [
          "government"
         ],
         "xaxis": "x",
         "y": [
          34900867
         ],
         "yaxis": "y"
        },
        {
         "alignmentgroup": "True",
         "bingroup": "x",
         "histfunc": "sum",
         "hovertemplate": "Method=lost / stolen computer<br>Organization type=%{x}<br>sum of Records=%{y}<extra></extra>",
         "legendgroup": "lost / stolen computer",
         "marker": {
          "color": "#19d3f3",
          "pattern": {
           "shape": ""
          }
         },
         "name": "lost / stolen computer",
         "offsetgroup": "lost / stolen computer",
         "orientation": "v",
         "showlegend": true,
         "type": "histogram",
         "x": [
          "government, military",
          "military, healthcare",
          "healthcare",
          "academic",
          "healthcare",
          "retail",
          "healthcare",
          "healthcare",
          "military",
          "telecoms",
          "healthcare",
          "government",
          "healthcare",
          "retail",
          "academic"
         ],
         "xaxis": "x",
         "y": [
          26500000,
          4901432,
          4243434,
          2100000,
          1220000,
          800000,
          514330,
          400000,
          131000,
          113000,
          105470,
          100000,
          100000,
          97000,
          72000
         ],
         "yaxis": "y"
        },
        {
         "alignmentgroup": "True",
         "bingroup": "x",
         "histfunc": "sum",
         "hovertemplate": "Method=improper setting, hacked<br>Organization type=%{x}<br>sum of Records=%{y}<extra></extra>",
         "legendgroup": "improper setting, hacked",
         "marker": {
          "color": "#FF6692",
          "pattern": {
           "shape": ""
          }
         },
         "name": "improper setting, hacked",
         "offsetgroup": "improper setting, hacked",
         "orientation": "v",
         "showlegend": true,
         "type": "histogram",
         "x": [
          "QR code payment",
          "web"
         ],
         "xaxis": "x",
         "y": [
          20076016,
          1381735
         ],
         "yaxis": "y"
        },
        {
         "alignmentgroup": "True",
         "bingroup": "x",
         "histfunc": "sum",
         "hovertemplate": "Method=inside job<br>Organization type=%{x}<br>sum of Records=%{y}<extra></extra>",
         "legendgroup": "inside job",
         "marker": {
          "color": "#B6E880",
          "pattern": {
           "shape": ""
          }
         },
         "name": "inside job",
         "offsetgroup": "inside job",
         "orientation": "v",
         "showlegend": true,
         "type": "histogram",
         "x": [
          "financial",
          "energy",
          "financial",
          "retail",
          "financial",
          "healthcare",
          "financial",
          "financial",
          "telecoms",
          "energy",
          "financial",
          "government",
          "shopping",
          "government",
          "military",
          "government",
          "government",
          "transport",
          "healthcare",
          "malware tools"
         ],
         "xaxis": "x",
         "y": [
          20000000,
          11100000,
          9700000,
          8637405,
          8500000,
          6400000,
          2600000,
          2500000,
          2000000,
          1800000,
          1000000,
          680000,
          510000,
          392000,
          260000,
          251000,
          89000,
          75000,
          6700,
          91
         ],
         "yaxis": "y"
        },
        {
         "alignmentgroup": "True",
         "bingroup": "x",
         "histfunc": "sum",
         "hovertemplate": "Method=social engineering<br>Organization type=%{x}<br>sum of Records=%{y}<extra></extra>",
         "legendgroup": "social engineering",
         "marker": {
          "color": "#FF97FF",
          "pattern": {
           "shape": ""
          }
         },
         "name": "social engineering",
         "offsetgroup": "social engineering",
         "orientation": "v",
         "showlegend": true,
         "type": "histogram",
         "x": [
          "web"
         ],
         "xaxis": "x",
         "y": [
          6054459
         ],
         "yaxis": "y"
        },
        {
         "alignmentgroup": "True",
         "bingroup": "x",
         "histfunc": "sum",
         "hovertemplate": "Method=poor security/inside job<br>Organization type=%{x}<br>sum of Records=%{y}<extra></extra>",
         "legendgroup": "poor security/inside job",
         "marker": {
          "color": "#FECB52",
          "pattern": {
           "shape": ""
          }
         },
         "name": "poor security/inside job",
         "offsetgroup": "poor security/inside job",
         "orientation": "v",
         "showlegend": true,
         "type": "histogram",
         "x": [
          "hotel",
          "healthcare"
         ],
         "xaxis": "x",
         "y": [
          5200000,
          14200
         ],
         "yaxis": "y"
        },
        {
         "alignmentgroup": "True",
         "bingroup": "x",
         "histfunc": "sum",
         "hovertemplate": "Method=ransomware hacked<br>Organization type=%{x}<br>sum of Records=%{y}<extra></extra>",
         "legendgroup": "ransomware hacked",
         "marker": {
          "color": "#636efa",
          "pattern": {
           "shape": ""
          }
         },
         "name": "ransomware hacked",
         "offsetgroup": "ransomware hacked",
         "orientation": "v",
         "showlegend": true,
         "type": "histogram",
         "x": [
          "online shopping",
          "computer services for charities"
         ],
         "xaxis": "x",
         "y": [
          1648922,
          1000
         ],
         "yaxis": "y"
        },
        {
         "alignmentgroup": "True",
         "bingroup": "x",
         "histfunc": "sum",
         "hovertemplate": "Method=accidentally uploaded<br>Organization type=%{x}<br>sum of Records=%{y}<extra></extra>",
         "legendgroup": "accidentally uploaded",
         "marker": {
          "color": "#EF553B",
          "pattern": {
           "shape": ""
          }
         },
         "name": "accidentally uploaded",
         "offsetgroup": "accidentally uploaded",
         "orientation": "v",
         "showlegend": true,
         "type": "histogram",
         "x": [
          "social network"
         ],
         "xaxis": "x",
         "y": [
          1500000
         ],
         "yaxis": "y"
        },
        {
         "alignmentgroup": "True",
         "bingroup": "x",
         "histfunc": "sum",
         "hovertemplate": "Method=intentionally lost<br>Organization type=%{x}<br>sum of Records=%{y}<extra></extra>",
         "legendgroup": "intentionally lost",
         "marker": {
          "color": "#00cc96",
          "pattern": {
           "shape": ""
          }
         },
         "name": "intentionally lost",
         "offsetgroup": "intentionally lost",
         "orientation": "v",
         "showlegend": true,
         "type": "histogram",
         "x": [
          "financial"
         ],
         "xaxis": "x",
         "y": [
          960000
         ],
         "yaxis": "y"
        },
        {
         "alignmentgroup": "True",
         "bingroup": "x",
         "histfunc": "sum",
         "hovertemplate": "Method=accidentally exposed<br>Organization type=%{x}<br>sum of Records=%{y}<extra></extra>",
         "legendgroup": "accidentally exposed",
         "marker": {
          "color": "#ab63fa",
          "pattern": {
           "shape": ""
          }
         },
         "name": "accidentally exposed",
         "offsetgroup": "accidentally exposed",
         "orientation": "v",
         "showlegend": true,
         "type": "histogram",
         "x": [
          "mobile carrier"
         ],
         "xaxis": "x",
         "y": [
          900000
         ],
         "yaxis": "y"
        },
        {
         "alignmentgroup": "True",
         "bingroup": "x",
         "histfunc": "sum",
         "hovertemplate": "Method=rogue contractor<br>Organization type=%{x}<br>sum of Records=%{y}<extra></extra>",
         "legendgroup": "rogue contractor",
         "marker": {
          "color": "#FFA15A",
          "pattern": {
           "shape": ""
          }
         },
         "name": "rogue contractor",
         "offsetgroup": "rogue contractor",
         "orientation": "v",
         "showlegend": true,
         "type": "histogram",
         "x": [
          "financial"
         ],
         "xaxis": "x",
         "y": [
          30000
         ],
         "yaxis": "y"
        }
       ],
       "layout": {
        "barmode": "relative",
        "legend": {
         "title": {
          "text": "Method"
         },
         "tracegroupgap": 0
        },
        "template": {
         "data": {
          "bar": [
           {
            "error_x": {
             "color": "#2a3f5f"
            },
            "error_y": {
             "color": "#2a3f5f"
            },
            "marker": {
             "line": {
              "color": "#E5ECF6",
              "width": 0.5
             },
             "pattern": {
              "fillmode": "overlay",
              "size": 10,
              "solidity": 0.2
             }
            },
            "type": "bar"
           }
          ],
          "barpolar": [
           {
            "marker": {
             "line": {
              "color": "#E5ECF6",
              "width": 0.5
             },
             "pattern": {
              "fillmode": "overlay",
              "size": 10,
              "solidity": 0.2
             }
            },
            "type": "barpolar"
           }
          ],
          "carpet": [
           {
            "aaxis": {
             "endlinecolor": "#2a3f5f",
             "gridcolor": "white",
             "linecolor": "white",
             "minorgridcolor": "white",
             "startlinecolor": "#2a3f5f"
            },
            "baxis": {
             "endlinecolor": "#2a3f5f",
             "gridcolor": "white",
             "linecolor": "white",
             "minorgridcolor": "white",
             "startlinecolor": "#2a3f5f"
            },
            "type": "carpet"
           }
          ],
          "choropleth": [
           {
            "colorbar": {
             "outlinewidth": 0,
             "ticks": ""
            },
            "type": "choropleth"
           }
          ],
          "contour": [
           {
            "colorbar": {
             "outlinewidth": 0,
             "ticks": ""
            },
            "colorscale": [
             [
              0,
              "#0d0887"
             ],
             [
              0.1111111111111111,
              "#46039f"
             ],
             [
              0.2222222222222222,
              "#7201a8"
             ],
             [
              0.3333333333333333,
              "#9c179e"
             ],
             [
              0.4444444444444444,
              "#bd3786"
             ],
             [
              0.5555555555555556,
              "#d8576b"
             ],
             [
              0.6666666666666666,
              "#ed7953"
             ],
             [
              0.7777777777777778,
              "#fb9f3a"
             ],
             [
              0.8888888888888888,
              "#fdca26"
             ],
             [
              1,
              "#f0f921"
             ]
            ],
            "type": "contour"
           }
          ],
          "contourcarpet": [
           {
            "colorbar": {
             "outlinewidth": 0,
             "ticks": ""
            },
            "type": "contourcarpet"
           }
          ],
          "heatmap": [
           {
            "colorbar": {
             "outlinewidth": 0,
             "ticks": ""
            },
            "colorscale": [
             [
              0,
              "#0d0887"
             ],
             [
              0.1111111111111111,
              "#46039f"
             ],
             [
              0.2222222222222222,
              "#7201a8"
             ],
             [
              0.3333333333333333,
              "#9c179e"
             ],
             [
              0.4444444444444444,
              "#bd3786"
             ],
             [
              0.5555555555555556,
              "#d8576b"
             ],
             [
              0.6666666666666666,
              "#ed7953"
             ],
             [
              0.7777777777777778,
              "#fb9f3a"
             ],
             [
              0.8888888888888888,
              "#fdca26"
             ],
             [
              1,
              "#f0f921"
             ]
            ],
            "type": "heatmap"
           }
          ],
          "heatmapgl": [
           {
            "colorbar": {
             "outlinewidth": 0,
             "ticks": ""
            },
            "colorscale": [
             [
              0,
              "#0d0887"
             ],
             [
              0.1111111111111111,
              "#46039f"
             ],
             [
              0.2222222222222222,
              "#7201a8"
             ],
             [
              0.3333333333333333,
              "#9c179e"
             ],
             [
              0.4444444444444444,
              "#bd3786"
             ],
             [
              0.5555555555555556,
              "#d8576b"
             ],
             [
              0.6666666666666666,
              "#ed7953"
             ],
             [
              0.7777777777777778,
              "#fb9f3a"
             ],
             [
              0.8888888888888888,
              "#fdca26"
             ],
             [
              1,
              "#f0f921"
             ]
            ],
            "type": "heatmapgl"
           }
          ],
          "histogram": [
           {
            "marker": {
             "pattern": {
              "fillmode": "overlay",
              "size": 10,
              "solidity": 0.2
             }
            },
            "type": "histogram"
           }
          ],
          "histogram2d": [
           {
            "colorbar": {
             "outlinewidth": 0,
             "ticks": ""
            },
            "colorscale": [
             [
              0,
              "#0d0887"
             ],
             [
              0.1111111111111111,
              "#46039f"
             ],
             [
              0.2222222222222222,
              "#7201a8"
             ],
             [
              0.3333333333333333,
              "#9c179e"
             ],
             [
              0.4444444444444444,
              "#bd3786"
             ],
             [
              0.5555555555555556,
              "#d8576b"
             ],
             [
              0.6666666666666666,
              "#ed7953"
             ],
             [
              0.7777777777777778,
              "#fb9f3a"
             ],
             [
              0.8888888888888888,
              "#fdca26"
             ],
             [
              1,
              "#f0f921"
             ]
            ],
            "type": "histogram2d"
           }
          ],
          "histogram2dcontour": [
           {
            "colorbar": {
             "outlinewidth": 0,
             "ticks": ""
            },
            "colorscale": [
             [
              0,
              "#0d0887"
             ],
             [
              0.1111111111111111,
              "#46039f"
             ],
             [
              0.2222222222222222,
              "#7201a8"
             ],
             [
              0.3333333333333333,
              "#9c179e"
             ],
             [
              0.4444444444444444,
              "#bd3786"
             ],
             [
              0.5555555555555556,
              "#d8576b"
             ],
             [
              0.6666666666666666,
              "#ed7953"
             ],
             [
              0.7777777777777778,
              "#fb9f3a"
             ],
             [
              0.8888888888888888,
              "#fdca26"
             ],
             [
              1,
              "#f0f921"
             ]
            ],
            "type": "histogram2dcontour"
           }
          ],
          "mesh3d": [
           {
            "colorbar": {
             "outlinewidth": 0,
             "ticks": ""
            },
            "type": "mesh3d"
           }
          ],
          "parcoords": [
           {
            "line": {
             "colorbar": {
              "outlinewidth": 0,
              "ticks": ""
             }
            },
            "type": "parcoords"
           }
          ],
          "pie": [
           {
            "automargin": true,
            "type": "pie"
           }
          ],
          "scatter": [
           {
            "fillpattern": {
             "fillmode": "overlay",
             "size": 10,
             "solidity": 0.2
            },
            "type": "scatter"
           }
          ],
          "scatter3d": [
           {
            "line": {
             "colorbar": {
              "outlinewidth": 0,
              "ticks": ""
             }
            },
            "marker": {
             "colorbar": {
              "outlinewidth": 0,
              "ticks": ""
             }
            },
            "type": "scatter3d"
           }
          ],
          "scattercarpet": [
           {
            "marker": {
             "colorbar": {
              "outlinewidth": 0,
              "ticks": ""
             }
            },
            "type": "scattercarpet"
           }
          ],
          "scattergeo": [
           {
            "marker": {
             "colorbar": {
              "outlinewidth": 0,
              "ticks": ""
             }
            },
            "type": "scattergeo"
           }
          ],
          "scattergl": [
           {
            "marker": {
             "colorbar": {
              "outlinewidth": 0,
              "ticks": ""
             }
            },
            "type": "scattergl"
           }
          ],
          "scattermapbox": [
           {
            "marker": {
             "colorbar": {
              "outlinewidth": 0,
              "ticks": ""
             }
            },
            "type": "scattermapbox"
           }
          ],
          "scatterpolar": [
           {
            "marker": {
             "colorbar": {
              "outlinewidth": 0,
              "ticks": ""
             }
            },
            "type": "scatterpolar"
           }
          ],
          "scatterpolargl": [
           {
            "marker": {
             "colorbar": {
              "outlinewidth": 0,
              "ticks": ""
             }
            },
            "type": "scatterpolargl"
           }
          ],
          "scatterternary": [
           {
            "marker": {
             "colorbar": {
              "outlinewidth": 0,
              "ticks": ""
             }
            },
            "type": "scatterternary"
           }
          ],
          "surface": [
           {
            "colorbar": {
             "outlinewidth": 0,
             "ticks": ""
            },
            "colorscale": [
             [
              0,
              "#0d0887"
             ],
             [
              0.1111111111111111,
              "#46039f"
             ],
             [
              0.2222222222222222,
              "#7201a8"
             ],
             [
              0.3333333333333333,
              "#9c179e"
             ],
             [
              0.4444444444444444,
              "#bd3786"
             ],
             [
              0.5555555555555556,
              "#d8576b"
             ],
             [
              0.6666666666666666,
              "#ed7953"
             ],
             [
              0.7777777777777778,
              "#fb9f3a"
             ],
             [
              0.8888888888888888,
              "#fdca26"
             ],
             [
              1,
              "#f0f921"
             ]
            ],
            "type": "surface"
           }
          ],
          "table": [
           {
            "cells": {
             "fill": {
              "color": "#EBF0F8"
             },
             "line": {
              "color": "white"
             }
            },
            "header": {
             "fill": {
              "color": "#C8D4E3"
             },
             "line": {
              "color": "white"
             }
            },
            "type": "table"
           }
          ]
         },
         "layout": {
          "annotationdefaults": {
           "arrowcolor": "#2a3f5f",
           "arrowhead": 0,
           "arrowwidth": 1
          },
          "autotypenumbers": "strict",
          "coloraxis": {
           "colorbar": {
            "outlinewidth": 0,
            "ticks": ""
           }
          },
          "colorscale": {
           "diverging": [
            [
             0,
             "#8e0152"
            ],
            [
             0.1,
             "#c51b7d"
            ],
            [
             0.2,
             "#de77ae"
            ],
            [
             0.3,
             "#f1b6da"
            ],
            [
             0.4,
             "#fde0ef"
            ],
            [
             0.5,
             "#f7f7f7"
            ],
            [
             0.6,
             "#e6f5d0"
            ],
            [
             0.7,
             "#b8e186"
            ],
            [
             0.8,
             "#7fbc41"
            ],
            [
             0.9,
             "#4d9221"
            ],
            [
             1,
             "#276419"
            ]
           ],
           "sequential": [
            [
             0,
             "#0d0887"
            ],
            [
             0.1111111111111111,
             "#46039f"
            ],
            [
             0.2222222222222222,
             "#7201a8"
            ],
            [
             0.3333333333333333,
             "#9c179e"
            ],
            [
             0.4444444444444444,
             "#bd3786"
            ],
            [
             0.5555555555555556,
             "#d8576b"
            ],
            [
             0.6666666666666666,
             "#ed7953"
            ],
            [
             0.7777777777777778,
             "#fb9f3a"
            ],
            [
             0.8888888888888888,
             "#fdca26"
            ],
            [
             1,
             "#f0f921"
            ]
           ],
           "sequentialminus": [
            [
             0,
             "#0d0887"
            ],
            [
             0.1111111111111111,
             "#46039f"
            ],
            [
             0.2222222222222222,
             "#7201a8"
            ],
            [
             0.3333333333333333,
             "#9c179e"
            ],
            [
             0.4444444444444444,
             "#bd3786"
            ],
            [
             0.5555555555555556,
             "#d8576b"
            ],
            [
             0.6666666666666666,
             "#ed7953"
            ],
            [
             0.7777777777777778,
             "#fb9f3a"
            ],
            [
             0.8888888888888888,
             "#fdca26"
            ],
            [
             1,
             "#f0f921"
            ]
           ]
          },
          "colorway": [
           "#636efa",
           "#EF553B",
           "#00cc96",
           "#ab63fa",
           "#FFA15A",
           "#19d3f3",
           "#FF6692",
           "#B6E880",
           "#FF97FF",
           "#FECB52"
          ],
          "font": {
           "color": "#2a3f5f"
          },
          "geo": {
           "bgcolor": "white",
           "lakecolor": "white",
           "landcolor": "#E5ECF6",
           "showlakes": true,
           "showland": true,
           "subunitcolor": "white"
          },
          "hoverlabel": {
           "align": "left"
          },
          "hovermode": "closest",
          "mapbox": {
           "style": "light"
          },
          "paper_bgcolor": "white",
          "plot_bgcolor": "#E5ECF6",
          "polar": {
           "angularaxis": {
            "gridcolor": "white",
            "linecolor": "white",
            "ticks": ""
           },
           "bgcolor": "#E5ECF6",
           "radialaxis": {
            "gridcolor": "white",
            "linecolor": "white",
            "ticks": ""
           }
          },
          "scene": {
           "xaxis": {
            "backgroundcolor": "#E5ECF6",
            "gridcolor": "white",
            "gridwidth": 2,
            "linecolor": "white",
            "showbackground": true,
            "ticks": "",
            "zerolinecolor": "white"
           },
           "yaxis": {
            "backgroundcolor": "#E5ECF6",
            "gridcolor": "white",
            "gridwidth": 2,
            "linecolor": "white",
            "showbackground": true,
            "ticks": "",
            "zerolinecolor": "white"
           },
           "zaxis": {
            "backgroundcolor": "#E5ECF6",
            "gridcolor": "white",
            "gridwidth": 2,
            "linecolor": "white",
            "showbackground": true,
            "ticks": "",
            "zerolinecolor": "white"
           }
          },
          "shapedefaults": {
           "line": {
            "color": "#2a3f5f"
           }
          },
          "ternary": {
           "aaxis": {
            "gridcolor": "white",
            "linecolor": "white",
            "ticks": ""
           },
           "baxis": {
            "gridcolor": "white",
            "linecolor": "white",
            "ticks": ""
           },
           "bgcolor": "#E5ECF6",
           "caxis": {
            "gridcolor": "white",
            "linecolor": "white",
            "ticks": ""
           }
          },
          "title": {
           "x": 0.05
          },
          "xaxis": {
           "automargin": true,
           "gridcolor": "white",
           "linecolor": "white",
           "ticks": "",
           "title": {
            "standoff": 15
           },
           "zerolinecolor": "white",
           "zerolinewidth": 2
          },
          "yaxis": {
           "automargin": true,
           "gridcolor": "white",
           "linecolor": "white",
           "ticks": "",
           "title": {
            "standoff": 15
           },
           "zerolinecolor": "white",
           "zerolinewidth": 2
          }
         }
        },
        "title": {
         "text": "Most affected organizations"
        },
        "xaxis": {
         "anchor": "y",
         "domain": [
          0,
          1
         ],
         "title": {
          "text": "Organization type"
         }
        },
        "yaxis": {
         "anchor": "x",
         "domain": [
          0,
          1
         ],
         "title": {
          "text": "sum of Records"
         }
        }
       }
      }
     },
     "metadata": {},
     "output_type": "display_data"
    }
   ],
   "source": [
    "px.histogram(dataset, x=\"Organization type\", y=\"Records\", color=\"Method\", title=\"Most affected organizations\")"
   ]
  },
  {
   "cell_type": "code",
   "execution_count": 17,
   "metadata": {},
   "outputs": [
    {
     "data": {
      "text/plain": [
       "Organization type\n",
       "Clinical Laboratory    1.190000e+07\n",
       "Consumer Goods         1.500000e+08\n",
       "QR code payment        2.007602e+07\n",
       "Question & Answer      1.000000e+08\n",
       "Telephone directory    2.990550e+08\n",
       "                           ...     \n",
       "various                7.794000e+08\n",
       "web                    5.203996e+09\n",
       "web, gaming            3.200000e+07\n",
       "web, military          1.637920e+05\n",
       "web, tech              4.700000e+06\n",
       "Name: Records, Length: 67, dtype: float64"
      ]
     },
     "execution_count": 17,
     "metadata": {},
     "output_type": "execute_result"
    }
   ],
   "source": [
    "# Print the sum of records for each organization type\n",
    "dataset.groupby('Organization type')['Records'].sum()"
   ]
  },
  {
   "cell_type": "code",
   "execution_count": 18,
   "metadata": {},
   "outputs": [
    {
     "data": {
      "application/vnd.plotly.v1+json": {
       "config": {
        "plotlyServerURL": "https://plot.ly"
       },
       "data": [
        {
         "alignmentgroup": "True",
         "bingroup": "x",
         "histfunc": "count",
         "hovertemplate": "Year=2013<br>Method=%{x}<br>count=%{y}<extra></extra>",
         "legendgroup": "2013",
         "marker": {
          "color": "#636efa",
          "pattern": {
           "shape": ""
          }
         },
         "name": "2013",
         "offsetgroup": "2013",
         "orientation": "v",
         "showlegend": true,
         "type": "histogram",
         "x": [
          "hacked",
          "hacked",
          "hacked",
          "hacked",
          "hacked",
          "hacked",
          "hacked",
          "accidentally published",
          "hacked",
          "inside job",
          "hacked",
          "hacked",
          "hacked",
          "hacked",
          "hacked",
          "lost / stolen media",
          "hacked",
          "hacked",
          "accidentally published",
          "hacked",
          "poor security",
          "hacked",
          "hacked",
          "lost / stolen computer",
          "lost / stolen computer",
          "hacked"
         ],
         "xaxis": "x",
         "y": [
          "2013",
          "2013",
          "2013",
          "2013",
          "2013",
          "2013",
          "2013",
          "2013",
          "2013",
          "2013",
          "2013",
          "2013",
          "2013",
          "2013",
          "2013",
          "2013",
          "2013",
          "2013",
          "2013",
          "2013",
          "2013",
          "2013",
          "2013",
          "2013",
          "2013",
          "2013"
         ],
         "yaxis": "y"
        },
        {
         "alignmentgroup": "True",
         "bingroup": "x",
         "histfunc": "count",
         "hovertemplate": "Year=2019<br>Method=%{x}<br>count=%{y}<extra></extra>",
         "legendgroup": "2019",
         "marker": {
          "color": "#EF553B",
          "pattern": {
           "shape": ""
          }
         },
         "name": "2019",
         "offsetgroup": "2019",
         "orientation": "v",
         "showlegend": true,
         "type": "histogram",
         "x": [
          "poor security",
          "poor security",
          "poor security",
          "compilation of multiple data breaches",
          "poor security",
          "poor security",
          "unknown",
          "poor security",
          "poor security",
          "data exposed by misconfiguration",
          "poor security",
          "hacked",
          "hacked",
          "poor security",
          "unsecured S3 bucket",
          "unprotected api",
          "misconfiguration/poor security",
          "hacked",
          "poor security",
          "inside job",
          "poor security",
          "hacked",
          "hacked",
          "hacked",
          "accidentally uploaded",
          "hacked",
          "poor security",
          "hacked",
          "hacked",
          "hacked",
          "poor security/inside job"
         ],
         "xaxis": "x",
         "y": [
          "2019",
          "2019",
          "2019",
          "2019",
          "2019",
          "2019",
          "2019",
          "2019",
          "2019",
          "2019",
          "2019",
          "2019",
          "2019",
          "2019",
          "2019",
          "2019",
          "2019",
          "2019",
          "2019",
          "2019",
          "2019",
          "2019",
          "2019",
          "2019",
          "2019",
          "2019",
          "2019",
          "2019",
          "2019",
          "2019",
          "2019"
         ],
         "yaxis": "y"
        },
        {
         "alignmentgroup": "True",
         "bingroup": "x",
         "histfunc": "count",
         "hovertemplate": "Year=2023<br>Method=%{x}<br>count=%{y}<extra></extra>",
         "legendgroup": "2023",
         "marker": {
          "color": "#00cc96",
          "pattern": {
           "shape": ""
          }
         },
         "name": "2023",
         "offsetgroup": "2023",
         "orientation": "v",
         "showlegend": true,
         "type": "histogram",
         "x": [
          "poor security",
          "leaked and published",
          "poor security",
          "hacked",
          "hacked",
          "hacked and published",
          "hacked",
          "hacked",
          "hacked",
          "hacked",
          "hacked",
          "poor security",
          "poor security",
          "inside job",
          "ransomware hacked"
         ],
         "xaxis": "x",
         "y": [
          "2023",
          "2023",
          "2023",
          "2023",
          "2023",
          "2023",
          "2023",
          "2023",
          "2023",
          "2023",
          "2023",
          "2023",
          "2023",
          "2023",
          "2023"
         ],
         "yaxis": "y"
        },
        {
         "alignmentgroup": "True",
         "bingroup": "x",
         "histfunc": "count",
         "hovertemplate": "Year=2018<br>Method=%{x}<br>count=%{y}<extra></extra>",
         "legendgroup": "2018",
         "marker": {
          "color": "#ab63fa",
          "pattern": {
           "shape": ""
          }
         },
         "name": "2018",
         "offsetgroup": "2018",
         "orientation": "v",
         "showlegend": true,
         "type": "histogram",
         "x": [
          "hacked",
          "poor security",
          "hacked",
          "hacked",
          "hacked",
          "unknown",
          "poor security",
          "poor security",
          "poor security",
          "hacked",
          "hacked",
          "hacked",
          "hacked",
          "hacked",
          "hacked",
          "hacked",
          "poor security",
          "hacked",
          "hacked",
          "poor security",
          "hacked",
          "hacked",
          "hacked"
         ],
         "xaxis": "x",
         "y": [
          "2018",
          "2018",
          "2018",
          "2018",
          "2018",
          "2018",
          "2018",
          "2018",
          "2018",
          "2018",
          "2018",
          "2018",
          "2018",
          "2018",
          "2018",
          "2018",
          "2018",
          "2018",
          "2018",
          "2018",
          "2018",
          "2018",
          "2018"
         ],
         "yaxis": "y"
        },
        {
         "alignmentgroup": "True",
         "bingroup": "x",
         "histfunc": "count",
         "hovertemplate": "Year=2014<br>Method=%{x}<br>count=%{y}<extra></extra>",
         "legendgroup": "2014",
         "marker": {
          "color": "#FFA15A",
          "pattern": {
           "shape": ""
          }
         },
         "name": "2014",
         "offsetgroup": "2014",
         "orientation": "v",
         "showlegend": true,
         "type": "histogram",
         "x": [
          "hacked",
          "hacked",
          "hacked",
          "hacked",
          "hacked",
          "inside job",
          "hacked",
          "hacked",
          "hacked",
          "hacked",
          "hacked",
          "hacked",
          "hacked",
          "hacked",
          "hacked",
          "poor security",
          "poor security",
          "poor security"
         ],
         "xaxis": "x",
         "y": [
          "2014",
          "2014",
          "2014",
          "2014",
          "2014",
          "2014",
          "2014",
          "2014",
          "2014",
          "2014",
          "2014",
          "2014",
          "2014",
          "2014",
          "2014",
          "2014",
          "2014",
          "2014"
         ],
         "yaxis": "y"
        },
        {
         "alignmentgroup": "True",
         "bingroup": "x",
         "histfunc": "count",
         "hovertemplate": "Year=2016<br>Method=%{x}<br>count=%{y}<extra></extra>",
         "legendgroup": "2016",
         "marker": {
          "color": "#19d3f3",
          "pattern": {
           "shape": ""
          }
         },
         "name": "2016",
         "offsetgroup": "2016",
         "orientation": "v",
         "showlegend": true,
         "type": "histogram",
         "x": [
          "poor security / hacked",
          "hacked",
          "hacked",
          "hacked",
          "hacked",
          "hacked",
          "hacked",
          "hacked",
          "hacked",
          "hacked",
          "hacked",
          "hacked",
          "hacked",
          "hacked",
          "poor security",
          "hacked",
          "hacked",
          "inside job"
         ],
         "xaxis": "x",
         "y": [
          "2016",
          "2016",
          "2016",
          "2016",
          "2016",
          "2016",
          "2016",
          "2016",
          "2016",
          "2016",
          "2016",
          "2016",
          "2016",
          "2016",
          "2016",
          "2016",
          "2016",
          "2016"
         ],
         "yaxis": "y"
        },
        {
         "alignmentgroup": "True",
         "bingroup": "x",
         "histfunc": "count",
         "hovertemplate": "Year=2020<br>Method=%{x}<br>count=%{y}<extra></extra>",
         "legendgroup": "2020",
         "marker": {
          "color": "#FF6692",
          "pattern": {
           "shape": ""
          }
         },
         "name": "2020",
         "offsetgroup": "2020",
         "orientation": "v",
         "showlegend": true,
         "type": "histogram",
         "x": [
          "hacked",
          "poor security",
          "accidentally published",
          "poor security",
          "poor security",
          "hacked",
          "unknown",
          "hacked",
          "poor security",
          "publicly accessible Amazon Web Services (AWS) server",
          "hacked",
          "improper setting, hacked",
          "hacked",
          "poor security/inside job",
          "poor security",
          "improper setting, hacked",
          "accidentally exposed",
          "poor security",
          "unknown",
          "poor security",
          "hacked",
          "poor security",
          "hacked",
          "hacked",
          "hacked",
          "rogue contractor"
         ],
         "xaxis": "x",
         "y": [
          "2020",
          "2020",
          "2020",
          "2020",
          "2020",
          "2020",
          "2020",
          "2020",
          "2020",
          "2020",
          "2020",
          "2020",
          "2020",
          "2020",
          "2020",
          "2020",
          "2020",
          "2020",
          "2020",
          "2020",
          "2020",
          "2020",
          "2020",
          "2020",
          "2020",
          "2020"
         ],
         "yaxis": "y"
        },
        {
         "alignmentgroup": "True",
         "bingroup": "x",
         "histfunc": "count",
         "hovertemplate": "Year=2017<br>Method=%{x}<br>count=%{y}<extra></extra>",
         "legendgroup": "2017",
         "marker": {
          "color": "#B6E880",
          "pattern": {
           "shape": ""
          }
         },
         "name": "2017",
         "offsetgroup": "2017",
         "orientation": "v",
         "showlegend": true,
         "type": "histogram",
         "x": [
          "poor security",
          "hacked",
          "hacked",
          "lost / stolen media",
          "poor security",
          "hacked",
          "poor security",
          "inside job"
         ],
         "xaxis": "x",
         "y": [
          "2017",
          "2017",
          "2017",
          "2017",
          "2017",
          "2017",
          "2017",
          "2017"
         ],
         "yaxis": "y"
        },
        {
         "alignmentgroup": "True",
         "bingroup": "x",
         "histfunc": "count",
         "hovertemplate": "Year=2012<br>Method=%{x}<br>count=%{y}<extra></extra>",
         "legendgroup": "2012",
         "marker": {
          "color": "#FF97FF",
          "pattern": {
           "shape": ""
          }
         },
         "name": "2012",
         "offsetgroup": "2012",
         "orientation": "v",
         "showlegend": true,
         "type": "histogram",
         "x": [
          "hacked",
          "hacked",
          "hacked",
          "hacked",
          "hacked",
          "hacked",
          "hacked",
          "accidentally published",
          "hacked",
          "hacked",
          "accidentally published",
          "inside job",
          "hacked",
          "hacked",
          "inside job",
          "lost / stolen media",
          "hacked",
          "hacked",
          "accidentally published",
          "poor security",
          "hacked",
          "accidentally published"
         ],
         "xaxis": "x",
         "y": [
          "2012",
          "2012",
          "2012",
          "2012",
          "2012",
          "2012",
          "2012",
          "2012",
          "2012",
          "2012",
          "2012",
          "2012",
          "2012",
          "2012",
          "2012",
          "2012",
          "2012",
          "2012",
          "2012",
          "2012",
          "2012",
          "2012"
         ],
         "yaxis": "y"
        },
        {
         "alignmentgroup": "True",
         "bingroup": "x",
         "histfunc": "count",
         "hovertemplate": "Year=2009<br>Method=%{x}<br>count=%{y}<extra></extra>",
         "legendgroup": "2009",
         "marker": {
          "color": "#FECB52",
          "pattern": {
           "shape": ""
          }
         },
         "name": "2009",
         "offsetgroup": "2009",
         "orientation": "v",
         "showlegend": true,
         "type": "histogram",
         "x": [
          "hacked",
          "lost / stolen media",
          "hacked",
          "hacked",
          "hacked",
          "lost / stolen computer",
          "lost / stolen media",
          "hacked",
          "hacked",
          "lost / stolen media",
          "hacked",
          "lost / stolen computer",
          "lost / stolen media"
         ],
         "xaxis": "x",
         "y": [
          "2009",
          "2009",
          "2009",
          "2009",
          "2009",
          "2009",
          "2009",
          "2009",
          "2009",
          "2009",
          "2009",
          "2009",
          "2009"
         ],
         "yaxis": "y"
        },
        {
         "alignmentgroup": "True",
         "bingroup": "x",
         "histfunc": "count",
         "hovertemplate": "Year=2007<br>Method=%{x}<br>count=%{y}<extra></extra>",
         "legendgroup": "2007",
         "marker": {
          "color": "#636efa",
          "pattern": {
           "shape": ""
          }
         },
         "name": "2007",
         "offsetgroup": "2007",
         "orientation": "v",
         "showlegend": true,
         "type": "histogram",
         "x": [
          "hacked",
          "lost / stolen media",
          "inside job",
          "inside job",
          "hacked",
          "hacked",
          "lost / stolen media",
          "hacked",
          "inside job",
          "lost / stolen computer",
          "lost / stolen media",
          "inside job"
         ],
         "xaxis": "x",
         "y": [
          "2007",
          "2007",
          "2007",
          "2007",
          "2007",
          "2007",
          "2007",
          "2007",
          "2007",
          "2007",
          "2007",
          "2007"
         ],
         "yaxis": "y"
        },
        {
         "alignmentgroup": "True",
         "bingroup": "x",
         "histfunc": "count",
         "hovertemplate": "Year=2004<br>Method=%{x}<br>count=%{y}<extra></extra>",
         "legendgroup": "2004",
         "marker": {
          "color": "#EF553B",
          "pattern": {
           "shape": ""
          }
         },
         "name": "2004",
         "offsetgroup": "2004",
         "orientation": "v",
         "showlegend": true,
         "type": "histogram",
         "x": [
          "inside job, hacked",
          "inside job"
         ],
         "xaxis": "x",
         "y": [
          "2004",
          "2004"
         ],
         "yaxis": "y"
        },
        {
         "alignmentgroup": "True",
         "bingroup": "x",
         "histfunc": "count",
         "hovertemplate": "Year=2015<br>Method=%{x}<br>count=%{y}<extra></extra>",
         "legendgroup": "2015",
         "marker": {
          "color": "#00cc96",
          "pattern": {
           "shape": ""
          }
         },
         "name": "2015",
         "offsetgroup": "2015",
         "orientation": "v",
         "showlegend": true,
         "type": "histogram",
         "x": [
          "hacked",
          "hacked",
          "hacked",
          "hacked",
          "hacked",
          "hacked",
          "social engineering",
          "hacked",
          "hacked",
          "hacked",
          "hacked",
          "hacked",
          "hacked",
          "hacked",
          "hacked",
          "hacked",
          "inside job",
          "poor security",
          "hacked"
         ],
         "xaxis": "x",
         "y": [
          "2015",
          "2015",
          "2015",
          "2015",
          "2015",
          "2015",
          "2015",
          "2015",
          "2015",
          "2015",
          "2015",
          "2015",
          "2015",
          "2015",
          "2015",
          "2015",
          "2015",
          "2015",
          "2015"
         ],
         "yaxis": "y"
        },
        {
         "alignmentgroup": "True",
         "bingroup": "x",
         "histfunc": "count",
         "hovertemplate": "Year=2021<br>Method=%{x}<br>count=%{y}<extra></extra>",
         "legendgroup": "2021",
         "marker": {
          "color": "#ab63fa",
          "pattern": {
           "shape": ""
          }
         },
         "name": "2021",
         "offsetgroup": "2021",
         "orientation": "v",
         "showlegend": true,
         "type": "histogram",
         "x": [
          "hacked",
          "hacked",
          "accidentally published",
          "hacked",
          "hacked",
          "poor security",
          "poor security",
          "hacked",
          "hacked",
          "hacked",
          "poor security"
         ],
         "xaxis": "x",
         "y": [
          "2021",
          "2021",
          "2021",
          "2021",
          "2021",
          "2021",
          "2021",
          "2021",
          "2021",
          "2021",
          "2021"
         ],
         "yaxis": "y"
        },
        {
         "alignmentgroup": "True",
         "bingroup": "x",
         "histfunc": "count",
         "hovertemplate": "Year=2011<br>Method=%{x}<br>count=%{y}<extra></extra>",
         "legendgroup": "2011",
         "marker": {
          "color": "#FFA15A",
          "pattern": {
           "shape": ""
          }
         },
         "name": "2011",
         "offsetgroup": "2011",
         "orientation": "v",
         "showlegend": true,
         "type": "histogram",
         "x": [
          "hacked",
          "hacked",
          "hacked",
          "hacked",
          "hacked",
          "hacked",
          "lost / stolen media",
          "hacked",
          "lost / stolen computer",
          "lost / stolen computer",
          "accidentally published",
          "inside job",
          "lost / stolen media",
          "hacked",
          "hacked",
          "lost / stolen media",
          "hacked",
          "accidentally published",
          "lost / stolen computer",
          "lost / stolen computer",
          "hacked",
          "hacked",
          "poor security",
          "poor security",
          "hacked",
          "hacked",
          "hacked",
          "accidentally published",
          "lost / stolen media",
          "hacked",
          "hacked",
          "accidentally published",
          "lost / stolen media"
         ],
         "xaxis": "x",
         "y": [
          "2011",
          "2011",
          "2011",
          "2011",
          "2011",
          "2011",
          "2011",
          "2011",
          "2011",
          "2011",
          "2011",
          "2011",
          "2011",
          "2011",
          "2011",
          "2011",
          "2011",
          "2011",
          "2011",
          "2011",
          "2011",
          "2011",
          "2011",
          "2011",
          "2011",
          "2011",
          "2011",
          "2011",
          "2011",
          "2011",
          "2011",
          "2011",
          "2011"
         ],
         "yaxis": "y"
        },
        {
         "alignmentgroup": "True",
         "bingroup": "x",
         "histfunc": "count",
         "hovertemplate": "Year=2005<br>Method=%{x}<br>count=%{y}<extra></extra>",
         "legendgroup": "2005",
         "marker": {
          "color": "#19d3f3",
          "pattern": {
           "shape": ""
          }
         },
         "name": "2005",
         "offsetgroup": "2005",
         "orientation": "v",
         "showlegend": true,
         "type": "histogram",
         "x": [
          "hacked",
          "lost / stolen media",
          "hacked",
          "lost / stolen media",
          "lost / stolen media",
          "poor security"
         ],
         "xaxis": "x",
         "y": [
          "2005",
          "2005",
          "2005",
          "2005",
          "2005",
          "2005"
         ],
         "yaxis": "y"
        },
        {
         "alignmentgroup": "True",
         "bingroup": "x",
         "histfunc": "count",
         "hovertemplate": "Year=2006<br>Method=%{x}<br>count=%{y}<extra></extra>",
         "legendgroup": "2006",
         "marker": {
          "color": "#FF6692",
          "pattern": {
           "shape": ""
          }
         },
         "name": "2006",
         "offsetgroup": "2006",
         "orientation": "v",
         "showlegend": true,
         "type": "histogram",
         "x": [
          "lost / stolen computer",
          "accidentally published",
          "lost / stolen media",
          "hacked",
          "inside job",
          "intentionally lost",
          "lost / stolen media"
         ],
         "xaxis": "x",
         "y": [
          "2006",
          "2006",
          "2006",
          "2006",
          "2006",
          "2006",
          "2006"
         ],
         "yaxis": "y"
        },
        {
         "alignmentgroup": "True",
         "bingroup": "x",
         "histfunc": "count",
         "hovertemplate": "Year=2008<br>Method=%{x}<br>count=%{y}<extra></extra>",
         "legendgroup": "2008",
         "marker": {
          "color": "#B6E880",
          "pattern": {
           "shape": ""
          }
         },
         "name": "2008",
         "offsetgroup": "2008",
         "orientation": "v",
         "showlegend": true,
         "type": "histogram",
         "x": [
          "hacked",
          "lost / stolen media",
          "inside job",
          "hacked",
          "accidentally published",
          "accidentally published",
          "lost / stolen media",
          "lost / stolen computer",
          "lost / stolen media",
          "accidentally published",
          "hacked",
          "lost / stolen computer",
          "lost / stolen computer",
          "lost / stolen media",
          "lost / stolen computer",
          "lost / stolen media"
         ],
         "xaxis": "x",
         "y": [
          "2008",
          "2008",
          "2008",
          "2008",
          "2008",
          "2008",
          "2008",
          "2008",
          "2008",
          "2008",
          "2008",
          "2008",
          "2008",
          "2008",
          "2008",
          "2008"
         ],
         "yaxis": "y"
        },
        {
         "alignmentgroup": "True",
         "bingroup": "x",
         "histfunc": "count",
         "hovertemplate": "Year=2022<br>Method=%{x}<br>count=%{y}<extra></extra>",
         "legendgroup": "2022",
         "marker": {
          "color": "#FF97FF",
          "pattern": {
           "shape": ""
          }
         },
         "name": "2022",
         "offsetgroup": "2022",
         "orientation": "v",
         "showlegend": true,
         "type": "histogram",
         "x": [
          "hacked",
          "hacked",
          "poor security",
          "ransomware hacked",
          "poor security",
          "unknown",
          "accidentally published"
         ],
         "xaxis": "x",
         "y": [
          "2022",
          "2022",
          "2022",
          "2022",
          "2022",
          "2022",
          "2022"
         ],
         "yaxis": "y"
        },
        {
         "alignmentgroup": "True",
         "bingroup": "x",
         "histfunc": "count",
         "hovertemplate": "Year=2019-2020<br>Method=%{x}<br>count=%{y}<extra></extra>",
         "legendgroup": "2019-2020",
         "marker": {
          "color": "#FECB52",
          "pattern": {
           "shape": ""
          }
         },
         "name": "2019-2020",
         "offsetgroup": "2019-2020",
         "orientation": "v",
         "showlegend": true,
         "type": "histogram",
         "x": [
          "hacked"
         ],
         "xaxis": "x",
         "y": [
          "2019-2020"
         ],
         "yaxis": "y"
        },
        {
         "alignmentgroup": "True",
         "bingroup": "x",
         "histfunc": "count",
         "hovertemplate": "Year=2010<br>Method=%{x}<br>count=%{y}<extra></extra>",
         "legendgroup": "2010",
         "marker": {
          "color": "#636efa",
          "pattern": {
           "shape": ""
          }
         },
         "name": "2010",
         "offsetgroup": "2010",
         "orientation": "v",
         "showlegend": true,
         "type": "histogram",
         "x": [
          "lost / stolen media",
          "lost / stolen media",
          "hacked",
          "lost / stolen media",
          "hacked",
          "lost / stolen media",
          "hacked",
          "hacked",
          "hacked",
          "lost / stolen media",
          "inside job",
          "inside job",
          "inside job",
          "hacked",
          "lost / stolen media",
          "lost / stolen media",
          "hacked",
          "lost / stolen computer",
          "accidentally published"
         ],
         "xaxis": "x",
         "y": [
          "2010",
          "2010",
          "2010",
          "2010",
          "2010",
          "2010",
          "2010",
          "2010",
          "2010",
          "2010",
          "2010",
          "2010",
          "2010",
          "2010",
          "2010",
          "2010",
          "2010",
          "2010",
          "2010"
         ],
         "yaxis": "y"
        },
        {
         "alignmentgroup": "True",
         "bingroup": "x",
         "histfunc": "count",
         "hovertemplate": "Year=2018-2019<br>Method=%{x}<br>count=%{y}<extra></extra>",
         "legendgroup": "2018-2019",
         "marker": {
          "color": "#EF553B",
          "pattern": {
           "shape": ""
          }
         },
         "name": "2018-2019",
         "offsetgroup": "2018-2019",
         "orientation": "v",
         "showlegend": true,
         "type": "histogram",
         "x": [
          "hacked"
         ],
         "xaxis": "x",
         "y": [
          "2018-2019"
         ],
         "yaxis": "y"
        },
        {
         "alignmentgroup": "True",
         "bingroup": "x",
         "histfunc": "count",
         "hovertemplate": "Year=2014 and 2015<br>Method=%{x}<br>count=%{y}<extra></extra>",
         "legendgroup": "2014 and 2015",
         "marker": {
          "color": "#00cc96",
          "pattern": {
           "shape": ""
          }
         },
         "name": "2014 and 2015",
         "offsetgroup": "2014 and 2015",
         "orientation": "v",
         "showlegend": true,
         "type": "histogram",
         "x": [
          "hacked"
         ],
         "xaxis": "x",
         "y": [
          "2014 and 2015"
         ],
         "yaxis": "y"
        }
       ],
       "layout": {
        "barmode": "relative",
        "legend": {
         "title": {
          "text": "Year"
         },
         "tracegroupgap": 0
        },
        "template": {
         "data": {
          "bar": [
           {
            "error_x": {
             "color": "#2a3f5f"
            },
            "error_y": {
             "color": "#2a3f5f"
            },
            "marker": {
             "line": {
              "color": "#E5ECF6",
              "width": 0.5
             },
             "pattern": {
              "fillmode": "overlay",
              "size": 10,
              "solidity": 0.2
             }
            },
            "type": "bar"
           }
          ],
          "barpolar": [
           {
            "marker": {
             "line": {
              "color": "#E5ECF6",
              "width": 0.5
             },
             "pattern": {
              "fillmode": "overlay",
              "size": 10,
              "solidity": 0.2
             }
            },
            "type": "barpolar"
           }
          ],
          "carpet": [
           {
            "aaxis": {
             "endlinecolor": "#2a3f5f",
             "gridcolor": "white",
             "linecolor": "white",
             "minorgridcolor": "white",
             "startlinecolor": "#2a3f5f"
            },
            "baxis": {
             "endlinecolor": "#2a3f5f",
             "gridcolor": "white",
             "linecolor": "white",
             "minorgridcolor": "white",
             "startlinecolor": "#2a3f5f"
            },
            "type": "carpet"
           }
          ],
          "choropleth": [
           {
            "colorbar": {
             "outlinewidth": 0,
             "ticks": ""
            },
            "type": "choropleth"
           }
          ],
          "contour": [
           {
            "colorbar": {
             "outlinewidth": 0,
             "ticks": ""
            },
            "colorscale": [
             [
              0,
              "#0d0887"
             ],
             [
              0.1111111111111111,
              "#46039f"
             ],
             [
              0.2222222222222222,
              "#7201a8"
             ],
             [
              0.3333333333333333,
              "#9c179e"
             ],
             [
              0.4444444444444444,
              "#bd3786"
             ],
             [
              0.5555555555555556,
              "#d8576b"
             ],
             [
              0.6666666666666666,
              "#ed7953"
             ],
             [
              0.7777777777777778,
              "#fb9f3a"
             ],
             [
              0.8888888888888888,
              "#fdca26"
             ],
             [
              1,
              "#f0f921"
             ]
            ],
            "type": "contour"
           }
          ],
          "contourcarpet": [
           {
            "colorbar": {
             "outlinewidth": 0,
             "ticks": ""
            },
            "type": "contourcarpet"
           }
          ],
          "heatmap": [
           {
            "colorbar": {
             "outlinewidth": 0,
             "ticks": ""
            },
            "colorscale": [
             [
              0,
              "#0d0887"
             ],
             [
              0.1111111111111111,
              "#46039f"
             ],
             [
              0.2222222222222222,
              "#7201a8"
             ],
             [
              0.3333333333333333,
              "#9c179e"
             ],
             [
              0.4444444444444444,
              "#bd3786"
             ],
             [
              0.5555555555555556,
              "#d8576b"
             ],
             [
              0.6666666666666666,
              "#ed7953"
             ],
             [
              0.7777777777777778,
              "#fb9f3a"
             ],
             [
              0.8888888888888888,
              "#fdca26"
             ],
             [
              1,
              "#f0f921"
             ]
            ],
            "type": "heatmap"
           }
          ],
          "heatmapgl": [
           {
            "colorbar": {
             "outlinewidth": 0,
             "ticks": ""
            },
            "colorscale": [
             [
              0,
              "#0d0887"
             ],
             [
              0.1111111111111111,
              "#46039f"
             ],
             [
              0.2222222222222222,
              "#7201a8"
             ],
             [
              0.3333333333333333,
              "#9c179e"
             ],
             [
              0.4444444444444444,
              "#bd3786"
             ],
             [
              0.5555555555555556,
              "#d8576b"
             ],
             [
              0.6666666666666666,
              "#ed7953"
             ],
             [
              0.7777777777777778,
              "#fb9f3a"
             ],
             [
              0.8888888888888888,
              "#fdca26"
             ],
             [
              1,
              "#f0f921"
             ]
            ],
            "type": "heatmapgl"
           }
          ],
          "histogram": [
           {
            "marker": {
             "pattern": {
              "fillmode": "overlay",
              "size": 10,
              "solidity": 0.2
             }
            },
            "type": "histogram"
           }
          ],
          "histogram2d": [
           {
            "colorbar": {
             "outlinewidth": 0,
             "ticks": ""
            },
            "colorscale": [
             [
              0,
              "#0d0887"
             ],
             [
              0.1111111111111111,
              "#46039f"
             ],
             [
              0.2222222222222222,
              "#7201a8"
             ],
             [
              0.3333333333333333,
              "#9c179e"
             ],
             [
              0.4444444444444444,
              "#bd3786"
             ],
             [
              0.5555555555555556,
              "#d8576b"
             ],
             [
              0.6666666666666666,
              "#ed7953"
             ],
             [
              0.7777777777777778,
              "#fb9f3a"
             ],
             [
              0.8888888888888888,
              "#fdca26"
             ],
             [
              1,
              "#f0f921"
             ]
            ],
            "type": "histogram2d"
           }
          ],
          "histogram2dcontour": [
           {
            "colorbar": {
             "outlinewidth": 0,
             "ticks": ""
            },
            "colorscale": [
             [
              0,
              "#0d0887"
             ],
             [
              0.1111111111111111,
              "#46039f"
             ],
             [
              0.2222222222222222,
              "#7201a8"
             ],
             [
              0.3333333333333333,
              "#9c179e"
             ],
             [
              0.4444444444444444,
              "#bd3786"
             ],
             [
              0.5555555555555556,
              "#d8576b"
             ],
             [
              0.6666666666666666,
              "#ed7953"
             ],
             [
              0.7777777777777778,
              "#fb9f3a"
             ],
             [
              0.8888888888888888,
              "#fdca26"
             ],
             [
              1,
              "#f0f921"
             ]
            ],
            "type": "histogram2dcontour"
           }
          ],
          "mesh3d": [
           {
            "colorbar": {
             "outlinewidth": 0,
             "ticks": ""
            },
            "type": "mesh3d"
           }
          ],
          "parcoords": [
           {
            "line": {
             "colorbar": {
              "outlinewidth": 0,
              "ticks": ""
             }
            },
            "type": "parcoords"
           }
          ],
          "pie": [
           {
            "automargin": true,
            "type": "pie"
           }
          ],
          "scatter": [
           {
            "fillpattern": {
             "fillmode": "overlay",
             "size": 10,
             "solidity": 0.2
            },
            "type": "scatter"
           }
          ],
          "scatter3d": [
           {
            "line": {
             "colorbar": {
              "outlinewidth": 0,
              "ticks": ""
             }
            },
            "marker": {
             "colorbar": {
              "outlinewidth": 0,
              "ticks": ""
             }
            },
            "type": "scatter3d"
           }
          ],
          "scattercarpet": [
           {
            "marker": {
             "colorbar": {
              "outlinewidth": 0,
              "ticks": ""
             }
            },
            "type": "scattercarpet"
           }
          ],
          "scattergeo": [
           {
            "marker": {
             "colorbar": {
              "outlinewidth": 0,
              "ticks": ""
             }
            },
            "type": "scattergeo"
           }
          ],
          "scattergl": [
           {
            "marker": {
             "colorbar": {
              "outlinewidth": 0,
              "ticks": ""
             }
            },
            "type": "scattergl"
           }
          ],
          "scattermapbox": [
           {
            "marker": {
             "colorbar": {
              "outlinewidth": 0,
              "ticks": ""
             }
            },
            "type": "scattermapbox"
           }
          ],
          "scatterpolar": [
           {
            "marker": {
             "colorbar": {
              "outlinewidth": 0,
              "ticks": ""
             }
            },
            "type": "scatterpolar"
           }
          ],
          "scatterpolargl": [
           {
            "marker": {
             "colorbar": {
              "outlinewidth": 0,
              "ticks": ""
             }
            },
            "type": "scatterpolargl"
           }
          ],
          "scatterternary": [
           {
            "marker": {
             "colorbar": {
              "outlinewidth": 0,
              "ticks": ""
             }
            },
            "type": "scatterternary"
           }
          ],
          "surface": [
           {
            "colorbar": {
             "outlinewidth": 0,
             "ticks": ""
            },
            "colorscale": [
             [
              0,
              "#0d0887"
             ],
             [
              0.1111111111111111,
              "#46039f"
             ],
             [
              0.2222222222222222,
              "#7201a8"
             ],
             [
              0.3333333333333333,
              "#9c179e"
             ],
             [
              0.4444444444444444,
              "#bd3786"
             ],
             [
              0.5555555555555556,
              "#d8576b"
             ],
             [
              0.6666666666666666,
              "#ed7953"
             ],
             [
              0.7777777777777778,
              "#fb9f3a"
             ],
             [
              0.8888888888888888,
              "#fdca26"
             ],
             [
              1,
              "#f0f921"
             ]
            ],
            "type": "surface"
           }
          ],
          "table": [
           {
            "cells": {
             "fill": {
              "color": "#EBF0F8"
             },
             "line": {
              "color": "white"
             }
            },
            "header": {
             "fill": {
              "color": "#C8D4E3"
             },
             "line": {
              "color": "white"
             }
            },
            "type": "table"
           }
          ]
         },
         "layout": {
          "annotationdefaults": {
           "arrowcolor": "#2a3f5f",
           "arrowhead": 0,
           "arrowwidth": 1
          },
          "autotypenumbers": "strict",
          "coloraxis": {
           "colorbar": {
            "outlinewidth": 0,
            "ticks": ""
           }
          },
          "colorscale": {
           "diverging": [
            [
             0,
             "#8e0152"
            ],
            [
             0.1,
             "#c51b7d"
            ],
            [
             0.2,
             "#de77ae"
            ],
            [
             0.3,
             "#f1b6da"
            ],
            [
             0.4,
             "#fde0ef"
            ],
            [
             0.5,
             "#f7f7f7"
            ],
            [
             0.6,
             "#e6f5d0"
            ],
            [
             0.7,
             "#b8e186"
            ],
            [
             0.8,
             "#7fbc41"
            ],
            [
             0.9,
             "#4d9221"
            ],
            [
             1,
             "#276419"
            ]
           ],
           "sequential": [
            [
             0,
             "#0d0887"
            ],
            [
             0.1111111111111111,
             "#46039f"
            ],
            [
             0.2222222222222222,
             "#7201a8"
            ],
            [
             0.3333333333333333,
             "#9c179e"
            ],
            [
             0.4444444444444444,
             "#bd3786"
            ],
            [
             0.5555555555555556,
             "#d8576b"
            ],
            [
             0.6666666666666666,
             "#ed7953"
            ],
            [
             0.7777777777777778,
             "#fb9f3a"
            ],
            [
             0.8888888888888888,
             "#fdca26"
            ],
            [
             1,
             "#f0f921"
            ]
           ],
           "sequentialminus": [
            [
             0,
             "#0d0887"
            ],
            [
             0.1111111111111111,
             "#46039f"
            ],
            [
             0.2222222222222222,
             "#7201a8"
            ],
            [
             0.3333333333333333,
             "#9c179e"
            ],
            [
             0.4444444444444444,
             "#bd3786"
            ],
            [
             0.5555555555555556,
             "#d8576b"
            ],
            [
             0.6666666666666666,
             "#ed7953"
            ],
            [
             0.7777777777777778,
             "#fb9f3a"
            ],
            [
             0.8888888888888888,
             "#fdca26"
            ],
            [
             1,
             "#f0f921"
            ]
           ]
          },
          "colorway": [
           "#636efa",
           "#EF553B",
           "#00cc96",
           "#ab63fa",
           "#FFA15A",
           "#19d3f3",
           "#FF6692",
           "#B6E880",
           "#FF97FF",
           "#FECB52"
          ],
          "font": {
           "color": "#2a3f5f"
          },
          "geo": {
           "bgcolor": "white",
           "lakecolor": "white",
           "landcolor": "#E5ECF6",
           "showlakes": true,
           "showland": true,
           "subunitcolor": "white"
          },
          "hoverlabel": {
           "align": "left"
          },
          "hovermode": "closest",
          "mapbox": {
           "style": "light"
          },
          "paper_bgcolor": "white",
          "plot_bgcolor": "#E5ECF6",
          "polar": {
           "angularaxis": {
            "gridcolor": "white",
            "linecolor": "white",
            "ticks": ""
           },
           "bgcolor": "#E5ECF6",
           "radialaxis": {
            "gridcolor": "white",
            "linecolor": "white",
            "ticks": ""
           }
          },
          "scene": {
           "xaxis": {
            "backgroundcolor": "#E5ECF6",
            "gridcolor": "white",
            "gridwidth": 2,
            "linecolor": "white",
            "showbackground": true,
            "ticks": "",
            "zerolinecolor": "white"
           },
           "yaxis": {
            "backgroundcolor": "#E5ECF6",
            "gridcolor": "white",
            "gridwidth": 2,
            "linecolor": "white",
            "showbackground": true,
            "ticks": "",
            "zerolinecolor": "white"
           },
           "zaxis": {
            "backgroundcolor": "#E5ECF6",
            "gridcolor": "white",
            "gridwidth": 2,
            "linecolor": "white",
            "showbackground": true,
            "ticks": "",
            "zerolinecolor": "white"
           }
          },
          "shapedefaults": {
           "line": {
            "color": "#2a3f5f"
           }
          },
          "ternary": {
           "aaxis": {
            "gridcolor": "white",
            "linecolor": "white",
            "ticks": ""
           },
           "baxis": {
            "gridcolor": "white",
            "linecolor": "white",
            "ticks": ""
           },
           "bgcolor": "#E5ECF6",
           "caxis": {
            "gridcolor": "white",
            "linecolor": "white",
            "ticks": ""
           }
          },
          "title": {
           "x": 0.05
          },
          "xaxis": {
           "automargin": true,
           "gridcolor": "white",
           "linecolor": "white",
           "ticks": "",
           "title": {
            "standoff": 15
           },
           "zerolinecolor": "white",
           "zerolinewidth": 2
          },
          "yaxis": {
           "automargin": true,
           "gridcolor": "white",
           "linecolor": "white",
           "ticks": "",
           "title": {
            "standoff": 15
           },
           "zerolinecolor": "white",
           "zerolinewidth": 2
          }
         }
        },
        "title": {
         "text": "Most common methods of data breaches"
        },
        "xaxis": {
         "anchor": "y",
         "domain": [
          0,
          1
         ],
         "title": {
          "text": "Method"
         }
        },
        "yaxis": {
         "anchor": "x",
         "categoryarray": [
          "2014 and 2015",
          "2018-2019",
          "2010",
          "2019-2020",
          "2022",
          "2008",
          "2006",
          "2005",
          "2011",
          "2021",
          "2015",
          "2004",
          "2007",
          "2009",
          "2012",
          "2017",
          "2020",
          "2016",
          "2014",
          "2018",
          "2023",
          "2019",
          "2013"
         ],
         "categoryorder": "array",
         "domain": [
          0,
          1
         ],
         "title": {
          "text": "count"
         }
        }
       }
      }
     },
     "metadata": {},
     "output_type": "display_data"
    }
   ],
   "source": [
    "px.histogram(x= 'Method', y= 'Year', histfunc='count', color='Year', data_frame= dataset, title='Most common methods of data breaches')"
   ]
  },
  {
   "cell_type": "code",
   "execution_count": 19,
   "metadata": {},
   "outputs": [
    {
     "data": {
      "text/plain": [
       "Method\n",
       "hacked                                                  176\n",
       "poor security                                            48\n",
       "lost / stolen media                                      32\n",
       "inside job                                               20\n",
       "accidentally published                                   18\n",
       "lost / stolen computer                                   15\n",
       "unknown                                                   5\n",
       "ransomware hacked                                         2\n",
       "poor security/inside job                                  2\n",
       "improper setting, hacked                                  2\n",
       "poor security / hacked                                    1\n",
       "accidentally exposed                                      1\n",
       "intentionally lost                                        1\n",
       "accidentally uploaded                                     1\n",
       "social engineering                                        1\n",
       "hacked and published                                      1\n",
       "leaked and published                                      1\n",
       "publicly accessible Amazon Web Services (AWS) server      1\n",
       "compilation of multiple data breaches                     1\n",
       "inside job, hacked                                        1\n",
       "misconfiguration/poor security                            1\n",
       "unprotected api                                           1\n",
       "unsecured S3 bucket                                       1\n",
       "data exposed by misconfiguration                          1\n",
       "rogue contractor                                          1\n",
       "Name: count, dtype: int64"
      ]
     },
     "execution_count": 19,
     "metadata": {},
     "output_type": "execute_result"
    }
   ],
   "source": [
    "dataset['Method'].value_counts()"
   ]
  },
  {
   "cell_type": "code",
   "execution_count": 20,
   "metadata": {},
   "outputs": [
    {
     "data": {
      "application/vnd.plotly.v1+json": {
       "config": {
        "plotlyServerURL": "https://plot.ly"
       },
       "data": [
        {
         "branchvalues": "total",
         "domain": {
          "x": [
           0,
           1
          ],
          "y": [
           0,
           1
          ]
         },
         "hovertemplate": "labels=%{label}<br>Records=%{value}<br>parent=%{parent}<br>id=%{id}<extra></extra>",
         "ids": [
          "2018 British Airways cyberattack",
          "2019 Bulgarian revenue agency hack",
          "21st Century Oncology",
          "50 companies and government institutions",
          "500px",
          "AOL",
          "AT&T",
          "Accendo Insurance Co.",
          "Adobe Inc.",
          "Adobe Systems Incorporated",
          "Advocate Medical Group",
          "AerServ (subsidiary of InMobi)",
          "Affinity Health Plan, Inc.",
          "Air Canada",
          "Airtel",
          "Ancestry.com",
          "Animal Jam",
          "Ankle & Foot Center of Tampa Bay, Inc.",
          "Anthem Inc.",
          "Apple",
          "Apple Health Medicaid",
          "Apple, Inc./BlueToad",
          "Ashley Madison",
          "Auction.co.kr",
          "Australian National University",
          "Automatic Data Processing",
          "AvMed, Inc.",
          "BMO and Simplii",
          "Bailey's Inc.",
          "Bangladesh Government website data breach",
          "Bank of America",
          "Bell Canada",
          "Benesse",
          "Betfair",
          "Bethesda Game Studios",
          "Blank Media Games",
          "Blizzard Entertainment",
          "BlueCross BlueShield of Tennessee",
          "California Department of Child Support Services",
          "Canva",
          "Capcom",
          "Capital One",
          "CardSystems Solutions Inc.(MasterCard, Visa, Discover Financial Services and American Express)",
          "CareFirst BlueCross Blue Shield - Maryland",
          "Cathay Pacific Airways",
          "Centers for Medicare & Medicaid Services",
          "Central Coast Credit Union",
          "Central Hudson Gas & Electric",
          "Central Intelligence Agency",
          "CheckFree Corporation",
          "CheckPeople",
          "China Software Developer Network",
          "Chinese gaming websites (three: Duowan, 7K7K, 178.com)",
          "Citigroup",
          "City and Hackney Teaching Primary Care Trust",
          "Collection No. 1",
          "Colorado state government",
          "Community Health Systems",
          "Compass Bank",
          "Consumer Financial Protection Bureau",
          "Countrywide Financial Corp",
          "Cox Communications",
          "Crescent Health Inc., Walgreens",
          "CyberServe",
          "DSW Inc.",
          "Dai Nippon Printing",
          "Data Processors International (MasterCard, Visa, Discover Financial Services and American Express)",
          "Dedalus Biologie (a division of Dedalus Global)",
          "Deloitte",
          "Democratic National Committee",
          "Desjardins",
          "Directorate General of Immigration of Indonesia",
          "Directorate General of Population and Civil Registration (Dukcapil)",
          "Domino's Pizza (France)",
          "DoorDash",
          "Dropbox",
          "Drupal",
          "Dubsmash",
          "Dun & Bradstreet",
          "Duolingo",
          "Earl Enterprises (Buca di Beppo, Earl of Sandwich, Planet Hollywood Chicken Guy, Mixology, Tequila Taqueria)",
          "EasyJet",
          "Educational Credit Management Corporation",
          "Eisenhower Medical Center",
          "ElasticSearch",
          "Embassy Cables",
          "Emergency Healthcare Physicians, Ltd.",
          "Emory Healthcare",
          "Equifax",
          "EssilorLuxottica",
          "Evernote",
          "Evide data breach",
          "Exactis",
          "Excellus BlueCross BlueShield",
          "Experian - T-Mobile US",
          "Facebook",
          "Fast Retailing",
          "Federal Reserve Bank of Cleveland",
          "Fidelity National Information Services",
          "First American Corporation",
          "Florida Department of Juvenile Justice",
          "Formspring",
          "Friend Finder Networks",
          "Funimation",
          "GS Caltex",
          "Gamigo",
          "Gap Inc.",
          "Gawker",
          "Global Payments",
          "Gmail",
          "Google Plus",
          "Greek government",
          "Grozio Chirurgija",
          "HCA Healthcare",
          "Hannaford Brothers Supermarket Chain",
          "HauteLook",
          "Health Net",
          "Health Net — IBM",
          "Health Sciences Authority (Singapore)",
          "Heartland",
          "Hewlett Packard",
          "Hilton Hotels",
          "Home Depot",
          "Honda Canada",
          "IKEA",
          "Iberdrola",
          "India Government Aadhar data breach",
          "Instagram",
          "Internal Revenue Service",
          "International Committee of the Red Cross",
          "Inuvik hospital",
          "Iranian banks (three: Saderat, Eghtesad Novin, and Saman)",
          "JP Morgan Chase",
          "Japan Pension Service",
          "Japanet Takata",
          "Jefferson County, West Virginia",
          "Justdial",
          "KDDI",
          "KM.RU",
          "KT Corporation",
          "Kirkwood Community College",
          "Korea Credit Bureau",
          "Kroll Background America",
          "Les Éditions Protégez-vous",
          "LexisNexis",
          "LifeLabs",
          "Lincoln Medical & Mental Health Center",
          "LinkedIn, eHarmony, Last.fm",
          "Living Social",
          "MGM Resorts",
          "MacRumors.com",
          "Manipulated Caiman",
          "Marriott International",
          "Massachusetts Government",
          "Massive American business hack including 7-Eleven and Nasdaq",
          "Medibank & AHM",
          "Medical Informatics Engineering",
          "Memorial Healthcare System",
          "Michaels",
          "Microsoft",
          "Militarysingles.com",
          "Ministry of Education (Chile)",
          "Ministry of Health (Singapore)",
          "Mitsubishi Tokyo UFJ Bank",
          "Mobile TeleSystems (MTS)",
          "MongoDB",
          "Monster.com",
          "Morgan Stanley Smith Barney",
          "Morinaga Confectionery",
          "Mozilla",
          "MyHeritage",
          "NEC Networks, LLC",
          "NHS",
          "NTT Business Solutions",
          "NTT Docomo",
          "National Archives and Records Administration (U.S. military veterans records)",
          "National Guard of the United States",
          "National Health Information Center (NCZI) of Slovakia",
          "Neiman Marcus",
          "Nemours Foundation",
          "Network Solutions",
          "New York City Health & Hospitals Corp.",
          "New York State Electric & Gas",
          "New York Taxis",
          "Nexon Korea Corp",
          "Nintendo (Club Nintendo)",
          "Nintendo (Nintendo Account)",
          "Nippon Television",
          "Nival Networks",
          "Norwegian Tax Administration",
          "Now:Pensions",
          "Office of the Texas Attorney General",
          "Ohio State University",
          "Optus",
          "Orbitz",
          "Patreon",
          "PayPay",
          "Philippine law enforcement agencies (Philippine National Police, National Bureau of Investigation, Bureau of Internal Revenue)",
          "Philippines Commission on Elections",
          "Popsugar",
          "Premera",
          "Puerto Rico Department of Health",
          "Quest Diagnostics",
          "Quora",
          "RBS Worldpay",
          "RENAPER (Argentina)",
          "Rakuten",
          "Rambler.ru",
          "Restaurant Depot",
          "RockYou!",
          "Sakai City, Japan",
          "San Francisco Public Utilities Commission",
          "Scottrade",
          "Scribd",
          "Seacoast Radiology, PA",
          "Sega",
          "Service NSW (New South Wales)",
          "Service Personnel and Veterans Agency (UK)",
          "SingHealth",
          "Slack",
          "SlickWraps",
          "Snapchat",
          "Sony Online Entertainment",
          "Sony Pictures",
          "Sony PlayStation Network",
          "South Africa police",
          "South Carolina Government",
          "South Shore Hospital, Massachusetts",
          "Southern California Medical-Legal Consultants",
          "Spartanburg Regional Healthcare System",
          "Stanford University",
          "Starbucks",
          "State of Texas",
          "Steam",
          "StockX",
          "Stratfor",
          "Sutter Medical Center",
          "Syrian government (Syria Files)",
          "T-Mobile",
          "T-Mobile, Deutsche Telekom",
          "TD Ameritrade",
          "TD Bank",
          "TK / TJ Maxx",
          "Taobao",
          "Target Corporation",
          "Taringa!",
          "TaxSlayer.com",
          "TerraCom & YourTel",
          "Tesla",
          "Tetrad",
          "Texas Lottery",
          "The Bank of New York Mellon",
          "Tianya Club",
          "Ticketfly (subsidiary of Eventbrite)",
          "TikTok",
          "Tokopedia",
          "Tricare",
          "Triple-S Salud, Inc.",
          "Truecaller",
          "Tumblr",
          "Twitter",
          "U.S. Army",
          "U.S. Army (classified Iraq War documents)",
          "U.S. Department of Defense",
          "U.S. Department of Veteran Affairs",
          "U.S. government (United States diplomatic cables leak)",
          "U.S. law enforcement (70 different agencies)",
          "UCLA Medical Center, Santa Monica",
          "UK Driving Standards Agency",
          "UK Home Office",
          "UK Ministry of Defence",
          "UK Revenue & Customs",
          "US Department of Homeland Security",
          "US Medicaid",
          "US Office of Personnel Management",
          "Uber",
          "Ubuntu",
          "Under Armour",
          "United States Postal Service",
          "Universiti Teknologi MARA",
          "University of California, Berkeley",
          "University of Central Florida",
          "University of Maryland, College Park",
          "University of Miami",
          "University of Utah Hospital & Clinics",
          "University of Wisconsin–Milwaukee",
          "Unknown",
          "Unknown agency (believed to be tied to United States Census Bureau)",
          "VTech",
          "Vastaamo",
          "Verifications.io (first leak)",
          "Verifications.io (total leaks)",
          "Verizon Communications",
          "View Media",
          "Virgin Media",
          "Virginia Department of Health",
          "Virginia Prescription Monitoring Program",
          "Vodafone",
          "Walmart",
          "Washington Post",
          "Washington State court system",
          "Wattpad",
          "Wawa (company)",
          "Weebly",
          "Westpac",
          "Writerspace.com",
          "Xat.com",
          "Yahoo",
          "Yahoo Japan",
          "Yahoo! Voices",
          "Yale University",
          "YouTube",
          "Zappos",
          "Zynga",
          "eBay",
          "goregrish.com"
         ],
         "labels": [
          "2018 British Airways cyberattack",
          "2019 Bulgarian revenue agency hack",
          "21st Century Oncology",
          "50 companies and government institutions",
          "500px",
          "AOL",
          "AT&T",
          "Accendo Insurance Co.",
          "Adobe Inc.",
          "Adobe Systems Incorporated",
          "Advocate Medical Group",
          "AerServ (subsidiary of InMobi)",
          "Affinity Health Plan, Inc.",
          "Air Canada",
          "Airtel",
          "Ancestry.com",
          "Animal Jam",
          "Ankle & Foot Center of Tampa Bay, Inc.",
          "Anthem Inc.",
          "Apple",
          "Apple Health Medicaid",
          "Apple, Inc./BlueToad",
          "Ashley Madison",
          "Auction.co.kr",
          "Australian National University",
          "Automatic Data Processing",
          "AvMed, Inc.",
          "BMO and Simplii",
          "Bailey's Inc.",
          "Bangladesh Government website data breach",
          "Bank of America",
          "Bell Canada",
          "Benesse",
          "Betfair",
          "Bethesda Game Studios",
          "Blank Media Games",
          "Blizzard Entertainment",
          "BlueCross BlueShield of Tennessee",
          "California Department of Child Support Services",
          "Canva",
          "Capcom",
          "Capital One",
          "CardSystems Solutions Inc.(MasterCard, Visa, Discover Financial Services and American Express)",
          "CareFirst BlueCross Blue Shield - Maryland",
          "Cathay Pacific Airways",
          "Centers for Medicare & Medicaid Services",
          "Central Coast Credit Union",
          "Central Hudson Gas & Electric",
          "Central Intelligence Agency",
          "CheckFree Corporation",
          "CheckPeople",
          "China Software Developer Network",
          "Chinese gaming websites (three: Duowan, 7K7K, 178.com)",
          "Citigroup",
          "City and Hackney Teaching Primary Care Trust",
          "Collection No. 1",
          "Colorado state government",
          "Community Health Systems",
          "Compass Bank",
          "Consumer Financial Protection Bureau",
          "Countrywide Financial Corp",
          "Cox Communications",
          "Crescent Health Inc., Walgreens",
          "CyberServe",
          "DSW Inc.",
          "Dai Nippon Printing",
          "Data Processors International (MasterCard, Visa, Discover Financial Services and American Express)",
          "Dedalus Biologie (a division of Dedalus Global)",
          "Deloitte",
          "Democratic National Committee",
          "Desjardins",
          "Directorate General of Immigration of Indonesia",
          "Directorate General of Population and Civil Registration (Dukcapil)",
          "Domino's Pizza (France)",
          "DoorDash",
          "Dropbox",
          "Drupal",
          "Dubsmash",
          "Dun & Bradstreet",
          "Duolingo",
          "Earl Enterprises (Buca di Beppo, Earl of Sandwich, Planet Hollywood Chicken Guy, Mixology, Tequila Taqueria)",
          "EasyJet",
          "Educational Credit Management Corporation",
          "Eisenhower Medical Center",
          "ElasticSearch",
          "Embassy Cables",
          "Emergency Healthcare Physicians, Ltd.",
          "Emory Healthcare",
          "Equifax",
          "EssilorLuxottica",
          "Evernote",
          "Evide data breach",
          "Exactis",
          "Excellus BlueCross BlueShield",
          "Experian - T-Mobile US",
          "Facebook",
          "Fast Retailing",
          "Federal Reserve Bank of Cleveland",
          "Fidelity National Information Services",
          "First American Corporation",
          "Florida Department of Juvenile Justice",
          "Formspring",
          "Friend Finder Networks",
          "Funimation",
          "GS Caltex",
          "Gamigo",
          "Gap Inc.",
          "Gawker",
          "Global Payments",
          "Gmail",
          "Google Plus",
          "Greek government",
          "Grozio Chirurgija",
          "HCA Healthcare",
          "Hannaford Brothers Supermarket Chain",
          "HauteLook",
          "Health Net",
          "Health Net — IBM",
          "Health Sciences Authority (Singapore)",
          "Heartland",
          "Hewlett Packard",
          "Hilton Hotels",
          "Home Depot",
          "Honda Canada",
          "IKEA",
          "Iberdrola",
          "India Government Aadhar data breach",
          "Instagram",
          "Internal Revenue Service",
          "International Committee of the Red Cross",
          "Inuvik hospital",
          "Iranian banks (three: Saderat, Eghtesad Novin, and Saman)",
          "JP Morgan Chase",
          "Japan Pension Service",
          "Japanet Takata",
          "Jefferson County, West Virginia",
          "Justdial",
          "KDDI",
          "KM.RU",
          "KT Corporation",
          "Kirkwood Community College",
          "Korea Credit Bureau",
          "Kroll Background America",
          "Les Éditions Protégez-vous",
          "LexisNexis",
          "LifeLabs",
          "Lincoln Medical & Mental Health Center",
          "LinkedIn, eHarmony, Last.fm",
          "Living Social",
          "MGM Resorts",
          "MacRumors.com",
          "Manipulated Caiman",
          "Marriott International",
          "Massachusetts Government",
          "Massive American business hack including 7-Eleven and Nasdaq",
          "Medibank & AHM",
          "Medical Informatics Engineering",
          "Memorial Healthcare System",
          "Michaels",
          "Microsoft",
          "Militarysingles.com",
          "Ministry of Education (Chile)",
          "Ministry of Health (Singapore)",
          "Mitsubishi Tokyo UFJ Bank",
          "Mobile TeleSystems (MTS)",
          "MongoDB",
          "Monster.com",
          "Morgan Stanley Smith Barney",
          "Morinaga Confectionery",
          "Mozilla",
          "MyHeritage",
          "NEC Networks, LLC",
          "NHS",
          "NTT Business Solutions",
          "NTT Docomo",
          "National Archives and Records Administration (U.S. military veterans records)",
          "National Guard of the United States",
          "National Health Information Center (NCZI) of Slovakia",
          "Neiman Marcus",
          "Nemours Foundation",
          "Network Solutions",
          "New York City Health & Hospitals Corp.",
          "New York State Electric & Gas",
          "New York Taxis",
          "Nexon Korea Corp",
          "Nintendo (Club Nintendo)",
          "Nintendo (Nintendo Account)",
          "Nippon Television",
          "Nival Networks",
          "Norwegian Tax Administration",
          "Now:Pensions",
          "Office of the Texas Attorney General",
          "Ohio State University",
          "Optus",
          "Orbitz",
          "Patreon",
          "PayPay",
          "Philippine law enforcement agencies (Philippine National Police, National Bureau of Investigation, Bureau of Internal Revenue)",
          "Philippines Commission on Elections",
          "Popsugar",
          "Premera",
          "Puerto Rico Department of Health",
          "Quest Diagnostics",
          "Quora",
          "RBS Worldpay",
          "RENAPER (Argentina)",
          "Rakuten",
          "Rambler.ru",
          "Restaurant Depot",
          "RockYou!",
          "Sakai City, Japan",
          "San Francisco Public Utilities Commission",
          "Scottrade",
          "Scribd",
          "Seacoast Radiology, PA",
          "Sega",
          "Service NSW (New South Wales)",
          "Service Personnel and Veterans Agency (UK)",
          "SingHealth",
          "Slack",
          "SlickWraps",
          "Snapchat",
          "Sony Online Entertainment",
          "Sony Pictures",
          "Sony PlayStation Network",
          "South Africa police",
          "South Carolina Government",
          "South Shore Hospital, Massachusetts",
          "Southern California Medical-Legal Consultants",
          "Spartanburg Regional Healthcare System",
          "Stanford University",
          "Starbucks",
          "State of Texas",
          "Steam",
          "StockX",
          "Stratfor",
          "Sutter Medical Center",
          "Syrian government (Syria Files)",
          "T-Mobile",
          "T-Mobile, Deutsche Telekom",
          "TD Ameritrade",
          "TD Bank",
          "TK / TJ Maxx",
          "Taobao",
          "Target Corporation",
          "Taringa!",
          "TaxSlayer.com",
          "TerraCom & YourTel",
          "Tesla",
          "Tetrad",
          "Texas Lottery",
          "The Bank of New York Mellon",
          "Tianya Club",
          "Ticketfly (subsidiary of Eventbrite)",
          "TikTok",
          "Tokopedia",
          "Tricare",
          "Triple-S Salud, Inc.",
          "Truecaller",
          "Tumblr",
          "Twitter",
          "U.S. Army",
          "U.S. Army (classified Iraq War documents)",
          "U.S. Department of Defense",
          "U.S. Department of Veteran Affairs",
          "U.S. government (United States diplomatic cables leak)",
          "U.S. law enforcement (70 different agencies)",
          "UCLA Medical Center, Santa Monica",
          "UK Driving Standards Agency",
          "UK Home Office",
          "UK Ministry of Defence",
          "UK Revenue & Customs",
          "US Department of Homeland Security",
          "US Medicaid",
          "US Office of Personnel Management",
          "Uber",
          "Ubuntu",
          "Under Armour",
          "United States Postal Service",
          "Universiti Teknologi MARA",
          "University of California, Berkeley",
          "University of Central Florida",
          "University of Maryland, College Park",
          "University of Miami",
          "University of Utah Hospital & Clinics",
          "University of Wisconsin–Milwaukee",
          "Unknown",
          "Unknown agency (believed to be tied to United States Census Bureau)",
          "VTech",
          "Vastaamo",
          "Verifications.io (first leak)",
          "Verifications.io (total leaks)",
          "Verizon Communications",
          "View Media",
          "Virgin Media",
          "Virginia Department of Health",
          "Virginia Prescription Monitoring Program",
          "Vodafone",
          "Walmart",
          "Washington Post",
          "Washington State court system",
          "Wattpad",
          "Wawa (company)",
          "Weebly",
          "Westpac",
          "Writerspace.com",
          "Xat.com",
          "Yahoo",
          "Yahoo Japan",
          "Yahoo! Voices",
          "Yale University",
          "YouTube",
          "Zappos",
          "Zynga",
          "eBay",
          "goregrish.com"
         ],
         "name": "",
         "parents": [
          "",
          "",
          "",
          "",
          "",
          "",
          "",
          "",
          "",
          "",
          "",
          "",
          "",
          "",
          "",
          "",
          "",
          "",
          "",
          "",
          "",
          "",
          "",
          "",
          "",
          "",
          "",
          "",
          "",
          "",
          "",
          "",
          "",
          "",
          "",
          "",
          "",
          "",
          "",
          "",
          "",
          "",
          "",
          "",
          "",
          "",
          "",
          "",
          "",
          "",
          "",
          "",
          "",
          "",
          "",
          "",
          "",
          "",
          "",
          "",
          "",
          "",
          "",
          "",
          "",
          "",
          "",
          "",
          "",
          "",
          "",
          "",
          "",
          "",
          "",
          "",
          "",
          "",
          "",
          "",
          "",
          "",
          "",
          "",
          "",
          "",
          "",
          "",
          "",
          "",
          "",
          "",
          "",
          "",
          "",
          "",
          "",
          "",
          "",
          "",
          "",
          "",
          "",
          "",
          "",
          "",
          "",
          "",
          "",
          "",
          "",
          "",
          "",
          "",
          "",
          "",
          "",
          "",
          "",
          "",
          "",
          "",
          "",
          "",
          "",
          "",
          "",
          "",
          "",
          "",
          "",
          "",
          "",
          "",
          "",
          "",
          "",
          "",
          "",
          "",
          "",
          "",
          "",
          "",
          "",
          "",
          "",
          "",
          "",
          "",
          "",
          "",
          "",
          "",
          "",
          "",
          "",
          "",
          "",
          "",
          "",
          "",
          "",
          "",
          "",
          "",
          "",
          "",
          "",
          "",
          "",
          "",
          "",
          "",
          "",
          "",
          "",
          "",
          "",
          "",
          "",
          "",
          "",
          "",
          "",
          "",
          "",
          "",
          "",
          "",
          "",
          "",
          "",
          "",
          "",
          "",
          "",
          "",
          "",
          "",
          "",
          "",
          "",
          "",
          "",
          "",
          "",
          "",
          "",
          "",
          "",
          "",
          "",
          "",
          "",
          "",
          "",
          "",
          "",
          "",
          "",
          "",
          "",
          "",
          "",
          "",
          "",
          "",
          "",
          "",
          "",
          "",
          "",
          "",
          "",
          "",
          "",
          "",
          "",
          "",
          "",
          "",
          "",
          "",
          "",
          "",
          "",
          "",
          "",
          "",
          "",
          "",
          "",
          "",
          "",
          "",
          "",
          "",
          "",
          "",
          "",
          "",
          "",
          "",
          "",
          "",
          "",
          "",
          "",
          "",
          "",
          "",
          "",
          "",
          "",
          "",
          "",
          "",
          "",
          "",
          "",
          "",
          "",
          "",
          "",
          "",
          "",
          "",
          "",
          "",
          "",
          "",
          "",
          "",
          "",
          "",
          "",
          "",
          "",
          "",
          "",
          "",
          "",
          "",
          "",
          "",
          "",
          "",
          "",
          "",
          "",
          "",
          "",
          "",
          "",
          ""
         ],
         "type": "sunburst",
         "values": [
          500000,
          5000000,
          2200000,
          6400000,
          14870304,
          114400000,
          227000,
          175350,
          7500000,
          152000000,
          4000000,
          75000,
          344579,
          20000,
          320000000,
          300000,
          46000000,
          156000,
          80000000,
          275000,
          91000,
          12367232,
          32000000,
          18000000,
          200000,
          125000,
          1220000,
          90000,
          250000,
          50000000,
          1200000,
          2000000,
          35040000,
          2300000,
          200000,
          7633234,
          14000000,
          1023209,
          800000,
          140000000,
          350000,
          106000000,
          40000000,
          1100000,
          9400000,
          75000,
          60000,
          110000,
          91,
          5000000,
          56000000,
          6000000,
          10000000,
          4410083,
          160000,
          773000000,
          105470,
          4500000,
          1000000,
          256000,
          5100000,
          40000,
          100000,
          1107034,
          1400000,
          8637405,
          8000000,
          500000,
          350,
          19252,
          9700000,
          34900867,
          337225463,
          600000,
          4900000,
          68648009,
          1000000,
          162000000,
          1000000,
          2676696,
          2000000,
          9002208,
          3300000,
          514330,
          108000000,
          251000,
          180111,
          315000,
          163119000,
          77093812,
          50000000,
          1000,
          340000000,
          10000000,
          15000000,
          864500000,
          461091,
          400000,
          8500000,
          885000000,
          100000,
          420000,
          412214295,
          2500000,
          11100000,
          8000000,
          800000,
          1500000,
          7000000,
          5000000,
          500000,
          9000000,
          25000,
          11270000,
          4200000,
          28517244,
          500000,
          1900000,
          808000,
          130000000,
          200000,
          363000,
          56000000,
          283000,
          95000,
          1300000,
          810000000,
          200000000,
          720000,
          515000,
          6700,
          3000000,
          78600000,
          1250000,
          510000,
          1600000,
          100000000,
          4000000,
          1500000,
          8700000,
          125000,
          20000000,
          1000000,
          380000,
          1000000,
          15000000,
          130495,
          8000000,
          50000000,
          10600000,
          860000,
          40000000,
          505200000,
          210000,
          160000000,
          9700000,
          3900000,
          102153,
          3000000,
          250000000,
          163792,
          6000000,
          14200,
          960000,
          100000000,
          477000000,
          1600000,
          34000,
          1648922,
          76000,
          92283889,
          1600000,
          8300000,
          9000000,
          5960000,
          76000000,
          131000,
          391250,
          1100000,
          1055489,
          573000,
          1700000,
          1800000,
          52000,
          13200000,
          240000,
          160000,
          430000,
          1500000,
          3950000,
          30000,
          6500000,
          760000,
          9800000,
          880000,
          2300000,
          20076016,
          1279437,
          55000000,
          123857,
          11000000,
          515000,
          11900000,
          100000000,
          1500000,
          45000000,
          1381735,
          98167935,
          200000,
          32000000,
          680000,
          180000,
          4600000,
          500000,
          231400,
          1290755,
          104000,
          50500,
          1500000,
          500000,
          377428,
          4700000,
          24600000,
          1000000,
          77000000,
          16000,
          6400000,
          800000,
          300000,
          400000,
          72000,
          97000,
          3500000,
          35000000,
          6800000,
          935000,
          4243434,
          2434899,
          82000000,
          17000000,
          6500000,
          260000,
          94000000,
          20000000,
          110000000,
          28722877,
          8800,
          170000,
          75000,
          120000000,
          89000,
          12500000,
          28000000,
          26151608,
          42000000,
          91000000,
          4901432,
          398000,
          299055000,
          65469298,
          250000,
          50000,
          392000,
          72000,
          26500000,
          260000,
          123461,
          4500000,
          3000000,
          84000,
          1700000,
          25000000,
          30000,
          780000,
          21500000,
          57050000,
          2000000,
          150000000,
          60000000,
          1164540,
          240000,
          63000,
          300000,
          2100000,
          2200000,
          73000,
          201000000,
          200000000,
          5000000,
          130000,
          809000000,
          2000000000,
          1500000,
          38000000,
          900000,
          8257378,
          531400,
          2000000,
          1300000,
          1270000,
          160000,
          270000000,
          30000000,
          43430316,
          98000,
          62000,
          6054459,
          3500000000,
          22000000,
          450000,
          43000,
          4000000,
          24000000,
          173000000,
          145000000,
          300000
         ]
        }
       ],
       "layout": {
        "height": 1000,
        "legend": {
         "tracegroupgap": 0
        },
        "template": {
         "data": {
          "bar": [
           {
            "error_x": {
             "color": "#2a3f5f"
            },
            "error_y": {
             "color": "#2a3f5f"
            },
            "marker": {
             "line": {
              "color": "#E5ECF6",
              "width": 0.5
             },
             "pattern": {
              "fillmode": "overlay",
              "size": 10,
              "solidity": 0.2
             }
            },
            "type": "bar"
           }
          ],
          "barpolar": [
           {
            "marker": {
             "line": {
              "color": "#E5ECF6",
              "width": 0.5
             },
             "pattern": {
              "fillmode": "overlay",
              "size": 10,
              "solidity": 0.2
             }
            },
            "type": "barpolar"
           }
          ],
          "carpet": [
           {
            "aaxis": {
             "endlinecolor": "#2a3f5f",
             "gridcolor": "white",
             "linecolor": "white",
             "minorgridcolor": "white",
             "startlinecolor": "#2a3f5f"
            },
            "baxis": {
             "endlinecolor": "#2a3f5f",
             "gridcolor": "white",
             "linecolor": "white",
             "minorgridcolor": "white",
             "startlinecolor": "#2a3f5f"
            },
            "type": "carpet"
           }
          ],
          "choropleth": [
           {
            "colorbar": {
             "outlinewidth": 0,
             "ticks": ""
            },
            "type": "choropleth"
           }
          ],
          "contour": [
           {
            "colorbar": {
             "outlinewidth": 0,
             "ticks": ""
            },
            "colorscale": [
             [
              0,
              "#0d0887"
             ],
             [
              0.1111111111111111,
              "#46039f"
             ],
             [
              0.2222222222222222,
              "#7201a8"
             ],
             [
              0.3333333333333333,
              "#9c179e"
             ],
             [
              0.4444444444444444,
              "#bd3786"
             ],
             [
              0.5555555555555556,
              "#d8576b"
             ],
             [
              0.6666666666666666,
              "#ed7953"
             ],
             [
              0.7777777777777778,
              "#fb9f3a"
             ],
             [
              0.8888888888888888,
              "#fdca26"
             ],
             [
              1,
              "#f0f921"
             ]
            ],
            "type": "contour"
           }
          ],
          "contourcarpet": [
           {
            "colorbar": {
             "outlinewidth": 0,
             "ticks": ""
            },
            "type": "contourcarpet"
           }
          ],
          "heatmap": [
           {
            "colorbar": {
             "outlinewidth": 0,
             "ticks": ""
            },
            "colorscale": [
             [
              0,
              "#0d0887"
             ],
             [
              0.1111111111111111,
              "#46039f"
             ],
             [
              0.2222222222222222,
              "#7201a8"
             ],
             [
              0.3333333333333333,
              "#9c179e"
             ],
             [
              0.4444444444444444,
              "#bd3786"
             ],
             [
              0.5555555555555556,
              "#d8576b"
             ],
             [
              0.6666666666666666,
              "#ed7953"
             ],
             [
              0.7777777777777778,
              "#fb9f3a"
             ],
             [
              0.8888888888888888,
              "#fdca26"
             ],
             [
              1,
              "#f0f921"
             ]
            ],
            "type": "heatmap"
           }
          ],
          "heatmapgl": [
           {
            "colorbar": {
             "outlinewidth": 0,
             "ticks": ""
            },
            "colorscale": [
             [
              0,
              "#0d0887"
             ],
             [
              0.1111111111111111,
              "#46039f"
             ],
             [
              0.2222222222222222,
              "#7201a8"
             ],
             [
              0.3333333333333333,
              "#9c179e"
             ],
             [
              0.4444444444444444,
              "#bd3786"
             ],
             [
              0.5555555555555556,
              "#d8576b"
             ],
             [
              0.6666666666666666,
              "#ed7953"
             ],
             [
              0.7777777777777778,
              "#fb9f3a"
             ],
             [
              0.8888888888888888,
              "#fdca26"
             ],
             [
              1,
              "#f0f921"
             ]
            ],
            "type": "heatmapgl"
           }
          ],
          "histogram": [
           {
            "marker": {
             "pattern": {
              "fillmode": "overlay",
              "size": 10,
              "solidity": 0.2
             }
            },
            "type": "histogram"
           }
          ],
          "histogram2d": [
           {
            "colorbar": {
             "outlinewidth": 0,
             "ticks": ""
            },
            "colorscale": [
             [
              0,
              "#0d0887"
             ],
             [
              0.1111111111111111,
              "#46039f"
             ],
             [
              0.2222222222222222,
              "#7201a8"
             ],
             [
              0.3333333333333333,
              "#9c179e"
             ],
             [
              0.4444444444444444,
              "#bd3786"
             ],
             [
              0.5555555555555556,
              "#d8576b"
             ],
             [
              0.6666666666666666,
              "#ed7953"
             ],
             [
              0.7777777777777778,
              "#fb9f3a"
             ],
             [
              0.8888888888888888,
              "#fdca26"
             ],
             [
              1,
              "#f0f921"
             ]
            ],
            "type": "histogram2d"
           }
          ],
          "histogram2dcontour": [
           {
            "colorbar": {
             "outlinewidth": 0,
             "ticks": ""
            },
            "colorscale": [
             [
              0,
              "#0d0887"
             ],
             [
              0.1111111111111111,
              "#46039f"
             ],
             [
              0.2222222222222222,
              "#7201a8"
             ],
             [
              0.3333333333333333,
              "#9c179e"
             ],
             [
              0.4444444444444444,
              "#bd3786"
             ],
             [
              0.5555555555555556,
              "#d8576b"
             ],
             [
              0.6666666666666666,
              "#ed7953"
             ],
             [
              0.7777777777777778,
              "#fb9f3a"
             ],
             [
              0.8888888888888888,
              "#fdca26"
             ],
             [
              1,
              "#f0f921"
             ]
            ],
            "type": "histogram2dcontour"
           }
          ],
          "mesh3d": [
           {
            "colorbar": {
             "outlinewidth": 0,
             "ticks": ""
            },
            "type": "mesh3d"
           }
          ],
          "parcoords": [
           {
            "line": {
             "colorbar": {
              "outlinewidth": 0,
              "ticks": ""
             }
            },
            "type": "parcoords"
           }
          ],
          "pie": [
           {
            "automargin": true,
            "type": "pie"
           }
          ],
          "scatter": [
           {
            "fillpattern": {
             "fillmode": "overlay",
             "size": 10,
             "solidity": 0.2
            },
            "type": "scatter"
           }
          ],
          "scatter3d": [
           {
            "line": {
             "colorbar": {
              "outlinewidth": 0,
              "ticks": ""
             }
            },
            "marker": {
             "colorbar": {
              "outlinewidth": 0,
              "ticks": ""
             }
            },
            "type": "scatter3d"
           }
          ],
          "scattercarpet": [
           {
            "marker": {
             "colorbar": {
              "outlinewidth": 0,
              "ticks": ""
             }
            },
            "type": "scattercarpet"
           }
          ],
          "scattergeo": [
           {
            "marker": {
             "colorbar": {
              "outlinewidth": 0,
              "ticks": ""
             }
            },
            "type": "scattergeo"
           }
          ],
          "scattergl": [
           {
            "marker": {
             "colorbar": {
              "outlinewidth": 0,
              "ticks": ""
             }
            },
            "type": "scattergl"
           }
          ],
          "scattermapbox": [
           {
            "marker": {
             "colorbar": {
              "outlinewidth": 0,
              "ticks": ""
             }
            },
            "type": "scattermapbox"
           }
          ],
          "scatterpolar": [
           {
            "marker": {
             "colorbar": {
              "outlinewidth": 0,
              "ticks": ""
             }
            },
            "type": "scatterpolar"
           }
          ],
          "scatterpolargl": [
           {
            "marker": {
             "colorbar": {
              "outlinewidth": 0,
              "ticks": ""
             }
            },
            "type": "scatterpolargl"
           }
          ],
          "scatterternary": [
           {
            "marker": {
             "colorbar": {
              "outlinewidth": 0,
              "ticks": ""
             }
            },
            "type": "scatterternary"
           }
          ],
          "surface": [
           {
            "colorbar": {
             "outlinewidth": 0,
             "ticks": ""
            },
            "colorscale": [
             [
              0,
              "#0d0887"
             ],
             [
              0.1111111111111111,
              "#46039f"
             ],
             [
              0.2222222222222222,
              "#7201a8"
             ],
             [
              0.3333333333333333,
              "#9c179e"
             ],
             [
              0.4444444444444444,
              "#bd3786"
             ],
             [
              0.5555555555555556,
              "#d8576b"
             ],
             [
              0.6666666666666666,
              "#ed7953"
             ],
             [
              0.7777777777777778,
              "#fb9f3a"
             ],
             [
              0.8888888888888888,
              "#fdca26"
             ],
             [
              1,
              "#f0f921"
             ]
            ],
            "type": "surface"
           }
          ],
          "table": [
           {
            "cells": {
             "fill": {
              "color": "#EBF0F8"
             },
             "line": {
              "color": "white"
             }
            },
            "header": {
             "fill": {
              "color": "#C8D4E3"
             },
             "line": {
              "color": "white"
             }
            },
            "type": "table"
           }
          ]
         },
         "layout": {
          "annotationdefaults": {
           "arrowcolor": "#2a3f5f",
           "arrowhead": 0,
           "arrowwidth": 1
          },
          "autotypenumbers": "strict",
          "coloraxis": {
           "colorbar": {
            "outlinewidth": 0,
            "ticks": ""
           }
          },
          "colorscale": {
           "diverging": [
            [
             0,
             "#8e0152"
            ],
            [
             0.1,
             "#c51b7d"
            ],
            [
             0.2,
             "#de77ae"
            ],
            [
             0.3,
             "#f1b6da"
            ],
            [
             0.4,
             "#fde0ef"
            ],
            [
             0.5,
             "#f7f7f7"
            ],
            [
             0.6,
             "#e6f5d0"
            ],
            [
             0.7,
             "#b8e186"
            ],
            [
             0.8,
             "#7fbc41"
            ],
            [
             0.9,
             "#4d9221"
            ],
            [
             1,
             "#276419"
            ]
           ],
           "sequential": [
            [
             0,
             "#0d0887"
            ],
            [
             0.1111111111111111,
             "#46039f"
            ],
            [
             0.2222222222222222,
             "#7201a8"
            ],
            [
             0.3333333333333333,
             "#9c179e"
            ],
            [
             0.4444444444444444,
             "#bd3786"
            ],
            [
             0.5555555555555556,
             "#d8576b"
            ],
            [
             0.6666666666666666,
             "#ed7953"
            ],
            [
             0.7777777777777778,
             "#fb9f3a"
            ],
            [
             0.8888888888888888,
             "#fdca26"
            ],
            [
             1,
             "#f0f921"
            ]
           ],
           "sequentialminus": [
            [
             0,
             "#0d0887"
            ],
            [
             0.1111111111111111,
             "#46039f"
            ],
            [
             0.2222222222222222,
             "#7201a8"
            ],
            [
             0.3333333333333333,
             "#9c179e"
            ],
            [
             0.4444444444444444,
             "#bd3786"
            ],
            [
             0.5555555555555556,
             "#d8576b"
            ],
            [
             0.6666666666666666,
             "#ed7953"
            ],
            [
             0.7777777777777778,
             "#fb9f3a"
            ],
            [
             0.8888888888888888,
             "#fdca26"
            ],
            [
             1,
             "#f0f921"
            ]
           ]
          },
          "colorway": [
           "#636efa",
           "#EF553B",
           "#00cc96",
           "#ab63fa",
           "#FFA15A",
           "#19d3f3",
           "#FF6692",
           "#B6E880",
           "#FF97FF",
           "#FECB52"
          ],
          "font": {
           "color": "#2a3f5f"
          },
          "geo": {
           "bgcolor": "white",
           "lakecolor": "white",
           "landcolor": "#E5ECF6",
           "showlakes": true,
           "showland": true,
           "subunitcolor": "white"
          },
          "hoverlabel": {
           "align": "left"
          },
          "hovermode": "closest",
          "mapbox": {
           "style": "light"
          },
          "paper_bgcolor": "white",
          "plot_bgcolor": "#E5ECF6",
          "polar": {
           "angularaxis": {
            "gridcolor": "white",
            "linecolor": "white",
            "ticks": ""
           },
           "bgcolor": "#E5ECF6",
           "radialaxis": {
            "gridcolor": "white",
            "linecolor": "white",
            "ticks": ""
           }
          },
          "scene": {
           "xaxis": {
            "backgroundcolor": "#E5ECF6",
            "gridcolor": "white",
            "gridwidth": 2,
            "linecolor": "white",
            "showbackground": true,
            "ticks": "",
            "zerolinecolor": "white"
           },
           "yaxis": {
            "backgroundcolor": "#E5ECF6",
            "gridcolor": "white",
            "gridwidth": 2,
            "linecolor": "white",
            "showbackground": true,
            "ticks": "",
            "zerolinecolor": "white"
           },
           "zaxis": {
            "backgroundcolor": "#E5ECF6",
            "gridcolor": "white",
            "gridwidth": 2,
            "linecolor": "white",
            "showbackground": true,
            "ticks": "",
            "zerolinecolor": "white"
           }
          },
          "shapedefaults": {
           "line": {
            "color": "#2a3f5f"
           }
          },
          "ternary": {
           "aaxis": {
            "gridcolor": "white",
            "linecolor": "white",
            "ticks": ""
           },
           "baxis": {
            "gridcolor": "white",
            "linecolor": "white",
            "ticks": ""
           },
           "bgcolor": "#E5ECF6",
           "caxis": {
            "gridcolor": "white",
            "linecolor": "white",
            "ticks": ""
           }
          },
          "title": {
           "x": 0.05
          },
          "xaxis": {
           "automargin": true,
           "gridcolor": "white",
           "linecolor": "white",
           "ticks": "",
           "title": {
            "standoff": 15
           },
           "zerolinecolor": "white",
           "zerolinewidth": 2
          },
          "yaxis": {
           "automargin": true,
           "gridcolor": "white",
           "linecolor": "white",
           "ticks": "",
           "title": {
            "standoff": 15
           },
           "zerolinecolor": "white",
           "zerolinewidth": 2
          }
         }
        },
        "title": {
         "text": "Number of records breached for each entity"
        }
       }
      }
     },
     "metadata": {},
     "output_type": "display_data"
    }
   ],
   "source": [
    "#Plot a sunburst chart to show the number of records breached for each entity\n",
    "fig = px.sunburst(dataset, path=['Entity'], values='Records', title='Number of records breached for each entity', height=1000)\n",
    "fig.show()"
   ]
  },
  {
   "cell_type": "code",
   "execution_count": 21,
   "metadata": {},
   "outputs": [
    {
     "data": {
      "text/plain": [
       "Entity\n",
       "2018 British Airways cyberattack               500000.0\n",
       "2019 Bulgarian revenue agency hack            5000000.0\n",
       "21st Century Oncology                         2200000.0\n",
       "50 companies and government institutions      6400000.0\n",
       "500px                                        14870304.0\n",
       "                                               ...     \n",
       "YouTube                                       4000000.0\n",
       "Zappos                                       24000000.0\n",
       "Zynga                                       173000000.0\n",
       "eBay                                        145000000.0\n",
       "goregrish.com                                  300000.0\n",
       "Name: Records, Length: 316, dtype: float64"
      ]
     },
     "execution_count": 21,
     "metadata": {},
     "output_type": "execute_result"
    }
   ],
   "source": [
    "dataset.groupby('Entity')['Records'].sum()"
   ]
  },
  {
   "cell_type": "code",
   "execution_count": 22,
   "metadata": {},
   "outputs": [
    {
     "data": {
      "text/html": [
       "<div>\n",
       "<style scoped>\n",
       "    .dataframe tbody tr th:only-of-type {\n",
       "        vertical-align: middle;\n",
       "    }\n",
       "\n",
       "    .dataframe tbody tr th {\n",
       "        vertical-align: top;\n",
       "    }\n",
       "\n",
       "    .dataframe thead th {\n",
       "        text-align: right;\n",
       "    }\n",
       "</style>\n",
       "<table border=\"1\" class=\"dataframe\">\n",
       "  <thead>\n",
       "    <tr style=\"text-align: right;\">\n",
       "      <th></th>\n",
       "      <th>Entity</th>\n",
       "      <th>Year</th>\n",
       "      <th>Records</th>\n",
       "      <th>Organization type</th>\n",
       "      <th>Method</th>\n",
       "    </tr>\n",
       "  </thead>\n",
       "  <tbody>\n",
       "    <tr>\n",
       "      <th>0</th>\n",
       "      <td>Yahoo</td>\n",
       "      <td>2013</td>\n",
       "      <td>3.000000e+09</td>\n",
       "      <td>web</td>\n",
       "      <td>hacked</td>\n",
       "    </tr>\n",
       "    <tr>\n",
       "      <th>7</th>\n",
       "      <td>Marriott International</td>\n",
       "      <td>2018</td>\n",
       "      <td>5.000000e+08</td>\n",
       "      <td>hotel</td>\n",
       "      <td>hacked</td>\n",
       "    </tr>\n",
       "    <tr>\n",
       "      <th>8</th>\n",
       "      <td>Yahoo</td>\n",
       "      <td>2014</td>\n",
       "      <td>5.000000e+08</td>\n",
       "      <td>web</td>\n",
       "      <td>hacked</td>\n",
       "    </tr>\n",
       "    <tr>\n",
       "      <th>15</th>\n",
       "      <td>Wattpad</td>\n",
       "      <td>2020</td>\n",
       "      <td>2.700000e+08</td>\n",
       "      <td>web</td>\n",
       "      <td>hacked</td>\n",
       "    </tr>\n",
       "    <tr>\n",
       "      <th>22</th>\n",
       "      <td>Zynga</td>\n",
       "      <td>2019</td>\n",
       "      <td>1.730000e+08</td>\n",
       "      <td>social network</td>\n",
       "      <td>hacked</td>\n",
       "    </tr>\n",
       "    <tr>\n",
       "      <th>...</th>\n",
       "      <td>...</td>\n",
       "      <td>...</td>\n",
       "      <td>...</td>\n",
       "      <td>...</td>\n",
       "      <td>...</td>\n",
       "    </tr>\n",
       "    <tr>\n",
       "      <th>325</th>\n",
       "      <td>Grozio Chirurgija</td>\n",
       "      <td>2017</td>\n",
       "      <td>2.500000e+04</td>\n",
       "      <td>healthcare</td>\n",
       "      <td>hacked</td>\n",
       "    </tr>\n",
       "    <tr>\n",
       "      <th>326</th>\n",
       "      <td>Air Canada</td>\n",
       "      <td>2018</td>\n",
       "      <td>2.000000e+04</td>\n",
       "      <td>transport</td>\n",
       "      <td>hacked</td>\n",
       "    </tr>\n",
       "    <tr>\n",
       "      <th>327</th>\n",
       "      <td>Democratic National Committee</td>\n",
       "      <td>2016</td>\n",
       "      <td>1.925200e+04</td>\n",
       "      <td>political</td>\n",
       "      <td>hacked</td>\n",
       "    </tr>\n",
       "    <tr>\n",
       "      <th>328</th>\n",
       "      <td>South Africa police</td>\n",
       "      <td>2013</td>\n",
       "      <td>1.600000e+04</td>\n",
       "      <td>government</td>\n",
       "      <td>hacked</td>\n",
       "    </tr>\n",
       "    <tr>\n",
       "      <th>330</th>\n",
       "      <td>TaxSlayer.com</td>\n",
       "      <td>2016</td>\n",
       "      <td>8.800000e+03</td>\n",
       "      <td>web</td>\n",
       "      <td>hacked</td>\n",
       "    </tr>\n",
       "  </tbody>\n",
       "</table>\n",
       "<p>176 rows × 5 columns</p>\n",
       "</div>"
      ],
      "text/plain": [
       "                            Entity  Year       Records Organization type  \\\n",
       "0                            Yahoo  2013  3.000000e+09               web   \n",
       "7           Marriott International  2018  5.000000e+08             hotel   \n",
       "8                            Yahoo  2014  5.000000e+08               web   \n",
       "15                         Wattpad  2020  2.700000e+08               web   \n",
       "22                           Zynga  2019  1.730000e+08    social network   \n",
       "..                             ...   ...           ...               ...   \n",
       "325              Grozio Chirurgija  2017  2.500000e+04        healthcare   \n",
       "326                     Air Canada  2018  2.000000e+04         transport   \n",
       "327  Democratic National Committee  2016  1.925200e+04         political   \n",
       "328            South Africa police  2013  1.600000e+04        government   \n",
       "330                  TaxSlayer.com  2016  8.800000e+03               web   \n",
       "\n",
       "     Method  \n",
       "0    hacked  \n",
       "7    hacked  \n",
       "8    hacked  \n",
       "15   hacked  \n",
       "22   hacked  \n",
       "..      ...  \n",
       "325  hacked  \n",
       "326  hacked  \n",
       "327  hacked  \n",
       "328  hacked  \n",
       "330  hacked  \n",
       "\n",
       "[176 rows x 5 columns]"
      ]
     },
     "execution_count": 22,
     "metadata": {},
     "output_type": "execute_result"
    }
   ],
   "source": [
    "dataset[dataset['Method'] == 'hacked']"
   ]
  },
  {
   "cell_type": "code",
   "execution_count": 23,
   "metadata": {},
   "outputs": [
    {
     "data": {
      "text/html": [
       "<div>\n",
       "<style scoped>\n",
       "    .dataframe tbody tr th:only-of-type {\n",
       "        vertical-align: middle;\n",
       "    }\n",
       "\n",
       "    .dataframe tbody tr th {\n",
       "        vertical-align: top;\n",
       "    }\n",
       "\n",
       "    .dataframe thead th {\n",
       "        text-align: right;\n",
       "    }\n",
       "</style>\n",
       "<table border=\"1\" class=\"dataframe\">\n",
       "  <thead>\n",
       "    <tr style=\"text-align: right;\">\n",
       "      <th></th>\n",
       "      <th>Entity</th>\n",
       "      <th>Year</th>\n",
       "      <th>Records</th>\n",
       "      <th>Organization type</th>\n",
       "      <th>Method</th>\n",
       "    </tr>\n",
       "  </thead>\n",
       "  <tbody>\n",
       "    <tr>\n",
       "      <th>0</th>\n",
       "      <td>Yahoo</td>\n",
       "      <td>2013</td>\n",
       "      <td>3.000000e+09</td>\n",
       "      <td>web</td>\n",
       "      <td>hacked</td>\n",
       "    </tr>\n",
       "    <tr>\n",
       "      <th>8</th>\n",
       "      <td>Yahoo</td>\n",
       "      <td>2014</td>\n",
       "      <td>5.000000e+08</td>\n",
       "      <td>web</td>\n",
       "      <td>hacked</td>\n",
       "    </tr>\n",
       "    <tr>\n",
       "      <th>9</th>\n",
       "      <td>Friend Finder Networks</td>\n",
       "      <td>2016</td>\n",
       "      <td>4.122143e+08</td>\n",
       "      <td>web</td>\n",
       "      <td>poor security / hacked</td>\n",
       "    </tr>\n",
       "    <tr>\n",
       "      <th>15</th>\n",
       "      <td>Wattpad</td>\n",
       "      <td>2020</td>\n",
       "      <td>2.700000e+08</td>\n",
       "      <td>web</td>\n",
       "      <td>hacked</td>\n",
       "    </tr>\n",
       "    <tr>\n",
       "      <th>28</th>\n",
       "      <td>eBay</td>\n",
       "      <td>2014</td>\n",
       "      <td>1.450000e+08</td>\n",
       "      <td>web</td>\n",
       "      <td>hacked</td>\n",
       "    </tr>\n",
       "    <tr>\n",
       "      <th>29</th>\n",
       "      <td>Canva</td>\n",
       "      <td>2019</td>\n",
       "      <td>1.400000e+08</td>\n",
       "      <td>web</td>\n",
       "      <td>hacked</td>\n",
       "    </tr>\n",
       "    <tr>\n",
       "      <th>38</th>\n",
       "      <td>Rambler.ru</td>\n",
       "      <td>2012</td>\n",
       "      <td>9.816794e+07</td>\n",
       "      <td>web</td>\n",
       "      <td>hacked</td>\n",
       "    </tr>\n",
       "    <tr>\n",
       "      <th>41</th>\n",
       "      <td>AOL</td>\n",
       "      <td>2004</td>\n",
       "      <td>9.200000e+07</td>\n",
       "      <td>web</td>\n",
       "      <td>inside job, hacked</td>\n",
       "    </tr>\n",
       "    <tr>\n",
       "      <th>48</th>\n",
       "      <td>Dropbox</td>\n",
       "      <td>2012</td>\n",
       "      <td>6.864801e+07</td>\n",
       "      <td>web</td>\n",
       "      <td>hacked</td>\n",
       "    </tr>\n",
       "    <tr>\n",
       "      <th>49</th>\n",
       "      <td>Tumblr</td>\n",
       "      <td>2013</td>\n",
       "      <td>6.546930e+07</td>\n",
       "      <td>web</td>\n",
       "      <td>hacked</td>\n",
       "    </tr>\n",
       "    <tr>\n",
       "      <th>56</th>\n",
       "      <td>Evernote</td>\n",
       "      <td>2013</td>\n",
       "      <td>5.000000e+07</td>\n",
       "      <td>web</td>\n",
       "      <td>hacked</td>\n",
       "    </tr>\n",
       "    <tr>\n",
       "      <th>58</th>\n",
       "      <td>Living Social</td>\n",
       "      <td>2013</td>\n",
       "      <td>5.000000e+07</td>\n",
       "      <td>web</td>\n",
       "      <td>hacked</td>\n",
       "    </tr>\n",
       "    <tr>\n",
       "      <th>62</th>\n",
       "      <td>Weebly</td>\n",
       "      <td>2016</td>\n",
       "      <td>4.343032e+07</td>\n",
       "      <td>web</td>\n",
       "      <td>hacked</td>\n",
       "    </tr>\n",
       "    <tr>\n",
       "      <th>69</th>\n",
       "      <td>Steam</td>\n",
       "      <td>2011</td>\n",
       "      <td>3.500000e+07</td>\n",
       "      <td>web</td>\n",
       "      <td>hacked</td>\n",
       "    </tr>\n",
       "    <tr>\n",
       "      <th>71</th>\n",
       "      <td>Ashley Madison</td>\n",
       "      <td>2015</td>\n",
       "      <td>3.200000e+07</td>\n",
       "      <td>web</td>\n",
       "      <td>hacked</td>\n",
       "    </tr>\n",
       "    <tr>\n",
       "      <th>74</th>\n",
       "      <td>Taringa!</td>\n",
       "      <td>2017</td>\n",
       "      <td>2.872288e+07</td>\n",
       "      <td>web</td>\n",
       "      <td>hacked</td>\n",
       "    </tr>\n",
       "    <tr>\n",
       "      <th>76</th>\n",
       "      <td>Tianya Club</td>\n",
       "      <td>2011</td>\n",
       "      <td>2.800000e+07</td>\n",
       "      <td>web</td>\n",
       "      <td>hacked</td>\n",
       "    </tr>\n",
       "    <tr>\n",
       "      <th>81</th>\n",
       "      <td>Zappos</td>\n",
       "      <td>2012</td>\n",
       "      <td>2.400000e+07</td>\n",
       "      <td>web</td>\n",
       "      <td>hacked</td>\n",
       "    </tr>\n",
       "    <tr>\n",
       "      <th>87</th>\n",
       "      <td>AOL</td>\n",
       "      <td>2006</td>\n",
       "      <td>2.000000e+07</td>\n",
       "      <td>web</td>\n",
       "      <td>accidentally published</td>\n",
       "    </tr>\n",
       "    <tr>\n",
       "      <th>88</th>\n",
       "      <td>Auction.co.kr</td>\n",
       "      <td>2008</td>\n",
       "      <td>1.800000e+07</td>\n",
       "      <td>web</td>\n",
       "      <td>hacked</td>\n",
       "    </tr>\n",
       "    <tr>\n",
       "      <th>94</th>\n",
       "      <td>Nexon Korea Corp</td>\n",
       "      <td>2011</td>\n",
       "      <td>1.320000e+07</td>\n",
       "      <td>web</td>\n",
       "      <td>hacked</td>\n",
       "    </tr>\n",
       "    <tr>\n",
       "      <th>102</th>\n",
       "      <td>Chinese gaming websites (three: Duowan, 7K7K, ...</td>\n",
       "      <td>2011</td>\n",
       "      <td>1.000000e+07</td>\n",
       "      <td>web</td>\n",
       "      <td>hacked</td>\n",
       "    </tr>\n",
       "    <tr>\n",
       "      <th>117</th>\n",
       "      <td>LinkedIn, eHarmony, Last.fm</td>\n",
       "      <td>2012</td>\n",
       "      <td>8.000000e+06</td>\n",
       "      <td>web</td>\n",
       "      <td>accidentally published</td>\n",
       "    </tr>\n",
       "    <tr>\n",
       "      <th>118</th>\n",
       "      <td>Gamigo</td>\n",
       "      <td>2012</td>\n",
       "      <td>8.000000e+06</td>\n",
       "      <td>web</td>\n",
       "      <td>hacked</td>\n",
       "    </tr>\n",
       "    <tr>\n",
       "      <th>127</th>\n",
       "      <td>Xat.com</td>\n",
       "      <td>2015</td>\n",
       "      <td>6.054459e+06</td>\n",
       "      <td>web</td>\n",
       "      <td>social engineering</td>\n",
       "    </tr>\n",
       "    <tr>\n",
       "      <th>128</th>\n",
       "      <td>China Software Developer Network</td>\n",
       "      <td>2011</td>\n",
       "      <td>6.000000e+06</td>\n",
       "      <td>web</td>\n",
       "      <td>hacked</td>\n",
       "    </tr>\n",
       "    <tr>\n",
       "      <th>136</th>\n",
       "      <td>Gmail</td>\n",
       "      <td>2014</td>\n",
       "      <td>5.000000e+06</td>\n",
       "      <td>web</td>\n",
       "      <td>hacked</td>\n",
       "    </tr>\n",
       "    <tr>\n",
       "      <th>138</th>\n",
       "      <td>DoorDash</td>\n",
       "      <td>2019</td>\n",
       "      <td>4.900000e+06</td>\n",
       "      <td>web</td>\n",
       "      <td>hacked</td>\n",
       "    </tr>\n",
       "    <tr>\n",
       "      <th>159</th>\n",
       "      <td>Funimation</td>\n",
       "      <td>2016</td>\n",
       "      <td>2.500000e+06</td>\n",
       "      <td>web</td>\n",
       "      <td>hacked</td>\n",
       "    </tr>\n",
       "    <tr>\n",
       "      <th>162</th>\n",
       "      <td>AOL</td>\n",
       "      <td>2014</td>\n",
       "      <td>2.400000e+06</td>\n",
       "      <td>web</td>\n",
       "      <td>hacked</td>\n",
       "    </tr>\n",
       "    <tr>\n",
       "      <th>163</th>\n",
       "      <td>Betfair</td>\n",
       "      <td>2010</td>\n",
       "      <td>2.300000e+06</td>\n",
       "      <td>web</td>\n",
       "      <td>hacked</td>\n",
       "    </tr>\n",
       "    <tr>\n",
       "      <th>164</th>\n",
       "      <td>Patreon</td>\n",
       "      <td>2015</td>\n",
       "      <td>2.300000e+06</td>\n",
       "      <td>web</td>\n",
       "      <td>hacked</td>\n",
       "    </tr>\n",
       "    <tr>\n",
       "      <th>179</th>\n",
       "      <td>Monster.com</td>\n",
       "      <td>2007</td>\n",
       "      <td>1.600000e+06</td>\n",
       "      <td>web</td>\n",
       "      <td>hacked</td>\n",
       "    </tr>\n",
       "    <tr>\n",
       "      <th>182</th>\n",
       "      <td>KM.RU</td>\n",
       "      <td>2016</td>\n",
       "      <td>1.500000e+06</td>\n",
       "      <td>web</td>\n",
       "      <td>hacked</td>\n",
       "    </tr>\n",
       "    <tr>\n",
       "      <th>185</th>\n",
       "      <td>Gawker</td>\n",
       "      <td>2010</td>\n",
       "      <td>1.500000e+06</td>\n",
       "      <td>web</td>\n",
       "      <td>hacked</td>\n",
       "    </tr>\n",
       "    <tr>\n",
       "      <th>188</th>\n",
       "      <td>Rakuten</td>\n",
       "      <td>2020</td>\n",
       "      <td>1.381735e+06</td>\n",
       "      <td>web</td>\n",
       "      <td>improper setting, hacked</td>\n",
       "    </tr>\n",
       "    <tr>\n",
       "      <th>206</th>\n",
       "      <td>Sony Pictures</td>\n",
       "      <td>2011</td>\n",
       "      <td>1.000000e+06</td>\n",
       "      <td>web</td>\n",
       "      <td>hacked</td>\n",
       "    </tr>\n",
       "    <tr>\n",
       "      <th>207</th>\n",
       "      <td>Drupal</td>\n",
       "      <td>2013</td>\n",
       "      <td>1.000000e+06</td>\n",
       "      <td>web</td>\n",
       "      <td>hacked</td>\n",
       "    </tr>\n",
       "    <tr>\n",
       "      <th>212</th>\n",
       "      <td>Orbitz</td>\n",
       "      <td>2018</td>\n",
       "      <td>8.800000e+05</td>\n",
       "      <td>web</td>\n",
       "      <td>hacked</td>\n",
       "    </tr>\n",
       "    <tr>\n",
       "      <th>213</th>\n",
       "      <td>MacRumors.com</td>\n",
       "      <td>2014</td>\n",
       "      <td>8.600000e+05</td>\n",
       "      <td>web</td>\n",
       "      <td>hacked</td>\n",
       "    </tr>\n",
       "    <tr>\n",
       "      <th>222</th>\n",
       "      <td>Domino's Pizza (France)</td>\n",
       "      <td>2014</td>\n",
       "      <td>6.000000e+05</td>\n",
       "      <td>web</td>\n",
       "      <td>hacked</td>\n",
       "    </tr>\n",
       "    <tr>\n",
       "      <th>232</th>\n",
       "      <td>Scribd</td>\n",
       "      <td>2013</td>\n",
       "      <td>5.000000e+05</td>\n",
       "      <td>web</td>\n",
       "      <td>hacked</td>\n",
       "    </tr>\n",
       "    <tr>\n",
       "      <th>236</th>\n",
       "      <td>Yahoo! Voices</td>\n",
       "      <td>2012</td>\n",
       "      <td>4.500000e+05</td>\n",
       "      <td>web</td>\n",
       "      <td>hacked</td>\n",
       "    </tr>\n",
       "    <tr>\n",
       "      <th>238</th>\n",
       "      <td>Formspring</td>\n",
       "      <td>2012</td>\n",
       "      <td>4.200000e+05</td>\n",
       "      <td>web</td>\n",
       "      <td>accidentally published</td>\n",
       "    </tr>\n",
       "    <tr>\n",
       "      <th>251</th>\n",
       "      <td>Ancestry.com</td>\n",
       "      <td>2021</td>\n",
       "      <td>3.000000e+05</td>\n",
       "      <td>web</td>\n",
       "      <td>poor security</td>\n",
       "    </tr>\n",
       "    <tr>\n",
       "      <th>252</th>\n",
       "      <td>goregrish.com</td>\n",
       "      <td>2021</td>\n",
       "      <td>3.000000e+05</td>\n",
       "      <td>web</td>\n",
       "      <td>hacked</td>\n",
       "    </tr>\n",
       "    <tr>\n",
       "      <th>261</th>\n",
       "      <td>Twitter</td>\n",
       "      <td>2013</td>\n",
       "      <td>2.500000e+05</td>\n",
       "      <td>web</td>\n",
       "      <td>hacked</td>\n",
       "    </tr>\n",
       "    <tr>\n",
       "      <th>306</th>\n",
       "      <td>Mozilla</td>\n",
       "      <td>2014</td>\n",
       "      <td>7.600000e+04</td>\n",
       "      <td>web</td>\n",
       "      <td>poor security</td>\n",
       "    </tr>\n",
       "    <tr>\n",
       "      <th>314</th>\n",
       "      <td>Writerspace.com</td>\n",
       "      <td>2011</td>\n",
       "      <td>6.200000e+04</td>\n",
       "      <td>web</td>\n",
       "      <td>hacked</td>\n",
       "    </tr>\n",
       "    <tr>\n",
       "      <th>330</th>\n",
       "      <td>TaxSlayer.com</td>\n",
       "      <td>2016</td>\n",
       "      <td>8.800000e+03</td>\n",
       "      <td>web</td>\n",
       "      <td>hacked</td>\n",
       "    </tr>\n",
       "  </tbody>\n",
       "</table>\n",
       "</div>"
      ],
      "text/plain": [
       "                                                Entity  Year       Records  \\\n",
       "0                                                Yahoo  2013  3.000000e+09   \n",
       "8                                                Yahoo  2014  5.000000e+08   \n",
       "9                               Friend Finder Networks  2016  4.122143e+08   \n",
       "15                                             Wattpad  2020  2.700000e+08   \n",
       "28                                                eBay  2014  1.450000e+08   \n",
       "29                                               Canva  2019  1.400000e+08   \n",
       "38                                          Rambler.ru  2012  9.816794e+07   \n",
       "41                                                 AOL  2004  9.200000e+07   \n",
       "48                                             Dropbox  2012  6.864801e+07   \n",
       "49                                              Tumblr  2013  6.546930e+07   \n",
       "56                                            Evernote  2013  5.000000e+07   \n",
       "58                                       Living Social  2013  5.000000e+07   \n",
       "62                                              Weebly  2016  4.343032e+07   \n",
       "69                                               Steam  2011  3.500000e+07   \n",
       "71                                      Ashley Madison  2015  3.200000e+07   \n",
       "74                                            Taringa!  2017  2.872288e+07   \n",
       "76                                         Tianya Club  2011  2.800000e+07   \n",
       "81                                              Zappos  2012  2.400000e+07   \n",
       "87                                                 AOL  2006  2.000000e+07   \n",
       "88                                       Auction.co.kr  2008  1.800000e+07   \n",
       "94                                    Nexon Korea Corp  2011  1.320000e+07   \n",
       "102  Chinese gaming websites (three: Duowan, 7K7K, ...  2011  1.000000e+07   \n",
       "117                        LinkedIn, eHarmony, Last.fm  2012  8.000000e+06   \n",
       "118                                             Gamigo  2012  8.000000e+06   \n",
       "127                                            Xat.com  2015  6.054459e+06   \n",
       "128                   China Software Developer Network  2011  6.000000e+06   \n",
       "136                                              Gmail  2014  5.000000e+06   \n",
       "138                                           DoorDash  2019  4.900000e+06   \n",
       "159                                         Funimation  2016  2.500000e+06   \n",
       "162                                                AOL  2014  2.400000e+06   \n",
       "163                                            Betfair  2010  2.300000e+06   \n",
       "164                                            Patreon  2015  2.300000e+06   \n",
       "179                                        Monster.com  2007  1.600000e+06   \n",
       "182                                              KM.RU  2016  1.500000e+06   \n",
       "185                                             Gawker  2010  1.500000e+06   \n",
       "188                                            Rakuten  2020  1.381735e+06   \n",
       "206                                      Sony Pictures  2011  1.000000e+06   \n",
       "207                                             Drupal  2013  1.000000e+06   \n",
       "212                                             Orbitz  2018  8.800000e+05   \n",
       "213                                      MacRumors.com  2014  8.600000e+05   \n",
       "222                            Domino's Pizza (France)  2014  6.000000e+05   \n",
       "232                                             Scribd  2013  5.000000e+05   \n",
       "236                                      Yahoo! Voices  2012  4.500000e+05   \n",
       "238                                         Formspring  2012  4.200000e+05   \n",
       "251                                       Ancestry.com  2021  3.000000e+05   \n",
       "252                                      goregrish.com  2021  3.000000e+05   \n",
       "261                                            Twitter  2013  2.500000e+05   \n",
       "306                                            Mozilla  2014  7.600000e+04   \n",
       "314                                    Writerspace.com  2011  6.200000e+04   \n",
       "330                                      TaxSlayer.com  2016  8.800000e+03   \n",
       "\n",
       "    Organization type                    Method  \n",
       "0                 web                    hacked  \n",
       "8                 web                    hacked  \n",
       "9                 web    poor security / hacked  \n",
       "15                web                    hacked  \n",
       "28                web                    hacked  \n",
       "29                web                    hacked  \n",
       "38                web                    hacked  \n",
       "41                web        inside job, hacked  \n",
       "48                web                    hacked  \n",
       "49                web                    hacked  \n",
       "56                web                    hacked  \n",
       "58                web                    hacked  \n",
       "62                web                    hacked  \n",
       "69                web                    hacked  \n",
       "71                web                    hacked  \n",
       "74                web                    hacked  \n",
       "76                web                    hacked  \n",
       "81                web                    hacked  \n",
       "87                web    accidentally published  \n",
       "88                web                    hacked  \n",
       "94                web                    hacked  \n",
       "102               web                    hacked  \n",
       "117               web    accidentally published  \n",
       "118               web                    hacked  \n",
       "127               web        social engineering  \n",
       "128               web                    hacked  \n",
       "136               web                    hacked  \n",
       "138               web                    hacked  \n",
       "159               web                    hacked  \n",
       "162               web                    hacked  \n",
       "163               web                    hacked  \n",
       "164               web                    hacked  \n",
       "179               web                    hacked  \n",
       "182               web                    hacked  \n",
       "185               web                    hacked  \n",
       "188               web  improper setting, hacked  \n",
       "206               web                    hacked  \n",
       "207               web                    hacked  \n",
       "212               web                    hacked  \n",
       "213               web                    hacked  \n",
       "222               web                    hacked  \n",
       "232               web                    hacked  \n",
       "236               web                    hacked  \n",
       "238               web    accidentally published  \n",
       "251               web             poor security  \n",
       "252               web                    hacked  \n",
       "261               web                    hacked  \n",
       "306               web             poor security  \n",
       "314               web                    hacked  \n",
       "330               web                    hacked  "
      ]
     },
     "execution_count": 23,
     "metadata": {},
     "output_type": "execute_result"
    }
   ],
   "source": [
    "dataset[dataset['Organization type'] == 'web']"
   ]
  },
  {
   "cell_type": "code",
   "execution_count": 24,
   "metadata": {},
   "outputs": [
    {
     "data": {
      "text/html": [
       "<div>\n",
       "<style scoped>\n",
       "    .dataframe tbody tr th:only-of-type {\n",
       "        vertical-align: middle;\n",
       "    }\n",
       "\n",
       "    .dataframe tbody tr th {\n",
       "        vertical-align: top;\n",
       "    }\n",
       "\n",
       "    .dataframe thead th {\n",
       "        text-align: right;\n",
       "    }\n",
       "</style>\n",
       "<table border=\"1\" class=\"dataframe\">\n",
       "  <thead>\n",
       "    <tr style=\"text-align: right;\">\n",
       "      <th></th>\n",
       "      <th>Entity</th>\n",
       "      <th>Year</th>\n",
       "      <th>Records</th>\n",
       "      <th>Organization type</th>\n",
       "      <th>Method</th>\n",
       "    </tr>\n",
       "  </thead>\n",
       "  <tbody>\n",
       "    <tr>\n",
       "      <th>0</th>\n",
       "      <td>Yahoo</td>\n",
       "      <td>2013</td>\n",
       "      <td>3.000000e+09</td>\n",
       "      <td>web</td>\n",
       "      <td>hacked</td>\n",
       "    </tr>\n",
       "    <tr>\n",
       "      <th>8</th>\n",
       "      <td>Yahoo</td>\n",
       "      <td>2014</td>\n",
       "      <td>5.000000e+08</td>\n",
       "      <td>web</td>\n",
       "      <td>hacked</td>\n",
       "    </tr>\n",
       "    <tr>\n",
       "      <th>15</th>\n",
       "      <td>Wattpad</td>\n",
       "      <td>2020</td>\n",
       "      <td>2.700000e+08</td>\n",
       "      <td>web</td>\n",
       "      <td>hacked</td>\n",
       "    </tr>\n",
       "    <tr>\n",
       "      <th>28</th>\n",
       "      <td>eBay</td>\n",
       "      <td>2014</td>\n",
       "      <td>1.450000e+08</td>\n",
       "      <td>web</td>\n",
       "      <td>hacked</td>\n",
       "    </tr>\n",
       "    <tr>\n",
       "      <th>29</th>\n",
       "      <td>Canva</td>\n",
       "      <td>2019</td>\n",
       "      <td>1.400000e+08</td>\n",
       "      <td>web</td>\n",
       "      <td>hacked</td>\n",
       "    </tr>\n",
       "    <tr>\n",
       "      <th>38</th>\n",
       "      <td>Rambler.ru</td>\n",
       "      <td>2012</td>\n",
       "      <td>9.816794e+07</td>\n",
       "      <td>web</td>\n",
       "      <td>hacked</td>\n",
       "    </tr>\n",
       "    <tr>\n",
       "      <th>48</th>\n",
       "      <td>Dropbox</td>\n",
       "      <td>2012</td>\n",
       "      <td>6.864801e+07</td>\n",
       "      <td>web</td>\n",
       "      <td>hacked</td>\n",
       "    </tr>\n",
       "    <tr>\n",
       "      <th>49</th>\n",
       "      <td>Tumblr</td>\n",
       "      <td>2013</td>\n",
       "      <td>6.546930e+07</td>\n",
       "      <td>web</td>\n",
       "      <td>hacked</td>\n",
       "    </tr>\n",
       "    <tr>\n",
       "      <th>56</th>\n",
       "      <td>Evernote</td>\n",
       "      <td>2013</td>\n",
       "      <td>5.000000e+07</td>\n",
       "      <td>web</td>\n",
       "      <td>hacked</td>\n",
       "    </tr>\n",
       "    <tr>\n",
       "      <th>58</th>\n",
       "      <td>Living Social</td>\n",
       "      <td>2013</td>\n",
       "      <td>5.000000e+07</td>\n",
       "      <td>web</td>\n",
       "      <td>hacked</td>\n",
       "    </tr>\n",
       "    <tr>\n",
       "      <th>62</th>\n",
       "      <td>Weebly</td>\n",
       "      <td>2016</td>\n",
       "      <td>4.343032e+07</td>\n",
       "      <td>web</td>\n",
       "      <td>hacked</td>\n",
       "    </tr>\n",
       "    <tr>\n",
       "      <th>69</th>\n",
       "      <td>Steam</td>\n",
       "      <td>2011</td>\n",
       "      <td>3.500000e+07</td>\n",
       "      <td>web</td>\n",
       "      <td>hacked</td>\n",
       "    </tr>\n",
       "    <tr>\n",
       "      <th>71</th>\n",
       "      <td>Ashley Madison</td>\n",
       "      <td>2015</td>\n",
       "      <td>3.200000e+07</td>\n",
       "      <td>web</td>\n",
       "      <td>hacked</td>\n",
       "    </tr>\n",
       "    <tr>\n",
       "      <th>74</th>\n",
       "      <td>Taringa!</td>\n",
       "      <td>2017</td>\n",
       "      <td>2.872288e+07</td>\n",
       "      <td>web</td>\n",
       "      <td>hacked</td>\n",
       "    </tr>\n",
       "    <tr>\n",
       "      <th>76</th>\n",
       "      <td>Tianya Club</td>\n",
       "      <td>2011</td>\n",
       "      <td>2.800000e+07</td>\n",
       "      <td>web</td>\n",
       "      <td>hacked</td>\n",
       "    </tr>\n",
       "    <tr>\n",
       "      <th>81</th>\n",
       "      <td>Zappos</td>\n",
       "      <td>2012</td>\n",
       "      <td>2.400000e+07</td>\n",
       "      <td>web</td>\n",
       "      <td>hacked</td>\n",
       "    </tr>\n",
       "    <tr>\n",
       "      <th>88</th>\n",
       "      <td>Auction.co.kr</td>\n",
       "      <td>2008</td>\n",
       "      <td>1.800000e+07</td>\n",
       "      <td>web</td>\n",
       "      <td>hacked</td>\n",
       "    </tr>\n",
       "    <tr>\n",
       "      <th>94</th>\n",
       "      <td>Nexon Korea Corp</td>\n",
       "      <td>2011</td>\n",
       "      <td>1.320000e+07</td>\n",
       "      <td>web</td>\n",
       "      <td>hacked</td>\n",
       "    </tr>\n",
       "    <tr>\n",
       "      <th>102</th>\n",
       "      <td>Chinese gaming websites (three: Duowan, 7K7K, ...</td>\n",
       "      <td>2011</td>\n",
       "      <td>1.000000e+07</td>\n",
       "      <td>web</td>\n",
       "      <td>hacked</td>\n",
       "    </tr>\n",
       "    <tr>\n",
       "      <th>118</th>\n",
       "      <td>Gamigo</td>\n",
       "      <td>2012</td>\n",
       "      <td>8.000000e+06</td>\n",
       "      <td>web</td>\n",
       "      <td>hacked</td>\n",
       "    </tr>\n",
       "    <tr>\n",
       "      <th>128</th>\n",
       "      <td>China Software Developer Network</td>\n",
       "      <td>2011</td>\n",
       "      <td>6.000000e+06</td>\n",
       "      <td>web</td>\n",
       "      <td>hacked</td>\n",
       "    </tr>\n",
       "    <tr>\n",
       "      <th>136</th>\n",
       "      <td>Gmail</td>\n",
       "      <td>2014</td>\n",
       "      <td>5.000000e+06</td>\n",
       "      <td>web</td>\n",
       "      <td>hacked</td>\n",
       "    </tr>\n",
       "    <tr>\n",
       "      <th>138</th>\n",
       "      <td>DoorDash</td>\n",
       "      <td>2019</td>\n",
       "      <td>4.900000e+06</td>\n",
       "      <td>web</td>\n",
       "      <td>hacked</td>\n",
       "    </tr>\n",
       "    <tr>\n",
       "      <th>159</th>\n",
       "      <td>Funimation</td>\n",
       "      <td>2016</td>\n",
       "      <td>2.500000e+06</td>\n",
       "      <td>web</td>\n",
       "      <td>hacked</td>\n",
       "    </tr>\n",
       "    <tr>\n",
       "      <th>162</th>\n",
       "      <td>AOL</td>\n",
       "      <td>2014</td>\n",
       "      <td>2.400000e+06</td>\n",
       "      <td>web</td>\n",
       "      <td>hacked</td>\n",
       "    </tr>\n",
       "    <tr>\n",
       "      <th>163</th>\n",
       "      <td>Betfair</td>\n",
       "      <td>2010</td>\n",
       "      <td>2.300000e+06</td>\n",
       "      <td>web</td>\n",
       "      <td>hacked</td>\n",
       "    </tr>\n",
       "    <tr>\n",
       "      <th>164</th>\n",
       "      <td>Patreon</td>\n",
       "      <td>2015</td>\n",
       "      <td>2.300000e+06</td>\n",
       "      <td>web</td>\n",
       "      <td>hacked</td>\n",
       "    </tr>\n",
       "    <tr>\n",
       "      <th>179</th>\n",
       "      <td>Monster.com</td>\n",
       "      <td>2007</td>\n",
       "      <td>1.600000e+06</td>\n",
       "      <td>web</td>\n",
       "      <td>hacked</td>\n",
       "    </tr>\n",
       "    <tr>\n",
       "      <th>182</th>\n",
       "      <td>KM.RU</td>\n",
       "      <td>2016</td>\n",
       "      <td>1.500000e+06</td>\n",
       "      <td>web</td>\n",
       "      <td>hacked</td>\n",
       "    </tr>\n",
       "    <tr>\n",
       "      <th>185</th>\n",
       "      <td>Gawker</td>\n",
       "      <td>2010</td>\n",
       "      <td>1.500000e+06</td>\n",
       "      <td>web</td>\n",
       "      <td>hacked</td>\n",
       "    </tr>\n",
       "    <tr>\n",
       "      <th>206</th>\n",
       "      <td>Sony Pictures</td>\n",
       "      <td>2011</td>\n",
       "      <td>1.000000e+06</td>\n",
       "      <td>web</td>\n",
       "      <td>hacked</td>\n",
       "    </tr>\n",
       "    <tr>\n",
       "      <th>207</th>\n",
       "      <td>Drupal</td>\n",
       "      <td>2013</td>\n",
       "      <td>1.000000e+06</td>\n",
       "      <td>web</td>\n",
       "      <td>hacked</td>\n",
       "    </tr>\n",
       "    <tr>\n",
       "      <th>212</th>\n",
       "      <td>Orbitz</td>\n",
       "      <td>2018</td>\n",
       "      <td>8.800000e+05</td>\n",
       "      <td>web</td>\n",
       "      <td>hacked</td>\n",
       "    </tr>\n",
       "    <tr>\n",
       "      <th>213</th>\n",
       "      <td>MacRumors.com</td>\n",
       "      <td>2014</td>\n",
       "      <td>8.600000e+05</td>\n",
       "      <td>web</td>\n",
       "      <td>hacked</td>\n",
       "    </tr>\n",
       "    <tr>\n",
       "      <th>222</th>\n",
       "      <td>Domino's Pizza (France)</td>\n",
       "      <td>2014</td>\n",
       "      <td>6.000000e+05</td>\n",
       "      <td>web</td>\n",
       "      <td>hacked</td>\n",
       "    </tr>\n",
       "    <tr>\n",
       "      <th>232</th>\n",
       "      <td>Scribd</td>\n",
       "      <td>2013</td>\n",
       "      <td>5.000000e+05</td>\n",
       "      <td>web</td>\n",
       "      <td>hacked</td>\n",
       "    </tr>\n",
       "    <tr>\n",
       "      <th>236</th>\n",
       "      <td>Yahoo! Voices</td>\n",
       "      <td>2012</td>\n",
       "      <td>4.500000e+05</td>\n",
       "      <td>web</td>\n",
       "      <td>hacked</td>\n",
       "    </tr>\n",
       "    <tr>\n",
       "      <th>252</th>\n",
       "      <td>goregrish.com</td>\n",
       "      <td>2021</td>\n",
       "      <td>3.000000e+05</td>\n",
       "      <td>web</td>\n",
       "      <td>hacked</td>\n",
       "    </tr>\n",
       "    <tr>\n",
       "      <th>261</th>\n",
       "      <td>Twitter</td>\n",
       "      <td>2013</td>\n",
       "      <td>2.500000e+05</td>\n",
       "      <td>web</td>\n",
       "      <td>hacked</td>\n",
       "    </tr>\n",
       "    <tr>\n",
       "      <th>314</th>\n",
       "      <td>Writerspace.com</td>\n",
       "      <td>2011</td>\n",
       "      <td>6.200000e+04</td>\n",
       "      <td>web</td>\n",
       "      <td>hacked</td>\n",
       "    </tr>\n",
       "    <tr>\n",
       "      <th>330</th>\n",
       "      <td>TaxSlayer.com</td>\n",
       "      <td>2016</td>\n",
       "      <td>8.800000e+03</td>\n",
       "      <td>web</td>\n",
       "      <td>hacked</td>\n",
       "    </tr>\n",
       "  </tbody>\n",
       "</table>\n",
       "</div>"
      ],
      "text/plain": [
       "                                                Entity  Year       Records  \\\n",
       "0                                                Yahoo  2013  3.000000e+09   \n",
       "8                                                Yahoo  2014  5.000000e+08   \n",
       "15                                             Wattpad  2020  2.700000e+08   \n",
       "28                                                eBay  2014  1.450000e+08   \n",
       "29                                               Canva  2019  1.400000e+08   \n",
       "38                                          Rambler.ru  2012  9.816794e+07   \n",
       "48                                             Dropbox  2012  6.864801e+07   \n",
       "49                                              Tumblr  2013  6.546930e+07   \n",
       "56                                            Evernote  2013  5.000000e+07   \n",
       "58                                       Living Social  2013  5.000000e+07   \n",
       "62                                              Weebly  2016  4.343032e+07   \n",
       "69                                               Steam  2011  3.500000e+07   \n",
       "71                                      Ashley Madison  2015  3.200000e+07   \n",
       "74                                            Taringa!  2017  2.872288e+07   \n",
       "76                                         Tianya Club  2011  2.800000e+07   \n",
       "81                                              Zappos  2012  2.400000e+07   \n",
       "88                                       Auction.co.kr  2008  1.800000e+07   \n",
       "94                                    Nexon Korea Corp  2011  1.320000e+07   \n",
       "102  Chinese gaming websites (three: Duowan, 7K7K, ...  2011  1.000000e+07   \n",
       "118                                             Gamigo  2012  8.000000e+06   \n",
       "128                   China Software Developer Network  2011  6.000000e+06   \n",
       "136                                              Gmail  2014  5.000000e+06   \n",
       "138                                           DoorDash  2019  4.900000e+06   \n",
       "159                                         Funimation  2016  2.500000e+06   \n",
       "162                                                AOL  2014  2.400000e+06   \n",
       "163                                            Betfair  2010  2.300000e+06   \n",
       "164                                            Patreon  2015  2.300000e+06   \n",
       "179                                        Monster.com  2007  1.600000e+06   \n",
       "182                                              KM.RU  2016  1.500000e+06   \n",
       "185                                             Gawker  2010  1.500000e+06   \n",
       "206                                      Sony Pictures  2011  1.000000e+06   \n",
       "207                                             Drupal  2013  1.000000e+06   \n",
       "212                                             Orbitz  2018  8.800000e+05   \n",
       "213                                      MacRumors.com  2014  8.600000e+05   \n",
       "222                            Domino's Pizza (France)  2014  6.000000e+05   \n",
       "232                                             Scribd  2013  5.000000e+05   \n",
       "236                                      Yahoo! Voices  2012  4.500000e+05   \n",
       "252                                      goregrish.com  2021  3.000000e+05   \n",
       "261                                            Twitter  2013  2.500000e+05   \n",
       "314                                    Writerspace.com  2011  6.200000e+04   \n",
       "330                                      TaxSlayer.com  2016  8.800000e+03   \n",
       "\n",
       "    Organization type  Method  \n",
       "0                 web  hacked  \n",
       "8                 web  hacked  \n",
       "15                web  hacked  \n",
       "28                web  hacked  \n",
       "29                web  hacked  \n",
       "38                web  hacked  \n",
       "48                web  hacked  \n",
       "49                web  hacked  \n",
       "56                web  hacked  \n",
       "58                web  hacked  \n",
       "62                web  hacked  \n",
       "69                web  hacked  \n",
       "71                web  hacked  \n",
       "74                web  hacked  \n",
       "76                web  hacked  \n",
       "81                web  hacked  \n",
       "88                web  hacked  \n",
       "94                web  hacked  \n",
       "102               web  hacked  \n",
       "118               web  hacked  \n",
       "128               web  hacked  \n",
       "136               web  hacked  \n",
       "138               web  hacked  \n",
       "159               web  hacked  \n",
       "162               web  hacked  \n",
       "163               web  hacked  \n",
       "164               web  hacked  \n",
       "179               web  hacked  \n",
       "182               web  hacked  \n",
       "185               web  hacked  \n",
       "206               web  hacked  \n",
       "207               web  hacked  \n",
       "212               web  hacked  \n",
       "213               web  hacked  \n",
       "222               web  hacked  \n",
       "232               web  hacked  \n",
       "236               web  hacked  \n",
       "252               web  hacked  \n",
       "261               web  hacked  \n",
       "314               web  hacked  \n",
       "330               web  hacked  "
      ]
     },
     "execution_count": 24,
     "metadata": {},
     "output_type": "execute_result"
    }
   ],
   "source": [
    "# display the records where organisation type is web and method is hacked\n",
    "dataset[(dataset['Organization type'] == 'web') & (dataset['Method'] == 'hacked')]"
   ]
  },
  {
   "cell_type": "code",
   "execution_count": 25,
   "metadata": {},
   "outputs": [
    {
     "data": {
      "application/vnd.plotly.v1+json": {
       "config": {
        "plotlyServerURL": "https://plot.ly"
       },
       "data": [
        {
         "alignmentgroup": "True",
         "bingroup": "x",
         "histfunc": "sum",
         "hovertemplate": "Organization type=web<br>Year=%{x}<br>sum of Records=%{y}<extra></extra>",
         "legendgroup": "web",
         "marker": {
          "color": "#636efa",
          "pattern": {
           "shape": ""
          }
         },
         "name": "web",
         "offsetgroup": "web",
         "orientation": "v",
         "showlegend": true,
         "type": "histogram",
         "x": [
          "2013",
          "2014",
          "2016",
          "2020",
          "2014",
          "2019",
          "2012",
          "2004",
          "2012",
          "2013",
          "2013",
          "2013",
          "2016",
          "2011",
          "2015",
          "2017",
          "2011",
          "2012",
          "2006",
          "2008",
          "2011",
          "2011",
          "2012",
          "2012",
          "2015",
          "2011",
          "2014",
          "2019",
          "2016",
          "2014",
          "2010",
          "2015",
          "2007",
          "2016",
          "2010",
          "2020",
          "2011",
          "2013",
          "2018",
          "2014",
          "2014",
          "2013",
          "2012",
          "2012",
          "2021",
          "2021",
          "2013",
          "2014",
          "2011",
          "2016"
         ],
         "xaxis": "x",
         "y": [
          3000000000,
          500000000,
          412214295,
          270000000,
          145000000,
          140000000,
          98167935,
          92000000,
          68648009,
          65469298,
          50000000,
          50000000,
          43430316,
          35000000,
          32000000,
          28722877,
          28000000,
          24000000,
          20000000,
          18000000,
          13200000,
          10000000,
          8000000,
          8000000,
          6054459,
          6000000,
          5000000,
          4900000,
          2500000,
          2400000,
          2300000,
          2300000,
          1600000,
          1500000,
          1500000,
          1381735,
          1000000,
          1000000,
          880000,
          860000,
          600000,
          500000,
          450000,
          420000,
          300000,
          300000,
          250000,
          76000,
          62000,
          8800
         ],
         "yaxis": "y"
        },
        {
         "alignmentgroup": "True",
         "bingroup": "x",
         "histfunc": "sum",
         "hovertemplate": "Organization type=online marketing<br>Year=%{x}<br>sum of Records=%{y}<extra></extra>",
         "legendgroup": "online marketing",
         "marker": {
          "color": "#EF553B",
          "pattern": {
           "shape": ""
          }
         },
         "name": "online marketing",
         "offsetgroup": "online marketing",
         "orientation": "v",
         "showlegend": true,
         "type": "histogram",
         "x": [
          "2019",
          "2019",
          "2020"
         ],
         "xaxis": "x",
         "y": [
          2000000000,
          809000000,
          38000000
         ],
         "yaxis": "y"
        },
        {
         "alignmentgroup": "True",
         "bingroup": "x",
         "histfunc": "sum",
         "hovertemplate": "Organization type=financial service company<br>Year=%{x}<br>sum of Records=%{y}<extra></extra>",
         "legendgroup": "financial service company",
         "marker": {
          "color": "#00cc96",
          "pattern": {
           "shape": ""
          }
         },
         "name": "financial service company",
         "offsetgroup": "financial service company",
         "orientation": "v",
         "showlegend": true,
         "type": "histogram",
         "x": [
          "2019"
         ],
         "xaxis": "x",
         "y": [
          885000000
         ],
         "yaxis": "y"
        },
        {
         "alignmentgroup": "True",
         "bingroup": "x",
         "histfunc": "sum",
         "hovertemplate": "Organization type=government<br>Year=%{x}<br>sum of Records=%{y}<extra></extra>",
         "legendgroup": "government",
         "marker": {
          "color": "#ab63fa",
          "pattern": {
           "shape": ""
          }
         },
         "name": "government",
         "offsetgroup": "government",
         "orientation": "v",
         "showlegend": true,
         "type": "histogram",
         "x": [
          "2023",
          "2023",
          "2018",
          "2016",
          "2023",
          "2018",
          "2023",
          "2007",
          "2015",
          "2012",
          "2012",
          "2008",
          "2019",
          "2008",
          "2011",
          "2007",
          "2012",
          "2008",
          "2008",
          "2023",
          "2012",
          "2015",
          "2010",
          "2010",
          "2011",
          "2011",
          "2013",
          "2011",
          "2020",
          "2013",
          "2007",
          "2008",
          "2008",
          "2016",
          "2013"
         ],
         "xaxis": "x",
         "y": [
          810000000,
          337225463,
          60000000,
          55000000,
          50000000,
          45000000,
          34900867,
          25000000,
          21500000,
          9000000,
          6500000,
          6000000,
          5000000,
          3950000,
          3500000,
          3000000,
          2434899,
          1700000,
          1600000,
          1279437,
          800000,
          680000,
          392000,
          251000,
          210000,
          180000,
          160000,
          123461,
          104000,
          100000,
          89000,
          84000,
          50500,
          30000,
          16000
         ],
         "yaxis": "y"
        },
        {
         "alignmentgroup": "True",
         "bingroup": "x",
         "histfunc": "sum",
         "hovertemplate": "Organization type=various<br>Year=%{x}<br>sum of Records=%{y}<extra></extra>",
         "legendgroup": "various",
         "marker": {
          "color": "#FFA15A",
          "pattern": {
           "shape": ""
          }
         },
         "name": "various",
         "offsetgroup": "various",
         "orientation": "v",
         "showlegend": true,
         "type": "histogram",
         "x": [
          "2019",
          "2022"
         ],
         "xaxis": "x",
         "y": [
          773000000,
          6400000
         ],
         "yaxis": "y"
        },
        {
         "alignmentgroup": "True",
         "bingroup": "x",
         "histfunc": "sum",
         "hovertemplate": "Organization type=social network<br>Year=%{x}<br>sum of Records=%{y}<extra></extra>",
         "legendgroup": "social network",
         "marker": {
          "color": "#19d3f3",
          "pattern": {
           "shape": ""
          }
         },
         "name": "social network",
         "offsetgroup": "social network",
         "orientation": "v",
         "showlegend": true,
         "type": "histogram",
         "x": [
          "2019",
          "2019",
          "2020",
          "2019",
          "2018",
          "2013",
          "2019",
          "2018"
         ],
         "xaxis": "x",
         "y": [
          540000000,
          267000000,
          200000000,
          173000000,
          50000000,
          6000000,
          1500000,
          500000
         ],
         "yaxis": "y"
        },
        {
         "alignmentgroup": "True",
         "bingroup": "x",
         "histfunc": "sum",
         "hovertemplate": "Organization type=hotel<br>Year=%{x}<br>sum of Records=%{y}<extra></extra>",
         "legendgroup": "hotel",
         "marker": {
          "color": "#FF6692",
          "pattern": {
           "shape": ""
          }
         },
         "name": "hotel",
         "offsetgroup": "hotel",
         "orientation": "v",
         "showlegend": true,
         "type": "histogram",
         "x": [
          "2018",
          "2020",
          "2014 and 2015"
         ],
         "xaxis": "x",
         "y": [
          500000000,
          5200000,
          363000
         ],
         "yaxis": "y"
        },
        {
         "alignmentgroup": "True",
         "bingroup": "x",
         "histfunc": "sum",
         "hovertemplate": "Organization type=data broker<br>Year=%{x}<br>sum of Records=%{y}<extra></extra>",
         "legendgroup": "data broker",
         "marker": {
          "color": "#B6E880",
          "pattern": {
           "shape": ""
          }
         },
         "name": "data broker",
         "offsetgroup": "data broker",
         "orientation": "v",
         "showlegend": true,
         "type": "histogram",
         "x": [
          "2018"
         ],
         "xaxis": "x",
         "y": [
          340000000
         ],
         "yaxis": "y"
        },
        {
         "alignmentgroup": "True",
         "bingroup": "x",
         "histfunc": "sum",
         "hovertemplate": "Organization type=telecommunications<br>Year=%{x}<br>sum of Records=%{y}<extra></extra>",
         "legendgroup": "telecommunications",
         "marker": {
          "color": "#FF97FF",
          "pattern": {
           "shape": ""
          }
         },
         "name": "telecommunications",
         "offsetgroup": "telecommunications",
         "orientation": "v",
         "showlegend": true,
         "type": "histogram",
         "x": [
          "2019",
          "2019",
          "2022"
         ],
         "xaxis": "x",
         "y": [
          320000000,
          100000000,
          9800000
         ],
         "yaxis": "y"
        },
        {
         "alignmentgroup": "True",
         "bingroup": "x",
         "histfunc": "sum",
         "hovertemplate": "Organization type=Telephone directory<br>Year=%{x}<br>sum of Records=%{y}<extra></extra>",
         "legendgroup": "Telephone directory",
         "marker": {
          "color": "#FECB52",
          "pattern": {
           "shape": ""
          }
         },
         "name": "Telephone directory",
         "offsetgroup": "Telephone directory",
         "orientation": "v",
         "showlegend": true,
         "type": "histogram",
         "x": [
          "2019"
         ],
         "xaxis": "x",
         "y": [
          299055000
         ],
         "yaxis": "y"
        },
        {
         "alignmentgroup": "True",
         "bingroup": "x",
         "histfunc": "sum",
         "hovertemplate": "Organization type=tech<br>Year=%{x}<br>sum of Records=%{y}<extra></extra>",
         "legendgroup": "tech",
         "marker": {
          "color": "#636efa",
          "pattern": {
           "shape": ""
          }
         },
         "name": "tech",
         "offsetgroup": "tech",
         "orientation": "v",
         "showlegend": true,
         "type": "histogram",
         "x": [
          "2019",
          "2019",
          "2019",
          "2013",
          "2019",
          "2019",
          "2013",
          "2013",
          "2013",
          "2014",
          "2009",
          "2015",
          "2021",
          "2014"
         ],
         "xaxis": "x",
         "y": [
          275000000,
          250000000,
          202000000,
          152000000,
          108000000,
          7500000,
          2000000,
          1000000,
          1000000,
          1000000,
          573000,
          500000,
          275000,
          50000
         ],
         "yaxis": "y"
        },
        {
         "alignmentgroup": "True",
         "bingroup": "x",
         "histfunc": "sum",
         "hovertemplate": "Organization type=personal and demographic data about residents and their properties of US<br>Year=%{x}<br>sum of Records=%{y}<extra></extra>",
         "legendgroup": "personal and demographic data about residents and their properties of US",
         "marker": {
          "color": "#EF553B",
          "pattern": {
           "shape": ""
          }
         },
         "name": "personal and demographic data about residents and their properties of US",
         "offsetgroup": "personal and demographic data about residents and their properties of US",
         "orientation": "v",
         "showlegend": true,
         "type": "histogram",
         "x": [
          "2020"
         ],
         "xaxis": "x",
         "y": [
          201000000
         ],
         "yaxis": "y"
        },
        {
         "alignmentgroup": "True",
         "bingroup": "x",
         "histfunc": "sum",
         "hovertemplate": "Organization type=financial<br>Year=%{x}<br>sum of Records=%{y}<extra></extra>",
         "legendgroup": "financial",
         "marker": {
          "color": "#00cc96",
          "pattern": {
           "shape": ""
          }
         },
         "name": "financial",
         "offsetgroup": "financial",
         "orientation": "v",
         "showlegend": true,
         "type": "histogram",
         "x": [
          "2020",
          "2012",
          "2009",
          "2019",
          "2014",
          "2005",
          "2023",
          "2014",
          "2008",
          "2019",
          "2007",
          "2008",
          "2012",
          "2007",
          "2009",
          "2015",
          "2005",
          "2010",
          "2012",
          "2010",
          "2006",
          "2011",
          "2008",
          "2005",
          "2007",
          "2006",
          "2015",
          "2010",
          "2011",
          "2012",
          "2005",
          "2013",
          "2005",
          "2019",
          "2016",
          "2011",
          "2020"
         ],
         "xaxis": "x",
         "y": [
          200000000,
          160000000,
          130000000,
          106000000,
          76000000,
          40000000,
          40000000,
          20000000,
          12500000,
          9700000,
          8500000,
          8000000,
          7000000,
          6300000,
          5000000,
          4600000,
          3900000,
          3300000,
          3000000,
          2600000,
          2600000,
          2500000,
          1500000,
          1200000,
          1000000,
          960000,
          720000,
          400000,
          360083,
          260000,
          200000,
          150000,
          125000,
          98000,
          60000,
          34000,
          30000
         ],
         "yaxis": "y"
        },
        {
         "alignmentgroup": "True",
         "bingroup": "x",
         "histfunc": "sum",
         "hovertemplate": "Organization type=financial, credit reporting<br>Year=%{x}<br>sum of Records=%{y}<extra></extra>",
         "legendgroup": "financial, credit reporting",
         "marker": {
          "color": "#ab63fa",
          "pattern": {
           "shape": ""
          }
         },
         "name": "financial, credit reporting",
         "offsetgroup": "financial, credit reporting",
         "orientation": "v",
         "showlegend": true,
         "type": "histogram",
         "x": [
          "2017"
         ],
         "xaxis": "x",
         "y": [
          163119000
         ],
         "yaxis": "y"
        },
        {
         "alignmentgroup": "True",
         "bingroup": "x",
         "histfunc": "sum",
         "hovertemplate": "Organization type=messaging app<br>Year=%{x}<br>sum of Records=%{y}<extra></extra>",
         "legendgroup": "messaging app",
         "marker": {
          "color": "#FFA15A",
          "pattern": {
           "shape": ""
          }
         },
         "name": "messaging app",
         "offsetgroup": "messaging app",
         "orientation": "v",
         "showlegend": true,
         "type": "histogram",
         "x": [
          "2018"
         ],
         "xaxis": "x",
         "y": [
          162000000
         ],
         "yaxis": "y"
        },
        {
         "alignmentgroup": "True",
         "bingroup": "x",
         "histfunc": "sum",
         "hovertemplate": "Organization type=Consumer Goods<br>Year=%{x}<br>sum of Records=%{y}<extra></extra>",
         "legendgroup": "Consumer Goods",
         "marker": {
          "color": "#19d3f3",
          "pattern": {
           "shape": ""
          }
         },
         "name": "Consumer Goods",
         "offsetgroup": "Consumer Goods",
         "orientation": "v",
         "showlegend": true,
         "type": "histogram",
         "x": [
          "2018"
         ],
         "xaxis": "x",
         "y": [
          150000000
         ],
         "yaxis": "y"
        },
        {
         "alignmentgroup": "True",
         "bingroup": "x",
         "histfunc": "sum",
         "hovertemplate": "Organization type=market analysis<br>Year=%{x}<br>sum of Records=%{y}<extra></extra>",
         "legendgroup": "market analysis",
         "marker": {
          "color": "#FF6692",
          "pattern": {
           "shape": ""
          }
         },
         "name": "market analysis",
         "offsetgroup": "market analysis",
         "orientation": "v",
         "showlegend": true,
         "type": "histogram",
         "x": [
          "2020"
         ],
         "xaxis": "x",
         "y": [
          120000000
         ],
         "yaxis": "y"
        },
        {
         "alignmentgroup": "True",
         "bingroup": "x",
         "histfunc": "sum",
         "hovertemplate": "Organization type=retail<br>Year=%{x}<br>sum of Records=%{y}<extra></extra>",
         "legendgroup": "retail",
         "marker": {
          "color": "#B6E880",
          "pattern": {
           "shape": ""
          }
         },
         "name": "retail",
         "offsetgroup": "retail",
         "orientation": "v",
         "showlegend": true,
         "type": "histogram",
         "x": [
          "2013",
          "2007",
          "2014",
          "2020",
          "2018",
          "2016",
          "2007",
          "2019",
          "2015",
          "2007",
          "2014",
          "2005",
          "2015",
          "2014",
          "2007",
          "2019",
          "2011",
          "2015",
          "2011",
          "2008",
          "2022"
         ],
         "xaxis": "x",
         "y": [
          110000000,
          94000000,
          56000000,
          30000000,
          28517244,
          20000000,
          8637405,
          6800000,
          5000000,
          4200000,
          3000000,
          1400000,
          1300000,
          1100000,
          800000,
          461091,
          283000,
          250000,
          200000,
          97000,
          95000
         ],
         "yaxis": "y"
        },
        {
         "alignmentgroup": "True",
         "bingroup": "x",
         "histfunc": "sum",
         "hovertemplate": "Organization type=local search<br>Year=%{x}<br>sum of Records=%{y}<extra></extra>",
         "legendgroup": "local search",
         "marker": {
          "color": "#FF97FF",
          "pattern": {
           "shape": ""
          }
         },
         "name": "local search",
         "offsetgroup": "local search",
         "orientation": "v",
         "showlegend": true,
         "type": "histogram",
         "x": [
          "2019"
         ],
         "xaxis": "x",
         "y": [
          100000000
         ],
         "yaxis": "y"
        },
        {
         "alignmentgroup": "True",
         "bingroup": "x",
         "histfunc": "sum",
         "hovertemplate": "Organization type=Question & Answer<br>Year=%{x}<br>sum of Records=%{y}<extra></extra>",
         "legendgroup": "Question & Answer",
         "marker": {
          "color": "#FECB52",
          "pattern": {
           "shape": ""
          }
         },
         "name": "Question & Answer",
         "offsetgroup": "Question & Answer",
         "orientation": "v",
         "showlegend": true,
         "type": "histogram",
         "x": [
          "2018"
         ],
         "xaxis": "x",
         "y": [
          100000000
         ],
         "yaxis": "y"
        },
        {
         "alignmentgroup": "True",
         "bingroup": "x",
         "histfunc": "sum",
         "hovertemplate": "Organization type=genealogy<br>Year=%{x}<br>sum of Records=%{y}<extra></extra>",
         "legendgroup": "genealogy",
         "marker": {
          "color": "#636efa",
          "pattern": {
           "shape": ""
          }
         },
         "name": "genealogy",
         "offsetgroup": "genealogy",
         "orientation": "v",
         "showlegend": true,
         "type": "histogram",
         "x": [
          "2018"
         ],
         "xaxis": "x",
         "y": [
          92283889
         ],
         "yaxis": "y"
        },
        {
         "alignmentgroup": "True",
         "bingroup": "x",
         "histfunc": "sum",
         "hovertemplate": "Organization type=online shopping<br>Year=%{x}<br>sum of Records=%{y}<extra></extra>",
         "legendgroup": "online shopping",
         "marker": {
          "color": "#EF553B",
          "pattern": {
           "shape": ""
          }
         },
         "name": "online shopping",
         "offsetgroup": "online shopping",
         "orientation": "v",
         "showlegend": true,
         "type": "histogram",
         "x": [
          "2020",
          "2022"
         ],
         "xaxis": "x",
         "y": [
          91000000,
          1648922
         ],
         "yaxis": "y"
        },
        {
         "alignmentgroup": "True",
         "bingroup": "x",
         "histfunc": "sum",
         "hovertemplate": "Organization type=healthcare<br>Year=%{x}<br>sum of Records=%{y}<extra></extra>",
         "legendgroup": "healthcare",
         "marker": {
          "color": "#00cc96",
          "pattern": {
           "shape": ""
          }
         },
         "name": "healthcare",
         "offsetgroup": "healthcare",
         "orientation": "v",
         "showlegend": true,
         "type": "histogram",
         "x": [
          "2015",
          "2019",
          "2023",
          "2015",
          "2015",
          "2022",
          "2011",
          "2012",
          "2015",
          "2014",
          "2011",
          "2017",
          "2015",
          "2016",
          "2011",
          "2010",
          "2021",
          "2009",
          "2015",
          "2011",
          "2009",
          "2019",
          "2010",
          "2009",
          "2010",
          "2011",
          "2009",
          "2011",
          "2010",
          "2020",
          "2013",
          "2012",
          "2011",
          "2010",
          "2010",
          "2020",
          "2007",
          "2021",
          "2010",
          "2020",
          "2010",
          "2011",
          "2013",
          "2021",
          "2018",
          "2017",
          "2019",
          "2016"
         ],
         "xaxis": "x",
         "y": [
          80000000,
          15000000,
          11270000,
          11000000,
          10000000,
          9700000,
          8300000,
          6400000,
          4500000,
          4500000,
          4243434,
          4000000,
          3900000,
          2200000,
          1900000,
          1700000,
          1600000,
          1220000,
          1100000,
          1055489,
          1023209,
          808000,
          800000,
          531400,
          515000,
          514330,
          500000,
          400000,
          398000,
          391250,
          344579,
          315000,
          300000,
          231400,
          180111,
          175350,
          160000,
          156000,
          130495,
          130000,
          105470,
          102153,
          100000,
          91000,
          75000,
          25000,
          14200,
          6700
         ],
         "yaxis": "y"
        },
        {
         "alignmentgroup": "True",
         "bingroup": "x",
         "histfunc": "sum",
         "hovertemplate": "Organization type=healthcare, retail<br>Year=%{x}<br>sum of Records=%{y}<extra></extra>",
         "legendgroup": "healthcare, retail",
         "marker": {
          "color": "#ab63fa",
          "pattern": {
           "shape": ""
          }
         },
         "name": "healthcare, retail",
         "offsetgroup": "healthcare, retail",
         "orientation": "v",
         "showlegend": true,
         "type": "histogram",
         "x": [
          "2021"
         ],
         "xaxis": "x",
         "y": [
          77093812
         ],
         "yaxis": "y"
        },
        {
         "alignmentgroup": "True",
         "bingroup": "x",
         "histfunc": "sum",
         "hovertemplate": "Organization type=gaming<br>Year=%{x}<br>sum of Records=%{y}<extra></extra>",
         "legendgroup": "gaming",
         "marker": {
          "color": "#FFA15A",
          "pattern": {
           "shape": ""
          }
         },
         "name": "gaming",
         "offsetgroup": "gaming",
         "orientation": "v",
         "showlegend": true,
         "type": "histogram",
         "x": [
          "2011",
          "2020",
          "2011",
          "2012",
          "2018",
          "2016",
          "2011",
          "2013",
          "2011",
          "2020"
         ],
         "xaxis": "x",
         "y": [
          77000000,
          46000000,
          24600000,
          14000000,
          7633234,
          1500000,
          1290755,
          240000,
          200000,
          160000
         ],
         "yaxis": "y"
        },
        {
         "alignmentgroup": "True",
         "bingroup": "x",
         "histfunc": "sum",
         "hovertemplate": "Organization type=military<br>Year=%{x}<br>sum of Records=%{y}<extra></extra>",
         "legendgroup": "military",
         "marker": {
          "color": "#19d3f3",
          "pattern": {
           "shape": ""
          }
         },
         "name": "military",
         "offsetgroup": "military",
         "orientation": "v",
         "showlegend": true,
         "type": "histogram",
         "x": [
          "2009",
          "2011",
          "2010",
          "2009",
          "2009",
          "2011"
         ],
         "xaxis": "x",
         "y": [
          76000000,
          935000,
          260000,
          131000,
          72000,
          50000
         ],
         "yaxis": "y"
        },
        {
         "alignmentgroup": "True",
         "bingroup": "x",
         "histfunc": "sum",
         "hovertemplate": "Organization type=transport<br>Year=%{x}<br>sum of Records=%{y}<extra></extra>",
         "legendgroup": "transport",
         "marker": {
          "color": "#FF6692",
          "pattern": {
           "shape": ""
          }
         },
         "name": "transport",
         "offsetgroup": "transport",
         "orientation": "v",
         "showlegend": true,
         "type": "histogram",
         "x": [
          "2017",
          "2018",
          "2019-2020",
          "2018",
          "2023",
          "2014",
          "2018"
         ],
         "xaxis": "x",
         "y": [
          57000000,
          9400000,
          9002208,
          500000,
          75000,
          52000,
          20000
         ],
         "yaxis": "y"
        },
        {
         "alignmentgroup": "True",
         "bingroup": "x",
         "histfunc": "sum",
         "hovertemplate": "Organization type=background check<br>Year=%{x}<br>sum of Records=%{y}<extra></extra>",
         "legendgroup": "background check",
         "marker": {
          "color": "#B6E880",
          "pattern": {
           "shape": ""
          }
         },
         "name": "background check",
         "offsetgroup": "background check",
         "orientation": "v",
         "showlegend": true,
         "type": "histogram",
         "x": [
          "2020"
         ],
         "xaxis": "x",
         "y": [
          56000000
         ],
         "yaxis": "y"
        },
        {
         "alignmentgroup": "True",
         "bingroup": "x",
         "histfunc": "sum",
         "hovertemplate": "Organization type=telecom<br>Year=%{x}<br>sum of Records=%{y}<extra></extra>",
         "legendgroup": "telecom",
         "marker": {
          "color": "#FF97FF",
          "pattern": {
           "shape": ""
          }
         },
         "name": "telecom",
         "offsetgroup": "telecom",
         "orientation": "v",
         "showlegend": true,
         "type": "histogram",
         "x": [
          "2021",
          "2023"
         ],
         "xaxis": "x",
         "y": [
          45000000,
          37000000
         ],
         "yaxis": "y"
        },
        {
         "alignmentgroup": "True",
         "bingroup": "x",
         "histfunc": "sum",
         "hovertemplate": "Organization type=social media<br>Year=%{x}<br>sum of Records=%{y}<extra></extra>",
         "legendgroup": "social media",
         "marker": {
          "color": "#FECB52",
          "pattern": {
           "shape": ""
          }
         },
         "name": "social media",
         "offsetgroup": "social media",
         "orientation": "v",
         "showlegend": true,
         "type": "histogram",
         "x": [
          "2020",
          "2020"
         ],
         "xaxis": "x",
         "y": [
          42000000,
          4000000
         ],
         "yaxis": "y"
        },
        {
         "alignmentgroup": "True",
         "bingroup": "x",
         "histfunc": "sum",
         "hovertemplate": "Organization type=educational services<br>Year=%{x}<br>sum of Records=%{y}<extra></extra>",
         "legendgroup": "educational services",
         "marker": {
          "color": "#636efa",
          "pattern": {
           "shape": ""
          }
         },
         "name": "educational services",
         "offsetgroup": "educational services",
         "orientation": "v",
         "showlegend": true,
         "type": "histogram",
         "x": [
          "2014",
          "2023"
         ],
         "xaxis": "x",
         "y": [
          35040000,
          2676696
         ],
         "yaxis": "y"
        },
        {
         "alignmentgroup": "True",
         "bingroup": "x",
         "histfunc": "sum",
         "hovertemplate": "Organization type=web, gaming<br>Year=%{x}<br>sum of Records=%{y}<extra></extra>",
         "legendgroup": "web, gaming",
         "marker": {
          "color": "#EF553B",
          "pattern": {
           "shape": ""
          }
         },
         "name": "web, gaming",
         "offsetgroup": "web, gaming",
         "orientation": "v",
         "showlegend": true,
         "type": "histogram",
         "x": [
          "2009"
         ],
         "xaxis": "x",
         "y": [
          32000000
         ],
         "yaxis": "y"
        },
        {
         "alignmentgroup": "True",
         "bingroup": "x",
         "histfunc": "sum",
         "hovertemplate": "Organization type=government, military<br>Year=%{x}<br>sum of Records=%{y}<extra></extra>",
         "legendgroup": "government, military",
         "marker": {
          "color": "#00cc96",
          "pattern": {
           "shape": ""
          }
         },
         "name": "government, military",
         "offsetgroup": "government, military",
         "orientation": "v",
         "showlegend": true,
         "type": "histogram",
         "x": [
          "2006"
         ],
         "xaxis": "x",
         "y": [
          26500000
         ],
         "yaxis": "y"
        },
        {
         "alignmentgroup": "True",
         "bingroup": "x",
         "histfunc": "sum",
         "hovertemplate": "Organization type=ticket distribution<br>Year=%{x}<br>sum of Records=%{y}<extra></extra>",
         "legendgroup": "ticket distribution",
         "marker": {
          "color": "#ab63fa",
          "pattern": {
           "shape": ""
          }
         },
         "name": "ticket distribution",
         "offsetgroup": "ticket distribution",
         "orientation": "v",
         "showlegend": true,
         "type": "histogram",
         "x": [
          "2018"
         ],
         "xaxis": "x",
         "y": [
          26151608
         ],
         "yaxis": "y"
        },
        {
         "alignmentgroup": "True",
         "bingroup": "x",
         "histfunc": "sum",
         "hovertemplate": "Organization type=tech, web<br>Year=%{x}<br>sum of Records=%{y}<extra></extra>",
         "legendgroup": "tech, web",
         "marker": {
          "color": "#FFA15A",
          "pattern": {
           "shape": ""
          }
         },
         "name": "tech, web",
         "offsetgroup": "tech, web",
         "orientation": "v",
         "showlegend": true,
         "type": "histogram",
         "x": [
          "2013"
         ],
         "xaxis": "x",
         "y": [
          22000000
         ],
         "yaxis": "y"
        },
        {
         "alignmentgroup": "True",
         "bingroup": "x",
         "histfunc": "sum",
         "hovertemplate": "Organization type=QR code payment<br>Year=%{x}<br>sum of Records=%{y}<extra></extra>",
         "legendgroup": "QR code payment",
         "marker": {
          "color": "#19d3f3",
          "pattern": {
           "shape": ""
          }
         },
         "name": "QR code payment",
         "offsetgroup": "QR code payment",
         "orientation": "v",
         "showlegend": true,
         "type": "histogram",
         "x": [
          "2020"
         ],
         "xaxis": "x",
         "y": [
          20076016
         ],
         "yaxis": "y"
        },
        {
         "alignmentgroup": "True",
         "bingroup": "x",
         "histfunc": "sum",
         "hovertemplate": "Organization type=telecoms<br>Year=%{x}<br>sum of Records=%{y}<extra></extra>",
         "legendgroup": "telecoms",
         "marker": {
          "color": "#FF6692",
          "pattern": {
           "shape": ""
          }
         },
         "name": "telecoms",
         "offsetgroup": "telecoms",
         "orientation": "v",
         "showlegend": true,
         "type": "histogram",
         "x": [
          "2006",
          "2015",
          "2023",
          "2012",
          "2023",
          "2006",
          "2013",
          "2017",
          "2016",
          "2013",
          "2010",
          "2008",
          "2018",
          "2016"
         ],
         "xaxis": "x",
         "y": [
          17000000,
          15000000,
          9000000,
          8700000,
          5960000,
          4000000,
          2000000,
          1900000,
          1500000,
          170000,
          114000,
          113000,
          100000,
          40000
         ],
         "yaxis": "y"
        },
        {
         "alignmentgroup": "True",
         "bingroup": "x",
         "histfunc": "sum",
         "hovertemplate": "Organization type=social networking<br>Year=%{x}<br>sum of Records=%{y}<extra></extra>",
         "legendgroup": "social networking",
         "marker": {
          "color": "#B6E880",
          "pattern": {
           "shape": ""
          }
         },
         "name": "social networking",
         "offsetgroup": "social networking",
         "orientation": "v",
         "showlegend": true,
         "type": "histogram",
         "x": [
          "2020"
         ],
         "xaxis": "x",
         "y": [
          14870304
         ],
         "yaxis": "y"
        },
        {
         "alignmentgroup": "True",
         "bingroup": "x",
         "histfunc": "sum",
         "hovertemplate": "Organization type=tech, retail<br>Year=%{x}<br>sum of Records=%{y}<extra></extra>",
         "legendgroup": "tech, retail",
         "marker": {
          "color": "#FF97FF",
          "pattern": {
           "shape": ""
          }
         },
         "name": "tech, retail",
         "offsetgroup": "tech, retail",
         "orientation": "v",
         "showlegend": true,
         "type": "histogram",
         "x": [
          "2021",
          "2006"
         ],
         "xaxis": "x",
         "y": [
          12367232,
          200000
         ],
         "yaxis": "y"
        },
        {
         "alignmentgroup": "True",
         "bingroup": "x",
         "histfunc": "sum",
         "hovertemplate": "Organization type=Clinical Laboratory<br>Year=%{x}<br>sum of Records=%{y}<extra></extra>",
         "legendgroup": "Clinical Laboratory",
         "marker": {
          "color": "#FECB52",
          "pattern": {
           "shape": ""
          }
         },
         "name": "Clinical Laboratory",
         "offsetgroup": "Clinical Laboratory",
         "orientation": "v",
         "showlegend": true,
         "type": "histogram",
         "x": [
          "2019"
         ],
         "xaxis": "x",
         "y": [
          11900000
         ],
         "yaxis": "y"
        },
        {
         "alignmentgroup": "True",
         "bingroup": "x",
         "histfunc": "sum",
         "hovertemplate": "Organization type=energy<br>Year=%{x}<br>sum of Records=%{y}<extra></extra>",
         "legendgroup": "energy",
         "marker": {
          "color": "#636efa",
          "pattern": {
           "shape": ""
          }
         },
         "name": "energy",
         "offsetgroup": "energy",
         "orientation": "v",
         "showlegend": true,
         "type": "histogram",
         "x": [
          "2008",
          "2012",
          "2022",
          "2013"
         ],
         "xaxis": "x",
         "y": [
          11100000,
          1800000,
          1300000,
          110000
         ],
         "yaxis": "y"
        },
        {
         "alignmentgroup": "True",
         "bingroup": "x",
         "histfunc": "sum",
         "hovertemplate": "Organization type=hotel/casino<br>Year=%{x}<br>sum of Records=%{y}<extra></extra>",
         "legendgroup": "hotel/casino",
         "marker": {
          "color": "#EF553B",
          "pattern": {
           "shape": ""
          }
         },
         "name": "hotel/casino",
         "offsetgroup": "hotel/casino",
         "orientation": "v",
         "showlegend": true,
         "type": "histogram",
         "x": [
          "2023"
         ],
         "xaxis": "x",
         "y": [
          10600000
         ],
         "yaxis": "y"
        },
        {
         "alignmentgroup": "True",
         "bingroup": "x",
         "histfunc": "sum",
         "hovertemplate": "Organization type=government, healthcare<br>Year=%{x}<br>sum of Records=%{y}<extra></extra>",
         "legendgroup": "government, healthcare",
         "marker": {
          "color": "#00cc96",
          "pattern": {
           "shape": ""
          }
         },
         "name": "government, healthcare",
         "offsetgroup": "government, healthcare",
         "orientation": "v",
         "showlegend": true,
         "type": "histogram",
         "x": [
          "2009",
          "2012"
         ],
         "xaxis": "x",
         "y": [
          8257378,
          780000
         ],
         "yaxis": "y"
        },
        {
         "alignmentgroup": "True",
         "bingroup": "x",
         "histfunc": "sum",
         "hovertemplate": "Organization type=military, healthcare<br>Year=%{x}<br>sum of Records=%{y}<extra></extra>",
         "legendgroup": "military, healthcare",
         "marker": {
          "color": "#ab63fa",
          "pattern": {
           "shape": ""
          }
         },
         "name": "military, healthcare",
         "offsetgroup": "military, healthcare",
         "orientation": "v",
         "showlegend": true,
         "type": "histogram",
         "x": [
          "2011"
         ],
         "xaxis": "x",
         "y": [
          4901432
         ],
         "yaxis": "y"
        },
        {
         "alignmentgroup": "True",
         "bingroup": "x",
         "histfunc": "sum",
         "hovertemplate": "Organization type=web, tech<br>Year=%{x}<br>sum of Records=%{y}<extra></extra>",
         "legendgroup": "web, tech",
         "marker": {
          "color": "#FFA15A",
          "pattern": {
           "shape": ""
          }
         },
         "name": "web, tech",
         "offsetgroup": "web, tech",
         "orientation": "v",
         "showlegend": true,
         "type": "histogram",
         "x": [
          "2013"
         ],
         "xaxis": "x",
         "y": [
          4700000
         ],
         "yaxis": "y"
        },
        {
         "alignmentgroup": "True",
         "bingroup": "x",
         "histfunc": "sum",
         "hovertemplate": "Organization type=academic<br>Year=%{x}<br>sum of Records=%{y}<extra></extra>",
         "legendgroup": "academic",
         "marker": {
          "color": "#19d3f3",
          "pattern": {
           "shape": ""
          }
         },
         "name": "academic",
         "offsetgroup": "academic",
         "orientation": "v",
         "showlegend": true,
         "type": "histogram",
         "x": [
          "2008",
          "2008",
          "2019",
          "2010",
          "2014",
          "2019",
          "2009",
          "2013",
          "2016",
          "2011",
          "2008",
          "2016",
          "2010"
         ],
         "xaxis": "x",
         "y": [
          2200000,
          2100000,
          1164540,
          760000,
          300000,
          200000,
          160000,
          125000,
          80000,
          73000,
          72000,
          63000,
          43000
         ],
         "yaxis": "y"
        },
        {
         "alignmentgroup": "True",
         "bingroup": "x",
         "histfunc": "sum",
         "hovertemplate": "Organization type=restaurant<br>Year=%{x}<br>sum of Records=%{y}<extra></extra>",
         "legendgroup": "restaurant",
         "marker": {
          "color": "#FF6692",
          "pattern": {
           "shape": ""
          }
         },
         "name": "restaurant",
         "offsetgroup": "restaurant",
         "orientation": "v",
         "showlegend": true,
         "type": "histogram",
         "x": [
          "2018-2019"
         ],
         "xaxis": "x",
         "y": [
          2000000
         ],
         "yaxis": "y"
        },
        {
         "alignmentgroup": "True",
         "bingroup": "x",
         "histfunc": "sum",
         "hovertemplate": "Organization type=government, database<br>Year=%{x}<br>sum of Records=%{y}<extra></extra>",
         "legendgroup": "government, database",
         "marker": {
          "color": "#B6E880",
          "pattern": {
           "shape": ""
          }
         },
         "name": "government, database",
         "offsetgroup": "government, database",
         "orientation": "v",
         "showlegend": true,
         "type": "histogram",
         "x": [
          "2018"
         ],
         "xaxis": "x",
         "y": [
          1500000
         ],
         "yaxis": "y"
        },
        {
         "alignmentgroup": "True",
         "bingroup": "x",
         "histfunc": "sum",
         "hovertemplate": "Organization type=media<br>Year=%{x}<br>sum of Records=%{y}<extra></extra>",
         "legendgroup": "media",
         "marker": {
          "color": "#FF97FF",
          "pattern": {
           "shape": ""
          }
         },
         "name": "media",
         "offsetgroup": "media",
         "orientation": "v",
         "showlegend": true,
         "type": "histogram",
         "x": [
          "2011",
          "2016"
         ],
         "xaxis": "x",
         "y": [
          1270000,
          430000
         ],
         "yaxis": "y"
        },
        {
         "alignmentgroup": "True",
         "bingroup": "x",
         "histfunc": "sum",
         "hovertemplate": "Organization type=special public corporation<br>Year=%{x}<br>sum of Records=%{y}<extra></extra>",
         "legendgroup": "special public corporation",
         "marker": {
          "color": "#FECB52",
          "pattern": {
           "shape": ""
          }
         },
         "name": "special public corporation",
         "offsetgroup": "special public corporation",
         "orientation": "v",
         "showlegend": true,
         "type": "histogram",
         "x": [
          "2015"
         ],
         "xaxis": "x",
         "y": [
          1250000
         ],
         "yaxis": "y"
        },
        {
         "alignmentgroup": "True",
         "bingroup": "x",
         "histfunc": "sum",
         "hovertemplate": "Organization type=hosting provider<br>Year=%{x}<br>sum of Records=%{y}<extra></extra>",
         "legendgroup": "hosting provider",
         "marker": {
          "color": "#636efa",
          "pattern": {
           "shape": ""
          }
         },
         "name": "hosting provider",
         "offsetgroup": "hosting provider",
         "orientation": "v",
         "showlegend": true,
         "type": "histogram",
         "x": [
          "2021"
         ],
         "xaxis": "x",
         "y": [
          1107034
         ],
         "yaxis": "y"
        },
        {
         "alignmentgroup": "True",
         "bingroup": "x",
         "histfunc": "sum",
         "hovertemplate": "Organization type=mobile carrier<br>Year=%{x}<br>sum of Records=%{y}<extra></extra>",
         "legendgroup": "mobile carrier",
         "marker": {
          "color": "#EF553B",
          "pattern": {
           "shape": ""
          }
         },
         "name": "mobile carrier",
         "offsetgroup": "mobile carrier",
         "orientation": "v",
         "showlegend": true,
         "type": "histogram",
         "x": [
          "2020"
         ],
         "xaxis": "x",
         "y": [
          900000
         ],
         "yaxis": "y"
        },
        {
         "alignmentgroup": "True",
         "bingroup": "x",
         "histfunc": "sum",
         "hovertemplate": "Organization type=humanitarian<br>Year=%{x}<br>sum of Records=%{y}<extra></extra>",
         "legendgroup": "humanitarian",
         "marker": {
          "color": "#00cc96",
          "pattern": {
           "shape": ""
          }
         },
         "name": "humanitarian",
         "offsetgroup": "humanitarian",
         "orientation": "v",
         "showlegend": true,
         "type": "histogram",
         "x": [
          "2022"
         ],
         "xaxis": "x",
         "y": [
          515000
         ],
         "yaxis": "y"
        },
        {
         "alignmentgroup": "True",
         "bingroup": "x",
         "histfunc": "sum",
         "hovertemplate": "Organization type=shopping<br>Year=%{x}<br>sum of Records=%{y}<extra></extra>",
         "legendgroup": "shopping",
         "marker": {
          "color": "#ab63fa",
          "pattern": {
           "shape": ""
          }
         },
         "name": "shopping",
         "offsetgroup": "shopping",
         "orientation": "v",
         "showlegend": true,
         "type": "histogram",
         "x": [
          "2004"
         ],
         "xaxis": "x",
         "y": [
          510000
         ],
         "yaxis": "y"
        },
        {
         "alignmentgroup": "True",
         "bingroup": "x",
         "histfunc": "sum",
         "hovertemplate": "Organization type=health<br>Year=%{x}<br>sum of Records=%{y}<extra></extra>",
         "legendgroup": "health",
         "marker": {
          "color": "#FFA15A",
          "pattern": {
           "shape": ""
          }
         },
         "name": "health",
         "offsetgroup": "health",
         "orientation": "v",
         "showlegend": true,
         "type": "histogram",
         "x": [
          "2021"
         ],
         "xaxis": "x",
         "y": [
          500000
         ],
         "yaxis": "y"
        },
        {
         "alignmentgroup": "True",
         "bingroup": "x",
         "histfunc": "sum",
         "hovertemplate": "Organization type=publisher (magazine)<br>Year=%{x}<br>sum of Records=%{y}<extra></extra>",
         "legendgroup": "publisher (magazine)",
         "marker": {
          "color": "#19d3f3",
          "pattern": {
           "shape": ""
          }
         },
         "name": "publisher (magazine)",
         "offsetgroup": "publisher (magazine)",
         "orientation": "v",
         "showlegend": true,
         "type": "histogram",
         "x": [
          "2020"
         ],
         "xaxis": "x",
         "y": [
          380000
         ],
         "yaxis": "y"
        },
        {
         "alignmentgroup": "True",
         "bingroup": "x",
         "histfunc": "sum",
         "hovertemplate": "Organization type=phone accessories<br>Year=%{x}<br>sum of Records=%{y}<extra></extra>",
         "legendgroup": "phone accessories",
         "marker": {
          "color": "#FF6692",
          "pattern": {
           "shape": ""
          }
         },
         "name": "phone accessories",
         "offsetgroup": "phone accessories",
         "orientation": "v",
         "showlegend": true,
         "type": "histogram",
         "x": [
          "2020"
         ],
         "xaxis": "x",
         "y": [
          377428
         ],
         "yaxis": "y"
        },
        {
         "alignmentgroup": "True",
         "bingroup": "x",
         "histfunc": "sum",
         "hovertemplate": "Organization type=game<br>Year=%{x}<br>sum of Records=%{y}<extra></extra>",
         "legendgroup": "game",
         "marker": {
          "color": "#B6E880",
          "pattern": {
           "shape": ""
          }
         },
         "name": "game",
         "offsetgroup": "game",
         "orientation": "v",
         "showlegend": true,
         "type": "histogram",
         "x": [
          "2020"
         ],
         "xaxis": "x",
         "y": [
          350000
         ],
         "yaxis": "y"
        },
        {
         "alignmentgroup": "True",
         "bingroup": "x",
         "histfunc": "sum",
         "hovertemplate": "Organization type=bureau<br>Year=%{x}<br>sum of Records=%{y}<extra></extra>",
         "legendgroup": "bureau",
         "marker": {
          "color": "#FF97FF",
          "pattern": {
           "shape": ""
          }
         },
         "name": "bureau",
         "offsetgroup": "bureau",
         "orientation": "v",
         "showlegend": true,
         "type": "histogram",
         "x": [
          "2023"
         ],
         "xaxis": "x",
         "y": [
          256000
         ],
         "yaxis": "y"
        },
        {
         "alignmentgroup": "True",
         "bingroup": "x",
         "histfunc": "sum",
         "hovertemplate": "Organization type=web, military<br>Year=%{x}<br>sum of Records=%{y}<extra></extra>",
         "legendgroup": "web, military",
         "marker": {
          "color": "#FECB52",
          "pattern": {
           "shape": ""
          }
         },
         "name": "web, military",
         "offsetgroup": "web, military",
         "orientation": "v",
         "showlegend": true,
         "type": "histogram",
         "x": [
          "2012"
         ],
         "xaxis": "x",
         "y": [
          163792
         ],
         "yaxis": "y"
        },
        {
         "alignmentgroup": "True",
         "bingroup": "x",
         "histfunc": "sum",
         "hovertemplate": "Organization type=fashion<br>Year=%{x}<br>sum of Records=%{y}<extra></extra>",
         "legendgroup": "fashion",
         "marker": {
          "color": "#636efa",
          "pattern": {
           "shape": ""
          }
         },
         "name": "fashion",
         "offsetgroup": "fashion",
         "orientation": "v",
         "showlegend": true,
         "type": "histogram",
         "x": [
          "2018"
         ],
         "xaxis": "x",
         "y": [
          123857
         ],
         "yaxis": "y"
        },
        {
         "alignmentgroup": "True",
         "bingroup": "x",
         "histfunc": "sum",
         "hovertemplate": "Organization type=banking<br>Year=%{x}<br>sum of Records=%{y}<extra></extra>",
         "legendgroup": "banking",
         "marker": {
          "color": "#EF553B",
          "pattern": {
           "shape": ""
          }
         },
         "name": "banking",
         "offsetgroup": "banking",
         "orientation": "v",
         "showlegend": true,
         "type": "histogram",
         "x": [
          "2018"
         ],
         "xaxis": "x",
         "y": [
          90000
         ],
         "yaxis": "y"
        },
        {
         "alignmentgroup": "True",
         "bingroup": "x",
         "histfunc": "sum",
         "hovertemplate": "Organization type=advertising<br>Year=%{x}<br>sum of Records=%{y}<extra></extra>",
         "legendgroup": "advertising",
         "marker": {
          "color": "#00cc96",
          "pattern": {
           "shape": ""
          }
         },
         "name": "advertising",
         "offsetgroup": "advertising",
         "orientation": "v",
         "showlegend": true,
         "type": "histogram",
         "x": [
          "2018"
         ],
         "xaxis": "x",
         "y": [
          75000
         ],
         "yaxis": "y"
        },
        {
         "alignmentgroup": "True",
         "bingroup": "x",
         "histfunc": "sum",
         "hovertemplate": "Organization type=political<br>Year=%{x}<br>sum of Records=%{y}<extra></extra>",
         "legendgroup": "political",
         "marker": {
          "color": "#ab63fa",
          "pattern": {
           "shape": ""
          }
         },
         "name": "political",
         "offsetgroup": "political",
         "orientation": "v",
         "showlegend": true,
         "type": "histogram",
         "x": [
          "2016"
         ],
         "xaxis": "x",
         "y": [
          19252
         ],
         "yaxis": "y"
        },
        {
         "alignmentgroup": "True",
         "bingroup": "x",
         "histfunc": "sum",
         "hovertemplate": "Organization type=computer services for charities<br>Year=%{x}<br>sum of Records=%{y}<extra></extra>",
         "legendgroup": "computer services for charities",
         "marker": {
          "color": "#FFA15A",
          "pattern": {
           "shape": ""
          }
         },
         "name": "computer services for charities",
         "offsetgroup": "computer services for charities",
         "orientation": "v",
         "showlegend": true,
         "type": "histogram",
         "x": [
          "2023"
         ],
         "xaxis": "x",
         "y": [
          1000
         ],
         "yaxis": "y"
        },
        {
         "alignmentgroup": "True",
         "bingroup": "x",
         "histfunc": "sum",
         "hovertemplate": "Organization type=consulting, accounting<br>Year=%{x}<br>sum of Records=%{y}<extra></extra>",
         "legendgroup": "consulting, accounting",
         "marker": {
          "color": "#19d3f3",
          "pattern": {
           "shape": ""
          }
         },
         "name": "consulting, accounting",
         "offsetgroup": "consulting, accounting",
         "orientation": "v",
         "showlegend": true,
         "type": "histogram",
         "x": [
          "2017"
         ],
         "xaxis": "x",
         "y": [
          350
         ],
         "yaxis": "y"
        },
        {
         "alignmentgroup": "True",
         "bingroup": "x",
         "histfunc": "sum",
         "hovertemplate": "Organization type=malware tools<br>Year=%{x}<br>sum of Records=%{y}<extra></extra>",
         "legendgroup": "malware tools",
         "marker": {
          "color": "#FF6692",
          "pattern": {
           "shape": ""
          }
         },
         "name": "malware tools",
         "offsetgroup": "malware tools",
         "orientation": "v",
         "showlegend": true,
         "type": "histogram",
         "x": [
          "2017"
         ],
         "xaxis": "x",
         "y": [
          91
         ],
         "yaxis": "y"
        }
       ],
       "layout": {
        "barmode": "relative",
        "legend": {
         "title": {
          "text": "Organization type"
         },
         "tracegroupgap": 0
        },
        "template": {
         "data": {
          "bar": [
           {
            "error_x": {
             "color": "#2a3f5f"
            },
            "error_y": {
             "color": "#2a3f5f"
            },
            "marker": {
             "line": {
              "color": "#E5ECF6",
              "width": 0.5
             },
             "pattern": {
              "fillmode": "overlay",
              "size": 10,
              "solidity": 0.2
             }
            },
            "type": "bar"
           }
          ],
          "barpolar": [
           {
            "marker": {
             "line": {
              "color": "#E5ECF6",
              "width": 0.5
             },
             "pattern": {
              "fillmode": "overlay",
              "size": 10,
              "solidity": 0.2
             }
            },
            "type": "barpolar"
           }
          ],
          "carpet": [
           {
            "aaxis": {
             "endlinecolor": "#2a3f5f",
             "gridcolor": "white",
             "linecolor": "white",
             "minorgridcolor": "white",
             "startlinecolor": "#2a3f5f"
            },
            "baxis": {
             "endlinecolor": "#2a3f5f",
             "gridcolor": "white",
             "linecolor": "white",
             "minorgridcolor": "white",
             "startlinecolor": "#2a3f5f"
            },
            "type": "carpet"
           }
          ],
          "choropleth": [
           {
            "colorbar": {
             "outlinewidth": 0,
             "ticks": ""
            },
            "type": "choropleth"
           }
          ],
          "contour": [
           {
            "colorbar": {
             "outlinewidth": 0,
             "ticks": ""
            },
            "colorscale": [
             [
              0,
              "#0d0887"
             ],
             [
              0.1111111111111111,
              "#46039f"
             ],
             [
              0.2222222222222222,
              "#7201a8"
             ],
             [
              0.3333333333333333,
              "#9c179e"
             ],
             [
              0.4444444444444444,
              "#bd3786"
             ],
             [
              0.5555555555555556,
              "#d8576b"
             ],
             [
              0.6666666666666666,
              "#ed7953"
             ],
             [
              0.7777777777777778,
              "#fb9f3a"
             ],
             [
              0.8888888888888888,
              "#fdca26"
             ],
             [
              1,
              "#f0f921"
             ]
            ],
            "type": "contour"
           }
          ],
          "contourcarpet": [
           {
            "colorbar": {
             "outlinewidth": 0,
             "ticks": ""
            },
            "type": "contourcarpet"
           }
          ],
          "heatmap": [
           {
            "colorbar": {
             "outlinewidth": 0,
             "ticks": ""
            },
            "colorscale": [
             [
              0,
              "#0d0887"
             ],
             [
              0.1111111111111111,
              "#46039f"
             ],
             [
              0.2222222222222222,
              "#7201a8"
             ],
             [
              0.3333333333333333,
              "#9c179e"
             ],
             [
              0.4444444444444444,
              "#bd3786"
             ],
             [
              0.5555555555555556,
              "#d8576b"
             ],
             [
              0.6666666666666666,
              "#ed7953"
             ],
             [
              0.7777777777777778,
              "#fb9f3a"
             ],
             [
              0.8888888888888888,
              "#fdca26"
             ],
             [
              1,
              "#f0f921"
             ]
            ],
            "type": "heatmap"
           }
          ],
          "heatmapgl": [
           {
            "colorbar": {
             "outlinewidth": 0,
             "ticks": ""
            },
            "colorscale": [
             [
              0,
              "#0d0887"
             ],
             [
              0.1111111111111111,
              "#46039f"
             ],
             [
              0.2222222222222222,
              "#7201a8"
             ],
             [
              0.3333333333333333,
              "#9c179e"
             ],
             [
              0.4444444444444444,
              "#bd3786"
             ],
             [
              0.5555555555555556,
              "#d8576b"
             ],
             [
              0.6666666666666666,
              "#ed7953"
             ],
             [
              0.7777777777777778,
              "#fb9f3a"
             ],
             [
              0.8888888888888888,
              "#fdca26"
             ],
             [
              1,
              "#f0f921"
             ]
            ],
            "type": "heatmapgl"
           }
          ],
          "histogram": [
           {
            "marker": {
             "pattern": {
              "fillmode": "overlay",
              "size": 10,
              "solidity": 0.2
             }
            },
            "type": "histogram"
           }
          ],
          "histogram2d": [
           {
            "colorbar": {
             "outlinewidth": 0,
             "ticks": ""
            },
            "colorscale": [
             [
              0,
              "#0d0887"
             ],
             [
              0.1111111111111111,
              "#46039f"
             ],
             [
              0.2222222222222222,
              "#7201a8"
             ],
             [
              0.3333333333333333,
              "#9c179e"
             ],
             [
              0.4444444444444444,
              "#bd3786"
             ],
             [
              0.5555555555555556,
              "#d8576b"
             ],
             [
              0.6666666666666666,
              "#ed7953"
             ],
             [
              0.7777777777777778,
              "#fb9f3a"
             ],
             [
              0.8888888888888888,
              "#fdca26"
             ],
             [
              1,
              "#f0f921"
             ]
            ],
            "type": "histogram2d"
           }
          ],
          "histogram2dcontour": [
           {
            "colorbar": {
             "outlinewidth": 0,
             "ticks": ""
            },
            "colorscale": [
             [
              0,
              "#0d0887"
             ],
             [
              0.1111111111111111,
              "#46039f"
             ],
             [
              0.2222222222222222,
              "#7201a8"
             ],
             [
              0.3333333333333333,
              "#9c179e"
             ],
             [
              0.4444444444444444,
              "#bd3786"
             ],
             [
              0.5555555555555556,
              "#d8576b"
             ],
             [
              0.6666666666666666,
              "#ed7953"
             ],
             [
              0.7777777777777778,
              "#fb9f3a"
             ],
             [
              0.8888888888888888,
              "#fdca26"
             ],
             [
              1,
              "#f0f921"
             ]
            ],
            "type": "histogram2dcontour"
           }
          ],
          "mesh3d": [
           {
            "colorbar": {
             "outlinewidth": 0,
             "ticks": ""
            },
            "type": "mesh3d"
           }
          ],
          "parcoords": [
           {
            "line": {
             "colorbar": {
              "outlinewidth": 0,
              "ticks": ""
             }
            },
            "type": "parcoords"
           }
          ],
          "pie": [
           {
            "automargin": true,
            "type": "pie"
           }
          ],
          "scatter": [
           {
            "fillpattern": {
             "fillmode": "overlay",
             "size": 10,
             "solidity": 0.2
            },
            "type": "scatter"
           }
          ],
          "scatter3d": [
           {
            "line": {
             "colorbar": {
              "outlinewidth": 0,
              "ticks": ""
             }
            },
            "marker": {
             "colorbar": {
              "outlinewidth": 0,
              "ticks": ""
             }
            },
            "type": "scatter3d"
           }
          ],
          "scattercarpet": [
           {
            "marker": {
             "colorbar": {
              "outlinewidth": 0,
              "ticks": ""
             }
            },
            "type": "scattercarpet"
           }
          ],
          "scattergeo": [
           {
            "marker": {
             "colorbar": {
              "outlinewidth": 0,
              "ticks": ""
             }
            },
            "type": "scattergeo"
           }
          ],
          "scattergl": [
           {
            "marker": {
             "colorbar": {
              "outlinewidth": 0,
              "ticks": ""
             }
            },
            "type": "scattergl"
           }
          ],
          "scattermapbox": [
           {
            "marker": {
             "colorbar": {
              "outlinewidth": 0,
              "ticks": ""
             }
            },
            "type": "scattermapbox"
           }
          ],
          "scatterpolar": [
           {
            "marker": {
             "colorbar": {
              "outlinewidth": 0,
              "ticks": ""
             }
            },
            "type": "scatterpolar"
           }
          ],
          "scatterpolargl": [
           {
            "marker": {
             "colorbar": {
              "outlinewidth": 0,
              "ticks": ""
             }
            },
            "type": "scatterpolargl"
           }
          ],
          "scatterternary": [
           {
            "marker": {
             "colorbar": {
              "outlinewidth": 0,
              "ticks": ""
             }
            },
            "type": "scatterternary"
           }
          ],
          "surface": [
           {
            "colorbar": {
             "outlinewidth": 0,
             "ticks": ""
            },
            "colorscale": [
             [
              0,
              "#0d0887"
             ],
             [
              0.1111111111111111,
              "#46039f"
             ],
             [
              0.2222222222222222,
              "#7201a8"
             ],
             [
              0.3333333333333333,
              "#9c179e"
             ],
             [
              0.4444444444444444,
              "#bd3786"
             ],
             [
              0.5555555555555556,
              "#d8576b"
             ],
             [
              0.6666666666666666,
              "#ed7953"
             ],
             [
              0.7777777777777778,
              "#fb9f3a"
             ],
             [
              0.8888888888888888,
              "#fdca26"
             ],
             [
              1,
              "#f0f921"
             ]
            ],
            "type": "surface"
           }
          ],
          "table": [
           {
            "cells": {
             "fill": {
              "color": "#EBF0F8"
             },
             "line": {
              "color": "white"
             }
            },
            "header": {
             "fill": {
              "color": "#C8D4E3"
             },
             "line": {
              "color": "white"
             }
            },
            "type": "table"
           }
          ]
         },
         "layout": {
          "annotationdefaults": {
           "arrowcolor": "#2a3f5f",
           "arrowhead": 0,
           "arrowwidth": 1
          },
          "autotypenumbers": "strict",
          "coloraxis": {
           "colorbar": {
            "outlinewidth": 0,
            "ticks": ""
           }
          },
          "colorscale": {
           "diverging": [
            [
             0,
             "#8e0152"
            ],
            [
             0.1,
             "#c51b7d"
            ],
            [
             0.2,
             "#de77ae"
            ],
            [
             0.3,
             "#f1b6da"
            ],
            [
             0.4,
             "#fde0ef"
            ],
            [
             0.5,
             "#f7f7f7"
            ],
            [
             0.6,
             "#e6f5d0"
            ],
            [
             0.7,
             "#b8e186"
            ],
            [
             0.8,
             "#7fbc41"
            ],
            [
             0.9,
             "#4d9221"
            ],
            [
             1,
             "#276419"
            ]
           ],
           "sequential": [
            [
             0,
             "#0d0887"
            ],
            [
             0.1111111111111111,
             "#46039f"
            ],
            [
             0.2222222222222222,
             "#7201a8"
            ],
            [
             0.3333333333333333,
             "#9c179e"
            ],
            [
             0.4444444444444444,
             "#bd3786"
            ],
            [
             0.5555555555555556,
             "#d8576b"
            ],
            [
             0.6666666666666666,
             "#ed7953"
            ],
            [
             0.7777777777777778,
             "#fb9f3a"
            ],
            [
             0.8888888888888888,
             "#fdca26"
            ],
            [
             1,
             "#f0f921"
            ]
           ],
           "sequentialminus": [
            [
             0,
             "#0d0887"
            ],
            [
             0.1111111111111111,
             "#46039f"
            ],
            [
             0.2222222222222222,
             "#7201a8"
            ],
            [
             0.3333333333333333,
             "#9c179e"
            ],
            [
             0.4444444444444444,
             "#bd3786"
            ],
            [
             0.5555555555555556,
             "#d8576b"
            ],
            [
             0.6666666666666666,
             "#ed7953"
            ],
            [
             0.7777777777777778,
             "#fb9f3a"
            ],
            [
             0.8888888888888888,
             "#fdca26"
            ],
            [
             1,
             "#f0f921"
            ]
           ]
          },
          "colorway": [
           "#636efa",
           "#EF553B",
           "#00cc96",
           "#ab63fa",
           "#FFA15A",
           "#19d3f3",
           "#FF6692",
           "#B6E880",
           "#FF97FF",
           "#FECB52"
          ],
          "font": {
           "color": "#2a3f5f"
          },
          "geo": {
           "bgcolor": "white",
           "lakecolor": "white",
           "landcolor": "#E5ECF6",
           "showlakes": true,
           "showland": true,
           "subunitcolor": "white"
          },
          "hoverlabel": {
           "align": "left"
          },
          "hovermode": "closest",
          "mapbox": {
           "style": "light"
          },
          "paper_bgcolor": "white",
          "plot_bgcolor": "#E5ECF6",
          "polar": {
           "angularaxis": {
            "gridcolor": "white",
            "linecolor": "white",
            "ticks": ""
           },
           "bgcolor": "#E5ECF6",
           "radialaxis": {
            "gridcolor": "white",
            "linecolor": "white",
            "ticks": ""
           }
          },
          "scene": {
           "xaxis": {
            "backgroundcolor": "#E5ECF6",
            "gridcolor": "white",
            "gridwidth": 2,
            "linecolor": "white",
            "showbackground": true,
            "ticks": "",
            "zerolinecolor": "white"
           },
           "yaxis": {
            "backgroundcolor": "#E5ECF6",
            "gridcolor": "white",
            "gridwidth": 2,
            "linecolor": "white",
            "showbackground": true,
            "ticks": "",
            "zerolinecolor": "white"
           },
           "zaxis": {
            "backgroundcolor": "#E5ECF6",
            "gridcolor": "white",
            "gridwidth": 2,
            "linecolor": "white",
            "showbackground": true,
            "ticks": "",
            "zerolinecolor": "white"
           }
          },
          "shapedefaults": {
           "line": {
            "color": "#2a3f5f"
           }
          },
          "ternary": {
           "aaxis": {
            "gridcolor": "white",
            "linecolor": "white",
            "ticks": ""
           },
           "baxis": {
            "gridcolor": "white",
            "linecolor": "white",
            "ticks": ""
           },
           "bgcolor": "#E5ECF6",
           "caxis": {
            "gridcolor": "white",
            "linecolor": "white",
            "ticks": ""
           }
          },
          "title": {
           "x": 0.05
          },
          "xaxis": {
           "automargin": true,
           "gridcolor": "white",
           "linecolor": "white",
           "ticks": "",
           "title": {
            "standoff": 15
           },
           "zerolinecolor": "white",
           "zerolinewidth": 2
          },
          "yaxis": {
           "automargin": true,
           "gridcolor": "white",
           "linecolor": "white",
           "ticks": "",
           "title": {
            "standoff": 15
           },
           "zerolinecolor": "white",
           "zerolinewidth": 2
          }
         }
        },
        "title": {
         "text": "Size of data breached for every year"
        },
        "xaxis": {
         "anchor": "y",
         "domain": [
          0,
          1
         ],
         "title": {
          "text": "Year"
         }
        },
        "yaxis": {
         "anchor": "x",
         "domain": [
          0,
          1
         ],
         "title": {
          "text": "sum of Records"
         }
        }
       }
      }
     },
     "metadata": {},
     "output_type": "display_data"
    }
   ],
   "source": [
    "px.histogram(dataset, x='Year', y='Records', color='Organization type', title='Size of data breached for every year')"
   ]
  },
  {
   "cell_type": "code",
   "execution_count": 26,
   "metadata": {},
   "outputs": [
    {
     "data": {
      "text/plain": [
       "Year\n",
       "2004             9.251000e+07\n",
       "2005             4.682500e+07\n",
       "2006             7.126000e+07\n",
       "2007             1.532864e+08\n",
       "2008             6.906650e+07\n",
       "2009             2.554680e+08\n",
       "2010             1.598048e+07\n",
       "2011             2.277881e+08\n",
       "2012             4.288396e+08\n",
       "2013             3.469435e+09\n",
       "2014             8.509780e+08\n",
       "2014 and 2015    3.630000e+05\n",
       "2015             2.016545e+08\n",
       "2016             5.405824e+08\n",
       "2017             2.547673e+08\n",
       "2018             1.574850e+09\n",
       "2018-2019        2.000000e+06\n",
       "2019             7.412101e+09\n",
       "2019-2020        9.002208e+06\n",
       "2020             1.342526e+09\n",
       "2021             1.387901e+08\n",
       "2022             2.945892e+07\n",
       "2023             1.350244e+09\n",
       "Name: Records, dtype: float64"
      ]
     },
     "execution_count": 26,
     "metadata": {},
     "output_type": "execute_result"
    }
   ],
   "source": [
    "# Size of data breached for every year\n",
    "dataset.groupby('Year')['Records'].sum()"
   ]
  },
  {
   "cell_type": "code",
   "execution_count": 27,
   "metadata": {},
   "outputs": [
    {
     "data": {
      "application/vnd.plotly.v1+json": {
       "config": {
        "plotlyServerURL": "https://plot.ly"
       },
       "data": [
        {
         "branchvalues": "total",
         "domain": {
          "x": [
           0,
           1
          ],
          "y": [
           0,
           1
          ]
         },
         "hovertemplate": "labels=%{label}<br>Records=%{value}<br>parent=%{parent}<br>id=%{id}<extra></extra>",
         "ids": [
          "mobile carrier/accidentally exposed",
          "academic/accidentally published",
          "financial/accidentally published",
          "government/accidentally published",
          "military/accidentally published",
          "retail/accidentally published",
          "social network/accidentally published",
          "tech, retail/accidentally published",
          "telecoms/accidentally published",
          "web/accidentally published",
          "web, military/accidentally published",
          "social network/accidentally uploaded",
          "various/compilation of multiple data breaches",
          "tech/data exposed by misconfiguration",
          "Consumer Goods/hacked",
          "Question & Answer/hacked",
          "academic/hacked",
          "advertising/hacked",
          "educational services/hacked",
          "energy/hacked",
          "fashion/hacked",
          "financial/hacked",
          "game/hacked",
          "gaming/hacked",
          "government/hacked",
          "government, database/hacked",
          "government, healthcare/hacked",
          "healthcare/hacked",
          "healthcare, retail/hacked",
          "hosting provider/hacked",
          "hotel/hacked",
          "hotel/casino/hacked",
          "media/hacked",
          "messaging app/hacked",
          "online shopping/hacked",
          "political/hacked",
          "restaurant/hacked",
          "retail/hacked",
          "social network/hacked",
          "social networking/hacked",
          "special public corporation/hacked",
          "tech/hacked",
          "tech, web/hacked",
          "telecom/hacked",
          "telecommunications/hacked",
          "telecoms/hacked",
          "ticket distribution/hacked",
          "transport/hacked",
          "web/hacked",
          "web, gaming/hacked",
          "web, tech/hacked",
          "government/hacked and published",
          "QR code payment/improper setting, hacked",
          "web/improper setting, hacked",
          "energy/inside job",
          "financial/inside job",
          "government/inside job",
          "healthcare/inside job",
          "malware tools/inside job",
          "military/inside job",
          "retail/inside job",
          "shopping/inside job",
          "telecoms/inside job",
          "transport/inside job",
          "web/inside job, hacked",
          "financial/intentionally lost",
          "government/leaked and published",
          "academic/lost / stolen computer",
          "government/lost / stolen computer",
          "government, military/lost / stolen computer",
          "healthcare/lost / stolen computer",
          "military/lost / stolen computer",
          "military, healthcare/lost / stolen computer",
          "retail/lost / stolen computer",
          "telecoms/lost / stolen computer",
          "academic/lost / stolen media",
          "financial/lost / stolen media",
          "government/lost / stolen media",
          "healthcare/lost / stolen media",
          "military/lost / stolen media",
          "tech, retail/lost / stolen media",
          "telecoms/lost / stolen media",
          "telecommunications/misconfiguration/poor security",
          "Clinical Laboratory/poor security",
          "banking/poor security",
          "bureau/poor security",
          "consulting, accounting/poor security",
          "data broker/poor security",
          "energy/poor security",
          "financial/poor security",
          "financial service company/poor security",
          "financial, credit reporting/poor security",
          "government/poor security",
          "health/poor security",
          "healthcare/poor security",
          "market analysis/poor security",
          "online marketing/poor security",
          "personal and demographic data about residents and their properties of US/poor security",
          "phone accessories/poor security",
          "retail/poor security",
          "social media/poor security",
          "social network/poor security",
          "tech/poor security",
          "telecommunications/poor security",
          "telecoms/poor security",
          "transport/poor security",
          "various/poor security",
          "web/poor security",
          "web/poor security / hacked",
          "healthcare/poor security/inside job",
          "hotel/poor security/inside job",
          "online marketing/publicly accessible Amazon Web Services (AWS) server",
          "computer services for charities/ransomware hacked",
          "online shopping/ransomware hacked",
          "financial/rogue contractor",
          "web/social engineering",
          "Telephone directory/unknown",
          "background check/unknown",
          "genealogy/unknown",
          "humanitarian/unknown",
          "publisher (magazine)/unknown",
          "local search/unprotected api",
          "financial/unsecured S3 bucket",
          "Clinical Laboratory",
          "Consumer Goods",
          "QR code payment",
          "Question & Answer",
          "Telephone directory",
          "academic",
          "advertising",
          "background check",
          "banking",
          "bureau",
          "computer services for charities",
          "consulting, accounting",
          "data broker",
          "educational services",
          "energy",
          "fashion",
          "financial",
          "financial service company",
          "financial, credit reporting",
          "game",
          "gaming",
          "genealogy",
          "government",
          "government, database",
          "government, healthcare",
          "government, military",
          "health",
          "healthcare",
          "healthcare, retail",
          "hosting provider",
          "hotel",
          "hotel/casino",
          "humanitarian",
          "local search",
          "malware tools",
          "market analysis",
          "media",
          "messaging app",
          "military",
          "military, healthcare",
          "mobile carrier",
          "online marketing",
          "online shopping",
          "personal and demographic data about residents and their properties of US",
          "phone accessories",
          "political",
          "publisher (magazine)",
          "restaurant",
          "retail",
          "shopping",
          "social media",
          "social network",
          "social networking",
          "special public corporation",
          "tech",
          "tech, retail",
          "tech, web",
          "telecom",
          "telecommunications",
          "telecoms",
          "ticket distribution",
          "transport",
          "various",
          "web",
          "web, gaming",
          "web, military",
          "web, tech"
         ],
         "labels": [
          "accidentally exposed",
          "accidentally published",
          "accidentally published",
          "accidentally published",
          "accidentally published",
          "accidentally published",
          "accidentally published",
          "accidentally published",
          "accidentally published",
          "accidentally published",
          "accidentally published",
          "accidentally uploaded",
          "compilation of multiple data breaches",
          "data exposed by misconfiguration",
          "hacked",
          "hacked",
          "hacked",
          "hacked",
          "hacked",
          "hacked",
          "hacked",
          "hacked",
          "hacked",
          "hacked",
          "hacked",
          "hacked",
          "hacked",
          "hacked",
          "hacked",
          "hacked",
          "hacked",
          "hacked",
          "hacked",
          "hacked",
          "hacked",
          "hacked",
          "hacked",
          "hacked",
          "hacked",
          "hacked",
          "hacked",
          "hacked",
          "hacked",
          "hacked",
          "hacked",
          "hacked",
          "hacked",
          "hacked",
          "hacked",
          "hacked",
          "hacked",
          "hacked and published",
          "improper setting, hacked",
          "improper setting, hacked",
          "inside job",
          "inside job",
          "inside job",
          "inside job",
          "inside job",
          "inside job",
          "inside job",
          "inside job",
          "inside job",
          "inside job",
          "inside job, hacked",
          "intentionally lost",
          "leaked and published",
          "lost / stolen computer",
          "lost / stolen computer",
          "lost / stolen computer",
          "lost / stolen computer",
          "lost / stolen computer",
          "lost / stolen computer",
          "lost / stolen computer",
          "lost / stolen computer",
          "lost / stolen media",
          "lost / stolen media",
          "lost / stolen media",
          "lost / stolen media",
          "lost / stolen media",
          "lost / stolen media",
          "lost / stolen media",
          "misconfiguration/poor security",
          "poor security",
          "poor security",
          "poor security",
          "poor security",
          "poor security",
          "poor security",
          "poor security",
          "poor security",
          "poor security",
          "poor security",
          "poor security",
          "poor security",
          "poor security",
          "poor security",
          "poor security",
          "poor security",
          "poor security",
          "poor security",
          "poor security",
          "poor security",
          "poor security",
          "poor security",
          "poor security",
          "poor security",
          "poor security",
          "poor security / hacked",
          "poor security/inside job",
          "poor security/inside job",
          "publicly accessible Amazon Web Services (AWS) server",
          "ransomware hacked",
          "ransomware hacked",
          "rogue contractor",
          "social engineering",
          "unknown",
          "unknown",
          "unknown",
          "unknown",
          "unknown",
          "unprotected api",
          "unsecured S3 bucket",
          "Clinical Laboratory",
          "Consumer Goods",
          "QR code payment",
          "Question & Answer",
          "Telephone directory",
          "academic",
          "advertising",
          "background check",
          "banking",
          "bureau",
          "computer services for charities",
          "consulting, accounting",
          "data broker",
          "educational services",
          "energy",
          "fashion",
          "financial",
          "financial service company",
          "financial, credit reporting",
          "game",
          "gaming",
          "genealogy",
          "government",
          "government, database",
          "government, healthcare",
          "government, military",
          "health",
          "healthcare",
          "healthcare, retail",
          "hosting provider",
          "hotel",
          "hotel/casino",
          "humanitarian",
          "local search",
          "malware tools",
          "market analysis",
          "media",
          "messaging app",
          "military",
          "military, healthcare",
          "mobile carrier",
          "online marketing",
          "online shopping",
          "personal and demographic data about residents and their properties of US",
          "phone accessories",
          "political",
          "publisher (magazine)",
          "restaurant",
          "retail",
          "shopping",
          "social media",
          "social network",
          "social networking",
          "special public corporation",
          "tech",
          "tech, retail",
          "tech, web",
          "telecom",
          "telecommunications",
          "telecoms",
          "ticket distribution",
          "transport",
          "various",
          "web",
          "web, gaming",
          "web, military",
          "web, tech"
         ],
         "name": "",
         "parents": [
          "mobile carrier",
          "academic",
          "financial",
          "government",
          "military",
          "retail",
          "social network",
          "tech, retail",
          "telecoms",
          "web",
          "web, military",
          "social network",
          "various",
          "tech",
          "Consumer Goods",
          "Question & Answer",
          "academic",
          "advertising",
          "educational services",
          "energy",
          "fashion",
          "financial",
          "game",
          "gaming",
          "government",
          "government, database",
          "government, healthcare",
          "healthcare",
          "healthcare, retail",
          "hosting provider",
          "hotel",
          "hotel/casino",
          "media",
          "messaging app",
          "online shopping",
          "political",
          "restaurant",
          "retail",
          "social network",
          "social networking",
          "special public corporation",
          "tech",
          "tech, web",
          "telecom",
          "telecommunications",
          "telecoms",
          "ticket distribution",
          "transport",
          "web",
          "web, gaming",
          "web, tech",
          "government",
          "QR code payment",
          "web",
          "energy",
          "financial",
          "government",
          "healthcare",
          "malware tools",
          "military",
          "retail",
          "shopping",
          "telecoms",
          "transport",
          "web",
          "financial",
          "government",
          "academic",
          "government",
          "government, military",
          "healthcare",
          "military",
          "military, healthcare",
          "retail",
          "telecoms",
          "academic",
          "financial",
          "government",
          "healthcare",
          "military",
          "tech, retail",
          "telecoms",
          "telecommunications",
          "Clinical Laboratory",
          "banking",
          "bureau",
          "consulting, accounting",
          "data broker",
          "energy",
          "financial",
          "financial service company",
          "financial, credit reporting",
          "government",
          "health",
          "healthcare",
          "market analysis",
          "online marketing",
          "personal and demographic data about residents and their properties of US",
          "phone accessories",
          "retail",
          "social media",
          "social network",
          "tech",
          "telecommunications",
          "telecoms",
          "transport",
          "various",
          "web",
          "web",
          "healthcare",
          "hotel",
          "online marketing",
          "computer services for charities",
          "online shopping",
          "financial",
          "web",
          "Telephone directory",
          "background check",
          "genealogy",
          "humanitarian",
          "publisher (magazine)",
          "local search",
          "financial",
          "",
          "",
          "",
          "",
          "",
          "",
          "",
          "",
          "",
          "",
          "",
          "",
          "",
          "",
          "",
          "",
          "",
          "",
          "",
          "",
          "",
          "",
          "",
          "",
          "",
          "",
          "",
          "",
          "",
          "",
          "",
          "",
          "",
          "",
          "",
          "",
          "",
          "",
          "",
          "",
          "",
          "",
          "",
          "",
          "",
          "",
          "",
          "",
          "",
          "",
          "",
          "",
          "",
          "",
          "",
          "",
          "",
          "",
          "",
          "",
          "",
          "",
          "",
          "",
          "",
          "",
          ""
         ],
         "type": "sunburst",
         "values": [
          900000,
          43000,
          200000000,
          21673461,
          985000,
          95000,
          6000000,
          12367232,
          170000,
          28420000,
          163792,
          1500000,
          773000000,
          250000000,
          150000000,
          100000000,
          2925540,
          75000,
          37716696,
          110000,
          123857,
          483298083,
          350000,
          172623989,
          93394899,
          1500000,
          9037378,
          156733800,
          77093812,
          1107034,
          500363000,
          10600000,
          1700000,
          162000000,
          91000000,
          19252,
          2000000,
          362228335,
          173000000,
          14870304,
          1250000,
          157848000,
          22000000,
          82000000,
          9800000,
          44414000,
          26151608,
          75922208,
          4663549235,
          32000000,
          4700000,
          34900867,
          20076016,
          1381735,
          12900000,
          44300000,
          1412000,
          6406700,
          91,
          260000,
          8637405,
          510000,
          2000000,
          75000,
          92000000,
          960000,
          337225463,
          2172000,
          100000,
          26500000,
          6583234,
          131000,
          4901432,
          897000,
          113000,
          2200000,
          23734000,
          30634500,
          20594036,
          76072000,
          200000,
          17000000,
          100000000,
          11900000,
          90000,
          256000,
          350,
          340000000,
          1300000,
          275000,
          885000000,
          163119000,
          966519437,
          500000,
          1780600,
          120000000,
          2809000000,
          201000000,
          377428,
          283000,
          46000000,
          1057500000,
          593050000,
          320000000,
          1900000,
          52000,
          6400000,
          376000,
          412214295,
          14200,
          5200000,
          38000000,
          1000,
          1648922,
          30000,
          6054459,
          299055000,
          56000000,
          92283889,
          515000,
          380000,
          100000000,
          106000000,
          11900000,
          150000000,
          20076016,
          100000000,
          299055000,
          7340540,
          75000,
          56000000,
          90000,
          256000,
          1000,
          350,
          340000000,
          37716696,
          14310000,
          123857,
          858597083,
          885000000,
          163119000,
          350000,
          172623989,
          92283889,
          1485860627,
          1500000,
          9037378,
          26500000,
          500000,
          192112570,
          77093812,
          1107034,
          505563000,
          10600000,
          515000,
          100000000,
          91,
          120000000,
          1700000,
          162000000,
          77448000,
          4901432,
          900000,
          2847000000,
          92648922,
          201000000,
          377428,
          19252,
          380000,
          2000000,
          372140740,
          510000,
          46000000,
          1238000000,
          14870304,
          1250000,
          1000898000,
          12567232,
          22000000,
          82000000,
          429800000,
          65597000,
          26151608,
          76049208,
          779400000,
          5203995724,
          32000000,
          163792,
          4700000
         ]
        }
       ],
       "layout": {
        "height": 1000,
        "legend": {
         "tracegroupgap": 0
        },
        "template": {
         "data": {
          "bar": [
           {
            "error_x": {
             "color": "#2a3f5f"
            },
            "error_y": {
             "color": "#2a3f5f"
            },
            "marker": {
             "line": {
              "color": "#E5ECF6",
              "width": 0.5
             },
             "pattern": {
              "fillmode": "overlay",
              "size": 10,
              "solidity": 0.2
             }
            },
            "type": "bar"
           }
          ],
          "barpolar": [
           {
            "marker": {
             "line": {
              "color": "#E5ECF6",
              "width": 0.5
             },
             "pattern": {
              "fillmode": "overlay",
              "size": 10,
              "solidity": 0.2
             }
            },
            "type": "barpolar"
           }
          ],
          "carpet": [
           {
            "aaxis": {
             "endlinecolor": "#2a3f5f",
             "gridcolor": "white",
             "linecolor": "white",
             "minorgridcolor": "white",
             "startlinecolor": "#2a3f5f"
            },
            "baxis": {
             "endlinecolor": "#2a3f5f",
             "gridcolor": "white",
             "linecolor": "white",
             "minorgridcolor": "white",
             "startlinecolor": "#2a3f5f"
            },
            "type": "carpet"
           }
          ],
          "choropleth": [
           {
            "colorbar": {
             "outlinewidth": 0,
             "ticks": ""
            },
            "type": "choropleth"
           }
          ],
          "contour": [
           {
            "colorbar": {
             "outlinewidth": 0,
             "ticks": ""
            },
            "colorscale": [
             [
              0,
              "#0d0887"
             ],
             [
              0.1111111111111111,
              "#46039f"
             ],
             [
              0.2222222222222222,
              "#7201a8"
             ],
             [
              0.3333333333333333,
              "#9c179e"
             ],
             [
              0.4444444444444444,
              "#bd3786"
             ],
             [
              0.5555555555555556,
              "#d8576b"
             ],
             [
              0.6666666666666666,
              "#ed7953"
             ],
             [
              0.7777777777777778,
              "#fb9f3a"
             ],
             [
              0.8888888888888888,
              "#fdca26"
             ],
             [
              1,
              "#f0f921"
             ]
            ],
            "type": "contour"
           }
          ],
          "contourcarpet": [
           {
            "colorbar": {
             "outlinewidth": 0,
             "ticks": ""
            },
            "type": "contourcarpet"
           }
          ],
          "heatmap": [
           {
            "colorbar": {
             "outlinewidth": 0,
             "ticks": ""
            },
            "colorscale": [
             [
              0,
              "#0d0887"
             ],
             [
              0.1111111111111111,
              "#46039f"
             ],
             [
              0.2222222222222222,
              "#7201a8"
             ],
             [
              0.3333333333333333,
              "#9c179e"
             ],
             [
              0.4444444444444444,
              "#bd3786"
             ],
             [
              0.5555555555555556,
              "#d8576b"
             ],
             [
              0.6666666666666666,
              "#ed7953"
             ],
             [
              0.7777777777777778,
              "#fb9f3a"
             ],
             [
              0.8888888888888888,
              "#fdca26"
             ],
             [
              1,
              "#f0f921"
             ]
            ],
            "type": "heatmap"
           }
          ],
          "heatmapgl": [
           {
            "colorbar": {
             "outlinewidth": 0,
             "ticks": ""
            },
            "colorscale": [
             [
              0,
              "#0d0887"
             ],
             [
              0.1111111111111111,
              "#46039f"
             ],
             [
              0.2222222222222222,
              "#7201a8"
             ],
             [
              0.3333333333333333,
              "#9c179e"
             ],
             [
              0.4444444444444444,
              "#bd3786"
             ],
             [
              0.5555555555555556,
              "#d8576b"
             ],
             [
              0.6666666666666666,
              "#ed7953"
             ],
             [
              0.7777777777777778,
              "#fb9f3a"
             ],
             [
              0.8888888888888888,
              "#fdca26"
             ],
             [
              1,
              "#f0f921"
             ]
            ],
            "type": "heatmapgl"
           }
          ],
          "histogram": [
           {
            "marker": {
             "pattern": {
              "fillmode": "overlay",
              "size": 10,
              "solidity": 0.2
             }
            },
            "type": "histogram"
           }
          ],
          "histogram2d": [
           {
            "colorbar": {
             "outlinewidth": 0,
             "ticks": ""
            },
            "colorscale": [
             [
              0,
              "#0d0887"
             ],
             [
              0.1111111111111111,
              "#46039f"
             ],
             [
              0.2222222222222222,
              "#7201a8"
             ],
             [
              0.3333333333333333,
              "#9c179e"
             ],
             [
              0.4444444444444444,
              "#bd3786"
             ],
             [
              0.5555555555555556,
              "#d8576b"
             ],
             [
              0.6666666666666666,
              "#ed7953"
             ],
             [
              0.7777777777777778,
              "#fb9f3a"
             ],
             [
              0.8888888888888888,
              "#fdca26"
             ],
             [
              1,
              "#f0f921"
             ]
            ],
            "type": "histogram2d"
           }
          ],
          "histogram2dcontour": [
           {
            "colorbar": {
             "outlinewidth": 0,
             "ticks": ""
            },
            "colorscale": [
             [
              0,
              "#0d0887"
             ],
             [
              0.1111111111111111,
              "#46039f"
             ],
             [
              0.2222222222222222,
              "#7201a8"
             ],
             [
              0.3333333333333333,
              "#9c179e"
             ],
             [
              0.4444444444444444,
              "#bd3786"
             ],
             [
              0.5555555555555556,
              "#d8576b"
             ],
             [
              0.6666666666666666,
              "#ed7953"
             ],
             [
              0.7777777777777778,
              "#fb9f3a"
             ],
             [
              0.8888888888888888,
              "#fdca26"
             ],
             [
              1,
              "#f0f921"
             ]
            ],
            "type": "histogram2dcontour"
           }
          ],
          "mesh3d": [
           {
            "colorbar": {
             "outlinewidth": 0,
             "ticks": ""
            },
            "type": "mesh3d"
           }
          ],
          "parcoords": [
           {
            "line": {
             "colorbar": {
              "outlinewidth": 0,
              "ticks": ""
             }
            },
            "type": "parcoords"
           }
          ],
          "pie": [
           {
            "automargin": true,
            "type": "pie"
           }
          ],
          "scatter": [
           {
            "fillpattern": {
             "fillmode": "overlay",
             "size": 10,
             "solidity": 0.2
            },
            "type": "scatter"
           }
          ],
          "scatter3d": [
           {
            "line": {
             "colorbar": {
              "outlinewidth": 0,
              "ticks": ""
             }
            },
            "marker": {
             "colorbar": {
              "outlinewidth": 0,
              "ticks": ""
             }
            },
            "type": "scatter3d"
           }
          ],
          "scattercarpet": [
           {
            "marker": {
             "colorbar": {
              "outlinewidth": 0,
              "ticks": ""
             }
            },
            "type": "scattercarpet"
           }
          ],
          "scattergeo": [
           {
            "marker": {
             "colorbar": {
              "outlinewidth": 0,
              "ticks": ""
             }
            },
            "type": "scattergeo"
           }
          ],
          "scattergl": [
           {
            "marker": {
             "colorbar": {
              "outlinewidth": 0,
              "ticks": ""
             }
            },
            "type": "scattergl"
           }
          ],
          "scattermapbox": [
           {
            "marker": {
             "colorbar": {
              "outlinewidth": 0,
              "ticks": ""
             }
            },
            "type": "scattermapbox"
           }
          ],
          "scatterpolar": [
           {
            "marker": {
             "colorbar": {
              "outlinewidth": 0,
              "ticks": ""
             }
            },
            "type": "scatterpolar"
           }
          ],
          "scatterpolargl": [
           {
            "marker": {
             "colorbar": {
              "outlinewidth": 0,
              "ticks": ""
             }
            },
            "type": "scatterpolargl"
           }
          ],
          "scatterternary": [
           {
            "marker": {
             "colorbar": {
              "outlinewidth": 0,
              "ticks": ""
             }
            },
            "type": "scatterternary"
           }
          ],
          "surface": [
           {
            "colorbar": {
             "outlinewidth": 0,
             "ticks": ""
            },
            "colorscale": [
             [
              0,
              "#0d0887"
             ],
             [
              0.1111111111111111,
              "#46039f"
             ],
             [
              0.2222222222222222,
              "#7201a8"
             ],
             [
              0.3333333333333333,
              "#9c179e"
             ],
             [
              0.4444444444444444,
              "#bd3786"
             ],
             [
              0.5555555555555556,
              "#d8576b"
             ],
             [
              0.6666666666666666,
              "#ed7953"
             ],
             [
              0.7777777777777778,
              "#fb9f3a"
             ],
             [
              0.8888888888888888,
              "#fdca26"
             ],
             [
              1,
              "#f0f921"
             ]
            ],
            "type": "surface"
           }
          ],
          "table": [
           {
            "cells": {
             "fill": {
              "color": "#EBF0F8"
             },
             "line": {
              "color": "white"
             }
            },
            "header": {
             "fill": {
              "color": "#C8D4E3"
             },
             "line": {
              "color": "white"
             }
            },
            "type": "table"
           }
          ]
         },
         "layout": {
          "annotationdefaults": {
           "arrowcolor": "#2a3f5f",
           "arrowhead": 0,
           "arrowwidth": 1
          },
          "autotypenumbers": "strict",
          "coloraxis": {
           "colorbar": {
            "outlinewidth": 0,
            "ticks": ""
           }
          },
          "colorscale": {
           "diverging": [
            [
             0,
             "#8e0152"
            ],
            [
             0.1,
             "#c51b7d"
            ],
            [
             0.2,
             "#de77ae"
            ],
            [
             0.3,
             "#f1b6da"
            ],
            [
             0.4,
             "#fde0ef"
            ],
            [
             0.5,
             "#f7f7f7"
            ],
            [
             0.6,
             "#e6f5d0"
            ],
            [
             0.7,
             "#b8e186"
            ],
            [
             0.8,
             "#7fbc41"
            ],
            [
             0.9,
             "#4d9221"
            ],
            [
             1,
             "#276419"
            ]
           ],
           "sequential": [
            [
             0,
             "#0d0887"
            ],
            [
             0.1111111111111111,
             "#46039f"
            ],
            [
             0.2222222222222222,
             "#7201a8"
            ],
            [
             0.3333333333333333,
             "#9c179e"
            ],
            [
             0.4444444444444444,
             "#bd3786"
            ],
            [
             0.5555555555555556,
             "#d8576b"
            ],
            [
             0.6666666666666666,
             "#ed7953"
            ],
            [
             0.7777777777777778,
             "#fb9f3a"
            ],
            [
             0.8888888888888888,
             "#fdca26"
            ],
            [
             1,
             "#f0f921"
            ]
           ],
           "sequentialminus": [
            [
             0,
             "#0d0887"
            ],
            [
             0.1111111111111111,
             "#46039f"
            ],
            [
             0.2222222222222222,
             "#7201a8"
            ],
            [
             0.3333333333333333,
             "#9c179e"
            ],
            [
             0.4444444444444444,
             "#bd3786"
            ],
            [
             0.5555555555555556,
             "#d8576b"
            ],
            [
             0.6666666666666666,
             "#ed7953"
            ],
            [
             0.7777777777777778,
             "#fb9f3a"
            ],
            [
             0.8888888888888888,
             "#fdca26"
            ],
            [
             1,
             "#f0f921"
            ]
           ]
          },
          "colorway": [
           "#636efa",
           "#EF553B",
           "#00cc96",
           "#ab63fa",
           "#FFA15A",
           "#19d3f3",
           "#FF6692",
           "#B6E880",
           "#FF97FF",
           "#FECB52"
          ],
          "font": {
           "color": "#2a3f5f"
          },
          "geo": {
           "bgcolor": "white",
           "lakecolor": "white",
           "landcolor": "#E5ECF6",
           "showlakes": true,
           "showland": true,
           "subunitcolor": "white"
          },
          "hoverlabel": {
           "align": "left"
          },
          "hovermode": "closest",
          "mapbox": {
           "style": "light"
          },
          "paper_bgcolor": "white",
          "plot_bgcolor": "#E5ECF6",
          "polar": {
           "angularaxis": {
            "gridcolor": "white",
            "linecolor": "white",
            "ticks": ""
           },
           "bgcolor": "#E5ECF6",
           "radialaxis": {
            "gridcolor": "white",
            "linecolor": "white",
            "ticks": ""
           }
          },
          "scene": {
           "xaxis": {
            "backgroundcolor": "#E5ECF6",
            "gridcolor": "white",
            "gridwidth": 2,
            "linecolor": "white",
            "showbackground": true,
            "ticks": "",
            "zerolinecolor": "white"
           },
           "yaxis": {
            "backgroundcolor": "#E5ECF6",
            "gridcolor": "white",
            "gridwidth": 2,
            "linecolor": "white",
            "showbackground": true,
            "ticks": "",
            "zerolinecolor": "white"
           },
           "zaxis": {
            "backgroundcolor": "#E5ECF6",
            "gridcolor": "white",
            "gridwidth": 2,
            "linecolor": "white",
            "showbackground": true,
            "ticks": "",
            "zerolinecolor": "white"
           }
          },
          "shapedefaults": {
           "line": {
            "color": "#2a3f5f"
           }
          },
          "ternary": {
           "aaxis": {
            "gridcolor": "white",
            "linecolor": "white",
            "ticks": ""
           },
           "baxis": {
            "gridcolor": "white",
            "linecolor": "white",
            "ticks": ""
           },
           "bgcolor": "#E5ECF6",
           "caxis": {
            "gridcolor": "white",
            "linecolor": "white",
            "ticks": ""
           }
          },
          "title": {
           "x": 0.05
          },
          "xaxis": {
           "automargin": true,
           "gridcolor": "white",
           "linecolor": "white",
           "ticks": "",
           "title": {
            "standoff": 15
           },
           "zerolinecolor": "white",
           "zerolinewidth": 2
          },
          "yaxis": {
           "automargin": true,
           "gridcolor": "white",
           "linecolor": "white",
           "ticks": "",
           "title": {
            "standoff": 15
           },
           "zerolinecolor": "white",
           "zerolinewidth": 2
          }
         }
        },
        "title": {
         "text": "Method of Breaches for each Sector"
        },
        "width": 1000
       }
      }
     },
     "metadata": {},
     "output_type": "display_data"
    }
   ],
   "source": [
    "fig =px.sunburst(dataset, path=[\"Organization type\",\"Method\"], values='Records', width = 1000, height = 1000, title = \"Method of Breaches for each Sector\")\n",
    "fig.show()"
   ]
  },
  {
   "cell_type": "code",
   "execution_count": 28,
   "metadata": {},
   "outputs": [
    {
     "data": {
      "text/plain": [
       "Organization type    Method                  \n",
       "Clinical Laboratory  poor security                11900000.0\n",
       "Consumer Goods       hacked                      150000000.0\n",
       "QR code payment      improper setting, hacked     20076016.0\n",
       "Question & Answer    hacked                      100000000.0\n",
       "Telephone directory  unknown                     299055000.0\n",
       "                                                    ...     \n",
       "web                  poor security / hacked      412214295.0\n",
       "                     social engineering            6054459.0\n",
       "web, gaming          hacked                       32000000.0\n",
       "web, military        accidentally published         163792.0\n",
       "web, tech            hacked                        4700000.0\n",
       "Name: Records, Length: 123, dtype: float64"
      ]
     },
     "execution_count": 28,
     "metadata": {},
     "output_type": "execute_result"
    }
   ],
   "source": [
    "#Print the data represented in the sunburst chart\n",
    "dataset.groupby(['Organization type', 'Method'])['Records'].sum()"
   ]
  },
  {
   "cell_type": "code",
   "execution_count": 29,
   "metadata": {},
   "outputs": [
    {
     "data": {
      "application/vnd.plotly.v1+json": {
       "config": {
        "plotlyServerURL": "https://plot.ly"
       },
       "data": [
        {
         "branchvalues": "total",
         "domain": {
          "x": [
           0,
           1
          ],
          "y": [
           0,
           1
          ]
         },
         "hovertemplate": "labels=%{label}<br>Records=%{value}<br>parent=%{parent}<br>id=%{id}<extra></extra>",
         "ids": [
          "transport/2018 British Airways cyberattack",
          "government/2019 Bulgarian revenue agency hack",
          "healthcare/21st Century Oncology",
          "various/50 companies and government institutions",
          "social networking/500px",
          "web/AOL",
          "telecoms/AT&T",
          "healthcare/Accendo Insurance Co.",
          "tech/Adobe Inc.",
          "tech/Adobe Systems Incorporated",
          "healthcare/Advocate Medical Group",
          "advertising/AerServ (subsidiary of InMobi)",
          "healthcare/Affinity Health Plan, Inc.",
          "transport/Air Canada",
          "telecommunications/Airtel",
          "web/Ancestry.com",
          "gaming/Animal Jam",
          "healthcare/Ankle & Foot Center of Tampa Bay, Inc.",
          "healthcare/Anthem Inc.",
          "tech/Apple",
          "healthcare/Apple Health Medicaid",
          "tech, retail/Apple, Inc./BlueToad",
          "web/Ashley Madison",
          "web/Auction.co.kr",
          "academic/Australian National University",
          "financial/Automatic Data Processing",
          "healthcare/AvMed, Inc.",
          "banking/BMO and Simplii",
          "retail/Bailey's Inc.",
          "government/Bangladesh Government website data breach",
          "financial/Bank of America",
          "telecoms/Bell Canada",
          "educational services/Benesse",
          "web/Betfair",
          "gaming/Bethesda Game Studios",
          "gaming/Blank Media Games",
          "gaming/Blizzard Entertainment",
          "healthcare/BlueCross BlueShield of Tennessee",
          "government/California Department of Child Support Services",
          "web/Canva",
          "game/Capcom",
          "financial/Capital One",
          "financial/CardSystems Solutions Inc.(MasterCard, Visa, Discover Financial Services and American Express)",
          "healthcare/CareFirst BlueCross Blue Shield - Maryland",
          "transport/Cathay Pacific Airways",
          "healthcare/Centers for Medicare & Medicaid Services",
          "financial/Central Coast Credit Union",
          "energy/Central Hudson Gas & Electric",
          "malware tools/Central Intelligence Agency",
          "financial/CheckFree Corporation",
          "background check/CheckPeople",
          "web/China Software Developer Network",
          "web/Chinese gaming websites (three: Duowan, 7K7K, 178.com)",
          "financial/Citigroup",
          "healthcare/City and Hackney Teaching Primary Care Trust",
          "various/Collection No. 1",
          "healthcare/Colorado state government",
          "healthcare/Community Health Systems",
          "financial/Compass Bank",
          "bureau/Consumer Financial Protection Bureau",
          "financial/Countrywide Financial Corp",
          "telecoms/Cox Communications",
          "healthcare/Crescent Health Inc., Walgreens",
          "hosting provider/CyberServe",
          "retail/DSW Inc.",
          "retail/Dai Nippon Printing",
          "financial/Data Processors International (MasterCard, Visa, Discover Financial Services and American Express)",
          "health/Dedalus Biologie (a division of Dedalus Global)",
          "consulting, accounting/Deloitte",
          "political/Democratic National Committee",
          "financial/Desjardins",
          "government/Directorate General of Immigration of Indonesia",
          "government/Directorate General of Population and Civil Registration (Dukcapil)",
          "web/Domino's Pizza (France)",
          "web/DoorDash",
          "web/Dropbox",
          "web/Drupal",
          "messaging app/Dubsmash",
          "tech/Dun & Bradstreet",
          "educational services/Duolingo",
          "restaurant/Earl Enterprises (Buca di Beppo, Earl of Sandwich, Planet Hollywood Chicken Guy, Mixology, Tequila Taqueria)",
          "transport/EasyJet",
          "financial/Educational Credit Management Corporation",
          "healthcare/Eisenhower Medical Center",
          "tech/ElasticSearch",
          "government/Embassy Cables",
          "healthcare/Emergency Healthcare Physicians, Ltd.",
          "healthcare/Emory Healthcare",
          "financial, credit reporting/Equifax",
          "healthcare, retail/EssilorLuxottica",
          "web/Evernote",
          "computer services for charities/Evide data breach",
          "data broker/Exactis",
          "healthcare/Excellus BlueCross BlueShield",
          "telecoms/Experian - T-Mobile US",
          "social network/Facebook",
          "retail/Fast Retailing",
          "financial/Federal Reserve Bank of Cleveland",
          "financial/Fidelity National Information Services",
          "financial service company/First American Corporation",
          "government/Florida Department of Juvenile Justice",
          "web/Formspring",
          "web/Friend Finder Networks",
          "web/Funimation",
          "energy/GS Caltex",
          "web/Gamigo",
          "retail/Gap Inc.",
          "web/Gawker",
          "financial/Global Payments",
          "web/Gmail",
          "social network/Google Plus",
          "government/Greek government",
          "healthcare/Grozio Chirurgija",
          "healthcare/HCA Healthcare",
          "retail/Hannaford Brothers Supermarket Chain",
          "retail/HauteLook",
          "healthcare/Health Net",
          "healthcare/Health Net — IBM",
          "healthcare/Health Sciences Authority (Singapore)",
          "financial/Heartland",
          "tech, retail/Hewlett Packard",
          "hotel/Hilton Hotels",
          "retail/Home Depot",
          "retail/Honda Canada",
          "retail/IKEA",
          "energy/Iberdrola",
          "government/India Government Aadhar data breach",
          "social network/Instagram",
          "financial/Internal Revenue Service",
          "humanitarian/International Committee of the Red Cross",
          "healthcare/Inuvik hospital",
          "financial/Iranian banks (three: Saderat, Eghtesad Novin, and Saman)",
          "financial/JP Morgan Chase",
          "special public corporation/Japan Pension Service",
          "shopping/Japanet Takata",
          "government/Jefferson County, West Virginia",
          "local search/Justdial",
          "telecoms/KDDI",
          "web/KM.RU",
          "telecoms/KT Corporation",
          "academic/Kirkwood Community College",
          "financial/Korea Credit Bureau",
          "tech/Kroll Background America",
          "publisher (magazine)/Les Éditions Protégez-vous",
          "tech/LexisNexis",
          "healthcare/LifeLabs",
          "healthcare/Lincoln Medical & Mental Health Center",
          "web/LinkedIn, eHarmony, Last.fm",
          "web/Living Social",
          "hotel/casino/MGM Resorts",
          "web/MacRumors.com",
          "financial/Manipulated Caiman",
          "hotel/Marriott International",
          "government/Massachusetts Government",
          "financial/Massive American business hack including 7-Eleven and Nasdaq",
          "healthcare/Medibank & AHM",
          "healthcare/Medical Informatics Engineering",
          "healthcare/Memorial Healthcare System",
          "retail/Michaels",
          "tech/Microsoft",
          "web, military/Militarysingles.com",
          "government/Ministry of Education (Chile)",
          "healthcare/Ministry of Health (Singapore)",
          "financial/Mitsubishi Tokyo UFJ Bank",
          "telecommunications/Mobile TeleSystems (MTS)",
          "tech/MongoDB",
          "web/Monster.com",
          "financial/Morgan Stanley Smith Barney",
          "online shopping/Morinaga Confectionery",
          "web/Mozilla",
          "genealogy/MyHeritage",
          "healthcare/NEC Networks, LLC",
          "healthcare/NHS",
          "telecoms/NTT Business Solutions",
          "telecoms/NTT Docomo",
          "military/National Archives and Records Administration (U.S. military veterans records)",
          "military/National Guard of the United States",
          "healthcare/National Health Information Center (NCZI) of Slovakia",
          "retail/Neiman Marcus",
          "healthcare/Nemours Foundation",
          "tech/Network Solutions",
          "healthcare/New York City Health & Hospitals Corp.",
          "energy/New York State Electric & Gas",
          "transport/New York Taxis",
          "web/Nexon Korea Corp",
          "gaming/Nintendo (Club Nintendo)",
          "gaming/Nintendo (Nintendo Account)",
          "media/Nippon Television",
          "gaming/Nival Networks",
          "government/Norwegian Tax Administration",
          "financial/Now:Pensions",
          "government/Office of the Texas Attorney General",
          "academic/Ohio State University",
          "telecommunications/Optus",
          "web/Orbitz",
          "web/Patreon",
          "QR code payment/PayPay",
          "government/Philippine law enforcement agencies (Philippine National Police, National Bureau of Investigation, Bureau of Internal Revenue)",
          "government/Philippines Commission on Elections",
          "fashion/Popsugar",
          "healthcare/Premera",
          "healthcare/Puerto Rico Department of Health",
          "Clinical Laboratory/Quest Diagnostics",
          "Question & Answer/Quora",
          "financial/RBS Worldpay",
          "government/RENAPER (Argentina)",
          "web/Rakuten",
          "web/Rambler.ru",
          "retail/Restaurant Depot",
          "web, gaming/RockYou!",
          "government/Sakai City, Japan",
          "government/San Francisco Public Utilities Commission",
          "financial/Scottrade",
          "web/Scribd",
          "healthcare/Seacoast Radiology, PA",
          "gaming/Sega",
          "government/Service NSW (New South Wales)",
          "government/Service Personnel and Veterans Agency (UK)",
          "government, database/SingHealth",
          "tech/Slack",
          "phone accessories/SlickWraps",
          "web, tech/Snapchat",
          "gaming/Sony Online Entertainment",
          "web/Sony Pictures",
          "gaming/Sony PlayStation Network",
          "government/South Africa police",
          "healthcare/South Carolina Government",
          "healthcare/South Shore Hospital, Massachusetts",
          "healthcare/Southern California Medical-Legal Consultants",
          "healthcare/Spartanburg Regional Healthcare System",
          "academic/Stanford University",
          "retail/Starbucks",
          "government/State of Texas",
          "web/Steam",
          "retail/StockX",
          "military/Stratfor",
          "healthcare/Sutter Medical Center",
          "government/Syrian government (Syria Files)",
          "telecom/T-Mobile",
          "telecoms/T-Mobile, Deutsche Telekom",
          "financial/TD Ameritrade",
          "financial/TD Bank",
          "retail/TK / TJ Maxx",
          "retail/Taobao",
          "retail/Target Corporation",
          "web/Taringa!",
          "web/TaxSlayer.com",
          "telecoms/TerraCom & YourTel",
          "transport/Tesla",
          "market analysis/Tetrad",
          "government/Texas Lottery",
          "financial/The Bank of New York Mellon",
          "web/Tianya Club",
          "ticket distribution/Ticketfly (subsidiary of Eventbrite)",
          "social media/TikTok",
          "online shopping/Tokopedia",
          "military, healthcare/Tricare",
          "healthcare/Triple-S Salud, Inc.",
          "Telephone directory/Truecaller",
          "web/Tumblr",
          "web/Twitter",
          "military/U.S. Army",
          "government/U.S. Army (classified Iraq War documents)",
          "military/U.S. Department of Defense",
          "government, military/U.S. Department of Veteran Affairs",
          "military/U.S. government (United States diplomatic cables leak)",
          "government/U.S. law enforcement (70 different agencies)",
          "healthcare/UCLA Medical Center, Santa Monica",
          "government/UK Driving Standards Agency",
          "government/UK Home Office",
          "government/UK Ministry of Defence",
          "government/UK Revenue & Customs",
          "government/US Department of Homeland Security",
          "government, healthcare/US Medicaid",
          "government/US Office of Personnel Management",
          "tech/Uber",
          "transport/Uber",
          "tech/Ubuntu",
          "Consumer Goods/Under Armour",
          "government/United States Postal Service",
          "academic/Universiti Teknologi MARA",
          "academic/University of California, Berkeley",
          "academic/University of Central Florida",
          "academic/University of Maryland, College Park",
          "academic/University of Miami",
          "academic/University of Utah Hospital & Clinics",
          "academic/University of Wisconsin–Milwaukee",
          "personal and demographic data about residents and their properties of US/Unknown",
          "financial/Unknown agency (believed to be tied to United States Census Bureau)",
          "retail/VTech",
          "healthcare/Vastaamo",
          "online marketing/Verifications.io (first leak)",
          "online marketing/Verifications.io (total leaks)",
          "telecoms/Verizon Communications",
          "online marketing/View Media",
          "mobile carrier/Virgin Media",
          "government, healthcare/Virginia Department of Health",
          "healthcare/Virginia Prescription Monitoring Program",
          "telecoms/Vodafone",
          "retail/Walmart",
          "media/Washington Post",
          "government/Washington State court system",
          "web/Wattpad",
          "retail/Wawa (company)",
          "web/Weebly",
          "financial/Westpac",
          "web/Writerspace.com",
          "web/Xat.com",
          "web/Yahoo",
          "tech, web/Yahoo Japan",
          "web/Yahoo! Voices",
          "academic/Yale University",
          "social media/YouTube",
          "web/Zappos",
          "social network/Zynga",
          "web/eBay",
          "web/goregrish.com",
          "Clinical Laboratory",
          "Consumer Goods",
          "QR code payment",
          "Question & Answer",
          "Telephone directory",
          "academic",
          "advertising",
          "background check",
          "banking",
          "bureau",
          "computer services for charities",
          "consulting, accounting",
          "data broker",
          "educational services",
          "energy",
          "fashion",
          "financial",
          "financial service company",
          "financial, credit reporting",
          "game",
          "gaming",
          "genealogy",
          "government",
          "government, database",
          "government, healthcare",
          "government, military",
          "health",
          "healthcare",
          "healthcare, retail",
          "hosting provider",
          "hotel",
          "hotel/casino",
          "humanitarian",
          "local search",
          "malware tools",
          "market analysis",
          "media",
          "messaging app",
          "military",
          "military, healthcare",
          "mobile carrier",
          "online marketing",
          "online shopping",
          "personal and demographic data about residents and their properties of US",
          "phone accessories",
          "political",
          "publisher (magazine)",
          "restaurant",
          "retail",
          "shopping",
          "social media",
          "social network",
          "social networking",
          "special public corporation",
          "tech",
          "tech, retail",
          "tech, web",
          "telecom",
          "telecommunications",
          "telecoms",
          "ticket distribution",
          "transport",
          "various",
          "web",
          "web, gaming",
          "web, military",
          "web, tech"
         ],
         "labels": [
          "2018 British Airways cyberattack",
          "2019 Bulgarian revenue agency hack",
          "21st Century Oncology",
          "50 companies and government institutions",
          "500px",
          "AOL",
          "AT&T",
          "Accendo Insurance Co.",
          "Adobe Inc.",
          "Adobe Systems Incorporated",
          "Advocate Medical Group",
          "AerServ (subsidiary of InMobi)",
          "Affinity Health Plan, Inc.",
          "Air Canada",
          "Airtel",
          "Ancestry.com",
          "Animal Jam",
          "Ankle & Foot Center of Tampa Bay, Inc.",
          "Anthem Inc.",
          "Apple",
          "Apple Health Medicaid",
          "Apple, Inc./BlueToad",
          "Ashley Madison",
          "Auction.co.kr",
          "Australian National University",
          "Automatic Data Processing",
          "AvMed, Inc.",
          "BMO and Simplii",
          "Bailey's Inc.",
          "Bangladesh Government website data breach",
          "Bank of America",
          "Bell Canada",
          "Benesse",
          "Betfair",
          "Bethesda Game Studios",
          "Blank Media Games",
          "Blizzard Entertainment",
          "BlueCross BlueShield of Tennessee",
          "California Department of Child Support Services",
          "Canva",
          "Capcom",
          "Capital One",
          "CardSystems Solutions Inc.(MasterCard, Visa, Discover Financial Services and American Express)",
          "CareFirst BlueCross Blue Shield - Maryland",
          "Cathay Pacific Airways",
          "Centers for Medicare & Medicaid Services",
          "Central Coast Credit Union",
          "Central Hudson Gas & Electric",
          "Central Intelligence Agency",
          "CheckFree Corporation",
          "CheckPeople",
          "China Software Developer Network",
          "Chinese gaming websites (three: Duowan, 7K7K, 178.com)",
          "Citigroup",
          "City and Hackney Teaching Primary Care Trust",
          "Collection No. 1",
          "Colorado state government",
          "Community Health Systems",
          "Compass Bank",
          "Consumer Financial Protection Bureau",
          "Countrywide Financial Corp",
          "Cox Communications",
          "Crescent Health Inc., Walgreens",
          "CyberServe",
          "DSW Inc.",
          "Dai Nippon Printing",
          "Data Processors International (MasterCard, Visa, Discover Financial Services and American Express)",
          "Dedalus Biologie (a division of Dedalus Global)",
          "Deloitte",
          "Democratic National Committee",
          "Desjardins",
          "Directorate General of Immigration of Indonesia",
          "Directorate General of Population and Civil Registration (Dukcapil)",
          "Domino's Pizza (France)",
          "DoorDash",
          "Dropbox",
          "Drupal",
          "Dubsmash",
          "Dun & Bradstreet",
          "Duolingo",
          "Earl Enterprises (Buca di Beppo, Earl of Sandwich, Planet Hollywood Chicken Guy, Mixology, Tequila Taqueria)",
          "EasyJet",
          "Educational Credit Management Corporation",
          "Eisenhower Medical Center",
          "ElasticSearch",
          "Embassy Cables",
          "Emergency Healthcare Physicians, Ltd.",
          "Emory Healthcare",
          "Equifax",
          "EssilorLuxottica",
          "Evernote",
          "Evide data breach",
          "Exactis",
          "Excellus BlueCross BlueShield",
          "Experian - T-Mobile US",
          "Facebook",
          "Fast Retailing",
          "Federal Reserve Bank of Cleveland",
          "Fidelity National Information Services",
          "First American Corporation",
          "Florida Department of Juvenile Justice",
          "Formspring",
          "Friend Finder Networks",
          "Funimation",
          "GS Caltex",
          "Gamigo",
          "Gap Inc.",
          "Gawker",
          "Global Payments",
          "Gmail",
          "Google Plus",
          "Greek government",
          "Grozio Chirurgija",
          "HCA Healthcare",
          "Hannaford Brothers Supermarket Chain",
          "HauteLook",
          "Health Net",
          "Health Net — IBM",
          "Health Sciences Authority (Singapore)",
          "Heartland",
          "Hewlett Packard",
          "Hilton Hotels",
          "Home Depot",
          "Honda Canada",
          "IKEA",
          "Iberdrola",
          "India Government Aadhar data breach",
          "Instagram",
          "Internal Revenue Service",
          "International Committee of the Red Cross",
          "Inuvik hospital",
          "Iranian banks (three: Saderat, Eghtesad Novin, and Saman)",
          "JP Morgan Chase",
          "Japan Pension Service",
          "Japanet Takata",
          "Jefferson County, West Virginia",
          "Justdial",
          "KDDI",
          "KM.RU",
          "KT Corporation",
          "Kirkwood Community College",
          "Korea Credit Bureau",
          "Kroll Background America",
          "Les Éditions Protégez-vous",
          "LexisNexis",
          "LifeLabs",
          "Lincoln Medical & Mental Health Center",
          "LinkedIn, eHarmony, Last.fm",
          "Living Social",
          "MGM Resorts",
          "MacRumors.com",
          "Manipulated Caiman",
          "Marriott International",
          "Massachusetts Government",
          "Massive American business hack including 7-Eleven and Nasdaq",
          "Medibank & AHM",
          "Medical Informatics Engineering",
          "Memorial Healthcare System",
          "Michaels",
          "Microsoft",
          "Militarysingles.com",
          "Ministry of Education (Chile)",
          "Ministry of Health (Singapore)",
          "Mitsubishi Tokyo UFJ Bank",
          "Mobile TeleSystems (MTS)",
          "MongoDB",
          "Monster.com",
          "Morgan Stanley Smith Barney",
          "Morinaga Confectionery",
          "Mozilla",
          "MyHeritage",
          "NEC Networks, LLC",
          "NHS",
          "NTT Business Solutions",
          "NTT Docomo",
          "National Archives and Records Administration (U.S. military veterans records)",
          "National Guard of the United States",
          "National Health Information Center (NCZI) of Slovakia",
          "Neiman Marcus",
          "Nemours Foundation",
          "Network Solutions",
          "New York City Health & Hospitals Corp.",
          "New York State Electric & Gas",
          "New York Taxis",
          "Nexon Korea Corp",
          "Nintendo (Club Nintendo)",
          "Nintendo (Nintendo Account)",
          "Nippon Television",
          "Nival Networks",
          "Norwegian Tax Administration",
          "Now:Pensions",
          "Office of the Texas Attorney General",
          "Ohio State University",
          "Optus",
          "Orbitz",
          "Patreon",
          "PayPay",
          "Philippine law enforcement agencies (Philippine National Police, National Bureau of Investigation, Bureau of Internal Revenue)",
          "Philippines Commission on Elections",
          "Popsugar",
          "Premera",
          "Puerto Rico Department of Health",
          "Quest Diagnostics",
          "Quora",
          "RBS Worldpay",
          "RENAPER (Argentina)",
          "Rakuten",
          "Rambler.ru",
          "Restaurant Depot",
          "RockYou!",
          "Sakai City, Japan",
          "San Francisco Public Utilities Commission",
          "Scottrade",
          "Scribd",
          "Seacoast Radiology, PA",
          "Sega",
          "Service NSW (New South Wales)",
          "Service Personnel and Veterans Agency (UK)",
          "SingHealth",
          "Slack",
          "SlickWraps",
          "Snapchat",
          "Sony Online Entertainment",
          "Sony Pictures",
          "Sony PlayStation Network",
          "South Africa police",
          "South Carolina Government",
          "South Shore Hospital, Massachusetts",
          "Southern California Medical-Legal Consultants",
          "Spartanburg Regional Healthcare System",
          "Stanford University",
          "Starbucks",
          "State of Texas",
          "Steam",
          "StockX",
          "Stratfor",
          "Sutter Medical Center",
          "Syrian government (Syria Files)",
          "T-Mobile",
          "T-Mobile, Deutsche Telekom",
          "TD Ameritrade",
          "TD Bank",
          "TK / TJ Maxx",
          "Taobao",
          "Target Corporation",
          "Taringa!",
          "TaxSlayer.com",
          "TerraCom & YourTel",
          "Tesla",
          "Tetrad",
          "Texas Lottery",
          "The Bank of New York Mellon",
          "Tianya Club",
          "Ticketfly (subsidiary of Eventbrite)",
          "TikTok",
          "Tokopedia",
          "Tricare",
          "Triple-S Salud, Inc.",
          "Truecaller",
          "Tumblr",
          "Twitter",
          "U.S. Army",
          "U.S. Army (classified Iraq War documents)",
          "U.S. Department of Defense",
          "U.S. Department of Veteran Affairs",
          "U.S. government (United States diplomatic cables leak)",
          "U.S. law enforcement (70 different agencies)",
          "UCLA Medical Center, Santa Monica",
          "UK Driving Standards Agency",
          "UK Home Office",
          "UK Ministry of Defence",
          "UK Revenue & Customs",
          "US Department of Homeland Security",
          "US Medicaid",
          "US Office of Personnel Management",
          "Uber",
          "Uber",
          "Ubuntu",
          "Under Armour",
          "United States Postal Service",
          "Universiti Teknologi MARA",
          "University of California, Berkeley",
          "University of Central Florida",
          "University of Maryland, College Park",
          "University of Miami",
          "University of Utah Hospital & Clinics",
          "University of Wisconsin–Milwaukee",
          "Unknown",
          "Unknown agency (believed to be tied to United States Census Bureau)",
          "VTech",
          "Vastaamo",
          "Verifications.io (first leak)",
          "Verifications.io (total leaks)",
          "Verizon Communications",
          "View Media",
          "Virgin Media",
          "Virginia Department of Health",
          "Virginia Prescription Monitoring Program",
          "Vodafone",
          "Walmart",
          "Washington Post",
          "Washington State court system",
          "Wattpad",
          "Wawa (company)",
          "Weebly",
          "Westpac",
          "Writerspace.com",
          "Xat.com",
          "Yahoo",
          "Yahoo Japan",
          "Yahoo! Voices",
          "Yale University",
          "YouTube",
          "Zappos",
          "Zynga",
          "eBay",
          "goregrish.com",
          "Clinical Laboratory",
          "Consumer Goods",
          "QR code payment",
          "Question & Answer",
          "Telephone directory",
          "academic",
          "advertising",
          "background check",
          "banking",
          "bureau",
          "computer services for charities",
          "consulting, accounting",
          "data broker",
          "educational services",
          "energy",
          "fashion",
          "financial",
          "financial service company",
          "financial, credit reporting",
          "game",
          "gaming",
          "genealogy",
          "government",
          "government, database",
          "government, healthcare",
          "government, military",
          "health",
          "healthcare",
          "healthcare, retail",
          "hosting provider",
          "hotel",
          "hotel/casino",
          "humanitarian",
          "local search",
          "malware tools",
          "market analysis",
          "media",
          "messaging app",
          "military",
          "military, healthcare",
          "mobile carrier",
          "online marketing",
          "online shopping",
          "personal and demographic data about residents and their properties of US",
          "phone accessories",
          "political",
          "publisher (magazine)",
          "restaurant",
          "retail",
          "shopping",
          "social media",
          "social network",
          "social networking",
          "special public corporation",
          "tech",
          "tech, retail",
          "tech, web",
          "telecom",
          "telecommunications",
          "telecoms",
          "ticket distribution",
          "transport",
          "various",
          "web",
          "web, gaming",
          "web, military",
          "web, tech"
         ],
         "name": "",
         "parents": [
          "transport",
          "government",
          "healthcare",
          "various",
          "social networking",
          "web",
          "telecoms",
          "healthcare",
          "tech",
          "tech",
          "healthcare",
          "advertising",
          "healthcare",
          "transport",
          "telecommunications",
          "web",
          "gaming",
          "healthcare",
          "healthcare",
          "tech",
          "healthcare",
          "tech, retail",
          "web",
          "web",
          "academic",
          "financial",
          "healthcare",
          "banking",
          "retail",
          "government",
          "financial",
          "telecoms",
          "educational services",
          "web",
          "gaming",
          "gaming",
          "gaming",
          "healthcare",
          "government",
          "web",
          "game",
          "financial",
          "financial",
          "healthcare",
          "transport",
          "healthcare",
          "financial",
          "energy",
          "malware tools",
          "financial",
          "background check",
          "web",
          "web",
          "financial",
          "healthcare",
          "various",
          "healthcare",
          "healthcare",
          "financial",
          "bureau",
          "financial",
          "telecoms",
          "healthcare",
          "hosting provider",
          "retail",
          "retail",
          "financial",
          "health",
          "consulting, accounting",
          "political",
          "financial",
          "government",
          "government",
          "web",
          "web",
          "web",
          "web",
          "messaging app",
          "tech",
          "educational services",
          "restaurant",
          "transport",
          "financial",
          "healthcare",
          "tech",
          "government",
          "healthcare",
          "healthcare",
          "financial, credit reporting",
          "healthcare, retail",
          "web",
          "computer services for charities",
          "data broker",
          "healthcare",
          "telecoms",
          "social network",
          "retail",
          "financial",
          "financial",
          "financial service company",
          "government",
          "web",
          "web",
          "web",
          "energy",
          "web",
          "retail",
          "web",
          "financial",
          "web",
          "social network",
          "government",
          "healthcare",
          "healthcare",
          "retail",
          "retail",
          "healthcare",
          "healthcare",
          "healthcare",
          "financial",
          "tech, retail",
          "hotel",
          "retail",
          "retail",
          "retail",
          "energy",
          "government",
          "social network",
          "financial",
          "humanitarian",
          "healthcare",
          "financial",
          "financial",
          "special public corporation",
          "shopping",
          "government",
          "local search",
          "telecoms",
          "web",
          "telecoms",
          "academic",
          "financial",
          "tech",
          "publisher (magazine)",
          "tech",
          "healthcare",
          "healthcare",
          "web",
          "web",
          "hotel/casino",
          "web",
          "financial",
          "hotel",
          "government",
          "financial",
          "healthcare",
          "healthcare",
          "healthcare",
          "retail",
          "tech",
          "web, military",
          "government",
          "healthcare",
          "financial",
          "telecommunications",
          "tech",
          "web",
          "financial",
          "online shopping",
          "web",
          "genealogy",
          "healthcare",
          "healthcare",
          "telecoms",
          "telecoms",
          "military",
          "military",
          "healthcare",
          "retail",
          "healthcare",
          "tech",
          "healthcare",
          "energy",
          "transport",
          "web",
          "gaming",
          "gaming",
          "media",
          "gaming",
          "government",
          "financial",
          "government",
          "academic",
          "telecommunications",
          "web",
          "web",
          "QR code payment",
          "government",
          "government",
          "fashion",
          "healthcare",
          "healthcare",
          "Clinical Laboratory",
          "Question & Answer",
          "financial",
          "government",
          "web",
          "web",
          "retail",
          "web, gaming",
          "government",
          "government",
          "financial",
          "web",
          "healthcare",
          "gaming",
          "government",
          "government",
          "government, database",
          "tech",
          "phone accessories",
          "web, tech",
          "gaming",
          "web",
          "gaming",
          "government",
          "healthcare",
          "healthcare",
          "healthcare",
          "healthcare",
          "academic",
          "retail",
          "government",
          "web",
          "retail",
          "military",
          "healthcare",
          "government",
          "telecom",
          "telecoms",
          "financial",
          "financial",
          "retail",
          "retail",
          "retail",
          "web",
          "web",
          "telecoms",
          "transport",
          "market analysis",
          "government",
          "financial",
          "web",
          "ticket distribution",
          "social media",
          "online shopping",
          "military, healthcare",
          "healthcare",
          "Telephone directory",
          "web",
          "web",
          "military",
          "government",
          "military",
          "government, military",
          "military",
          "government",
          "healthcare",
          "government",
          "government",
          "government",
          "government",
          "government",
          "government, healthcare",
          "government",
          "tech",
          "transport",
          "tech",
          "Consumer Goods",
          "government",
          "academic",
          "academic",
          "academic",
          "academic",
          "academic",
          "academic",
          "academic",
          "personal and demographic data about residents and their properties of US",
          "financial",
          "retail",
          "healthcare",
          "online marketing",
          "online marketing",
          "telecoms",
          "online marketing",
          "mobile carrier",
          "government, healthcare",
          "healthcare",
          "telecoms",
          "retail",
          "media",
          "government",
          "web",
          "retail",
          "web",
          "financial",
          "web",
          "web",
          "web",
          "tech, web",
          "web",
          "academic",
          "social media",
          "web",
          "social network",
          "web",
          "web",
          "",
          "",
          "",
          "",
          "",
          "",
          "",
          "",
          "",
          "",
          "",
          "",
          "",
          "",
          "",
          "",
          "",
          "",
          "",
          "",
          "",
          "",
          "",
          "",
          "",
          "",
          "",
          "",
          "",
          "",
          "",
          "",
          "",
          "",
          "",
          "",
          "",
          "",
          "",
          "",
          "",
          "",
          "",
          "",
          "",
          "",
          "",
          "",
          "",
          "",
          "",
          "",
          "",
          "",
          "",
          "",
          "",
          "",
          "",
          "",
          "",
          "",
          "",
          "",
          "",
          "",
          ""
         ],
         "type": "sunburst",
         "values": [
          500000,
          5000000,
          2200000,
          6400000,
          14870304,
          114400000,
          227000,
          175350,
          7500000,
          152000000,
          4000000,
          75000,
          344579,
          20000,
          320000000,
          300000,
          46000000,
          156000,
          80000000,
          275000,
          91000,
          12367232,
          32000000,
          18000000,
          200000,
          125000,
          1220000,
          90000,
          250000,
          50000000,
          1200000,
          2000000,
          35040000,
          2300000,
          200000,
          7633234,
          14000000,
          1023209,
          800000,
          140000000,
          350000,
          106000000,
          40000000,
          1100000,
          9400000,
          75000,
          60000,
          110000,
          91,
          5000000,
          56000000,
          6000000,
          10000000,
          4410083,
          160000,
          773000000,
          105470,
          4500000,
          1000000,
          256000,
          5100000,
          40000,
          100000,
          1107034,
          1400000,
          8637405,
          8000000,
          500000,
          350,
          19252,
          9700000,
          34900867,
          337225463,
          600000,
          4900000,
          68648009,
          1000000,
          162000000,
          1000000,
          2676696,
          2000000,
          9002208,
          3300000,
          514330,
          108000000,
          251000,
          180111,
          315000,
          163119000,
          77093812,
          50000000,
          1000,
          340000000,
          10000000,
          15000000,
          864500000,
          461091,
          400000,
          8500000,
          885000000,
          100000,
          420000,
          412214295,
          2500000,
          11100000,
          8000000,
          800000,
          1500000,
          7000000,
          5000000,
          500000,
          9000000,
          25000,
          11270000,
          4200000,
          28517244,
          500000,
          1900000,
          808000,
          130000000,
          200000,
          363000,
          56000000,
          283000,
          95000,
          1300000,
          810000000,
          200000000,
          720000,
          515000,
          6700,
          3000000,
          78600000,
          1250000,
          510000,
          1600000,
          100000000,
          4000000,
          1500000,
          8700000,
          125000,
          20000000,
          1000000,
          380000,
          1000000,
          15000000,
          130495,
          8000000,
          50000000,
          10600000,
          860000,
          40000000,
          505200000,
          210000,
          160000000,
          9700000,
          3900000,
          102153,
          3000000,
          250000000,
          163792,
          6000000,
          14200,
          960000,
          100000000,
          477000000,
          1600000,
          34000,
          1648922,
          76000,
          92283889,
          1600000,
          8300000,
          9000000,
          5960000,
          76000000,
          131000,
          391250,
          1100000,
          1055489,
          573000,
          1700000,
          1800000,
          52000,
          13200000,
          240000,
          160000,
          430000,
          1500000,
          3950000,
          30000,
          6500000,
          760000,
          9800000,
          880000,
          2300000,
          20076016,
          1279437,
          55000000,
          123857,
          11000000,
          515000,
          11900000,
          100000000,
          1500000,
          45000000,
          1381735,
          98167935,
          200000,
          32000000,
          680000,
          180000,
          4600000,
          500000,
          231400,
          1290755,
          104000,
          50500,
          1500000,
          500000,
          377428,
          4700000,
          24600000,
          1000000,
          77000000,
          16000,
          6400000,
          800000,
          300000,
          400000,
          72000,
          97000,
          3500000,
          35000000,
          6800000,
          935000,
          4243434,
          2434899,
          82000000,
          17000000,
          6500000,
          260000,
          94000000,
          20000000,
          110000000,
          28722877,
          8800,
          170000,
          75000,
          120000000,
          89000,
          12500000,
          28000000,
          26151608,
          42000000,
          91000000,
          4901432,
          398000,
          299055000,
          65469298,
          250000,
          50000,
          392000,
          72000,
          26500000,
          260000,
          123461,
          4500000,
          3000000,
          84000,
          1700000,
          25000000,
          30000,
          780000,
          21500000,
          50000,
          57000000,
          2000000,
          150000000,
          60000000,
          1164540,
          240000,
          63000,
          300000,
          2100000,
          2200000,
          73000,
          201000000,
          200000000,
          5000000,
          130000,
          809000000,
          2000000000,
          1500000,
          38000000,
          900000,
          8257378,
          531400,
          2000000,
          1300000,
          1270000,
          160000,
          270000000,
          30000000,
          43430316,
          98000,
          62000,
          6054459,
          3500000000,
          22000000,
          450000,
          43000,
          4000000,
          24000000,
          173000000,
          145000000,
          300000,
          11900000,
          150000000,
          20076016,
          100000000,
          299055000,
          7340540,
          75000,
          56000000,
          90000,
          256000,
          1000,
          350,
          340000000,
          37716696,
          14310000,
          123857,
          858597083,
          885000000,
          163119000,
          350000,
          172623989,
          92283889,
          1485860627,
          1500000,
          9037378,
          26500000,
          500000,
          192112570,
          77093812,
          1107034,
          505563000,
          10600000,
          515000,
          100000000,
          91,
          120000000,
          1700000,
          162000000,
          77448000,
          4901432,
          900000,
          2847000000,
          92648922,
          201000000,
          377428,
          19252,
          380000,
          2000000,
          372140740,
          510000,
          46000000,
          1238000000,
          14870304,
          1250000,
          1000898000,
          12567232,
          22000000,
          82000000,
          429800000,
          65597000,
          26151608,
          76049208,
          779400000,
          5203995724,
          32000000,
          163792,
          4700000
         ]
        }
       ],
       "layout": {
        "height": 1000,
        "legend": {
         "tracegroupgap": 0
        },
        "template": {
         "data": {
          "bar": [
           {
            "error_x": {
             "color": "#2a3f5f"
            },
            "error_y": {
             "color": "#2a3f5f"
            },
            "marker": {
             "line": {
              "color": "#E5ECF6",
              "width": 0.5
             },
             "pattern": {
              "fillmode": "overlay",
              "size": 10,
              "solidity": 0.2
             }
            },
            "type": "bar"
           }
          ],
          "barpolar": [
           {
            "marker": {
             "line": {
              "color": "#E5ECF6",
              "width": 0.5
             },
             "pattern": {
              "fillmode": "overlay",
              "size": 10,
              "solidity": 0.2
             }
            },
            "type": "barpolar"
           }
          ],
          "carpet": [
           {
            "aaxis": {
             "endlinecolor": "#2a3f5f",
             "gridcolor": "white",
             "linecolor": "white",
             "minorgridcolor": "white",
             "startlinecolor": "#2a3f5f"
            },
            "baxis": {
             "endlinecolor": "#2a3f5f",
             "gridcolor": "white",
             "linecolor": "white",
             "minorgridcolor": "white",
             "startlinecolor": "#2a3f5f"
            },
            "type": "carpet"
           }
          ],
          "choropleth": [
           {
            "colorbar": {
             "outlinewidth": 0,
             "ticks": ""
            },
            "type": "choropleth"
           }
          ],
          "contour": [
           {
            "colorbar": {
             "outlinewidth": 0,
             "ticks": ""
            },
            "colorscale": [
             [
              0,
              "#0d0887"
             ],
             [
              0.1111111111111111,
              "#46039f"
             ],
             [
              0.2222222222222222,
              "#7201a8"
             ],
             [
              0.3333333333333333,
              "#9c179e"
             ],
             [
              0.4444444444444444,
              "#bd3786"
             ],
             [
              0.5555555555555556,
              "#d8576b"
             ],
             [
              0.6666666666666666,
              "#ed7953"
             ],
             [
              0.7777777777777778,
              "#fb9f3a"
             ],
             [
              0.8888888888888888,
              "#fdca26"
             ],
             [
              1,
              "#f0f921"
             ]
            ],
            "type": "contour"
           }
          ],
          "contourcarpet": [
           {
            "colorbar": {
             "outlinewidth": 0,
             "ticks": ""
            },
            "type": "contourcarpet"
           }
          ],
          "heatmap": [
           {
            "colorbar": {
             "outlinewidth": 0,
             "ticks": ""
            },
            "colorscale": [
             [
              0,
              "#0d0887"
             ],
             [
              0.1111111111111111,
              "#46039f"
             ],
             [
              0.2222222222222222,
              "#7201a8"
             ],
             [
              0.3333333333333333,
              "#9c179e"
             ],
             [
              0.4444444444444444,
              "#bd3786"
             ],
             [
              0.5555555555555556,
              "#d8576b"
             ],
             [
              0.6666666666666666,
              "#ed7953"
             ],
             [
              0.7777777777777778,
              "#fb9f3a"
             ],
             [
              0.8888888888888888,
              "#fdca26"
             ],
             [
              1,
              "#f0f921"
             ]
            ],
            "type": "heatmap"
           }
          ],
          "heatmapgl": [
           {
            "colorbar": {
             "outlinewidth": 0,
             "ticks": ""
            },
            "colorscale": [
             [
              0,
              "#0d0887"
             ],
             [
              0.1111111111111111,
              "#46039f"
             ],
             [
              0.2222222222222222,
              "#7201a8"
             ],
             [
              0.3333333333333333,
              "#9c179e"
             ],
             [
              0.4444444444444444,
              "#bd3786"
             ],
             [
              0.5555555555555556,
              "#d8576b"
             ],
             [
              0.6666666666666666,
              "#ed7953"
             ],
             [
              0.7777777777777778,
              "#fb9f3a"
             ],
             [
              0.8888888888888888,
              "#fdca26"
             ],
             [
              1,
              "#f0f921"
             ]
            ],
            "type": "heatmapgl"
           }
          ],
          "histogram": [
           {
            "marker": {
             "pattern": {
              "fillmode": "overlay",
              "size": 10,
              "solidity": 0.2
             }
            },
            "type": "histogram"
           }
          ],
          "histogram2d": [
           {
            "colorbar": {
             "outlinewidth": 0,
             "ticks": ""
            },
            "colorscale": [
             [
              0,
              "#0d0887"
             ],
             [
              0.1111111111111111,
              "#46039f"
             ],
             [
              0.2222222222222222,
              "#7201a8"
             ],
             [
              0.3333333333333333,
              "#9c179e"
             ],
             [
              0.4444444444444444,
              "#bd3786"
             ],
             [
              0.5555555555555556,
              "#d8576b"
             ],
             [
              0.6666666666666666,
              "#ed7953"
             ],
             [
              0.7777777777777778,
              "#fb9f3a"
             ],
             [
              0.8888888888888888,
              "#fdca26"
             ],
             [
              1,
              "#f0f921"
             ]
            ],
            "type": "histogram2d"
           }
          ],
          "histogram2dcontour": [
           {
            "colorbar": {
             "outlinewidth": 0,
             "ticks": ""
            },
            "colorscale": [
             [
              0,
              "#0d0887"
             ],
             [
              0.1111111111111111,
              "#46039f"
             ],
             [
              0.2222222222222222,
              "#7201a8"
             ],
             [
              0.3333333333333333,
              "#9c179e"
             ],
             [
              0.4444444444444444,
              "#bd3786"
             ],
             [
              0.5555555555555556,
              "#d8576b"
             ],
             [
              0.6666666666666666,
              "#ed7953"
             ],
             [
              0.7777777777777778,
              "#fb9f3a"
             ],
             [
              0.8888888888888888,
              "#fdca26"
             ],
             [
              1,
              "#f0f921"
             ]
            ],
            "type": "histogram2dcontour"
           }
          ],
          "mesh3d": [
           {
            "colorbar": {
             "outlinewidth": 0,
             "ticks": ""
            },
            "type": "mesh3d"
           }
          ],
          "parcoords": [
           {
            "line": {
             "colorbar": {
              "outlinewidth": 0,
              "ticks": ""
             }
            },
            "type": "parcoords"
           }
          ],
          "pie": [
           {
            "automargin": true,
            "type": "pie"
           }
          ],
          "scatter": [
           {
            "fillpattern": {
             "fillmode": "overlay",
             "size": 10,
             "solidity": 0.2
            },
            "type": "scatter"
           }
          ],
          "scatter3d": [
           {
            "line": {
             "colorbar": {
              "outlinewidth": 0,
              "ticks": ""
             }
            },
            "marker": {
             "colorbar": {
              "outlinewidth": 0,
              "ticks": ""
             }
            },
            "type": "scatter3d"
           }
          ],
          "scattercarpet": [
           {
            "marker": {
             "colorbar": {
              "outlinewidth": 0,
              "ticks": ""
             }
            },
            "type": "scattercarpet"
           }
          ],
          "scattergeo": [
           {
            "marker": {
             "colorbar": {
              "outlinewidth": 0,
              "ticks": ""
             }
            },
            "type": "scattergeo"
           }
          ],
          "scattergl": [
           {
            "marker": {
             "colorbar": {
              "outlinewidth": 0,
              "ticks": ""
             }
            },
            "type": "scattergl"
           }
          ],
          "scattermapbox": [
           {
            "marker": {
             "colorbar": {
              "outlinewidth": 0,
              "ticks": ""
             }
            },
            "type": "scattermapbox"
           }
          ],
          "scatterpolar": [
           {
            "marker": {
             "colorbar": {
              "outlinewidth": 0,
              "ticks": ""
             }
            },
            "type": "scatterpolar"
           }
          ],
          "scatterpolargl": [
           {
            "marker": {
             "colorbar": {
              "outlinewidth": 0,
              "ticks": ""
             }
            },
            "type": "scatterpolargl"
           }
          ],
          "scatterternary": [
           {
            "marker": {
             "colorbar": {
              "outlinewidth": 0,
              "ticks": ""
             }
            },
            "type": "scatterternary"
           }
          ],
          "surface": [
           {
            "colorbar": {
             "outlinewidth": 0,
             "ticks": ""
            },
            "colorscale": [
             [
              0,
              "#0d0887"
             ],
             [
              0.1111111111111111,
              "#46039f"
             ],
             [
              0.2222222222222222,
              "#7201a8"
             ],
             [
              0.3333333333333333,
              "#9c179e"
             ],
             [
              0.4444444444444444,
              "#bd3786"
             ],
             [
              0.5555555555555556,
              "#d8576b"
             ],
             [
              0.6666666666666666,
              "#ed7953"
             ],
             [
              0.7777777777777778,
              "#fb9f3a"
             ],
             [
              0.8888888888888888,
              "#fdca26"
             ],
             [
              1,
              "#f0f921"
             ]
            ],
            "type": "surface"
           }
          ],
          "table": [
           {
            "cells": {
             "fill": {
              "color": "#EBF0F8"
             },
             "line": {
              "color": "white"
             }
            },
            "header": {
             "fill": {
              "color": "#C8D4E3"
             },
             "line": {
              "color": "white"
             }
            },
            "type": "table"
           }
          ]
         },
         "layout": {
          "annotationdefaults": {
           "arrowcolor": "#2a3f5f",
           "arrowhead": 0,
           "arrowwidth": 1
          },
          "autotypenumbers": "strict",
          "coloraxis": {
           "colorbar": {
            "outlinewidth": 0,
            "ticks": ""
           }
          },
          "colorscale": {
           "diverging": [
            [
             0,
             "#8e0152"
            ],
            [
             0.1,
             "#c51b7d"
            ],
            [
             0.2,
             "#de77ae"
            ],
            [
             0.3,
             "#f1b6da"
            ],
            [
             0.4,
             "#fde0ef"
            ],
            [
             0.5,
             "#f7f7f7"
            ],
            [
             0.6,
             "#e6f5d0"
            ],
            [
             0.7,
             "#b8e186"
            ],
            [
             0.8,
             "#7fbc41"
            ],
            [
             0.9,
             "#4d9221"
            ],
            [
             1,
             "#276419"
            ]
           ],
           "sequential": [
            [
             0,
             "#0d0887"
            ],
            [
             0.1111111111111111,
             "#46039f"
            ],
            [
             0.2222222222222222,
             "#7201a8"
            ],
            [
             0.3333333333333333,
             "#9c179e"
            ],
            [
             0.4444444444444444,
             "#bd3786"
            ],
            [
             0.5555555555555556,
             "#d8576b"
            ],
            [
             0.6666666666666666,
             "#ed7953"
            ],
            [
             0.7777777777777778,
             "#fb9f3a"
            ],
            [
             0.8888888888888888,
             "#fdca26"
            ],
            [
             1,
             "#f0f921"
            ]
           ],
           "sequentialminus": [
            [
             0,
             "#0d0887"
            ],
            [
             0.1111111111111111,
             "#46039f"
            ],
            [
             0.2222222222222222,
             "#7201a8"
            ],
            [
             0.3333333333333333,
             "#9c179e"
            ],
            [
             0.4444444444444444,
             "#bd3786"
            ],
            [
             0.5555555555555556,
             "#d8576b"
            ],
            [
             0.6666666666666666,
             "#ed7953"
            ],
            [
             0.7777777777777778,
             "#fb9f3a"
            ],
            [
             0.8888888888888888,
             "#fdca26"
            ],
            [
             1,
             "#f0f921"
            ]
           ]
          },
          "colorway": [
           "#636efa",
           "#EF553B",
           "#00cc96",
           "#ab63fa",
           "#FFA15A",
           "#19d3f3",
           "#FF6692",
           "#B6E880",
           "#FF97FF",
           "#FECB52"
          ],
          "font": {
           "color": "#2a3f5f"
          },
          "geo": {
           "bgcolor": "white",
           "lakecolor": "white",
           "landcolor": "#E5ECF6",
           "showlakes": true,
           "showland": true,
           "subunitcolor": "white"
          },
          "hoverlabel": {
           "align": "left"
          },
          "hovermode": "closest",
          "mapbox": {
           "style": "light"
          },
          "paper_bgcolor": "white",
          "plot_bgcolor": "#E5ECF6",
          "polar": {
           "angularaxis": {
            "gridcolor": "white",
            "linecolor": "white",
            "ticks": ""
           },
           "bgcolor": "#E5ECF6",
           "radialaxis": {
            "gridcolor": "white",
            "linecolor": "white",
            "ticks": ""
           }
          },
          "scene": {
           "xaxis": {
            "backgroundcolor": "#E5ECF6",
            "gridcolor": "white",
            "gridwidth": 2,
            "linecolor": "white",
            "showbackground": true,
            "ticks": "",
            "zerolinecolor": "white"
           },
           "yaxis": {
            "backgroundcolor": "#E5ECF6",
            "gridcolor": "white",
            "gridwidth": 2,
            "linecolor": "white",
            "showbackground": true,
            "ticks": "",
            "zerolinecolor": "white"
           },
           "zaxis": {
            "backgroundcolor": "#E5ECF6",
            "gridcolor": "white",
            "gridwidth": 2,
            "linecolor": "white",
            "showbackground": true,
            "ticks": "",
            "zerolinecolor": "white"
           }
          },
          "shapedefaults": {
           "line": {
            "color": "#2a3f5f"
           }
          },
          "ternary": {
           "aaxis": {
            "gridcolor": "white",
            "linecolor": "white",
            "ticks": ""
           },
           "baxis": {
            "gridcolor": "white",
            "linecolor": "white",
            "ticks": ""
           },
           "bgcolor": "#E5ECF6",
           "caxis": {
            "gridcolor": "white",
            "linecolor": "white",
            "ticks": ""
           }
          },
          "title": {
           "x": 0.05
          },
          "xaxis": {
           "automargin": true,
           "gridcolor": "white",
           "linecolor": "white",
           "ticks": "",
           "title": {
            "standoff": 15
           },
           "zerolinecolor": "white",
           "zerolinewidth": 2
          },
          "yaxis": {
           "automargin": true,
           "gridcolor": "white",
           "linecolor": "white",
           "ticks": "",
           "title": {
            "standoff": 15
           },
           "zerolinecolor": "white",
           "zerolinewidth": 2
          }
         }
        },
        "title": {
         "text": "Affected Company for each Sector"
        },
        "width": 1000
       }
      }
     },
     "metadata": {},
     "output_type": "display_data"
    }
   ],
   "source": [
    "fig =px.sunburst(dataset, path=[\"Organization type\",\"Entity\"], values='Records', width = 1000, height = 1000, title = \"Affected Company for each Sector\")\n",
    "fig.show()"
   ]
  },
  {
   "cell_type": "code",
   "execution_count": 30,
   "metadata": {},
   "outputs": [
    {
     "data": {
      "text/plain": [
       "Organization type    Entity             \n",
       "Clinical Laboratory  Quest Diagnostics       11900000.0\n",
       "Consumer Goods       Under Armour           150000000.0\n",
       "QR code payment      PayPay                  20076016.0\n",
       "Question & Answer    Quora                  100000000.0\n",
       "Telephone directory  Truecaller             299055000.0\n",
       "                                               ...     \n",
       "web                  eBay                   145000000.0\n",
       "                     goregrish.com             300000.0\n",
       "web, gaming          RockYou!                32000000.0\n",
       "web, military        Militarysingles.com       163792.0\n",
       "web, tech            Snapchat                 4700000.0\n",
       "Name: Records, Length: 317, dtype: float64"
      ]
     },
     "execution_count": 30,
     "metadata": {},
     "output_type": "execute_result"
    }
   ],
   "source": [
    "#Print the data represented in the sunburst chart\n",
    "dataset.groupby(['Organization type', 'Entity'])['Records'].sum()"
   ]
  }
 ],
 "metadata": {
  "kernelspec": {
   "display_name": "DAV-Project",
   "language": "python",
   "name": "python3"
  },
  "language_info": {
   "codemirror_mode": {
    "name": "ipython",
    "version": 3
   },
   "file_extension": ".py",
   "mimetype": "text/x-python",
   "name": "python",
   "nbconvert_exporter": "python",
   "pygments_lexer": "ipython3",
   "version": "3.11.5"
  }
 },
 "nbformat": 4,
 "nbformat_minor": 2
}
